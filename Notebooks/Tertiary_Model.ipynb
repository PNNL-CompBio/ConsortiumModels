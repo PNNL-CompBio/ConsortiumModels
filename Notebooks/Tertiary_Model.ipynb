{
 "cells": [
  {
   "cell_type": "code",
   "execution_count": 1,
   "id": "7e5a40ef",
   "metadata": {},
   "outputs": [],
   "source": [
    "import pandas as pd\n",
    "import cobra\n",
    "\n",
    "from micom import Community\n",
    "from micom.workflows import build, grow, tradeoff, fix_medium,build_database\n",
    "from micom import load_pickle\n",
    "from micom.viz import plot_tradeoff, plot_exchanges_per_sample, plot_growth"
   ]
  },
  {
   "cell_type": "code",
   "execution_count": 2,
   "id": "02a0680a",
   "metadata": {},
   "outputs": [
    {
     "data": {
      "text/html": [
       "<div>\n",
       "<style scoped>\n",
       "    .dataframe tbody tr th:only-of-type {\n",
       "        vertical-align: middle;\n",
       "    }\n",
       "\n",
       "    .dataframe tbody tr th {\n",
       "        vertical-align: top;\n",
       "    }\n",
       "\n",
       "    .dataframe thead th {\n",
       "        text-align: right;\n",
       "    }\n",
       "</style>\n",
       "<table border=\"1\" class=\"dataframe\">\n",
       "  <thead>\n",
       "    <tr style=\"text-align: right;\">\n",
       "      <th></th>\n",
       "      <th>id</th>\n",
       "      <th>genus</th>\n",
       "      <th>species</th>\n",
       "      <th>reactions</th>\n",
       "      <th>metabolites</th>\n",
       "      <th>sample_id</th>\n",
       "      <th>abundance</th>\n",
       "    </tr>\n",
       "  </thead>\n",
       "  <tbody>\n",
       "  </tbody>\n",
       "</table>\n",
       "</div>"
      ],
      "text/plain": [
       "Empty DataFrame\n",
       "Columns: [id, genus, species, reactions, metabolites, sample_id, abundance]\n",
       "Index: []"
      ]
     },
     "execution_count": 2,
     "metadata": {},
     "output_type": "execute_result"
    }
   ],
   "source": [
    "Tax= pd.DataFrame(columns=['id','genus','species','reactions','metabolites','sample_id','abundance'])\n",
    "Tax"
   ]
  },
  {
   "cell_type": "code",
   "execution_count": 3,
   "id": "6e142925",
   "metadata": {},
   "outputs": [
    {
     "data": {
      "text/html": [
       "<div>\n",
       "<style scoped>\n",
       "    .dataframe tbody tr th:only-of-type {\n",
       "        vertical-align: middle;\n",
       "    }\n",
       "\n",
       "    .dataframe tbody tr th {\n",
       "        vertical-align: top;\n",
       "    }\n",
       "\n",
       "    .dataframe thead th {\n",
       "        text-align: right;\n",
       "    }\n",
       "</style>\n",
       "<table border=\"1\" class=\"dataframe\">\n",
       "  <thead>\n",
       "    <tr style=\"text-align: right;\">\n",
       "      <th></th>\n",
       "      <th>id</th>\n",
       "      <th>genus</th>\n",
       "      <th>species</th>\n",
       "      <th>reactions</th>\n",
       "      <th>metabolites</th>\n",
       "      <th>sample_id</th>\n",
       "      <th>abundance</th>\n",
       "    </tr>\n",
       "  </thead>\n",
       "  <tbody>\n",
       "    <tr>\n",
       "      <th>0</th>\n",
       "      <td>Rhodosporidium</td>\n",
       "      <td>Rhodosporidium</td>\n",
       "      <td>R. toruloides</td>\n",
       "      <td>2398</td>\n",
       "      <td>2051</td>\n",
       "      <td>One</td>\n",
       "      <td>500</td>\n",
       "    </tr>\n",
       "    <tr>\n",
       "      <th>1</th>\n",
       "      <td>Synechococcus</td>\n",
       "      <td>Synechococcus</td>\n",
       "      <td>S. elongatus</td>\n",
       "      <td>851</td>\n",
       "      <td>769</td>\n",
       "      <td>One</td>\n",
       "      <td>500</td>\n",
       "    </tr>\n",
       "    <tr>\n",
       "      <th>2</th>\n",
       "      <td>Azotobacter</td>\n",
       "      <td>Azotobacter</td>\n",
       "      <td>A. vinelandii</td>\n",
       "      <td>2469</td>\n",
       "      <td>2003</td>\n",
       "      <td>One</td>\n",
       "      <td>500</td>\n",
       "    </tr>\n",
       "  </tbody>\n",
       "</table>\n",
       "</div>"
      ],
      "text/plain": [
       "               id           genus        species  reactions  metabolites  \\\n",
       "0  Rhodosporidium  Rhodosporidium  R. toruloides       2398         2051   \n",
       "1   Synechococcus   Synechococcus   S. elongatus        851          769   \n",
       "2     Azotobacter     Azotobacter  A. vinelandii       2469         2003   \n",
       "\n",
       "  sample_id  abundance  \n",
       "0       One        500  \n",
       "1       One        500  \n",
       "2       One        500  "
      ]
     },
     "execution_count": 3,
     "metadata": {},
     "output_type": "execute_result"
    }
   ],
   "source": [
    "Tax.loc[len(Tax.index)] = ['Rhodosporidium', 'Rhodosporidium', 'R. toruloides',2398,2051,'One',500]\n",
    "Tax.loc[len(Tax.index)] = ['Synechococcus', 'Synechococcus','S. elongatus',851,769,'One',500]\n",
    "Tax.loc[len(Tax.index)] = ['Azotobacter','Azotobacter','A. vinelandii',2469,2003,'One',500]\n",
    "Tax"
   ]
  },
  {
   "cell_type": "markdown",
   "id": "864da1de",
   "metadata": {},
   "source": [
    "## Build Database File\n",
    "\n",
    "If necessary, construct a database file from csv "
   ]
  },
  {
   "cell_type": "code",
   "execution_count": 4,
   "id": "34afef27",
   "metadata": {},
   "outputs": [
    {
     "data": {
      "text/html": [
       "<div>\n",
       "<style scoped>\n",
       "    .dataframe tbody tr th:only-of-type {\n",
       "        vertical-align: middle;\n",
       "    }\n",
       "\n",
       "    .dataframe tbody tr th {\n",
       "        vertical-align: top;\n",
       "    }\n",
       "\n",
       "    .dataframe thead th {\n",
       "        text-align: right;\n",
       "    }\n",
       "</style>\n",
       "<table border=\"1\" class=\"dataframe\">\n",
       "  <thead>\n",
       "    <tr style=\"text-align: right;\">\n",
       "      <th></th>\n",
       "      <th>file</th>\n",
       "      <th>kingdom</th>\n",
       "      <th>phylum</th>\n",
       "      <th>class</th>\n",
       "      <th>order</th>\n",
       "      <th>family</th>\n",
       "      <th>genus</th>\n",
       "      <th>species</th>\n",
       "    </tr>\n",
       "  </thead>\n",
       "  <tbody>\n",
       "    <tr>\n",
       "      <th>0</th>\n",
       "      <td>./iJB785_w_sucrose_transport.xml</td>\n",
       "      <td>bacteria</td>\n",
       "      <td>Cyanobacteria</td>\n",
       "      <td>Cyanophyceae</td>\n",
       "      <td>Synechococcales</td>\n",
       "      <td>Synechococcaceae</td>\n",
       "      <td>Synechococcus</td>\n",
       "      <td>S. elongatus</td>\n",
       "    </tr>\n",
       "    <tr>\n",
       "      <th>1</th>\n",
       "      <td>./azo_vine.xml</td>\n",
       "      <td>bacteria</td>\n",
       "      <td>Pseudomonadota</td>\n",
       "      <td>Gammaproteobacteria</td>\n",
       "      <td>Pseudomonadales</td>\n",
       "      <td>Pseudomonadaceae</td>\n",
       "      <td>Azotobacter</td>\n",
       "      <td>A. vinelandii</td>\n",
       "    </tr>\n",
       "    <tr>\n",
       "      <th>2</th>\n",
       "      <td>./Rt_IFO0880.xml</td>\n",
       "      <td>fungi</td>\n",
       "      <td>a</td>\n",
       "      <td>Ustilaginomycetes</td>\n",
       "      <td>b</td>\n",
       "      <td>c</td>\n",
       "      <td>Rhodosporidium</td>\n",
       "      <td>R. toruloides3</td>\n",
       "    </tr>\n",
       "  </tbody>\n",
       "</table>\n",
       "</div>"
      ],
      "text/plain": [
       "                               file   kingdom          phylum  \\\n",
       "0  ./iJB785_w_sucrose_transport.xml  bacteria   Cyanobacteria   \n",
       "1                    ./azo_vine.xml  bacteria  Pseudomonadota   \n",
       "2                  ./Rt_IFO0880.xml     fungi               a   \n",
       "\n",
       "                 class            order            family           genus  \\\n",
       "0         Cyanophyceae  Synechococcales  Synechococcaceae   Synechococcus   \n",
       "1  Gammaproteobacteria  Pseudomonadales  Pseudomonadaceae     Azotobacter   \n",
       "2    Ustilaginomycetes                b                 c  Rhodosporidium   \n",
       "\n",
       "             species  \n",
       "0       S. elongatus  \n",
       "1      A. vinelandii  \n",
       "2  R. toruloides3     "
      ]
     },
     "execution_count": 4,
     "metadata": {},
     "output_type": "execute_result"
    }
   ],
   "source": [
    "db = pd.read_csv('./man_tertiary.csv')\n",
    "db"
   ]
  },
  {
   "cell_type": "code",
   "execution_count": 5,
   "id": "69848729",
   "metadata": {},
   "outputs": [
    {
     "data": {
      "text/html": [
       "<pre style=\"white-space:pre;overflow-x:auto;line-height:normal;font-family:Menlo,'DejaVu Sans Mono',consolas,'Courier New',monospace\">/Users/mcna892/opt/anaconda3/envs/micom/lib/python3.9/site-packages/rich/live.py:231: UserWarning: install \n",
       "\"ipywidgets\" for Jupyter support\n",
       "  warnings.warn('install \"ipywidgets\" for Jupyter support')\n",
       "</pre>\n"
      ],
      "text/plain": [
       "/Users/mcna892/opt/anaconda3/envs/micom/lib/python3.9/site-packages/rich/live.py:231: UserWarning: install \n",
       "\"ipywidgets\" for Jupyter support\n",
       "  warnings.warn('install \"ipywidgets\" for Jupyter support')\n"
      ]
     },
     "metadata": {},
     "output_type": "display_data"
    },
    {
     "data": {
      "text/html": [
       "<pre style=\"white-space:pre;overflow-x:auto;line-height:normal;font-family:Menlo,'DejaVu Sans Mono',consolas,'Courier New',monospace\">Set parameter TokenServer to value \"leghorn.emsl.pnl.gov\"\n",
       "</pre>\n"
      ],
      "text/plain": [
       "Set parameter TokenServer to value \"leghorn.emsl.pnl.gov\"\n"
      ]
     },
     "metadata": {},
     "output_type": "display_data"
    },
    {
     "data": {
      "text/html": [
       "<pre style=\"white-space:pre;overflow-x:auto;line-height:normal;font-family:Menlo,'DejaVu Sans Mono',consolas,'Courier New',monospace\"><span style=\"color: #7fbfbf; text-decoration-color: #7fbfbf\">[11:50:02] </span><span style=\"color: #800000; text-decoration-color: #800000\">WARNING </span> The following sinks or demands were forced in the model and have been relaxed since  <a href=\"file:///Users/mcna892/opt/anaconda3/envs/micom/lib/python3.9/site-packages/micom/util.py\" target=\"_blank\"><span style=\"color: #7f7f7f; text-decoration-color: #7f7f7f\">util.py</span></a><span style=\"color: #7f7f7f; text-decoration-color: #7f7f7f\">:</span><a href=\"file:///Users/mcna892/opt/anaconda3/envs/micom/lib/python3.9/site-packages/micom/util.py#64\" target=\"_blank\"><span style=\"color: #7f7f7f; text-decoration-color: #7f7f7f\">64</span></a>\n",
       "<span style=\"color: #7fbfbf; text-decoration-color: #7fbfbf\">           </span>         they would interfere with MICOM's growth rate estimation: EX_sucr_e                  <span style=\"color: #7f7f7f; text-decoration-color: #7f7f7f\">          </span>\n",
       "</pre>\n"
      ],
      "text/plain": [
       "\u001b[2;36m[11:50:02]\u001b[0m\u001b[2;36m \u001b[0m\u001b[31mWARNING \u001b[0m The following sinks or demands were forced in the model and have been relaxed since  \u001b]8;id=373195;file:///Users/mcna892/opt/anaconda3/envs/micom/lib/python3.9/site-packages/micom/util.py\u001b\\\u001b[2mutil.py\u001b[0m\u001b]8;;\u001b\\\u001b[2m:\u001b[0m\u001b]8;id=163732;file:///Users/mcna892/opt/anaconda3/envs/micom/lib/python3.9/site-packages/micom/util.py#64\u001b\\\u001b[2m64\u001b[0m\u001b]8;;\u001b\\\n",
       "\u001b[2;36m           \u001b[0m         they would interfere with MICOM's growth rate estimation: EX_sucr_e                  \u001b[2m          \u001b[0m\n"
      ]
     },
     "metadata": {},
     "output_type": "display_data"
    },
    {
     "data": {
      "text/html": [
       "<pre style=\"white-space:pre;overflow-x:auto;line-height:normal;font-family:Menlo,'DejaVu Sans Mono',consolas,'Courier New',monospace\"></pre>\n"
      ],
      "text/plain": []
     },
     "metadata": {},
     "output_type": "display_data"
    },
    {
     "data": {
      "text/html": [
       "<pre style=\"white-space:pre;overflow-x:auto;line-height:normal;font-family:Menlo,'DejaVu Sans Mono',consolas,'Courier New',monospace\">\n",
       "</pre>\n"
      ],
      "text/plain": [
       "\n"
      ]
     },
     "metadata": {},
     "output_type": "display_data"
    },
    {
     "data": {
      "text/html": [
       "<div>\n",
       "<style scoped>\n",
       "    .dataframe tbody tr th:only-of-type {\n",
       "        vertical-align: middle;\n",
       "    }\n",
       "\n",
       "    .dataframe tbody tr th {\n",
       "        vertical-align: top;\n",
       "    }\n",
       "\n",
       "    .dataframe thead th {\n",
       "        text-align: right;\n",
       "    }\n",
       "</style>\n",
       "<table border=\"1\" class=\"dataframe\">\n",
       "  <thead>\n",
       "    <tr style=\"text-align: right;\">\n",
       "      <th></th>\n",
       "      <th>file</th>\n",
       "      <th>kingdom</th>\n",
       "      <th>phylum</th>\n",
       "      <th>class</th>\n",
       "      <th>order</th>\n",
       "      <th>family</th>\n",
       "      <th>genus</th>\n",
       "      <th>species</th>\n",
       "      <th>id</th>\n",
       "      <th>summary_rank</th>\n",
       "    </tr>\n",
       "    <tr>\n",
       "      <th>genus</th>\n",
       "      <th></th>\n",
       "      <th></th>\n",
       "      <th></th>\n",
       "      <th></th>\n",
       "      <th></th>\n",
       "      <th></th>\n",
       "      <th></th>\n",
       "      <th></th>\n",
       "      <th></th>\n",
       "      <th></th>\n",
       "    </tr>\n",
       "  </thead>\n",
       "  <tbody>\n",
       "    <tr>\n",
       "      <th>Azotobacter</th>\n",
       "      <td>Azotobacter.json</td>\n",
       "      <td>bacteria</td>\n",
       "      <td>Pseudomonadota</td>\n",
       "      <td>Gammaproteobacteria</td>\n",
       "      <td>Pseudomonadales</td>\n",
       "      <td>Pseudomonadaceae</td>\n",
       "      <td>Azotobacter</td>\n",
       "      <td>A. vinelandii</td>\n",
       "      <td>Azotobacter</td>\n",
       "      <td>genus</td>\n",
       "    </tr>\n",
       "    <tr>\n",
       "      <th>Rhodosporidium</th>\n",
       "      <td>Rhodosporidium.json</td>\n",
       "      <td>fungi</td>\n",
       "      <td>a</td>\n",
       "      <td>Ustilaginomycetes</td>\n",
       "      <td>b</td>\n",
       "      <td>c</td>\n",
       "      <td>Rhodosporidium</td>\n",
       "      <td>R. toruloides3</td>\n",
       "      <td>Rhodosporidium</td>\n",
       "      <td>genus</td>\n",
       "    </tr>\n",
       "    <tr>\n",
       "      <th>Synechococcus</th>\n",
       "      <td>Synechococcus.json</td>\n",
       "      <td>bacteria</td>\n",
       "      <td>Cyanobacteria</td>\n",
       "      <td>Cyanophyceae</td>\n",
       "      <td>Synechococcales</td>\n",
       "      <td>Synechococcaceae</td>\n",
       "      <td>Synechococcus</td>\n",
       "      <td>S. elongatus</td>\n",
       "      <td>Synechococcus</td>\n",
       "      <td>genus</td>\n",
       "    </tr>\n",
       "  </tbody>\n",
       "</table>\n",
       "</div>"
      ],
      "text/plain": [
       "                               file   kingdom          phylum  \\\n",
       "genus                                                           \n",
       "Azotobacter        Azotobacter.json  bacteria  Pseudomonadota   \n",
       "Rhodosporidium  Rhodosporidium.json     fungi               a   \n",
       "Synechococcus    Synechococcus.json  bacteria   Cyanobacteria   \n",
       "\n",
       "                              class            order            family  \\\n",
       "genus                                                                    \n",
       "Azotobacter     Gammaproteobacteria  Pseudomonadales  Pseudomonadaceae   \n",
       "Rhodosporidium    Ustilaginomycetes                b                 c   \n",
       "Synechococcus          Cyanophyceae  Synechococcales  Synechococcaceae   \n",
       "\n",
       "                         genus            species              id summary_rank  \n",
       "genus                                                                           \n",
       "Azotobacter        Azotobacter      A. vinelandii     Azotobacter        genus  \n",
       "Rhodosporidium  Rhodosporidium  R. toruloides3     Rhodosporidium        genus  \n",
       "Synechococcus    Synechococcus       S. elongatus   Synechococcus        genus  "
      ]
     },
     "execution_count": 5,
     "metadata": {},
     "output_type": "execute_result"
    }
   ],
   "source": [
    "build_database(db,'./db_tertiary')"
   ]
  },
  {
   "cell_type": "code",
   "execution_count": 6,
   "id": "d60ce06c",
   "metadata": {},
   "outputs": [],
   "source": [
    "db_path = './db_tertiary/'"
   ]
  },
  {
   "cell_type": "markdown",
   "id": "e90d9e99",
   "metadata": {},
   "source": [
    "## Construct Community Model"
   ]
  },
  {
   "cell_type": "code",
   "execution_count": 7,
   "id": "2e31f81f",
   "metadata": {},
   "outputs": [
    {
     "data": {
      "text/html": [
       "<pre style=\"white-space:pre;overflow-x:auto;line-height:normal;font-family:Menlo,'DejaVu Sans Mono',consolas,'Courier New',monospace\"><span style=\"color: #7fbfbf; text-decoration-color: #7fbfbf\">[11:50:45] </span><span style=\"color: #800000; text-decoration-color: #800000\">WARNING </span> Found existing models for <span style=\"color: #008080; text-decoration-color: #008080; font-weight: bold\">1</span> samples. Will skip those. Delete the output folder if   <a href=\"file:///Users/mcna892/opt/anaconda3/envs/micom/lib/python3.9/site-packages/micom/workflows/build.py\" target=\"_blank\"><span style=\"color: #7f7f7f; text-decoration-color: #7f7f7f\">build.py</span></a><span style=\"color: #7f7f7f; text-decoration-color: #7f7f7f\">:</span><a href=\"file:///Users/mcna892/opt/anaconda3/envs/micom/lib/python3.9/site-packages/micom/workflows/build.py#95\" target=\"_blank\"><span style=\"color: #7f7f7f; text-decoration-color: #7f7f7f\">95</span></a>\n",
       "<span style=\"color: #7fbfbf; text-decoration-color: #7fbfbf\">           </span>         you would like me to rebuild them.                                                  <span style=\"color: #7f7f7f; text-decoration-color: #7f7f7f\">           </span>\n",
       "</pre>\n"
      ],
      "text/plain": [
       "\u001b[2;36m[11:50:45]\u001b[0m\u001b[2;36m \u001b[0m\u001b[31mWARNING \u001b[0m Found existing models for \u001b[1;36m1\u001b[0m samples. Will skip those. Delete the output folder if   \u001b]8;id=740064;file:///Users/mcna892/opt/anaconda3/envs/micom/lib/python3.9/site-packages/micom/workflows/build.py\u001b\\\u001b[2mbuild.py\u001b[0m\u001b]8;;\u001b\\\u001b[2m:\u001b[0m\u001b]8;id=468799;file:///Users/mcna892/opt/anaconda3/envs/micom/lib/python3.9/site-packages/micom/workflows/build.py#95\u001b\\\u001b[2m95\u001b[0m\u001b]8;;\u001b\\\n",
       "\u001b[2;36m           \u001b[0m         you would like me to rebuild them.                                                  \u001b[2m           \u001b[0m\n"
      ]
     },
     "metadata": {},
     "output_type": "display_data"
    },
    {
     "name": "stdout",
     "output_type": "stream",
     "text": [
      "Set parameter TokenServer to value \"leghorn.emsl.pnl.gov\"\n",
      "Read LP format model from file /var/folders/1f/ksln774x1hd1pzfgsjgpxt7r0000gn/T/tmpoebt_6ql.lp\n",
      "Reading time = 0.03 seconds\n",
      ": 5290 rows, 12365 columns, 49127 nonzeros\n"
     ]
    },
    {
     "data": {
      "text/html": [
       "<pre style=\"white-space:pre;overflow-x:auto;line-height:normal;font-family:Menlo,'DejaVu Sans Mono',consolas,'Courier New',monospace\"></pre>\n"
      ],
      "text/plain": []
     },
     "metadata": {},
     "output_type": "display_data"
    },
    {
     "data": {
      "text/html": [
       "<pre style=\"white-space:pre;overflow-x:auto;line-height:normal;font-family:Menlo,'DejaVu Sans Mono',consolas,'Courier New',monospace\">\n",
       "</pre>\n"
      ],
      "text/plain": [
       "\n"
      ]
     },
     "metadata": {},
     "output_type": "display_data"
    },
    {
     "data": {
      "text/html": [
       "<div>\n",
       "<style scoped>\n",
       "    .dataframe tbody tr th:only-of-type {\n",
       "        vertical-align: middle;\n",
       "    }\n",
       "\n",
       "    .dataframe tbody tr th {\n",
       "        vertical-align: top;\n",
       "    }\n",
       "\n",
       "    .dataframe thead th {\n",
       "        text-align: right;\n",
       "    }\n",
       "</style>\n",
       "<table border=\"1\" class=\"dataframe\">\n",
       "  <thead>\n",
       "    <tr style=\"text-align: right;\">\n",
       "      <th></th>\n",
       "      <th>sample_id</th>\n",
       "      <th>abundance</th>\n",
       "      <th>file</th>\n",
       "      <th>found_taxa</th>\n",
       "      <th>total_taxa</th>\n",
       "      <th>found_fraction</th>\n",
       "      <th>found_abundance_fraction</th>\n",
       "    </tr>\n",
       "  </thead>\n",
       "  <tbody>\n",
       "    <tr>\n",
       "      <th>0</th>\n",
       "      <td>One</td>\n",
       "      <td>500</td>\n",
       "      <td>One.pickle</td>\n",
       "      <td>3.0</td>\n",
       "      <td>3.0</td>\n",
       "      <td>1.0</td>\n",
       "      <td>1.0</td>\n",
       "    </tr>\n",
       "  </tbody>\n",
       "</table>\n",
       "</div>"
      ],
      "text/plain": [
       "  sample_id  abundance        file  found_taxa  total_taxa  found_fraction  \\\n",
       "0       One        500  One.pickle         3.0         3.0             1.0   \n",
       "\n",
       "   found_abundance_fraction  \n",
       "0                       1.0  "
      ]
     },
     "execution_count": 7,
     "metadata": {},
     "output_type": "execute_result"
    }
   ],
   "source": [
    "# Build Manifest object from Taxonomy DataFrame and the corresponding database directory\n",
    "\n",
    "# Skip this step if manifest has already been built and saved to \"models\" directory\n",
    "\n",
    "'''\n",
    "Important: Declare the Solver you would like to use for this Community model here:\n",
    "    - osqp (good for smaller models)\n",
    "    - gurobi\n",
    "    - glpk\n",
    "    - cplex\n",
    "    - scipy\n",
    "'''\n",
    "\n",
    "manifest = build(Tax, out_folder=\"models_tertiary\", model_db=db_path, cutoff=0.0001, threads=10,solver='gurobi')\n",
    "manifest"
   ]
  },
  {
   "cell_type": "code",
   "execution_count": 8,
   "id": "dd0b370b",
   "metadata": {},
   "outputs": [
    {
     "name": "stdout",
     "output_type": "stream",
     "text": [
      "Read LP format model from file /var/folders/1f/ksln774x1hd1pzfgsjgpxt7r0000gn/T/tmp6a_aeb74.lp\n",
      "Reading time = 0.03 seconds\n",
      ": 5290 rows, 12365 columns, 49127 nonzeros\n",
      "6182\n"
     ]
    }
   ],
   "source": [
    "# Load Model pickle file for the community object\n",
    "\n",
    "com = load_pickle(\"models_tertiary/One.pickle\")\n",
    "print(len(com.reactions))"
   ]
  },
  {
   "cell_type": "code",
   "execution_count": 9,
   "id": "dcece254",
   "metadata": {},
   "outputs": [
    {
     "data": {
      "text/plain": [
       "{'EX_co2_m': 1.99,\n",
       " 'EX_h_m': 999999.0,\n",
       " 'EX_h2o_m': 999999.0,\n",
       " 'EX_nh4_m': 999999.0,\n",
       " 'EX_o2_m': 999999.0,\n",
       " 'EX_pi_m': 999999.0,\n",
       " 'EX_so4_m': 999999.0,\n",
       " 'EX_glc__D_m': 5.0,\n",
       " 'EX_ca2_m': 999999.0,\n",
       " 'EX_cl_m': 999999.0,\n",
       " 'EX_fe2_m': 999999.0,\n",
       " 'EX_fe3_m': 999999.0,\n",
       " 'EX_hco3_m': 1.99,\n",
       " 'EX_k_m': 999999.0,\n",
       " 'EX_leu__L_m': 1000.0,\n",
       " 'EX_na1_m': 999999.0,\n",
       " 'EX_no3_m': 1.76,\n",
       " 'EX_mg2_m': 999999.0,\n",
       " 'EX_mn2_m': 999999.0,\n",
       " 'EX_cu2_m': 999999.0,\n",
       " 'EX_zn2_m': 999999.0,\n",
       " 'EX_cobalt2_m': 999999.0,\n",
       " 'EX_mobd_m': 999999.0,\n",
       " 'EX_ni2_m': 999999.0,\n",
       " 'EX_photon410_m': 1000.0,\n",
       " 'EX_photon430_m': 1000.0,\n",
       " 'EX_photon450_m': 1000.0,\n",
       " 'EX_photon470_m': 1000.0,\n",
       " 'EX_photon490_m': 1000.0,\n",
       " 'EX_photon510_m': 1000.0,\n",
       " 'EX_photon530_m': 1000.0,\n",
       " 'EX_photon550_m': 1000.0,\n",
       " 'EX_photon570_m': 1000.0,\n",
       " 'EX_photon590_m': 1000.0,\n",
       " 'EX_photon610_m': 1000.0,\n",
       " 'EX_photon630_m': 1000.0,\n",
       " 'EX_photon650_m': 1000.0,\n",
       " 'EX_photon670_m': 1000.0,\n",
       " 'EX_photon690_m': 1000.0,\n",
       " 'EX_sel_m': 999999.0,\n",
       " 'EX_tungs_m': 999999.0,\n",
       " 'EX_slnt_m': 999999.0}"
      ]
     },
     "execution_count": 9,
     "metadata": {},
     "output_type": "execute_result"
    }
   ],
   "source": [
    "com.medium"
   ]
  },
  {
   "cell_type": "markdown",
   "id": "b9ac7c27",
   "metadata": {},
   "source": [
    "## Optimize Model"
   ]
  },
  {
   "cell_type": "code",
   "execution_count": 10,
   "id": "ea727eee",
   "metadata": {},
   "outputs": [
    {
     "data": {
      "text/html": [
       "<strong>community growth:</strong> 2.777<br><strong>status:</strong> optimal<br><strong>taxa:</strong><div>\n",
       "<style scoped>\n",
       "    .dataframe tbody tr th:only-of-type {\n",
       "        vertical-align: middle;\n",
       "    }\n",
       "\n",
       "    .dataframe tbody tr th {\n",
       "        vertical-align: top;\n",
       "    }\n",
       "\n",
       "    .dataframe thead th {\n",
       "        text-align: right;\n",
       "    }\n",
       "</style>\n",
       "<table border=\"1\" class=\"dataframe\">\n",
       "  <thead>\n",
       "    <tr style=\"text-align: right;\">\n",
       "      <th></th>\n",
       "      <th>abundance</th>\n",
       "      <th>growth_rate</th>\n",
       "      <th>reactions</th>\n",
       "      <th>metabolites</th>\n",
       "    </tr>\n",
       "    <tr>\n",
       "      <th>compartments</th>\n",
       "      <th></th>\n",
       "      <th></th>\n",
       "      <th></th>\n",
       "      <th></th>\n",
       "    </tr>\n",
       "  </thead>\n",
       "  <tbody>\n",
       "    <tr>\n",
       "      <th>Azotobacter</th>\n",
       "      <td>0.333333</td>\n",
       "      <td>4.623864</td>\n",
       "      <td>2469</td>\n",
       "      <td>2003</td>\n",
       "    </tr>\n",
       "    <tr>\n",
       "      <th>Rhodosporidium</th>\n",
       "      <td>0.333333</td>\n",
       "      <td>1.706073</td>\n",
       "      <td>2398</td>\n",
       "      <td>2051</td>\n",
       "    </tr>\n",
       "    <tr>\n",
       "      <th>Synechococcus</th>\n",
       "      <td>0.333333</td>\n",
       "      <td>1.999997</td>\n",
       "      <td>851</td>\n",
       "      <td>768</td>\n",
       "    </tr>\n",
       "    <tr>\n",
       "      <th>medium</th>\n",
       "      <td>NaN</td>\n",
       "      <td>NaN</td>\n",
       "      <td>464</td>\n",
       "      <td>464</td>\n",
       "    </tr>\n",
       "  </tbody>\n",
       "</table>\n",
       "</div>"
      ],
      "text/plain": [
       "<CommunitySolution 2.777 at 0x299617f40>"
      ]
     },
     "execution_count": 10,
     "metadata": {},
     "output_type": "execute_result"
    }
   ],
   "source": [
    "result = com.optimize(fluxes=True, pfba=True)\n",
    "result"
   ]
  },
  {
   "cell_type": "markdown",
   "id": "0a55dff7",
   "metadata": {},
   "source": [
    "### Update Medium"
   ]
  },
  {
   "cell_type": "code",
   "execution_count": null,
   "id": "03d546ef",
   "metadata": {},
   "outputs": [],
   "source": [
    "# Restore medium to original\n",
    "com.medium = medium_bkp\n",
    "\n",
    "# Set variable to become new medium\n",
    "medium_to_change = com.medium\n",
    "\n",
    "#Add or subtract reactions\n",
    "medium_to_change[\"EX_sucr_m\"] = 5\n",
    "medium_to_change[\"EX_glc__D_m\"] = 5\n",
    "medium_to_change[\"EX_leu__L_m\"] = 0\n",
    "#medium_to_change[\"EX_glyc__R_m\"] = 0\n",
    "medium_to_change[\"EX_nh4_m\"] = 0\n",
    "medium_to_change[\"EX_no3_m\"] = 0\n",
    "medium_to_change[\"EX_n2_m\"] = 5\n",
    "\n",
    "\n",
    "# Set the new medium as the model's medium\n",
    "com.medium = medium_to_change\n",
    "com.medium"
   ]
  },
  {
   "cell_type": "code",
   "execution_count": null,
   "id": "fde04ad7",
   "metadata": {},
   "outputs": [],
   "source": [
    "result_altered_medium = com.optimize(fluxes=True, pfba=True)"
   ]
  },
  {
   "cell_type": "code",
   "execution_count": null,
   "id": "fb6f849d",
   "metadata": {},
   "outputs": [],
   "source": [
    "result_altered_medium"
   ]
  },
  {
   "cell_type": "code",
   "execution_count": null,
   "id": "67b83b71",
   "metadata": {},
   "outputs": [],
   "source": [
    "result_altered_medium.fluxes"
   ]
  }
 ],
 "metadata": {
  "kernelspec": {
   "display_name": "micom",
   "language": "python",
   "name": "micom"
  },
  "language_info": {
   "codemirror_mode": {
    "name": "ipython",
    "version": 3
   },
   "file_extension": ".py",
   "mimetype": "text/x-python",
   "name": "python",
   "nbconvert_exporter": "python",
   "pygments_lexer": "ipython3",
   "version": "3.9.16"
  }
 },
 "nbformat": 4,
 "nbformat_minor": 5
}
