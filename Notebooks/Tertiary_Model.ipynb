{
 "cells": [
  {
   "cell_type": "code",
   "execution_count": null,
   "id": "ef4cb852",
   "metadata": {},
   "outputs": [],
   "source": [
    "import pandas as pd\n",
    "import cobra\n",
    "\n",
    "from micom import Community\n",
    "from micom.workflows import build, grow, tradeoff, fix_medium,build_database\n",
    "from micom import load_pickle\n",
    "from micom.viz import plot_tradeoff, plot_exchanges_per_sample, plot_growth"
   ]
  },
  {
   "cell_type": "code",
   "execution_count": null,
   "id": "82c1c7bb",
   "metadata": {},
   "outputs": [],
   "source": [
    "Tax= pd.DataFrame(columns=['id','genus','species','reactions','metabolites','sample_id','abundance'])\n",
    "Tax"
   ]
  },
  {
   "cell_type": "code",
   "execution_count": null,
   "id": "fd6aaac7",
   "metadata": {},
   "outputs": [],
   "source": [
    "Tax.loc[len(Tax.index)] = ['Rhodosporidium', 'Rhodosporidium', 'R. toruloides',2398,2051,'One',500]\n",
    "Tax.loc[len(Tax.index)] = ['Synechococcus', 'Synechococcus','S. elongatus',851,769,'One',500]\n",
    "Tax.loc[len(Tax.index)] = ['Azotobacter','Azotobacter','A. vinelandii',2469,2003,'One',500]\n",
    "Tax"
   ]
  },
  {
   "cell_type": "markdown",
   "id": "2daa23a1",
   "metadata": {},
   "source": [
    "## Build Database File\n",
    "\n",
    "If necessary, construct a database file from csv "
   ]
  },
  {
   "cell_type": "code",
   "execution_count": null,
   "id": "7f25137b",
   "metadata": {},
   "outputs": [],
   "source": [
    "db = pd.read_csv('./man_tertiary.csv')\n",
    "db"
   ]
  },
  {
   "cell_type": "code",
   "execution_count": null,
   "id": "50843637",
   "metadata": {},
   "outputs": [],
   "source": [
    "build_database(db,'./db_tertiary')"
   ]
  },
  {
   "cell_type": "code",
   "execution_count": null,
   "id": "3bc7c0b5",
   "metadata": {},
   "outputs": [],
   "source": [
    "db_path = './db_tertiary/'"
   ]
  },
  {
   "cell_type": "markdown",
   "id": "c7130ccf",
   "metadata": {},
   "source": [
    "## Construct Community Model"
   ]
  },
  {
   "cell_type": "code",
   "execution_count": null,
   "id": "bf1be950",
   "metadata": {},
   "outputs": [],
   "source": [
    "# Build Manifest object from Taxonomy DataFrame and the corresponding database directory\n",
    "\n",
    "# Skip this step if manifest has already been built and saved to \"models\" directory\n",
    "\n",
    "'''\n",
    "Important: Declare the Solver you would like to use for this Community model here:\n",
    "    - osqp (good for smaller models)\n",
    "    - gurobi\n",
    "    - glpk\n",
    "    - cplex\n",
    "    - scipy\n",
    "'''\n",
    "\n",
    "manifest = build(Tax, out_folder=\"models_tertiary\", model_db=db_path, cutoff=0.0001, threads=10,solver='gurobi')\n",
    "manifest"
   ]
  },
  {
   "cell_type": "code",
   "execution_count": null,
   "id": "b5900b02",
   "metadata": {},
   "outputs": [],
   "source": [
    "# Load Model pickle file for the community object\n",
    "\n",
    "com = load_pickle(\"models_tertiary/One.pickle\")\n",
    "print(len(com.reactions))"
   ]
  },
  {
   "cell_type": "code",
   "execution_count": null,
   "id": "f124c1c4",
   "metadata": {},
   "outputs": [],
   "source": [
    "com.medium"
   ]
  },
  {
   "cell_type": "code",
   "execution_count": null,
   "id": "df26f9e2",
   "metadata": {},
   "outputs": [],
   "source": [
    "medium_bkp = com.medium"
   ]
  },
  {
   "cell_type": "markdown",
   "id": "d2675c53",
   "metadata": {},
   "source": [
    "## Optimize Model"
   ]
  },
  {
   "cell_type": "code",
   "execution_count": null,
   "id": "a845db28",
   "metadata": {},
   "outputs": [],
   "source": [
    "result = com.optimize(fluxes=True, pfba=True)\n",
    "result"
   ]
  },
  {
   "cell_type": "code",
   "execution_count": null,
   "id": "46c280a9",
   "metadata": {},
   "outputs": [],
   "source": [
    "result.fluxes['SUCRt2']"
   ]
  },
  {
   "cell_type": "code",
   "execution_count": null,
   "id": "7e04b548",
   "metadata": {},
   "outputs": [],
   "source": [
    "result.fluxes['SUCRtex']"
   ]
  },
  {
   "cell_type": "code",
   "execution_count": null,
   "id": "cbe4fd17",
   "metadata": {},
   "outputs": [],
   "source": [
    "com.summary()"
   ]
  },
  {
   "cell_type": "code",
   "execution_count": null,
   "id": "edee6247",
   "metadata": {},
   "outputs": [],
   "source": [
    "com.reactions.EX_photon410_m"
   ]
  },
  {
   "cell_type": "markdown",
   "id": "95cf3bde",
   "metadata": {},
   "source": [
    "### Update Medium to Show that Azotobacter Prevents Community Growth"
   ]
  },
  {
   "cell_type": "code",
   "execution_count": null,
   "id": "bd14dccf",
   "metadata": {},
   "outputs": [],
   "source": [
    "# Restore medium to original\n",
    "com.medium = medium_bkp\n",
    "\n",
    "# Set variable to become new medium\n",
    "medium_to_change = com.medium\n",
    "\n",
    "#Add or subtract reactions\n",
    "\n",
    "#Remove carbon sources\n",
    "medium_to_change[\"EX_sucr_m\"] = 0\n",
    "medium_to_change[\"EX_glc__D_m\"] = 0\n",
    "medium_to_change[\"EX_leu__L_m\"] = 0\n",
    "medium_to_change[\"EX_hco3_m\"] = 0\n",
    "#medium_to_change[\"EX_glyc__R_m\"] = 0\n",
    "medium_to_change[\"EX_nh4_m\"] = 0\n",
    "medium_to_change[\"EX_no3_m\"] = 0\n",
    "medium_to_change[\"EX_n2_m\"] = 1.76\n",
    "\n",
    "#Remove unnecessary photons\n",
    "medium_to_change[\"EX_photon410_m\"] = 0\n",
    "medium_to_change[\"EX_photon430_m\"] = 0\n",
    "medium_to_change[\"EX_photon450_m\"] = 0\n",
    "medium_to_change[\"EX_photon470_m\"] = 0\n",
    "medium_to_change[\"EX_photon490_m\"] = 0\n",
    "medium_to_change[\"EX_photon510_m\"] = 0\n",
    "medium_to_change[\"EX_photon550_m\"] = 0\n",
    "medium_to_change[\"EX_photon570_m\"] = 0\n",
    "medium_to_change[\"EX_photon590_m\"] = 0\n",
    "medium_to_change[\"EX_photon610_m\"] = 0\n",
    "medium_to_change[\"EX_photon630_m\"] = 0\n",
    "medium_to_change[\"EX_photon650_m\"] = 0\n",
    "medium_to_change[\"EX_photon670_m\"] = 0\n",
    "\n",
    "\n",
    "# Set the new medium as the model's medium\n",
    "com.medium = medium_to_change\n",
    "com.medium"
   ]
  },
  {
   "cell_type": "code",
   "execution_count": null,
   "id": "3d604998",
   "metadata": {},
   "outputs": [],
   "source": [
    "result_altered_medium = com.optimize(fluxes=True, pfba=True)"
   ]
  },
  {
   "cell_type": "code",
   "execution_count": null,
   "id": "2c9fbc10",
   "metadata": {},
   "outputs": [],
   "source": [
    "result_altered_medium"
   ]
  },
  {
   "cell_type": "code",
   "execution_count": null,
   "id": "b8a93486",
   "metadata": {},
   "outputs": [],
   "source": [
    "result_altered_medium.fluxes['SUCRtex']"
   ]
  },
  {
   "cell_type": "code",
   "execution_count": null,
   "id": "f08d55fb",
   "metadata": {},
   "outputs": [],
   "source": [
    "com.summary()"
   ]
  },
  {
   "cell_type": "code",
   "execution_count": null,
   "id": "e8f88669",
   "metadata": {},
   "outputs": [],
   "source": [
    "result_altered_medium.fluxes.to_csv('ternary_model_co2_n2_growth_reduced_photons.csv')"
   ]
  },
  {
   "cell_type": "code",
   "execution_count": null,
   "id": "ec2a209f",
   "metadata": {},
   "outputs": [],
   "source": [
    "from IPython.display import HTML"
   ]
  },
  {
   "cell_type": "code",
   "execution_count": null,
   "id": "5af3abc4",
   "metadata": {},
   "outputs": [],
   "source": [
    "HTML(result_altered_medium.fluxes.T.to_html())"
   ]
  },
  {
   "cell_type": "code",
   "execution_count": null,
   "id": "e8e1a441",
   "metadata": {},
   "outputs": [],
   "source": [
    "result_altered_medium.fluxes.EX_photon550_m"
   ]
  },
  {
   "cell_type": "code",
   "execution_count": null,
   "id": "9a45fd4c",
   "metadata": {},
   "outputs": [],
   "source": [
    "com.medium"
   ]
  }
 ],
 "metadata": {
  "kernelspec": {
   "display_name": "micom",
   "language": "python",
   "name": "micom"
  },
  "language_info": {
   "codemirror_mode": {
    "name": "ipython",
    "version": 3
   },
   "file_extension": ".py",
   "mimetype": "text/x-python",
   "name": "python",
   "nbconvert_exporter": "python",
   "pygments_lexer": "ipython3",
   "version": "3.9.16"
  }
 },
 "nbformat": 4,
 "nbformat_minor": 5
}
