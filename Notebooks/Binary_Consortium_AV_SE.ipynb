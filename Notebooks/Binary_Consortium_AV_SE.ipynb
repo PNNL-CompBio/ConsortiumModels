{
 "cells": [
  {
   "cell_type": "markdown",
   "id": "b174eeb5",
   "metadata": {},
   "source": [
    "# Running the Micom Workflow for the Binary Azotobacter - Synechococcus Model"
   ]
  },
  {
   "cell_type": "markdown",
   "id": "c5283973",
   "metadata": {},
   "source": [
    "In this notebook we utilize the package `micom` to generate a binary community model for 2 organisms of interest:\n",
    "- `Azotobacter vinelandii`\n",
    "- `Synechococcus elongatus`\n",
    "\n",
    "This binary consortium allows us to gain insights into the exchanges between the 2 organisms and run FBA experiments.\n",
    "\n",
    "First off we can import all necessary packages for this notebook."
   ]
  },
  {
   "cell_type": "code",
   "execution_count": null,
   "id": "c9c581f3",
   "metadata": {},
   "outputs": [],
   "source": [
    "import pandas as pd\n",
    "import cobra\n",
    "\n",
    "from micom import Community\n",
    "from micom.workflows import build, grow, tradeoff, fix_medium,build_database\n",
    "from micom import load_pickle\n",
    "from micom.viz import plot_tradeoff, plot_exchanges_per_sample, plot_growth\n",
    "\n",
    "import os\n",
    "os.environ[\"GRB_LICENSE_FILE\"]"
   ]
  },
  {
   "cell_type": "code",
   "execution_count": null,
   "id": "9a0e27f3",
   "metadata": {},
   "outputs": [],
   "source": [
    "import requests\n",
    "def load_model_from_git(model_name: str):\n",
    "    \"\"\"Helper function for loading a SBML compliant model into CobraPy directly from Git\n",
    "\n",
    "    Args:\n",
    "        model_name (str): The name of the model you wish to load\n",
    "\n",
    "    Returns:\n",
    "        model (cobra.core.model.Model): A Cobra Model object\n",
    "\n",
    "    \"\"\"\n",
    "    \n",
    "    model_url_dict = dict([('Rhodosporidium','https://raw.githubusercontent.com/PNNL-CompBio/RToruGEM/main/rtoru/Rhodo_Toru.xml'),\n",
    "                           ('Azotobacter','https://raw.githubusercontent.com/PNNL-CompBio/iAzotobacterVinelandiiGEM/main/a_vine/azo_vine.xml'),\n",
    "                           ('Synechococcus','https://raw.githubusercontent.com/PNNL-CompBio/S-elongatus7942/main/syn_elong/syn_elong.xml')])\n",
    "\n",
    "    xml = requests.get(model_url_dict[model_name])\n",
    "\n",
    "    with open('tmp.xml', 'wb') as f:\n",
    "        f.write(xml.content)\n",
    "        model = cobra.io.read_sbml_model('tmp.xml')\n",
    "        \n",
    "    return model"
   ]
  },
  {
   "cell_type": "code",
   "execution_count": null,
   "id": "a35e905f",
   "metadata": {},
   "outputs": [],
   "source": [
    "models = ['Rhodosporidium', 'Synechococcus']\n",
    "m_names = ['Rhodo_Toru.xml', 'syn_elong.xml']\n",
    "\n",
    "for i,j in zip(models, m_names):\n",
    "    cobra.io.write_sbml_model(load_model_from_git(i), j)"
   ]
  },
  {
   "cell_type": "markdown",
   "id": "1f9026df",
   "metadata": {},
   "source": [
    "## Setting Up the Model in MICOM"
   ]
  },
  {
   "cell_type": "markdown",
   "id": "85612dc6",
   "metadata": {},
   "source": [
    "To begin, we need to import our genome-scale models into `micom`. We have these models saved as `.sbml` files as this form is accepted easily into programs such as `cobrapy` and `micom`."
   ]
  },
  {
   "cell_type": "markdown",
   "id": "819f25b9",
   "metadata": {},
   "source": [
    "### Building a Taxonomy\n",
    "\n",
    "Step #1: Establish a Taxonomy that lists the out the taxonomy for our organisms of interest"
   ]
  },
  {
   "cell_type": "code",
   "execution_count": null,
   "id": "139390ae",
   "metadata": {},
   "outputs": [],
   "source": [
    "Tax= pd.DataFrame(columns=['id','genus','species','reactions','metabolites','sample_id','abundance'])\n",
    "Tax.loc[len(Tax.index)] = ['Synechococcus', 'Synechococcus','S. elongatus',851,769,'One',500]\n",
    "Tax.loc[len(Tax.index)] = ['Azotobacter','Azotobacter','A. vinelandii',2469,2003,'One',500]\n",
    "Tax"
   ]
  },
  {
   "cell_type": "markdown",
   "id": "ba4992c9",
   "metadata": {},
   "source": [
    "This taxonomy file lists important information for `micom` down the road, such as the number of `reactions` and `metabolites` in the provided models."
   ]
  },
  {
   "cell_type": "markdown",
   "id": "397a687f",
   "metadata": {},
   "source": [
    "### Building a Database\n",
    "\n",
    "Step #2: Now we must construct a database for the `.sbml` models to be preprocessed and stored. This is done by supplying `micom` with a file which contains model path locations."
   ]
  },
  {
   "cell_type": "code",
   "execution_count": null,
   "id": "7a6f4a6e",
   "metadata": {},
   "outputs": [],
   "source": [
    "db = pd.read_csv('../Manifest_Files/man_av_se.csv')\n",
    "db['file'] = m_names"
   ]
  },
  {
   "cell_type": "code",
   "execution_count": null,
   "id": "48ae2316",
   "metadata": {},
   "outputs": [],
   "source": [
    "build_database(db,'./db_av_se')"
   ]
  },
  {
   "cell_type": "code",
   "execution_count": null,
   "id": "188ef2d0",
   "metadata": {},
   "outputs": [],
   "source": [
    "db_path = './db_av_se' "
   ]
  },
  {
   "cell_type": "markdown",
   "id": "11e09327",
   "metadata": {},
   "source": [
    "### Construct Manifest Object\n",
    "\n",
    "Step #3: Now that we have the Taxonomy and Database constructed we can build our community model. This is done by using the `build()` method in `micom`.\n",
    "\n",
    "__Note__:\n",
    "\n",
    "Build Manifest object from Taxonomy DataFrame and the corresponding database directory\n",
    "\n",
    "Skip this step if manifest has already been built and saved to \"models\" directory\n",
    "\n",
    "\n",
    "__IMPORTANT__: Declare the Solver you would like to use for this Community model here:\n",
    "- osqp (good for smaller models)\n",
    "- gurobi\n",
    "- glpk\n",
    "- cplex\n",
    "- scipy\n"
   ]
  },
  {
   "cell_type": "code",
   "execution_count": null,
   "id": "d0c792ad",
   "metadata": {},
   "outputs": [],
   "source": [
    "manifest = build(Tax, out_folder=\"models_av_se\", model_db=db_path, cutoff=0.0001, threads=10,solver='gurobi')\n",
    "manifest"
   ]
  },
  {
   "cell_type": "markdown",
   "id": "456b20db",
   "metadata": {},
   "source": [
    "## Running the Models with FBA\n",
    "\n",
    "Now that we have the `manifest`, we can load the model as a `Community` object through `micom`. This will give us some functionality similar to that of `cobrapy`. This can be done with the `load_pickle()` method we imported above through `micom`."
   ]
  },
  {
   "cell_type": "code",
   "execution_count": null,
   "id": "49f9e8f7",
   "metadata": {},
   "outputs": [],
   "source": [
    "community = load_pickle(\"models_av_se/One.pickle\")\n",
    "print(len(community.reactions))"
   ]
  },
  {
   "cell_type": "markdown",
   "id": "bad44a41",
   "metadata": {},
   "source": [
    "### Exploring the Model Attributes"
   ]
  },
  {
   "cell_type": "markdown",
   "id": "0a74a39a",
   "metadata": {},
   "source": [
    "Our new variable `community` behaves very similarly to a standard `cobrapy` model. We can explore it's attributes in a similar way as well.\n",
    "\n",
    "Things such as `reactions` and `metabolites`:"
   ]
  },
  {
   "cell_type": "code",
   "execution_count": null,
   "id": "814577b7",
   "metadata": {},
   "outputs": [],
   "source": [
    "community.reactions"
   ]
  },
  {
   "cell_type": "code",
   "execution_count": null,
   "id": "a56b83b8",
   "metadata": {},
   "outputs": [],
   "source": [
    "community.metabolites"
   ]
  },
  {
   "cell_type": "markdown",
   "id": "96310062",
   "metadata": {},
   "source": [
    "and importantly the `medium`"
   ]
  },
  {
   "cell_type": "code",
   "execution_count": null,
   "id": "88b4dbad",
   "metadata": {},
   "outputs": [],
   "source": [
    "community.medium"
   ]
  },
  {
   "cell_type": "markdown",
   "id": "0b1f7601",
   "metadata": {},
   "source": [
    "This behavior mimics the medium in `cobrapy`, but combines both models mediums into 1"
   ]
  },
  {
   "cell_type": "markdown",
   "id": "7f8c50f5",
   "metadata": {},
   "source": [
    "### Running Optimization\n",
    "\n",
    "Now that we have the model loaded, we can run standard `FBA` methods using `optimize()`. Default optimize does not return any fluxes from the model, so we can set the `fluxes=True` when calling the method to return them."
   ]
  },
  {
   "cell_type": "code",
   "execution_count": null,
   "id": "421346fe",
   "metadata": {},
   "outputs": [],
   "source": [
    "result = community.optimize(fluxes=True)\n",
    "result"
   ]
  },
  {
   "cell_type": "markdown",
   "id": "49fcc280",
   "metadata": {},
   "source": [
    "We can see that both organisms have a non-zero growth rate and that the community growth is also non-zero. Let's check the fluxes."
   ]
  },
  {
   "cell_type": "code",
   "execution_count": null,
   "id": "45a4876f",
   "metadata": {},
   "outputs": [],
   "source": [
    "result.fluxes.T.loc['EX_nh4_e']"
   ]
  },
  {
   "cell_type": "markdown",
   "id": "cf2c0276",
   "metadata": {},
   "source": [
    "#### Changing parts of the medium to test it's effect on growth\n",
    "\n",
    "Now that we can successfully optimize the community model, we can begin altering the models medium and seeing how it changes the (community) growth rate."
   ]
  },
  {
   "cell_type": "markdown",
   "id": "32416102",
   "metadata": {},
   "source": [
    "First, let's make a copy of the original medium so that we can restore it after making changes."
   ]
  },
  {
   "cell_type": "code",
   "execution_count": null,
   "id": "28a9c742",
   "metadata": {},
   "outputs": [],
   "source": [
    "medium_bkp = community.medium"
   ]
  },
  {
   "cell_type": "markdown",
   "id": "bd084218",
   "metadata": {},
   "source": [
    "Now we can make changes to the medium. The following cell is meant to be re-run with making changes. It will first restore the medium to the original and them set "
   ]
  },
  {
   "cell_type": "code",
   "execution_count": null,
   "id": "6623fb43",
   "metadata": {
    "scrolled": true
   },
   "outputs": [],
   "source": [
    "# Restore medium to original\n",
    "community.medium = medium_bkp\n",
    "\n",
    "# Set variable to become new medium\n",
    "medium_to_change = community.medium\n",
    "\n",
    "#Add or subtract reactions\n",
    "medium_to_change[\"EX_nh4_m\"] = 0\n",
    "#medium_to_change[\"EX_sucr_m\"] = 0\n",
    "#medium_to_change[\"EX_leu__L_m\"] = 1\n",
    "\n",
    "# Set the new medium as the model's medium\n",
    "community.medium = medium_to_change\n",
    "community.medium"
   ]
  },
  {
   "cell_type": "markdown",
   "id": "efdb88b7",
   "metadata": {},
   "source": [
    "Now that the medium is changed, we can rerun the model optimization."
   ]
  },
  {
   "cell_type": "code",
   "execution_count": null,
   "id": "d5ecd3d8",
   "metadata": {},
   "outputs": [],
   "source": [
    "result_altered_medium = community.optimize(fluxes=True)"
   ]
  },
  {
   "cell_type": "code",
   "execution_count": null,
   "id": "b29c58c7",
   "metadata": {},
   "outputs": [],
   "source": [
    "result_altered_medium.fluxes.T.loc['EX_nh4_e']"
   ]
  },
  {
   "cell_type": "markdown",
   "id": "523bed56",
   "metadata": {},
   "source": [
    "## Running the Models with MICOM Grow\n",
    "\n",
    "An alternative to running standard community optimization with `optimize()`, we can also use a `micom.workflows` method called `grow()`. This simulates growth of the organism while also simulating potential tradeoffs (between prioritizing community vs. individual growth). This method does not require our previously constructed `community` object, but rather the `manifest` we added earlier.\n",
    "\n",
    "A key difference here though, is that we need to create a `DataFrame` detailing the reaction, flux, and metabolite as the medium provided to the method."
   ]
  },
  {
   "cell_type": "markdown",
   "id": "459ee30c",
   "metadata": {},
   "source": [
    "### Building the Medium"
   ]
  },
  {
   "cell_type": "code",
   "execution_count": null,
   "id": "35f6426e",
   "metadata": {},
   "outputs": [],
   "source": [
    "# Restore medium to original\n",
    "community.medium = medium_bkp\n",
    "\n",
    "# Set variable to become new medium\n",
    "grow_medium_to_change = community.medium\n",
    "\n",
    "#Add or subtract reactions\n",
    "#grow_medium_to_change[\"EX_glc__D_m\"] = 0\n",
    "#grow_medium_to_change[\"EX_sucr_m\"] = 1\n",
    "grow_medium_to_change[\"EX_nh4_m\"] = 0\n"
   ]
  },
  {
   "cell_type": "code",
   "execution_count": null,
   "id": "9d60fb2f",
   "metadata": {},
   "outputs": [],
   "source": [
    "grow_medium = pd.Series(grow_medium_to_change).to_frame('flux').reset_index()\n",
    "grow_medium = grow_medium.rename(columns={'index':'reaction'})\n",
    "grow_medium"
   ]
  },
  {
   "cell_type": "code",
   "execution_count": null,
   "id": "47bc92a1",
   "metadata": {},
   "outputs": [],
   "source": [
    "result_grow = grow(manifest, model_folder=\"models_av_se\", medium=grow_medium, tradeoff=0.01, threads=2,presolve=True)"
   ]
  },
  {
   "cell_type": "code",
   "execution_count": null,
   "id": "49bb7ad9",
   "metadata": {},
   "outputs": [],
   "source": [
    "result_grow.exchanges"
   ]
  },
  {
   "cell_type": "code",
   "execution_count": null,
   "id": "3deaab9d",
   "metadata": {},
   "outputs": [],
   "source": [
    "result_grow.exchanges.to_csv('av_se_out.csv')"
   ]
  },
  {
   "cell_type": "code",
   "execution_count": null,
   "id": "8bf5103c",
   "metadata": {},
   "outputs": [],
   "source": []
  }
 ],
 "metadata": {
  "kernelspec": {
   "display_name": "Python 3 (ipykernel)",
   "language": "python",
   "name": "python3"
  },
  "language_info": {
   "codemirror_mode": {
    "name": "ipython",
    "version": 3
   },
   "file_extension": ".py",
   "mimetype": "text/x-python",
   "name": "python",
   "nbconvert_exporter": "python",
   "pygments_lexer": "ipython3",
   "version": "3.10.6"
  }
 },
 "nbformat": 4,
 "nbformat_minor": 5
}
