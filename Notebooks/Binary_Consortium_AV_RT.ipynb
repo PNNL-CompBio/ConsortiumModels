{
 "cells": [
  {
   "cell_type": "markdown",
   "id": "b174eeb5",
   "metadata": {},
   "source": [
    "# Running the Micom Workflow for the Binary Azotobacter - Rhodosporidium Model"
   ]
  },
  {
   "cell_type": "markdown",
   "id": "c5283973",
   "metadata": {},
   "source": [
    "In this notebook we utilize the package `micom` to generate a binary community model for 2 organisms of interest:\n",
    "- `Azotobacter vinelandii`\n",
    "- `Rhodosporidium toruloides`\n",
    "\n",
    "This binary consortium allows us to gain insights into the exchanges between the 2 organisms and run FBA experiments.\n",
    "\n",
    "First off we can import all necessary packages for this notebook."
   ]
  },
  {
   "cell_type": "code",
   "execution_count": 3,
   "id": "6a537535",
   "metadata": {},
   "outputs": [
    {
     "data": {
      "text/plain": [
       "'/Users/mcna892/Desktop/Projects/Digital_Twins/gurobi.lic'"
      ]
     },
     "execution_count": 3,
     "metadata": {},
     "output_type": "execute_result"
    }
   ],
   "source": [
    "import pandas as pd\n",
    "import cobra\n",
    "\n",
    "from micom import Community\n",
    "from micom.workflows import build, grow, tradeoff, fix_medium, build_database\n",
    "from micom import load_pickle\n",
    "from micom.viz import plot_tradeoff, plot_exchanges_per_sample, plot_growth\n",
    "\n",
    "import os\n",
    "os.environ[\"GRB_LICENSE_FILE\"]"
   ]
  },
  {
   "cell_type": "code",
   "execution_count": 4,
   "id": "a35e905f",
   "metadata": {},
   "outputs": [],
   "source": [
    "import requests\n",
    "def load_model_from_git(model_name: str):\n",
    "    \"\"\"Helper function for loading a SBML compliant model into CobraPy directly from Git\n",
    "\n",
    "    Args:\n",
    "        model_name (str): The name of the model you wish to load\n",
    "\n",
    "    Returns:\n",
    "        model (cobra.core.model.Model): A Cobra Model object\n",
    "\n",
    "    \"\"\"\n",
    "    \n",
    "    model_url_dict = dict([('Rhodosporidium','https://raw.githubusercontent.com/PNNL-CompBio/RToruGEM/main/rtoru/Rhodo_Toru.xml'),\n",
    "                           ('Azotobacter','https://raw.githubusercontent.com/PNNL-CompBio/iAzotobacterVinelandiiGEM/main/a_vine/azo_vine.xml'),\n",
    "                           ('Synechococcus','https://raw.githubusercontent.com/PNNL-CompBio/S-elongatus7942/main/syn_elong/syn_elong.xml')])\n",
    "\n",
    "    xml = requests.get(model_url_dict[model_name])\n",
    "\n",
    "    with open('tmp.xml', 'wb') as f:\n",
    "        f.write(xml.content)\n",
    "        model = cobra.io.read_sbml_model('tmp.xml')\n",
    "        \n",
    "    return model"
   ]
  },
  {
   "cell_type": "markdown",
   "id": "1f9026df",
   "metadata": {},
   "source": [
    "## Setting Up the Model in MICOM"
   ]
  },
  {
   "cell_type": "markdown",
   "id": "85612dc6",
   "metadata": {},
   "source": [
    "To begin, we need to import our genome-scale models into `micom`. We have these models saved as `.sbml` files as this form is accepted easily into programs such as `cobrapy` and `micom`."
   ]
  },
  {
   "cell_type": "markdown",
   "id": "819f25b9",
   "metadata": {},
   "source": [
    "### Building a Taxonomy\n",
    "\n",
    "Step #1: Establish a Taxonomy that lists the out the taxonomy for our organisms of interest"
   ]
  },
  {
   "cell_type": "code",
   "execution_count": 5,
   "id": "139390ae",
   "metadata": {},
   "outputs": [
    {
     "data": {
      "text/html": [
       "<div>\n",
       "<style scoped>\n",
       "    .dataframe tbody tr th:only-of-type {\n",
       "        vertical-align: middle;\n",
       "    }\n",
       "\n",
       "    .dataframe tbody tr th {\n",
       "        vertical-align: top;\n",
       "    }\n",
       "\n",
       "    .dataframe thead th {\n",
       "        text-align: right;\n",
       "    }\n",
       "</style>\n",
       "<table border=\"1\" class=\"dataframe\">\n",
       "  <thead>\n",
       "    <tr style=\"text-align: right;\">\n",
       "      <th></th>\n",
       "      <th>id</th>\n",
       "      <th>genus</th>\n",
       "      <th>species</th>\n",
       "      <th>reactions</th>\n",
       "      <th>metabolites</th>\n",
       "      <th>sample_id</th>\n",
       "      <th>abundance</th>\n",
       "    </tr>\n",
       "  </thead>\n",
       "  <tbody>\n",
       "    <tr>\n",
       "      <th>0</th>\n",
       "      <td>Azotobacter</td>\n",
       "      <td>Azotobacter</td>\n",
       "      <td>A. vinelandii</td>\n",
       "      <td>2469</td>\n",
       "      <td>2003</td>\n",
       "      <td>One</td>\n",
       "      <td>500</td>\n",
       "    </tr>\n",
       "    <tr>\n",
       "      <th>1</th>\n",
       "      <td>Rhodosporidium</td>\n",
       "      <td>Rhodosporidium</td>\n",
       "      <td>R. toruloides</td>\n",
       "      <td>2398</td>\n",
       "      <td>2051</td>\n",
       "      <td>One</td>\n",
       "      <td>500</td>\n",
       "    </tr>\n",
       "  </tbody>\n",
       "</table>\n",
       "</div>"
      ],
      "text/plain": [
       "               id           genus        species  reactions  metabolites  \\\n",
       "0     Azotobacter     Azotobacter  A. vinelandii       2469         2003   \n",
       "1  Rhodosporidium  Rhodosporidium  R. toruloides       2398         2051   \n",
       "\n",
       "  sample_id  abundance  \n",
       "0       One        500  \n",
       "1       One        500  "
      ]
     },
     "execution_count": 5,
     "metadata": {},
     "output_type": "execute_result"
    }
   ],
   "source": [
    "Tax= pd.DataFrame(columns=['id','genus','species','reactions','metabolites','sample_id','abundance'])\n",
    "Tax.loc[len(Tax.index)] = ['Azotobacter','Azotobacter','A. vinelandii',2469,2003,'One',500]\n",
    "Tax.loc[len(Tax.index)] = ['Rhodosporidium', 'Rhodosporidium', 'R. toruloides',2398,2051,'One',500]\n",
    "Tax"
   ]
  },
  {
   "cell_type": "markdown",
   "id": "ba4992c9",
   "metadata": {},
   "source": [
    "This taxonomy file lists important information for `micom` down the road, such as the number of `reactions` and `metabolites` in the provided models."
   ]
  },
  {
   "cell_type": "markdown",
   "id": "397a687f",
   "metadata": {},
   "source": [
    "### Building a Database\n",
    "\n",
    "Step #2: Now we must construct a database for the `.sbml` models to be preprocessed and stored. This is done by supplying `micom` with a file which contains model path locations."
   ]
  },
  {
   "cell_type": "code",
   "execution_count": 48,
   "id": "4e8ef35c",
   "metadata": {},
   "outputs": [
    {
     "name": "stdout",
     "output_type": "stream",
     "text": [
      "Writing Azotobacter, from azo_vine.xml\n",
      "Writing Rhodosporidium, from Rhodo_Toru.xml\n"
     ]
    }
   ],
   "source": [
    "models = ['Azotobacter','Rhodosporidium']\n",
    "m_names = ['azo_vine.xml','Rhodo_Toru.xml']\n",
    "\n",
    "for i,j in zip(models, m_names):\n",
    "    print(f'Writing {i}, from {j}')\n",
    "    cobra.io.write_sbml_model(load_model_from_git(i), j)\n",
    "  "
   ]
  },
  {
   "cell_type": "code",
   "execution_count": 49,
   "id": "7a6f4a6e",
   "metadata": {},
   "outputs": [
    {
     "name": "stdout",
     "output_type": "stream",
     "text": [
      "               file   kingdom          phylum                class  \\\n",
      "0    ./azo_vine.xml  bacteria  Pseudomonadota  Gammaproteobacteria   \n",
      "1  ./Rt_IFO0880.xml     fungi               a    Ustilaginomycetes   \n",
      "\n",
      "             order            family           genus        species  \n",
      "0  Pseudomonadales  Pseudomonadaceae     Azotobacter  A. vinelandii  \n",
      "1                b                 c  Rhodosporidium  R. toruloides  \n",
      "             file   kingdom          phylum                class  \\\n",
      "0    azo_vine.xml  bacteria  Pseudomonadota  Gammaproteobacteria   \n",
      "1  Rhodo_Toru.xml     fungi               a    Ustilaginomycetes   \n",
      "\n",
      "             order            family           genus        species  \n",
      "0  Pseudomonadales  Pseudomonadaceae     Azotobacter  A. vinelandii  \n",
      "1                b                 c  Rhodosporidium  R. toruloides  \n"
     ]
    }
   ],
   "source": [
    "  \n",
    "db = pd.read_csv('../Manifest_Files/man_av_rt.csv')\n",
    "print(db)\n",
    "db['file'] = m_names\n",
    "print(db)"
   ]
  },
  {
   "cell_type": "code",
   "execution_count": 7,
   "id": "fa9ce7ec",
   "metadata": {},
   "outputs": [],
   "source": [
    "db_path = './db_av_rt' \n",
    "#build_database(db, db_path)"
   ]
  },
  {
   "cell_type": "markdown",
   "id": "11e09327",
   "metadata": {},
   "source": [
    "### Construct Manifest Object\n",
    "\n",
    "Step #3: Now that we have the Taxonomy and Database constructed we can build our community model. This is done by using the `build()` method in `micom`.\n",
    "\n",
    "__Note__:\n",
    "\n",
    "Build Manifest object from Taxonomy DataFrame and the corresponding database directory\n",
    "\n",
    "Skip this step if manifest has already been built and saved to \"models\" directory\n",
    "\n",
    "\n",
    "__IMPORTANT__: Declare the Solver you would like to use for this Community model here:\n",
    "- osqp (good for smaller models)\n",
    "- gurobi\n",
    "- glpk\n",
    "- cplex\n",
    "- scipy\n"
   ]
  },
  {
   "cell_type": "code",
   "execution_count": 8,
   "id": "d0c792ad",
   "metadata": {},
   "outputs": [
    {
     "name": "stdout",
     "output_type": "stream",
     "text": [
      "Set parameter TokenServer to value \"leghorn.emsl.pnl.gov\"\n"
     ]
    },
    {
     "data": {
      "text/html": [
       "<pre style=\"white-space:pre;overflow-x:auto;line-height:normal;font-family:Menlo,'DejaVu Sans Mono',consolas,'Courier New',monospace\"></pre>\n"
      ],
      "text/plain": []
     },
     "metadata": {},
     "output_type": "display_data"
    },
    {
     "data": {
      "text/html": [
       "<pre style=\"white-space:pre;overflow-x:auto;line-height:normal;font-family:Menlo,'DejaVu Sans Mono',consolas,'Courier New',monospace\">\n",
       "</pre>\n"
      ],
      "text/plain": [
       "\n"
      ]
     },
     "metadata": {},
     "output_type": "display_data"
    },
    {
     "data": {
      "text/html": [
       "<div>\n",
       "<style scoped>\n",
       "    .dataframe tbody tr th:only-of-type {\n",
       "        vertical-align: middle;\n",
       "    }\n",
       "\n",
       "    .dataframe tbody tr th {\n",
       "        vertical-align: top;\n",
       "    }\n",
       "\n",
       "    .dataframe thead th {\n",
       "        text-align: right;\n",
       "    }\n",
       "</style>\n",
       "<table border=\"1\" class=\"dataframe\">\n",
       "  <thead>\n",
       "    <tr style=\"text-align: right;\">\n",
       "      <th></th>\n",
       "      <th>sample_id</th>\n",
       "      <th>abundance</th>\n",
       "      <th>file</th>\n",
       "      <th>found_taxa</th>\n",
       "      <th>total_taxa</th>\n",
       "      <th>found_fraction</th>\n",
       "      <th>found_abundance_fraction</th>\n",
       "    </tr>\n",
       "  </thead>\n",
       "  <tbody>\n",
       "    <tr>\n",
       "      <th>0</th>\n",
       "      <td>One</td>\n",
       "      <td>500</td>\n",
       "      <td>One.pickle</td>\n",
       "      <td>2.0</td>\n",
       "      <td>2.0</td>\n",
       "      <td>1.0</td>\n",
       "      <td>1.0</td>\n",
       "    </tr>\n",
       "  </tbody>\n",
       "</table>\n",
       "</div>"
      ],
      "text/plain": [
       "  sample_id  abundance        file  found_taxa  total_taxa  found_fraction  \\\n",
       "0       One        500  One.pickle         2.0         2.0             1.0   \n",
       "\n",
       "   found_abundance_fraction  \n",
       "0                       1.0  "
      ]
     },
     "execution_count": 8,
     "metadata": {},
     "output_type": "execute_result"
    }
   ],
   "source": [
    "manifest = build(\n",
    "    Tax, \n",
    "    out_folder=\"models_av_rt\", \n",
    "    model_db=db_path, \n",
    "    cutoff=0.0001, \n",
    "    threads=10,\n",
    "    solver='gurobi'\n",
    ")\n",
    "manifest"
   ]
  },
  {
   "cell_type": "markdown",
   "id": "456b20db",
   "metadata": {},
   "source": [
    "## Running the Models with FBA\n",
    "\n",
    "Now that we have the `manifest`, we can load the model as a `Community` object through `micom`. This will give us some functionality similar to that of `cobrapy`. This can be done with the `load_pickle()` method we imported above through `micom`."
   ]
  },
  {
   "cell_type": "code",
   "execution_count": 9,
   "id": "49f9e8f7",
   "metadata": {},
   "outputs": [
    {
     "name": "stdout",
     "output_type": "stream",
     "text": [
      "Set parameter TokenServer to value \"leghorn.emsl.pnl.gov\"\n",
      "Read LP format model from file /var/folders/1f/ksln774x1hd1pzfgsjgpxt7r0000gn/T/tmpsorrjdrm.lp\n",
      "Reading time = 0.03 seconds\n",
      ": 4506 rows, 10633 columns, 41351 nonzeros\n",
      "5316\n"
     ]
    }
   ],
   "source": [
    "community = load_pickle(\"models_av_rt/One.pickle\")\n",
    "print(len(community.reactions))"
   ]
  },
  {
   "cell_type": "markdown",
   "id": "bad44a41",
   "metadata": {},
   "source": [
    "### Exploring the Model Attributes"
   ]
  },
  {
   "cell_type": "markdown",
   "id": "0a74a39a",
   "metadata": {},
   "source": [
    "Our new variable `community` behaves very similarly to a standard `cobrapy` model. We can explore it's attributes in a similar way as well.\n",
    "\n",
    "Things such as `reactions` and `metabolites`:"
   ]
  },
  {
   "cell_type": "code",
   "execution_count": 10,
   "id": "814577b7",
   "metadata": {},
   "outputs": [],
   "source": [
    "#community.reactions"
   ]
  },
  {
   "cell_type": "code",
   "execution_count": 11,
   "id": "a56b83b8",
   "metadata": {},
   "outputs": [],
   "source": [
    "#community.metabolites"
   ]
  },
  {
   "cell_type": "markdown",
   "id": "96310062",
   "metadata": {},
   "source": [
    "and importantly the `medium`"
   ]
  },
  {
   "cell_type": "code",
   "execution_count": 12,
   "id": "88b4dbad",
   "metadata": {
    "scrolled": true
   },
   "outputs": [
    {
     "data": {
      "text/plain": [
       "{'EX_pi_m': 999999.0,\n",
       " 'EX_h_m': 999999.0,\n",
       " 'EX_fe3_m': 999999.0,\n",
       " 'EX_mn2_m': 999999.0,\n",
       " 'EX_fe2_m': 999999.0,\n",
       " 'EX_glc__D_m': 5.0,\n",
       " 'EX_zn2_m': 999999.0,\n",
       " 'EX_mg2_m': 999999.0,\n",
       " 'EX_ca2_m': 999999.0,\n",
       " 'EX_ni2_m': 999999.0,\n",
       " 'EX_cu2_m': 999999.0,\n",
       " 'EX_cobalt2_m': 999999.0,\n",
       " 'EX_sel_m': 999999.0,\n",
       " 'EX_h2o_m': 999999.0,\n",
       " 'EX_nh4_m': 999999.0,\n",
       " 'EX_mobd_m': 999999.0,\n",
       " 'EX_so4_m': 999999.0,\n",
       " 'EX_k_m': 999999.0,\n",
       " 'EX_na1_m': 999999.0,\n",
       " 'EX_o2_m': 999999.0,\n",
       " 'EX_cl_m': 999999.0,\n",
       " 'EX_tungs_m': 999999.0,\n",
       " 'EX_slnt_m': 999999.0}"
      ]
     },
     "execution_count": 12,
     "metadata": {},
     "output_type": "execute_result"
    }
   ],
   "source": [
    "community.medium"
   ]
  },
  {
   "cell_type": "markdown",
   "id": "0b1f7601",
   "metadata": {},
   "source": [
    "This behavior mimics the medium in `cobrapy`, but combines both models mediums into 1"
   ]
  },
  {
   "cell_type": "markdown",
   "id": "7f8c50f5",
   "metadata": {},
   "source": [
    "### Running Optimization\n",
    "\n",
    "Now that we have the model loaded, we can run standard `FBA` methods using `optimize()`. Default optimize does not return any fluxes from the model, so we can set the `fluxes=True` when calling the method to return them."
   ]
  },
  {
   "cell_type": "code",
   "execution_count": 13,
   "id": "c27082ff",
   "metadata": {},
   "outputs": [
    {
     "data": {
      "text/plain": [
       "id\n",
       "Azotobacter       0.5\n",
       "Rhodosporidium    0.5\n",
       "Name: abundance, dtype: float64"
      ]
     },
     "execution_count": 13,
     "metadata": {},
     "output_type": "execute_result"
    }
   ],
   "source": [
    "community.abundances"
   ]
  },
  {
   "cell_type": "code",
   "execution_count": 14,
   "id": "421346fe",
   "metadata": {},
   "outputs": [
    {
     "data": {
      "text/html": [
       "<strong>community growth:</strong> 0.440<br><strong>status:</strong> optimal<br><strong>taxa:</strong><div>\n",
       "<style scoped>\n",
       "    .dataframe tbody tr th:only-of-type {\n",
       "        vertical-align: middle;\n",
       "    }\n",
       "\n",
       "    .dataframe tbody tr th {\n",
       "        vertical-align: top;\n",
       "    }\n",
       "\n",
       "    .dataframe thead th {\n",
       "        text-align: right;\n",
       "    }\n",
       "</style>\n",
       "<table border=\"1\" class=\"dataframe\">\n",
       "  <thead>\n",
       "    <tr style=\"text-align: right;\">\n",
       "      <th></th>\n",
       "      <th>abundance</th>\n",
       "      <th>growth_rate</th>\n",
       "      <th>reactions</th>\n",
       "      <th>metabolites</th>\n",
       "    </tr>\n",
       "    <tr>\n",
       "      <th>compartments</th>\n",
       "      <th></th>\n",
       "      <th></th>\n",
       "      <th></th>\n",
       "      <th></th>\n",
       "    </tr>\n",
       "  </thead>\n",
       "  <tbody>\n",
       "    <tr>\n",
       "      <th>Azotobacter</th>\n",
       "      <td>0.5</td>\n",
       "      <td>0.880683</td>\n",
       "      <td>2469</td>\n",
       "      <td>2003</td>\n",
       "    </tr>\n",
       "    <tr>\n",
       "      <th>Rhodosporidium</th>\n",
       "      <td>0.5</td>\n",
       "      <td>0.000000</td>\n",
       "      <td>2398</td>\n",
       "      <td>2051</td>\n",
       "    </tr>\n",
       "    <tr>\n",
       "      <th>medium</th>\n",
       "      <td>NaN</td>\n",
       "      <td>NaN</td>\n",
       "      <td>449</td>\n",
       "      <td>449</td>\n",
       "    </tr>\n",
       "  </tbody>\n",
       "</table>\n",
       "</div>"
      ],
      "text/plain": [
       "<CommunitySolution 0.440 at 0x1050672e0>"
      ]
     },
     "execution_count": 14,
     "metadata": {},
     "output_type": "execute_result"
    }
   ],
   "source": [
    "result = community.optimize(fluxes=True,pfba=True)\n",
    "result"
   ]
  },
  {
   "cell_type": "markdown",
   "id": "49fcc280",
   "metadata": {},
   "source": [
    "We can see that both organisms have a non-zero growth rate and that the community growth is also non-zero. Let's check the fluxes."
   ]
  },
  {
   "cell_type": "code",
   "execution_count": 15,
   "id": "45a4876f",
   "metadata": {},
   "outputs": [
    {
     "data": {
      "text/plain": [
       "compartment\n",
       "Azotobacter      -39.180828\n",
       "Rhodosporidium    39.180828\n",
       "medium                  NaN\n",
       "Name: EX_glyc__R_e, dtype: float64"
      ]
     },
     "execution_count": 15,
     "metadata": {},
     "output_type": "execute_result"
    }
   ],
   "source": [
    "result.fluxes.T.loc['EX_glyc__R_e']"
   ]
  },
  {
   "cell_type": "markdown",
   "id": "9d1772b0",
   "metadata": {},
   "source": [
    "### Testing"
   ]
  },
  {
   "cell_type": "code",
   "execution_count": 17,
   "id": "9c110c1c",
   "metadata": {
    "scrolled": true
   },
   "outputs": [
    {
     "data": {
      "text/plain": [
       "1.0"
      ]
     },
     "execution_count": 17,
     "metadata": {},
     "output_type": "execute_result"
    }
   ],
   "source": [
    "#community.reactions.BIOMASS_Av_DJ_core__Azotobacter.upper_bound\n",
    "#community.reactions.BIOMASS_RT__Rhodosporidium.upper_bound\n",
    "#community.reactions.BIOMASS_Av_DJ_core__Azotobacter"
   ]
  },
  {
   "cell_type": "code",
   "execution_count": 18,
   "id": "cfa4d7f5",
   "metadata": {},
   "outputs": [],
   "source": [
    "community.set_abundance([1,1],normalize=False)"
   ]
  },
  {
   "cell_type": "code",
   "execution_count": 20,
   "id": "7d5ce474",
   "metadata": {},
   "outputs": [
    {
     "data": {
      "text/html": [
       "<strong>community growth:</strong> 0.424<br><strong>status:</strong> optimal<br><strong>taxa:</strong><div>\n",
       "<style scoped>\n",
       "    .dataframe tbody tr th:only-of-type {\n",
       "        vertical-align: middle;\n",
       "    }\n",
       "\n",
       "    .dataframe tbody tr th {\n",
       "        vertical-align: top;\n",
       "    }\n",
       "\n",
       "    .dataframe thead th {\n",
       "        text-align: right;\n",
       "    }\n",
       "</style>\n",
       "<table border=\"1\" class=\"dataframe\">\n",
       "  <thead>\n",
       "    <tr style=\"text-align: right;\">\n",
       "      <th></th>\n",
       "      <th>abundance</th>\n",
       "      <th>growth_rate</th>\n",
       "      <th>reactions</th>\n",
       "      <th>metabolites</th>\n",
       "    </tr>\n",
       "    <tr>\n",
       "      <th>compartments</th>\n",
       "      <th></th>\n",
       "      <th></th>\n",
       "      <th></th>\n",
       "      <th></th>\n",
       "    </tr>\n",
       "  </thead>\n",
       "  <tbody>\n",
       "    <tr>\n",
       "      <th>Azotobacter</th>\n",
       "      <td>1.0</td>\n",
       "      <td>0.424491</td>\n",
       "      <td>2469</td>\n",
       "      <td>2003</td>\n",
       "    </tr>\n",
       "    <tr>\n",
       "      <th>Rhodosporidium</th>\n",
       "      <td>1.0</td>\n",
       "      <td>0.000000</td>\n",
       "      <td>2398</td>\n",
       "      <td>2051</td>\n",
       "    </tr>\n",
       "    <tr>\n",
       "      <th>medium</th>\n",
       "      <td>NaN</td>\n",
       "      <td>NaN</td>\n",
       "      <td>449</td>\n",
       "      <td>449</td>\n",
       "    </tr>\n",
       "  </tbody>\n",
       "</table>\n",
       "</div>"
      ],
      "text/plain": [
       "<CommunitySolution 0.424 at 0x105067c10>"
      ]
     },
     "execution_count": 20,
     "metadata": {},
     "output_type": "execute_result"
    }
   ],
   "source": [
    "community.optimize(fluxes=True,pfba=True)"
   ]
  },
  {
   "cell_type": "code",
   "execution_count": null,
   "id": "3f1a02f0",
   "metadata": {},
   "outputs": [],
   "source": []
  },
  {
   "cell_type": "markdown",
   "id": "cf2c0276",
   "metadata": {},
   "source": [
    "#### Changing parts of the medium to test it's effect on growth\n",
    "\n",
    "Now that we can successfully optimize the community model, we can begin altering the models medium and seeing how it changes the (community) growth rate."
   ]
  },
  {
   "cell_type": "markdown",
   "id": "32416102",
   "metadata": {},
   "source": [
    "First, let's make a copy of the original medium so that we can restore it after making changes."
   ]
  },
  {
   "cell_type": "code",
   "execution_count": 24,
   "id": "28a9c742",
   "metadata": {},
   "outputs": [],
   "source": [
    "medium_bkp = community.medium"
   ]
  },
  {
   "cell_type": "markdown",
   "id": "bd084218",
   "metadata": {},
   "source": [
    "Now we can make changes to the medium. The following cell is meant to be re-run with making changes. It will first restore the medium to the original and them set "
   ]
  },
  {
   "cell_type": "code",
   "execution_count": null,
   "id": "6623fb43",
   "metadata": {
    "scrolled": true
   },
   "outputs": [],
   "source": [
    "# Restore medium to original\n",
    "community.medium = medium_bkp\n",
    "\n",
    "# Set variable to become new medium\n",
    "medium_to_change = community.medium\n",
    "\n",
    "#Add or subtract reactions\n",
    "medium_to_change[\"EX_xyl__D_m\"] = 0\n",
    "medium_to_change[\"EX_glc__D_m\"] = 5\n",
    "#medium_to_change[\"EX_glyc__R_m\"] = 0\n",
    "medium_to_change[\"EX_nh4_m\"] = 0\n",
    "medium_to_change[\"EX_n2_m\"] = 5\n",
    "\n",
    "\n",
    "# Set the new medium as the model's medium\n",
    "community.medium = medium_to_change\n",
    "community.medium"
   ]
  },
  {
   "cell_type": "markdown",
   "id": "efdb88b7",
   "metadata": {},
   "source": [
    "Now that the medium is changed, we can rerun the model optimization."
   ]
  },
  {
   "cell_type": "code",
   "execution_count": null,
   "id": "d5ecd3d8",
   "metadata": {},
   "outputs": [],
   "source": [
    "result_altered_medium = community.optimize(fluxes=True, pfba=True)"
   ]
  },
  {
   "cell_type": "code",
   "execution_count": null,
   "id": "be7ed70a",
   "metadata": {},
   "outputs": [],
   "source": [
    "result_altered_medium"
   ]
  },
  {
   "cell_type": "code",
   "execution_count": null,
   "id": "b8277554",
   "metadata": {},
   "outputs": [],
   "source": [
    "community.reactions.EX_glyc__R_e__Rhodosporidium"
   ]
  },
  {
   "cell_type": "code",
   "execution_count": null,
   "id": "502d35f9",
   "metadata": {},
   "outputs": [],
   "source": [
    "community.reactions.EX_glyc__R_e__Azotobacter"
   ]
  },
  {
   "cell_type": "code",
   "execution_count": null,
   "id": "b29c58c7",
   "metadata": {
    "scrolled": true
   },
   "outputs": [],
   "source": [
    "result_altered_medium.fluxes.T.loc['EX_glyc__R_e']"
   ]
  },
  {
   "cell_type": "code",
   "execution_count": null,
   "id": "1528d61b",
   "metadata": {},
   "outputs": [],
   "source": [
    "result_altered_medium.fluxes.T.loc['EX_glc__D_e']"
   ]
  },
  {
   "cell_type": "code",
   "execution_count": null,
   "id": "c777f5c4",
   "metadata": {},
   "outputs": [],
   "source": [
    "result_altered_medium.fluxes.T.loc['EX_co2_m']"
   ]
  },
  {
   "cell_type": "code",
   "execution_count": null,
   "id": "35213708",
   "metadata": {},
   "outputs": [],
   "source": [
    "x = result_altered_medium.fluxes.T.loc[result_altered_medium.fluxes.T.Azotobacter.index.str.startswith('EX_')]"
   ]
  },
  {
   "cell_type": "code",
   "execution_count": null,
   "id": "00c64979",
   "metadata": {},
   "outputs": [],
   "source": [
    "from IPython.display import HTML"
   ]
  },
  {
   "cell_type": "code",
   "execution_count": null,
   "id": "7959b607",
   "metadata": {
    "scrolled": false
   },
   "outputs": [],
   "source": [
    "x.fillna(0,inplace=True)\n",
    "HTML(x[(x.medium != 0) | (x.medium != 0)].sort_values('medium').to_html())"
   ]
  },
  {
   "cell_type": "code",
   "execution_count": null,
   "id": "9a49d389",
   "metadata": {},
   "outputs": [],
   "source": [
    "x.fillna(0,inplace=True)\n",
    "HTML(x[(x.Azotobacter != 0) | (x.Rhodosporidium != 0)].sort_values('Azotobacter').to_html())"
   ]
  },
  {
   "cell_type": "code",
   "execution_count": null,
   "id": "feb2fb69",
   "metadata": {},
   "outputs": [],
   "source": [
    "from IPython.display import HTML"
   ]
  },
  {
   "cell_type": "markdown",
   "id": "b5425bf5",
   "metadata": {},
   "source": [
    "### Testing Abundances\n",
    "\n",
    "The following code is an inline way to change the abundances"
   ]
  },
  {
   "cell_type": "code",
   "execution_count": null,
   "id": "62add015",
   "metadata": {},
   "outputs": [],
   "source": [
    "community.set_abundance([1,1],normalize=False)"
   ]
  },
  {
   "cell_type": "markdown",
   "id": "523bed56",
   "metadata": {},
   "source": [
    "## Running the Models with MICOM Grow\n",
    "\n",
    "An alternative to running standard community optimization with `optimize()`, we can also use a `micom.workflows` method called `grow()`. This simulates growth of the organism while also simulating potential tradeoffs (between prioritizing community vs. individual growth). This method does not require our previously constructed `community` object, but rather the `manifest` we added earlier.\n",
    "\n",
    "A key difference here though, is that we need to create a `DataFrame` detailing the reaction, flux, and metabolite as the medium provided to the method."
   ]
  },
  {
   "cell_type": "markdown",
   "id": "459ee30c",
   "metadata": {},
   "source": [
    "### Building the Medium"
   ]
  },
  {
   "cell_type": "code",
   "execution_count": null,
   "id": "35f6426e",
   "metadata": {},
   "outputs": [],
   "source": [
    "# Restore medium to original\n",
    "community.medium = medium_bkp\n",
    "\n",
    "# Set variable to become new medium\n",
    "grow_medium_to_change = community.medium\n",
    "\n",
    "#Add or subtract reactions\n",
    "#grow_medium_to_change[\"EX_glc__D_m\"] = 0\n",
    "#grow_medium_to_change[\"EX_sucr_m\"] = 1\n",
    "grow_medium_to_change[\"EX_nh4_m\"] = 0\n",
    "grow_medium_to_change[\"EX_n2_m\"] = 5"
   ]
  },
  {
   "cell_type": "code",
   "execution_count": null,
   "id": "9d60fb2f",
   "metadata": {},
   "outputs": [],
   "source": [
    "grow_medium = pd.Series(grow_medium_to_change).to_frame('flux').reset_index()\n",
    "grow_medium = grow_medium.rename(columns={'index':'reaction'})\n",
    "grow_medium"
   ]
  },
  {
   "cell_type": "code",
   "execution_count": null,
   "id": "47bc92a1",
   "metadata": {},
   "outputs": [],
   "source": [
    "result_grow = grow(\n",
    "    manifest, \n",
    "    model_folder=\"models_av_se\",\n",
    "    medium=grow_medium, \n",
    "    tradeoff=0.01, \n",
    "    threads=2,\n",
    "    presolve=True\n",
    ")"
   ]
  },
  {
   "cell_type": "code",
   "execution_count": null,
   "id": "49bb7ad9",
   "metadata": {},
   "outputs": [],
   "source": [
    "result_grow.exchanges"
   ]
  },
  {
   "cell_type": "code",
   "execution_count": null,
   "id": "3deaab9d",
   "metadata": {},
   "outputs": [],
   "source": [
    "result_grow.exchanges.to_csv('av_se_out.csv')"
   ]
  },
  {
   "cell_type": "markdown",
   "id": "f1b1ba08",
   "metadata": {},
   "source": [
    "## Useful Utility Functions"
   ]
  },
  {
   "cell_type": "code",
   "execution_count": null,
   "id": "9c07fdd8",
   "metadata": {},
   "outputs": [],
   "source": [
    "def medium2extracellular(medium: dict):\n",
    "    \n",
    "    return dict([(k[:-1] + \"e\",v) for k,v in medium.items()])"
   ]
  },
  {
   "cell_type": "code",
   "execution_count": null,
   "id": "9a73784e",
   "metadata": {},
   "outputs": [],
   "source": [
    "def extracellular2medium(medium: dict):\n",
    "    \n",
    "    return dict([(k[:-1] + \"m\",v) for k,v in medium.items()])  "
   ]
  },
  {
   "cell_type": "markdown",
   "id": "2660f1c9",
   "metadata": {},
   "source": [
    "## CobraPy Models for Checking"
   ]
  },
  {
   "cell_type": "code",
   "execution_count": null,
   "id": "fefa7a98",
   "metadata": {},
   "outputs": [],
   "source": [
    "model_azo = cobra.io.read_sbml_model('azo_vine.xml')\n",
    "model_rhodo = cobra.io.read_sbml_model('Rt_IFO0880.xml')"
   ]
  },
  {
   "cell_type": "code",
   "execution_count": null,
   "id": "5873e840",
   "metadata": {},
   "outputs": [],
   "source": [
    "med = model_azo.medium\n",
    "\n",
    "med['EX_xyl__D_e'] = 0\n",
    "med['EX_glc__D_e'] = 5\n",
    "\n",
    "model_azo.medium = med\n",
    "\n",
    "model_azo.optimize().objective_value"
   ]
  },
  {
   "cell_type": "code",
   "execution_count": null,
   "id": "f46d6e00",
   "metadata": {},
   "outputs": [],
   "source": [
    "model_azo.reactions.BIOMASS_Av_DJ_core.build_reaction_string()"
   ]
  },
  {
   "cell_type": "code",
   "execution_count": null,
   "id": "e843cc46",
   "metadata": {},
   "outputs": [],
   "source": [
    "model_rhodo.genes.get_by_id('8631').annotation"
   ]
  },
  {
   "cell_type": "code",
   "execution_count": null,
   "id": "9b795aa7",
   "metadata": {},
   "outputs": [],
   "source": []
  },
  {
   "cell_type": "code",
   "execution_count": null,
   "id": "1a968b1d",
   "metadata": {},
   "outputs": [],
   "source": []
  }
 ],
 "metadata": {
  "kernelspec": {
   "display_name": "micom",
   "language": "python",
   "name": "micom"
  },
  "language_info": {
   "codemirror_mode": {
    "name": "ipython",
    "version": 3
   },
   "file_extension": ".py",
   "mimetype": "text/x-python",
   "name": "python",
   "nbconvert_exporter": "python",
   "pygments_lexer": "ipython3",
   "version": "3.9.16"
  }
 },
 "nbformat": 4,
 "nbformat_minor": 5
}
