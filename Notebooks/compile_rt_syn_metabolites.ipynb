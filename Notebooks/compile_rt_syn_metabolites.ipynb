{
 "cells": [
  {
   "cell_type": "code",
   "execution_count": 1,
   "metadata": {
    "collapsed": true,
    "pycharm": {
     "name": "#%%\n"
    }
   },
   "outputs": [],
   "source": [
    "from binary_models.load_se_rt import load_community_model, model_folder"
   ]
  },
  {
   "cell_type": "code",
   "execution_count": 2,
   "outputs": [],
   "source": [
    "import pandas as pd\n",
    "import numpy as np\n",
    "from micom.workflows import  grow, tradeoff\n",
    "from micom.viz import plot_tradeoff, plot_growth"
   ],
   "metadata": {
    "collapsed": false,
    "pycharm": {
     "name": "#%%\n"
    }
   }
  },
  {
   "cell_type": "code",
   "execution_count": 3,
   "outputs": [
    {
     "name": "stdout",
     "output_type": "stream",
     "text": [
      "Set parameter Username\n",
      "Set parameter GURO_PAR_SPECIAL\n",
      "Set parameter TokenServer to value \"leghorn\"\n",
      "Read LP format model from file C:\\Users\\pino216\\AppData\\Local\\Temp\\tmpsqqm3rla.lp\n",
      "Reading time = 0.04 seconds\n",
      ": 3273 rows, 7403 columns, 29233 nonzeros\n"
     ]
    }
   ],
   "source": [
    "from binary_models.load_se_rt import load_community_model, model_folder\n",
    "# first time running, add prep_files=True\n",
    "# or if there are any model updates, or if you aren't sure but want to be\n",
    "community, manifest = load_community_model(prep_files=False)"
   ],
   "metadata": {
    "collapsed": false,
    "pycharm": {
     "name": "#%%\n"
    }
   }
  },
  {
   "cell_type": "code",
   "execution_count": 4,
   "outputs": [],
   "source": [
    "# Set variable to become new medium\n",
    "grow_medium_to_change = community.medium\n",
    "#Add or subtract reactions\n",
    "#grow_medium_to_change[\"EX_glc__D_m\"] = 0\n",
    "grow_medium_to_change[\"EX_sucr_m\"] = 1\n",
    "#grow_medium_to_change[\"EX_leu__L_m\"] = 1"
   ],
   "metadata": {
    "collapsed": false,
    "pycharm": {
     "name": "#%%\n"
    }
   }
  },
  {
   "cell_type": "code",
   "execution_count": 5,
   "outputs": [
    {
     "data": {
      "text/plain": "           reaction       flux\n0          EX_co2_m       1.99\n1            EX_h_m  999999.00\n2          EX_h2o_m  999999.00\n3          EX_nh4_m  999999.00\n4           EX_o2_m  999999.00\n..              ...        ...\n149  EX_photon630_m    1000.00\n150  EX_photon650_m    1000.00\n151  EX_photon670_m    1000.00\n152  EX_photon690_m    1000.00\n153       EX_sucr_m       1.00\n\n[154 rows x 2 columns]",
      "text/html": "<div>\n<style scoped>\n    .dataframe tbody tr th:only-of-type {\n        vertical-align: middle;\n    }\n\n    .dataframe tbody tr th {\n        vertical-align: top;\n    }\n\n    .dataframe thead th {\n        text-align: right;\n    }\n</style>\n<table border=\"1\" class=\"dataframe\">\n  <thead>\n    <tr style=\"text-align: right;\">\n      <th></th>\n      <th>reaction</th>\n      <th>flux</th>\n    </tr>\n  </thead>\n  <tbody>\n    <tr>\n      <th>0</th>\n      <td>EX_co2_m</td>\n      <td>1.99</td>\n    </tr>\n    <tr>\n      <th>1</th>\n      <td>EX_h_m</td>\n      <td>999999.00</td>\n    </tr>\n    <tr>\n      <th>2</th>\n      <td>EX_h2o_m</td>\n      <td>999999.00</td>\n    </tr>\n    <tr>\n      <th>3</th>\n      <td>EX_nh4_m</td>\n      <td>999999.00</td>\n    </tr>\n    <tr>\n      <th>4</th>\n      <td>EX_o2_m</td>\n      <td>999999.00</td>\n    </tr>\n    <tr>\n      <th>...</th>\n      <td>...</td>\n      <td>...</td>\n    </tr>\n    <tr>\n      <th>149</th>\n      <td>EX_photon630_m</td>\n      <td>1000.00</td>\n    </tr>\n    <tr>\n      <th>150</th>\n      <td>EX_photon650_m</td>\n      <td>1000.00</td>\n    </tr>\n    <tr>\n      <th>151</th>\n      <td>EX_photon670_m</td>\n      <td>1000.00</td>\n    </tr>\n    <tr>\n      <th>152</th>\n      <td>EX_photon690_m</td>\n      <td>1000.00</td>\n    </tr>\n    <tr>\n      <th>153</th>\n      <td>EX_sucr_m</td>\n      <td>1.00</td>\n    </tr>\n  </tbody>\n</table>\n<p>154 rows × 2 columns</p>\n</div>"
     },
     "execution_count": 5,
     "metadata": {},
     "output_type": "execute_result"
    }
   ],
   "source": [
    "grow_medium = pd.Series(grow_medium_to_change).to_frame('flux').reset_index()\n",
    "grow_medium = grow_medium.rename(columns={'index':'reaction'})\n",
    "grow_medium"
   ],
   "metadata": {
    "collapsed": false,
    "pycharm": {
     "name": "#%%\n"
    }
   }
  },
  {
   "cell_type": "code",
   "execution_count": 6,
   "outputs": [
    {
     "data": {
      "text/plain": "Output()",
      "application/vnd.jupyter.widget-view+json": {
       "version_major": 2,
       "version_minor": 0,
       "model_id": "2a9d6f28ad134bd8bbd854d36b805fce"
      }
     },
     "metadata": {},
     "output_type": "display_data"
    },
    {
     "data": {
      "text/plain": "",
      "text/html": "<pre style=\"white-space:pre;overflow-x:auto;line-height:normal;font-family:Menlo,'DejaVu Sans Mono',consolas,'Courier New',monospace\"></pre>\n"
     },
     "metadata": {},
     "output_type": "display_data"
    },
    {
     "data": {
      "text/plain": "\n",
      "text/html": "<pre style=\"white-space:pre;overflow-x:auto;line-height:normal;font-family:Menlo,'DejaVu Sans Mono',consolas,'Courier New',monospace\">\n</pre>\n"
     },
     "metadata": {},
     "output_type": "display_data"
    }
   ],
   "source": [
    "result_grow = grow(\n",
    "    manifest,\n",
    "    model_folder=model_folder,\n",
    "    medium=grow_medium,\n",
    "    tradeoff=0.01,\n",
    "    threads=2,\n",
    "    presolve=True\n",
    ")"
   ],
   "metadata": {
    "collapsed": false,
    "pycharm": {
     "name": "#%%\n"
    }
   }
  },
  {
   "cell_type": "code",
   "execution_count": 7,
   "outputs": [
    {
     "data": {
      "text/plain": "               abundance  growth_rate  reactions  metabolites           taxon  \\\ncompartments                                                                    \nRhodosporidium       0.5     0.659540       2423         2076  Rhodosporidium   \nSynechococcus        0.5     0.010499        968          884   Synechococcus   \n\n                tradeoff sample_id  \ncompartments                        \nRhodosporidium      0.01       One  \nSynechococcus       0.01       One  ",
      "text/html": "<div>\n<style scoped>\n    .dataframe tbody tr th:only-of-type {\n        vertical-align: middle;\n    }\n\n    .dataframe tbody tr th {\n        vertical-align: top;\n    }\n\n    .dataframe thead th {\n        text-align: right;\n    }\n</style>\n<table border=\"1\" class=\"dataframe\">\n  <thead>\n    <tr style=\"text-align: right;\">\n      <th></th>\n      <th>abundance</th>\n      <th>growth_rate</th>\n      <th>reactions</th>\n      <th>metabolites</th>\n      <th>taxon</th>\n      <th>tradeoff</th>\n      <th>sample_id</th>\n    </tr>\n    <tr>\n      <th>compartments</th>\n      <th></th>\n      <th></th>\n      <th></th>\n      <th></th>\n      <th></th>\n      <th></th>\n      <th></th>\n    </tr>\n  </thead>\n  <tbody>\n    <tr>\n      <th>Rhodosporidium</th>\n      <td>0.5</td>\n      <td>0.659540</td>\n      <td>2423</td>\n      <td>2076</td>\n      <td>Rhodosporidium</td>\n      <td>0.01</td>\n      <td>One</td>\n    </tr>\n    <tr>\n      <th>Synechococcus</th>\n      <td>0.5</td>\n      <td>0.010499</td>\n      <td>968</td>\n      <td>884</td>\n      <td>Synechococcus</td>\n      <td>0.01</td>\n      <td>One</td>\n    </tr>\n  </tbody>\n</table>\n</div>"
     },
     "execution_count": 7,
     "metadata": {},
     "output_type": "execute_result"
    }
   ],
   "source": [
    "result_grow.growth_rates"
   ],
   "metadata": {
    "collapsed": false,
    "pycharm": {
     "name": "#%%\n"
    }
   }
  },
  {
   "cell_type": "code",
   "execution_count": 8,
   "outputs": [
    {
     "data": {
      "text/plain": "              taxon sample_id  tolerance     reaction       flux abundance  \\\n0    Rhodosporidium       One   0.000001     EX_co2_e  20.057582       0.5   \n3    Rhodosporidium       One   0.000001   EX_inost_e   0.008959       0.5   \n16   Rhodosporidium       One   0.000001     EX_cu2_e  -0.000346       0.5   \n20   Rhodosporidium       One   0.000001      EX_ac_e   9.535148       0.5   \n28   Rhodosporidium       One   0.000001     EX_h2o_e  20.212794       0.5   \n..              ...       ...        ...          ...        ...       ...   \n711          medium       One   0.000001       EX_h_m   3.757742       NaN   \n716          medium       One   0.000001     EX_cmp_m  -0.033906       NaN   \n727          medium       One   0.000001     EX_h2o_m  10.199468       NaN   \n733          medium       One   0.000001     EX_co2_m  10.023828       NaN   \n751          medium       One   0.000001  EX_glyclt_m   0.002051       NaN   \n\n    metabolite direction  \n0        co2_e    export  \n3      inost_e    export  \n16       cu2_e    import  \n20        ac_e    export  \n28       h2o_e    export  \n..         ...       ...  \n711        h_m    export  \n716      cmp_m    import  \n727      h2o_m    export  \n733      co2_m    export  \n751   glyclt_m    export  \n\n[80 rows x 8 columns]",
      "text/html": "<div>\n<style scoped>\n    .dataframe tbody tr th:only-of-type {\n        vertical-align: middle;\n    }\n\n    .dataframe tbody tr th {\n        vertical-align: top;\n    }\n\n    .dataframe thead th {\n        text-align: right;\n    }\n</style>\n<table border=\"1\" class=\"dataframe\">\n  <thead>\n    <tr style=\"text-align: right;\">\n      <th></th>\n      <th>taxon</th>\n      <th>sample_id</th>\n      <th>tolerance</th>\n      <th>reaction</th>\n      <th>flux</th>\n      <th>abundance</th>\n      <th>metabolite</th>\n      <th>direction</th>\n    </tr>\n  </thead>\n  <tbody>\n    <tr>\n      <th>0</th>\n      <td>Rhodosporidium</td>\n      <td>One</td>\n      <td>0.000001</td>\n      <td>EX_co2_e</td>\n      <td>20.057582</td>\n      <td>0.5</td>\n      <td>co2_e</td>\n      <td>export</td>\n    </tr>\n    <tr>\n      <th>3</th>\n      <td>Rhodosporidium</td>\n      <td>One</td>\n      <td>0.000001</td>\n      <td>EX_inost_e</td>\n      <td>0.008959</td>\n      <td>0.5</td>\n      <td>inost_e</td>\n      <td>export</td>\n    </tr>\n    <tr>\n      <th>16</th>\n      <td>Rhodosporidium</td>\n      <td>One</td>\n      <td>0.000001</td>\n      <td>EX_cu2_e</td>\n      <td>-0.000346</td>\n      <td>0.5</td>\n      <td>cu2_e</td>\n      <td>import</td>\n    </tr>\n    <tr>\n      <th>20</th>\n      <td>Rhodosporidium</td>\n      <td>One</td>\n      <td>0.000001</td>\n      <td>EX_ac_e</td>\n      <td>9.535148</td>\n      <td>0.5</td>\n      <td>ac_e</td>\n      <td>export</td>\n    </tr>\n    <tr>\n      <th>28</th>\n      <td>Rhodosporidium</td>\n      <td>One</td>\n      <td>0.000001</td>\n      <td>EX_h2o_e</td>\n      <td>20.212794</td>\n      <td>0.5</td>\n      <td>h2o_e</td>\n      <td>export</td>\n    </tr>\n    <tr>\n      <th>...</th>\n      <td>...</td>\n      <td>...</td>\n      <td>...</td>\n      <td>...</td>\n      <td>...</td>\n      <td>...</td>\n      <td>...</td>\n      <td>...</td>\n    </tr>\n    <tr>\n      <th>711</th>\n      <td>medium</td>\n      <td>One</td>\n      <td>0.000001</td>\n      <td>EX_h_m</td>\n      <td>3.757742</td>\n      <td>NaN</td>\n      <td>h_m</td>\n      <td>export</td>\n    </tr>\n    <tr>\n      <th>716</th>\n      <td>medium</td>\n      <td>One</td>\n      <td>0.000001</td>\n      <td>EX_cmp_m</td>\n      <td>-0.033906</td>\n      <td>NaN</td>\n      <td>cmp_m</td>\n      <td>import</td>\n    </tr>\n    <tr>\n      <th>727</th>\n      <td>medium</td>\n      <td>One</td>\n      <td>0.000001</td>\n      <td>EX_h2o_m</td>\n      <td>10.199468</td>\n      <td>NaN</td>\n      <td>h2o_m</td>\n      <td>export</td>\n    </tr>\n    <tr>\n      <th>733</th>\n      <td>medium</td>\n      <td>One</td>\n      <td>0.000001</td>\n      <td>EX_co2_m</td>\n      <td>10.023828</td>\n      <td>NaN</td>\n      <td>co2_m</td>\n      <td>export</td>\n    </tr>\n    <tr>\n      <th>751</th>\n      <td>medium</td>\n      <td>One</td>\n      <td>0.000001</td>\n      <td>EX_glyclt_m</td>\n      <td>0.002051</td>\n      <td>NaN</td>\n      <td>glyclt_m</td>\n      <td>export</td>\n    </tr>\n  </tbody>\n</table>\n<p>80 rows × 8 columns</p>\n</div>"
     },
     "execution_count": 8,
     "metadata": {},
     "output_type": "execute_result"
    }
   ],
   "source": [
    "result_grow.exchanges"
   ],
   "metadata": {
    "collapsed": false,
    "pycharm": {
     "name": "#%%\n"
    }
   }
  },
  {
   "cell_type": "code",
   "execution_count": 9,
   "outputs": [],
   "source": [
    "exchanges = result_grow.exchanges.copy()"
   ],
   "metadata": {
    "collapsed": false,
    "pycharm": {
     "name": "#%%\n"
    }
   }
  },
  {
   "cell_type": "code",
   "execution_count": 10,
   "outputs": [],
   "source": [
    "exchanges = exchanges[['taxon', 'reaction', 'flux', 'metabolite', 'direction']]"
   ],
   "metadata": {
    "collapsed": false,
    "pycharm": {
     "name": "#%%\n"
    }
   }
  },
  {
   "cell_type": "code",
   "execution_count": 11,
   "outputs": [],
   "source": [
    "exchanges.to_csv(\"se_rt_exchanges.csv\", index=False)"
   ],
   "metadata": {
    "collapsed": false,
    "pycharm": {
     "name": "#%%\n"
    }
   }
  },
  {
   "cell_type": "code",
   "execution_count": 12,
   "outputs": [],
   "source": [
    "grow_plot = plot_growth(result_grow)"
   ],
   "metadata": {
    "collapsed": false,
    "pycharm": {
     "name": "#%%\n"
    }
   }
  },
  {
   "cell_type": "code",
   "execution_count": 13,
   "outputs": [],
   "source": [
    "grow_plot.view()"
   ],
   "metadata": {
    "collapsed": false,
    "pycharm": {
     "name": "#%%\n"
    }
   }
  },
  {
   "cell_type": "code",
   "execution_count": null,
   "outputs": [
    {
     "data": {
      "text/plain": "Output()",
      "application/vnd.jupyter.widget-view+json": {
       "version_major": 2,
       "version_minor": 0,
       "model_id": "8cce00e9a9c14bfdafd75d2e326618c1"
      }
     },
     "metadata": {},
     "output_type": "display_data"
    }
   ],
   "source": [
    "trades = tradeoff(\n",
    "    manifest,\n",
    "    model_folder,\n",
    "    grow_medium,\n",
    "    tradeoffs=np.arange(0.1, 1.0 + 1e-6, 0.1),\n",
    "    threads=8,\n",
    "    atol=None,\n",
    "    rtol=None,\n",
    "    presolve=False,\n",
    ")"
   ],
   "metadata": {
    "collapsed": false,
    "pycharm": {
     "name": "#%%\n",
     "is_executing": true
    }
   }
  },
  {
   "cell_type": "code",
   "execution_count": null,
   "outputs": [],
   "source": [
    "tr_plot = plot_tradeoff(trades)"
   ],
   "metadata": {
    "collapsed": false,
    "pycharm": {
     "name": "#%%\n",
     "is_executing": true
    }
   }
  },
  {
   "cell_type": "code",
   "execution_count": null,
   "outputs": [],
   "source": [
    "tr_plot.view()"
   ],
   "metadata": {
    "collapsed": false,
    "pycharm": {
     "name": "#%%\n",
     "is_executing": true
    }
   }
  },
  {
   "cell_type": "code",
   "execution_count": null,
   "outputs": [],
   "source": [],
   "metadata": {
    "collapsed": false,
    "pycharm": {
     "name": "#%%\n"
    }
   }
  }
 ],
 "metadata": {
  "kernelspec": {
   "display_name": "Python 3",
   "language": "python",
   "name": "python3"
  },
  "language_info": {
   "codemirror_mode": {
    "name": "ipython",
    "version": 2
   },
   "file_extension": ".py",
   "mimetype": "text/x-python",
   "name": "python",
   "nbconvert_exporter": "python",
   "pygments_lexer": "ipython2",
   "version": "2.7.6"
  }
 },
 "nbformat": 4,
 "nbformat_minor": 0
}