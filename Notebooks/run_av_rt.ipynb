{
 "cells": [
  {
   "cell_type": "markdown",
   "id": "b174eeb5",
   "metadata": {
    "pycharm": {
     "name": "#%% md\n"
    }
   },
   "source": [
    "# Running the Micom Workflow for the Binary Azotobacter - Rhodosporidium Model"
   ]
  },
  {
   "cell_type": "markdown",
   "id": "c5283973",
   "metadata": {
    "pycharm": {
     "name": "#%% md\n"
    }
   },
   "source": [
    "In this notebook we utilize the package `micom` to generate a binary community model for 2 organisms of interest:\n",
    "- `Azotobacter vinelandii`\n",
    "- `Rhodosporidium toruloides`\n",
    "\n",
    "This binary consortium allows us to gain insights into the exchanges between the 2 organisms and run FBA experiments.\n",
    "\n",
    "First off we can import all necessary packages for this notebook."
   ]
  },
  {
   "cell_type": "code",
   "execution_count": 1,
   "id": "6a537535",
   "metadata": {
    "pycharm": {
     "name": "#%%\n"
    }
   },
   "outputs": [
    {
     "data": {
      "text/plain": "'C:\\\\\\\\Users\\\\\\\\pino216\\\\\\\\gurobi-3.lic'"
     },
     "execution_count": 1,
     "metadata": {},
     "output_type": "execute_result"
    }
   ],
   "source": [
    "import pandas as pd\n",
    "import cobra\n",
    "\n",
    "from micom import Community\n",
    "from micom.workflows import build, grow, tradeoff, fix_medium, build_database\n",
    "from micom import load_pickle\n",
    "from micom.viz import plot_tradeoff, plot_exchanges_per_sample, plot_growth\n",
    "\n",
    "import os\n",
    "os.environ[\"GRB_LICENSE_FILE\"]"
   ]
  },
  {
   "cell_type": "markdown",
   "id": "ba4992c9",
   "metadata": {
    "pycharm": {
     "name": "#%% md\n"
    }
   },
   "source": [
    "This taxonomy file lists important information for `micom` down the road, such as the number of `reactions` and `metabolites` in the provided models."
   ]
  },
  {
   "cell_type": "markdown",
   "id": "456b20db",
   "metadata": {
    "pycharm": {
     "name": "#%% md\n"
    }
   },
   "source": [
    "## Running the Models with FBA\n",
    "\n",
    "Now that we have the `manifest`, we can load the model as a `Community` object through `micom`. This will give us some functionality similar to that of `cobrapy`. This can be done with the `load_pickle()` method we imported above through `micom`."
   ]
  },
  {
   "cell_type": "code",
   "execution_count": 2,
   "id": "c354030a",
   "metadata": {
    "pycharm": {
     "name": "#%%\n"
    },
    "scrolled": false
   },
   "outputs": [
    {
     "name": "stdout",
     "output_type": "stream",
     "text": [
      "Set parameter Username\n",
      "Set parameter GURO_PAR_SPECIAL\n",
      "Set parameter TokenServer to value \"leghorn\"\n"
     ]
    },
    {
     "data": {
      "text/plain": "Output()",
      "application/vnd.jupyter.widget-view+json": {
       "version_major": 2,
       "version_minor": 0,
       "model_id": "3f256775a03c4f9eb541f607e274bd3a"
      }
     },
     "metadata": {},
     "output_type": "display_data"
    },
    {
     "data": {
      "text/plain": "",
      "text/html": "<pre style=\"white-space:pre;overflow-x:auto;line-height:normal;font-family:Menlo,'DejaVu Sans Mono',consolas,'Courier New',monospace\"></pre>\n"
     },
     "metadata": {},
     "output_type": "display_data"
    },
    {
     "data": {
      "text/plain": "\n",
      "text/html": "<pre style=\"white-space:pre;overflow-x:auto;line-height:normal;font-family:Menlo,'DejaVu Sans Mono',consolas,'Courier New',monospace\">\n</pre>\n"
     },
     "metadata": {},
     "output_type": "display_data"
    },
    {
     "data": {
      "text/plain": "Output()",
      "application/vnd.jupyter.widget-view+json": {
       "version_major": 2,
       "version_minor": 0,
       "model_id": "e0c8e13f0dd740d7a543f3303b23272a"
      }
     },
     "metadata": {},
     "output_type": "display_data"
    },
    {
     "data": {
      "text/plain": "",
      "text/html": "<pre style=\"white-space:pre;overflow-x:auto;line-height:normal;font-family:Menlo,'DejaVu Sans Mono',consolas,'Courier New',monospace\"></pre>\n"
     },
     "metadata": {},
     "output_type": "display_data"
    },
    {
     "data": {
      "text/plain": "\n",
      "text/html": "<pre style=\"white-space:pre;overflow-x:auto;line-height:normal;font-family:Menlo,'DejaVu Sans Mono',consolas,'Courier New',monospace\">\n</pre>\n"
     },
     "metadata": {},
     "output_type": "display_data"
    },
    {
     "name": "stdout",
     "output_type": "stream",
     "text": [
      "Read LP format model from file C:\\Users\\pino216\\AppData\\Local\\Temp\\tmpsomtxuxt.lp\n",
      "Reading time = 0.05 seconds\n",
      ": 4554 rows, 10733 columns, 41547 nonzeros\n"
     ]
    }
   ],
   "source": [
    "from binary_models.load_av_rt import load_community_model, model_folder\n",
    "community, manifest = load_community_model(prep_files=False)"
   ]
  },
  {
   "cell_type": "markdown",
   "id": "bad44a41",
   "metadata": {
    "pycharm": {
     "name": "#%% md\n"
    }
   },
   "source": [
    "### Exploring the Model Attributes"
   ]
  },
  {
   "cell_type": "markdown",
   "id": "0a74a39a",
   "metadata": {
    "pycharm": {
     "name": "#%% md\n"
    }
   },
   "source": [
    "Our new variable `community` behaves very similarly to a standard `cobrapy` model. We can explore it's attributes in a similar way as well.\n",
    "\n",
    "Things such as `reactions` and `metabolites`:"
   ]
  },
  {
   "cell_type": "code",
   "execution_count": null,
   "id": "814577b7",
   "metadata": {
    "pycharm": {
     "name": "#%%\n"
    }
   },
   "outputs": [],
   "source": [
    "#community.reactions"
   ]
  },
  {
   "cell_type": "code",
   "execution_count": null,
   "id": "a56b83b8",
   "metadata": {
    "pycharm": {
     "name": "#%%\n"
    }
   },
   "outputs": [],
   "source": [
    "#community.metabolites"
   ]
  },
  {
   "cell_type": "markdown",
   "id": "96310062",
   "metadata": {
    "pycharm": {
     "name": "#%% md\n"
    }
   },
   "source": [
    "and importantly the `medium`"
   ]
  },
  {
   "cell_type": "code",
   "execution_count": 3,
   "id": "88b4dbad",
   "metadata": {
    "scrolled": true,
    "pycharm": {
     "name": "#%%\n"
    }
   },
   "outputs": [
    {
     "data": {
      "text/plain": [
       "{'EX_pi_m': 999999.0,\n",
       " 'EX_h_m': 999999.0,\n",
       " 'EX_fe3_m': 999999.0,\n",
       " 'EX_mn2_m': 999999.0,\n",
       " 'EX_fe2_m': 999999.0,\n",
       " 'EX_glc__D_m': 5.0,\n",
       " 'EX_zn2_m': 999999.0,\n",
       " 'EX_acnam_m': 999999.0,\n",
       " 'EX_fuc__L_m': 999999.0,\n",
       " 'EX_rmn_m': 999999.0,\n",
       " 'EX_galct__D_m': 999999.0,\n",
       " 'EX_tartr__L_m': 999999.0,\n",
       " 'EX_glcur_m': 999999.0,\n",
       " 'EX_mg2_m': 999999.0,\n",
       " 'EX_lcts_m': 999999.0,\n",
       " 'EX_galctn__D_m': 999999.0,\n",
       " 'EX_ca2_m': 999999.0,\n",
       " 'EX_all__D_m': 999999.0,\n",
       " 'EX_ni2_m': 999999.0,\n",
       " 'EX_cu2_m': 999999.0,\n",
       " 'EX_cobalt2_m': 999999.0,\n",
       " 'EX_23camp_m': 999999.0,\n",
       " 'EX_23cgmp_m': 999999.0,\n",
       " 'EX_23cump_m': 999999.0,\n",
       " 'EX_3amp_m': 999999.0,\n",
       " 'EX_3gmp_m': 999999.0,\n",
       " 'EX_3ump_m': 999999.0,\n",
       " 'EX_sel_m': 999999.0,\n",
       " 'EX_h2o_m': 999999.0,\n",
       " 'EX_glcr_m': 999999.0,\n",
       " 'EX_mnl_m': 999999.0,\n",
       " 'EX_nh4_m': 999999.0,\n",
       " 'EX_mobd_m': 999999.0,\n",
       " 'EX_so4_m': 999999.0,\n",
       " 'EX_k_m': 999999.0,\n",
       " 'EX_na1_m': 999999.0,\n",
       " 'EX_thrp_m': 999999.0,\n",
       " 'EX_o2_m': 999999.0,\n",
       " 'EX_23ccmp_m': 999999.0,\n",
       " 'EX_3cmp_m': 999999.0,\n",
       " 'EX_tyrp_m': 999999.0,\n",
       " 'EX_cl_m': 999999.0,\n",
       " 'EX_tungs_m': 999999.0,\n",
       " 'EX_galctn__L_m': 999999.0,\n",
       " 'EX_slnt_m': 999999.0,\n",
       " 'EX_mal__D_m': 999999.0,\n",
       " 'EX_tre_m': 999999.0,\n",
       " 'EX_acgam_m': 999999.0,\n",
       " 'EX_pro__L_m': 999999.0,\n",
       " 'EX_glu__L_m': 999999.0,\n",
       " 'EX_mal__L_m': 999999.0,\n",
       " 'EX_acmana_m': 999999.0,\n",
       " 'EX_etha_m': 999999.0,\n",
       " 'EX_tym_m': 999999.0,\n",
       " 'EX_leu__L_m': 999999.0,\n",
       " 'EX_met__L_m': 999999.0,\n",
       " 'EX_arg__L_m': 999999.0,\n",
       " 'EX_gly_m': 999999.0,\n",
       " 'EX_hom__L_m': 999999.0,\n",
       " 'EX_ile__L_m': 999999.0,\n",
       " 'EX_phe__L_m': 999999.0,\n",
       " 'EX_val__L_m': 999999.0,\n",
       " 'EX_ptrc_m': 999999.0,\n",
       " 'EX_cys__L_m': 999999.0,\n",
       " 'EX_trp__L_m': 999999.0,\n",
       " 'EX_tyr__L_m': 999999.0,\n",
       " 'EX_agm_m': 999999.0,\n",
       " 'EX_acgal_m': 999999.0,\n",
       " 'EX_gam_m': 999999.0}"
      ]
     },
     "execution_count": 3,
     "metadata": {},
     "output_type": "execute_result"
    }
   ],
   "source": [
    "community.medium"
   ]
  },
  {
   "cell_type": "markdown",
   "id": "0b1f7601",
   "metadata": {
    "pycharm": {
     "name": "#%% md\n"
    }
   },
   "source": [
    "This behavior mimics the medium in `cobrapy`, but combines both models mediums into 1"
   ]
  },
  {
   "cell_type": "markdown",
   "id": "7f8c50f5",
   "metadata": {
    "pycharm": {
     "name": "#%% md\n"
    }
   },
   "source": [
    "### Running Optimization\n",
    "\n",
    "Now that we have the model loaded, we can run standard `FBA` methods using `optimize()`. Default optimize does not return any fluxes from the model, so we can set the `fluxes=True` when calling the method to return them."
   ]
  },
  {
   "cell_type": "code",
   "execution_count": 4,
   "id": "c27082ff",
   "metadata": {
    "pycharm": {
     "name": "#%%\n"
    }
   },
   "outputs": [
    {
     "data": {
      "text/plain": "id\nAzotobacter       0.5\nRhodosporidium    0.5\nName: abundance, dtype: object"
     },
     "execution_count": 4,
     "metadata": {},
     "output_type": "execute_result"
    }
   ],
   "source": [
    "community.abundances"
   ]
  },
  {
   "cell_type": "code",
   "execution_count": 5,
   "id": "421346fe",
   "metadata": {
    "pycharm": {
     "name": "#%%\n"
    }
   },
   "outputs": [
    {
     "data": {
      "text/plain": "<CommunitySolution 22.116 at 0x20d882fc1f0>",
      "text/html": "<strong>community growth:</strong> 22.116<br><strong>status:</strong> optimal<br><strong>taxa:</strong><div>\n<style scoped>\n    .dataframe tbody tr th:only-of-type {\n        vertical-align: middle;\n    }\n\n    .dataframe tbody tr th {\n        vertical-align: top;\n    }\n\n    .dataframe thead th {\n        text-align: right;\n    }\n</style>\n<table border=\"1\" class=\"dataframe\">\n  <thead>\n    <tr style=\"text-align: right;\">\n      <th></th>\n      <th>abundance</th>\n      <th>growth_rate</th>\n      <th>reactions</th>\n      <th>metabolites</th>\n    </tr>\n    <tr>\n      <th>compartments</th>\n      <th></th>\n      <th></th>\n      <th></th>\n      <th></th>\n    </tr>\n  </thead>\n  <tbody>\n    <tr>\n      <th>Azotobacter</th>\n      <td>0.5</td>\n      <td>42.896263</td>\n      <td>2492</td>\n      <td>2024</td>\n    </tr>\n    <tr>\n      <th>Rhodosporidium</th>\n      <td>0.5</td>\n      <td>1.335729</td>\n      <td>2423</td>\n      <td>2076</td>\n    </tr>\n    <tr>\n      <th>medium</th>\n      <td>NaN</td>\n      <td>NaN</td>\n      <td>451</td>\n      <td>451</td>\n    </tr>\n  </tbody>\n</table>\n</div>"
     },
     "execution_count": 5,
     "metadata": {},
     "output_type": "execute_result"
    }
   ],
   "source": [
    "result = community.optimize(fluxes=True, pfba=True)\n",
    "result"
   ]
  },
  {
   "cell_type": "markdown",
   "id": "49fcc280",
   "metadata": {
    "pycharm": {
     "name": "#%% md\n"
    }
   },
   "source": [
    "We can see that both organisms have a non-zero growth rate and that the community growth is also non-zero. Let's check the fluxes."
   ]
  },
  {
   "cell_type": "code",
   "execution_count": 6,
   "id": "45a4876f",
   "metadata": {
    "pycharm": {
     "name": "#%%\n"
    }
   },
   "outputs": [
    {
     "data": {
      "text/plain": "compartment\nAzotobacter      -100.0\nRhodosporidium    100.0\nmedium              NaN\nName: EX_glyc__R_e, dtype: float64"
     },
     "execution_count": 6,
     "metadata": {},
     "output_type": "execute_result"
    }
   ],
   "source": [
    "result.fluxes.T.loc['EX_glyc__R_e']"
   ]
  },
  {
   "cell_type": "markdown",
   "id": "9d1772b0",
   "metadata": {
    "pycharm": {
     "name": "#%% md\n"
    }
   },
   "source": [
    "### Testing"
   ]
  },
  {
   "cell_type": "code",
   "execution_count": 7,
   "id": "9c110c1c",
   "metadata": {
    "scrolled": true,
    "pycharm": {
     "name": "#%%\n"
    }
   },
   "outputs": [],
   "source": [
    "#community.reactions.BIOMASS_Av_DJ_core__Azotobacter.upper_bound\n",
    "#community.reactions.BIOMASS_RT__Rhodosporidium.upper_bound\n",
    "#community.reactions.BIOMASS_Av_DJ_core__Azotobacter"
   ]
  },
  {
   "cell_type": "code",
   "execution_count": 8,
   "id": "cfa4d7f5",
   "metadata": {
    "pycharm": {
     "name": "#%%\n"
    }
   },
   "outputs": [],
   "source": [
    "community.set_abundance([1,1], normalize=False)"
   ]
  },
  {
   "cell_type": "code",
   "execution_count": 9,
   "id": "7d5ce474",
   "metadata": {
    "pycharm": {
     "name": "#%%\n"
    }
   },
   "outputs": [
    {
     "data": {
      "text/plain": "<CommunitySolution 44.069 at 0x20d88263310>",
      "text/html": "<strong>community growth:</strong> 44.069<br><strong>status:</strong> optimal<br><strong>taxa:</strong><div>\n<style scoped>\n    .dataframe tbody tr th:only-of-type {\n        vertical-align: middle;\n    }\n\n    .dataframe tbody tr th {\n        vertical-align: top;\n    }\n\n    .dataframe thead th {\n        text-align: right;\n    }\n</style>\n<table border=\"1\" class=\"dataframe\">\n  <thead>\n    <tr style=\"text-align: right;\">\n      <th></th>\n      <th>abundance</th>\n      <th>growth_rate</th>\n      <th>reactions</th>\n      <th>metabolites</th>\n    </tr>\n    <tr>\n      <th>compartments</th>\n      <th></th>\n      <th></th>\n      <th></th>\n      <th></th>\n    </tr>\n  </thead>\n  <tbody>\n    <tr>\n      <th>Azotobacter</th>\n      <td>1.0</td>\n      <td>42.732957</td>\n      <td>2492</td>\n      <td>2024</td>\n    </tr>\n    <tr>\n      <th>Rhodosporidium</th>\n      <td>1.0</td>\n      <td>1.335798</td>\n      <td>2423</td>\n      <td>2076</td>\n    </tr>\n    <tr>\n      <th>medium</th>\n      <td>NaN</td>\n      <td>NaN</td>\n      <td>451</td>\n      <td>451</td>\n    </tr>\n  </tbody>\n</table>\n</div>"
     },
     "execution_count": 9,
     "metadata": {},
     "output_type": "execute_result"
    }
   ],
   "source": [
    "community.optimize(fluxes=True, pfba=True)"
   ]
  },
  {
   "cell_type": "markdown",
   "id": "cf2c0276",
   "metadata": {
    "pycharm": {
     "name": "#%% md\n"
    }
   },
   "source": [
    "#### Changing parts of the medium to test it's effect on growth\n",
    "\n",
    "Now that we can successfully optimize the community model, we can begin altering the models medium and seeing how it changes the (community) growth rate."
   ]
  },
  {
   "cell_type": "markdown",
   "id": "32416102",
   "metadata": {
    "pycharm": {
     "name": "#%% md\n"
    }
   },
   "source": [
    "First, let's make a copy of the original medium so that we can restore it after making changes."
   ]
  },
  {
   "cell_type": "code",
   "execution_count": 10,
   "id": "28a9c742",
   "metadata": {
    "pycharm": {
     "name": "#%%\n"
    }
   },
   "outputs": [],
   "source": [
    "medium_bkp = community.medium"
   ]
  },
  {
   "cell_type": "markdown",
   "id": "bd084218",
   "metadata": {
    "pycharm": {
     "name": "#%% md\n"
    }
   },
   "source": [
    "Now we can make changes to the medium. The following cell is meant to be re-run with making changes. It will first restore the medium to the original and them set "
   ]
  },
  {
   "cell_type": "code",
   "execution_count": 11,
   "id": "6623fb43",
   "metadata": {
    "scrolled": true,
    "pycharm": {
     "name": "#%%\n"
    }
   },
   "outputs": [
    {
     "data": {
      "text/plain": "{'EX_pi_m': 999999.0,\n 'EX_h_m': 999999.0,\n 'EX_fe3_m': 999999.0,\n 'EX_mn2_m': 999999.0,\n 'EX_fe2_m': 999999.0,\n 'EX_glc__D_m': 5,\n 'EX_zn2_m': 999999.0,\n 'EX_acnam_m': 999999.0,\n 'EX_fuc__L_m': 999999.0,\n 'EX_rmn_m': 999999.0,\n 'EX_galct__D_m': 999999.0,\n 'EX_tartr__L_m': 999999.0,\n 'EX_glcur_m': 999999.0,\n 'EX_mg2_m': 999999.0,\n 'EX_lcts_m': 999999.0,\n 'EX_galctn__D_m': 999999.0,\n 'EX_ca2_m': 999999.0,\n 'EX_all__D_m': 999999.0,\n 'EX_ni2_m': 999999.0,\n 'EX_cu2_m': 999999.0,\n 'EX_cobalt2_m': 999999.0,\n 'EX_23camp_m': 999999.0,\n 'EX_23cgmp_m': 999999.0,\n 'EX_23cump_m': 999999.0,\n 'EX_3amp_m': 999999.0,\n 'EX_3gmp_m': 999999.0,\n 'EX_3ump_m': 999999.0,\n 'EX_sel_m': 999999.0,\n 'EX_h2o_m': 999999.0,\n 'EX_glcr_m': 999999.0,\n 'EX_mnl_m': 999999.0,\n 'EX_mobd_m': 999999.0,\n 'EX_so4_m': 999999.0,\n 'EX_k_m': 999999.0,\n 'EX_na1_m': 999999.0,\n 'EX_thrp_m': 999999.0,\n 'EX_o2_m': 999999.0,\n 'EX_23ccmp_m': 999999.0,\n 'EX_3cmp_m': 999999.0,\n 'EX_tyrp_m': 999999.0,\n 'EX_cl_m': 999999.0,\n 'EX_tungs_m': 999999.0,\n 'EX_galctn__L_m': 999999.0,\n 'EX_slnt_m': 999999.0,\n 'EX_n2_m': 5,\n 'EX_mal__D_m': 999999.0,\n 'EX_tre_m': 999999.0,\n 'EX_acgam_m': 999999.0,\n 'EX_pro__L_m': 999999.0,\n 'EX_glu__L_m': 999999.0,\n 'EX_mal__L_m': 999999.0,\n 'EX_acmana_m': 999999.0,\n 'EX_etha_m': 999999.0,\n 'EX_tym_m': 999999.0,\n 'EX_leu__L_m': 999999.0,\n 'EX_met__L_m': 999999.0,\n 'EX_arg__L_m': 999999.0,\n 'EX_gly_m': 999999.0,\n 'EX_hom__L_m': 999999.0,\n 'EX_ile__L_m': 999999.0,\n 'EX_phe__L_m': 999999.0,\n 'EX_val__L_m': 999999.0,\n 'EX_ptrc_m': 999999.0,\n 'EX_cys__L_m': 999999.0,\n 'EX_trp__L_m': 999999.0,\n 'EX_tyr__L_m': 999999.0,\n 'EX_agm_m': 999999.0,\n 'EX_acgal_m': 999999.0,\n 'EX_gam_m': 999999.0}"
     },
     "execution_count": 11,
     "metadata": {},
     "output_type": "execute_result"
    }
   ],
   "source": [
    "# Restore medium to original\n",
    "community.medium = medium_bkp\n",
    "\n",
    "# Set variable to become new medium\n",
    "medium_to_change = community.medium\n",
    "\n",
    "#Add or subtract reactions\n",
    "medium_to_change[\"EX_xyl__D_m\"] = 0\n",
    "medium_to_change[\"EX_glc__D_m\"] = 5\n",
    "#medium_to_change[\"EX_glyc__R_m\"] = 0\n",
    "medium_to_change[\"EX_nh4_m\"] = 0\n",
    "medium_to_change[\"EX_n2_m\"] = 5\n",
    "\n",
    "\n",
    "# Set the new medium as the model's medium\n",
    "community.medium = medium_to_change\n",
    "community.medium"
   ]
  },
  {
   "cell_type": "markdown",
   "id": "efdb88b7",
   "metadata": {
    "pycharm": {
     "name": "#%% md\n"
    }
   },
   "source": [
    "Now that the medium is changed, we can rerun the model optimization."
   ]
  },
  {
   "cell_type": "code",
   "execution_count": 12,
   "id": "d5ecd3d8",
   "metadata": {
    "pycharm": {
     "name": "#%%\n"
    }
   },
   "outputs": [],
   "source": [
    "result_altered_medium = community.optimize(fluxes=True, pfba=True)"
   ]
  },
  {
   "cell_type": "code",
   "execution_count": 13,
   "id": "be7ed70a",
   "metadata": {
    "pycharm": {
     "name": "#%%\n"
    }
   },
   "outputs": [
    {
     "data": {
      "text/plain": "<CommunitySolution 44.069 at 0x20d9f868970>",
      "text/html": "<strong>community growth:</strong> 44.069<br><strong>status:</strong> optimal<br><strong>taxa:</strong><div>\n<style scoped>\n    .dataframe tbody tr th:only-of-type {\n        vertical-align: middle;\n    }\n\n    .dataframe tbody tr th {\n        vertical-align: top;\n    }\n\n    .dataframe thead th {\n        text-align: right;\n    }\n</style>\n<table border=\"1\" class=\"dataframe\">\n  <thead>\n    <tr style=\"text-align: right;\">\n      <th></th>\n      <th>abundance</th>\n      <th>growth_rate</th>\n      <th>reactions</th>\n      <th>metabolites</th>\n    </tr>\n    <tr>\n      <th>compartments</th>\n      <th></th>\n      <th></th>\n      <th></th>\n      <th></th>\n    </tr>\n  </thead>\n  <tbody>\n    <tr>\n      <th>Azotobacter</th>\n      <td>1.0</td>\n      <td>42.732957</td>\n      <td>2492</td>\n      <td>2024</td>\n    </tr>\n    <tr>\n      <th>Rhodosporidium</th>\n      <td>1.0</td>\n      <td>1.335798</td>\n      <td>2423</td>\n      <td>2076</td>\n    </tr>\n    <tr>\n      <th>medium</th>\n      <td>NaN</td>\n      <td>NaN</td>\n      <td>451</td>\n      <td>451</td>\n    </tr>\n  </tbody>\n</table>\n</div>"
     },
     "execution_count": 13,
     "metadata": {},
     "output_type": "execute_result"
    }
   ],
   "source": [
    "result_altered_medium"
   ]
  },
  {
   "cell_type": "code",
   "execution_count": 14,
   "id": "b8277554",
   "metadata": {
    "pycharm": {
     "name": "#%%\n"
    }
   },
   "outputs": [
    {
     "data": {
      "text/plain": "<Reaction EX_glyc__R_e__Rhodosporidium at 0x20d9f4a4040>",
      "text/html": "\n        <table>\n            <tr>\n                <td><strong>Reaction identifier</strong></td><td>EX_glyc__R_e__Rhodosporidium</td>\n            </tr><tr>\n                <td><strong>Name</strong></td><td>(R)-Glycerate exchange</td>\n            </tr><tr>\n                <td><strong>Memory address</strong></td>\n                <td>0x020d9f4a4040</td>\n            </tr><tr>\n                <td><strong>Stoichiometry</strong></td>\n                <td>\n                    <p style='text-align:right'>glyc__R_e__Rhodosporidium <=> glyc__R_m</p>\n                    <p style='text-align:right'>(R)-Glycerate <=> (R)-Glycerate</p>\n                </td>\n            </tr><tr>\n                <td><strong>GPR</strong></td><td></td>\n            </tr><tr>\n                <td><strong>Lower bound</strong></td><td>-100</td>\n            </tr><tr>\n                <td><strong>Upper bound</strong></td><td>999999.0</td>\n            </tr>\n        </table>\n        "
     },
     "execution_count": 14,
     "metadata": {},
     "output_type": "execute_result"
    }
   ],
   "source": [
    "community.reactions.EX_glyc__R_e__Rhodosporidium"
   ]
  },
  {
   "cell_type": "code",
   "execution_count": 15,
   "id": "502d35f9",
   "metadata": {
    "pycharm": {
     "name": "#%%\n"
    }
   },
   "outputs": [
    {
     "data": {
      "text/plain": "<Reaction EX_glyc__R_e__Azotobacter at 0x20d9aad6950>",
      "text/html": "\n        <table>\n            <tr>\n                <td><strong>Reaction identifier</strong></td><td>EX_glyc__R_e__Azotobacter</td>\n            </tr><tr>\n                <td><strong>Name</strong></td><td>(R)-Glycerate exchange</td>\n            </tr><tr>\n                <td><strong>Memory address</strong></td>\n                <td>0x020d9aad6950</td>\n            </tr><tr>\n                <td><strong>Stoichiometry</strong></td>\n                <td>\n                    <p style='text-align:right'>glyc__R_e__Azotobacter <=> glyc__R_m</p>\n                    <p style='text-align:right'>(R)-Glycerate <=> (R)-Glycerate</p>\n                </td>\n            </tr><tr>\n                <td><strong>GPR</strong></td><td></td>\n            </tr><tr>\n                <td><strong>Lower bound</strong></td><td>-100</td>\n            </tr><tr>\n                <td><strong>Upper bound</strong></td><td>999999.0</td>\n            </tr>\n        </table>\n        "
     },
     "execution_count": 15,
     "metadata": {},
     "output_type": "execute_result"
    }
   ],
   "source": [
    "community.reactions.EX_glyc__R_e__Azotobacter"
   ]
  },
  {
   "cell_type": "code",
   "execution_count": 16,
   "id": "b29c58c7",
   "metadata": {
    "scrolled": true,
    "pycharm": {
     "name": "#%%\n"
    }
   },
   "outputs": [
    {
     "data": {
      "text/plain": "compartment\nAzotobacter      -100.0\nRhodosporidium    100.0\nmedium              NaN\nName: EX_glyc__R_e, dtype: float64"
     },
     "execution_count": 16,
     "metadata": {},
     "output_type": "execute_result"
    }
   ],
   "source": [
    "result_altered_medium.fluxes.T.loc['EX_glyc__R_e']"
   ]
  },
  {
   "cell_type": "code",
   "execution_count": 17,
   "id": "1528d61b",
   "metadata": {
    "pycharm": {
     "name": "#%%\n"
    }
   },
   "outputs": [
    {
     "data": {
      "text/plain": "compartment\nAzotobacter      -100.0\nRhodosporidium     95.0\nmedium              NaN\nName: EX_glc__D_e, dtype: float64"
     },
     "execution_count": 17,
     "metadata": {},
     "output_type": "execute_result"
    }
   ],
   "source": [
    "result_altered_medium.fluxes.T.loc['EX_glc__D_e']"
   ]
  },
  {
   "cell_type": "code",
   "execution_count": 18,
   "id": "c777f5c4",
   "metadata": {
    "pycharm": {
     "name": "#%%\n"
    }
   },
   "outputs": [
    {
     "data": {
      "text/plain": "compartment\nAzotobacter               NaN\nRhodosporidium            NaN\nmedium            2410.734729\nName: EX_co2_m, dtype: float64"
     },
     "execution_count": 18,
     "metadata": {},
     "output_type": "execute_result"
    }
   ],
   "source": [
    "result_altered_medium.fluxes.T.loc['EX_co2_m']"
   ]
  },
  {
   "cell_type": "code",
   "execution_count": 19,
   "id": "35213708",
   "metadata": {
    "pycharm": {
     "name": "#%%\n"
    }
   },
   "outputs": [],
   "source": [
    "x = result_altered_medium.fluxes.T.loc[result_altered_medium.fluxes.T.Azotobacter.index.str.startswith('EX_')]"
   ]
  },
  {
   "cell_type": "code",
   "execution_count": 20,
   "id": "00c64979",
   "metadata": {
    "pycharm": {
     "name": "#%%\n"
    }
   },
   "outputs": [],
   "source": [
    "from IPython.display import HTML"
   ]
  },
  {
   "cell_type": "code",
   "execution_count": 21,
   "id": "7959b607",
   "metadata": {
    "scrolled": false,
    "pycharm": {
     "name": "#%%\n"
    }
   },
   "outputs": [
    {
     "data": {
      "text/plain": "<IPython.core.display.HTML object>",
      "text/html": "<table border=\"1\" class=\"dataframe\">\n  <thead>\n    <tr style=\"text-align: right;\">\n      <th>compartment</th>\n      <th>Azotobacter</th>\n      <th>Rhodosporidium</th>\n      <th>medium</th>\n    </tr>\n    <tr>\n      <th>reaction</th>\n      <th></th>\n      <th></th>\n      <th></th>\n    </tr>\n  </thead>\n  <tbody>\n    <tr>\n      <th>EX_h2o_m</th>\n      <td>0.0</td>\n      <td>0.0</td>\n      <td>-200.000000</td>\n    </tr>\n    <tr>\n      <th>EX_o2_m</th>\n      <td>0.0</td>\n      <td>0.0</td>\n      <td>-200.000000</td>\n    </tr>\n    <tr>\n      <th>EX_tre_m</th>\n      <td>0.0</td>\n      <td>0.0</td>\n      <td>-200.000000</td>\n    </tr>\n    <tr>\n      <th>EX_so4_m</th>\n      <td>0.0</td>\n      <td>0.0</td>\n      <td>-100.185376</td>\n    </tr>\n    <tr>\n      <th>EX_rmn_m</th>\n      <td>0.0</td>\n      <td>0.0</td>\n      <td>-100.000000</td>\n    </tr>\n    <tr>\n      <th>EX_galctn__D_m</th>\n      <td>0.0</td>\n      <td>0.0</td>\n      <td>-100.000000</td>\n    </tr>\n    <tr>\n      <th>EX_galct__D_m</th>\n      <td>0.0</td>\n      <td>0.0</td>\n      <td>-100.000000</td>\n    </tr>\n    <tr>\n      <th>EX_thrp_m</th>\n      <td>0.0</td>\n      <td>0.0</td>\n      <td>-100.000000</td>\n    </tr>\n    <tr>\n      <th>EX_hom__L_m</th>\n      <td>0.0</td>\n      <td>0.0</td>\n      <td>-100.000000</td>\n    </tr>\n    <tr>\n      <th>EX_mal__D_m</th>\n      <td>0.0</td>\n      <td>0.0</td>\n      <td>-100.000000</td>\n    </tr>\n    <tr>\n      <th>EX_mal__L_m</th>\n      <td>0.0</td>\n      <td>0.0</td>\n      <td>-100.000000</td>\n    </tr>\n    <tr>\n      <th>EX_mnl_m</th>\n      <td>0.0</td>\n      <td>0.0</td>\n      <td>-100.000000</td>\n    </tr>\n    <tr>\n      <th>EX_acnam_m</th>\n      <td>0.0</td>\n      <td>0.0</td>\n      <td>-100.000000</td>\n    </tr>\n    <tr>\n      <th>EX_tartr__L_m</th>\n      <td>0.0</td>\n      <td>0.0</td>\n      <td>-100.000000</td>\n    </tr>\n    <tr>\n      <th>EX_glcur_m</th>\n      <td>0.0</td>\n      <td>0.0</td>\n      <td>-100.000000</td>\n    </tr>\n    <tr>\n      <th>EX_glu__L_m</th>\n      <td>0.0</td>\n      <td>0.0</td>\n      <td>-90.857285</td>\n    </tr>\n    <tr>\n      <th>EX_pi_m</th>\n      <td>0.0</td>\n      <td>0.0</td>\n      <td>-35.990692</td>\n    </tr>\n    <tr>\n      <th>EX_arg__L_m</th>\n      <td>0.0</td>\n      <td>0.0</td>\n      <td>-17.331562</td>\n    </tr>\n    <tr>\n      <th>EX_leu__L_m</th>\n      <td>0.0</td>\n      <td>0.0</td>\n      <td>-15.977147</td>\n    </tr>\n    <tr>\n      <th>EX_k_m</th>\n      <td>0.0</td>\n      <td>0.0</td>\n      <td>-9.123555</td>\n    </tr>\n    <tr>\n      <th>EX_tyrp_m</th>\n      <td>0.0</td>\n      <td>0.0</td>\n      <td>-5.229775</td>\n    </tr>\n    <tr>\n      <th>EX_glc__D_m</th>\n      <td>0.0</td>\n      <td>0.0</td>\n      <td>-5.000000</td>\n    </tr>\n    <tr>\n      <th>EX_mg2_m</th>\n      <td>0.0</td>\n      <td>0.0</td>\n      <td>-0.453149</td>\n    </tr>\n    <tr>\n      <th>EX_val__L_m</th>\n      <td>0.0</td>\n      <td>0.0</td>\n      <td>-0.397399</td>\n    </tr>\n    <tr>\n      <th>EX_fe2_m</th>\n      <td>0.0</td>\n      <td>0.0</td>\n      <td>-0.346953</td>\n    </tr>\n    <tr>\n      <th>EX_fe3_m</th>\n      <td>0.0</td>\n      <td>0.0</td>\n      <td>-0.341899</td>\n    </tr>\n    <tr>\n      <th>EX_ca2_m</th>\n      <td>0.0</td>\n      <td>0.0</td>\n      <td>-0.223536</td>\n    </tr>\n    <tr>\n      <th>EX_cl_m</th>\n      <td>0.0</td>\n      <td>0.0</td>\n      <td>-0.222425</td>\n    </tr>\n    <tr>\n      <th>EX_ile__L_m</th>\n      <td>0.0</td>\n      <td>0.0</td>\n      <td>-0.217517</td>\n    </tr>\n    <tr>\n      <th>EX_met__L_m</th>\n      <td>0.0</td>\n      <td>0.0</td>\n      <td>-0.158852</td>\n    </tr>\n    <tr>\n      <th>EX_phe__L_m</th>\n      <td>0.0</td>\n      <td>0.0</td>\n      <td>-0.127120</td>\n    </tr>\n    <tr>\n      <th>EX_tyr__L_m</th>\n      <td>0.0</td>\n      <td>0.0</td>\n      <td>-0.084293</td>\n    </tr>\n    <tr>\n      <th>EX_gam_m</th>\n      <td>0.0</td>\n      <td>0.0</td>\n      <td>-0.041416</td>\n    </tr>\n    <tr>\n      <th>EX_na1_m</th>\n      <td>0.0</td>\n      <td>0.0</td>\n      <td>-0.034863</td>\n    </tr>\n    <tr>\n      <th>EX_trp__L_m</th>\n      <td>0.0</td>\n      <td>0.0</td>\n      <td>-0.033398</td>\n    </tr>\n    <tr>\n      <th>EX_cu2_m</th>\n      <td>0.0</td>\n      <td>0.0</td>\n      <td>-0.030999</td>\n    </tr>\n    <tr>\n      <th>EX_mn2_m</th>\n      <td>0.0</td>\n      <td>0.0</td>\n      <td>-0.030339</td>\n    </tr>\n    <tr>\n      <th>EX_zn2_m</th>\n      <td>0.0</td>\n      <td>0.0</td>\n      <td>-0.015253</td>\n    </tr>\n    <tr>\n      <th>EX_ptrc_m</th>\n      <td>0.0</td>\n      <td>0.0</td>\n      <td>-0.014014</td>\n    </tr>\n    <tr>\n      <th>EX_ni2_m</th>\n      <td>0.0</td>\n      <td>0.0</td>\n      <td>-0.013803</td>\n    </tr>\n    <tr>\n      <th>EX_cobalt2_m</th>\n      <td>0.0</td>\n      <td>0.0</td>\n      <td>-0.001068</td>\n    </tr>\n    <tr>\n      <th>EX_mobd_m</th>\n      <td>0.0</td>\n      <td>0.0</td>\n      <td>-0.000299</td>\n    </tr>\n    <tr>\n      <th>EX_fald_m</th>\n      <td>0.0</td>\n      <td>0.0</td>\n      <td>0.000085</td>\n    </tr>\n    <tr>\n      <th>EX_cys__L_m</th>\n      <td>0.0</td>\n      <td>0.0</td>\n      <td>0.024954</td>\n    </tr>\n    <tr>\n      <th>EX_zymst_m</th>\n      <td>0.0</td>\n      <td>0.0</td>\n      <td>0.180259</td>\n    </tr>\n    <tr>\n      <th>EX_pro__L_m</th>\n      <td>0.0</td>\n      <td>0.0</td>\n      <td>6.306907</td>\n    </tr>\n    <tr>\n      <th>EX_nh4_m</th>\n      <td>0.0</td>\n      <td>0.0</td>\n      <td>6.904955</td>\n    </tr>\n    <tr>\n      <th>EX_gly_m</th>\n      <td>0.0</td>\n      <td>0.0</td>\n      <td>14.568276</td>\n    </tr>\n    <tr>\n      <th>EX_ppi_m</th>\n      <td>0.0</td>\n      <td>0.0</td>\n      <td>49.822195</td>\n    </tr>\n    <tr>\n      <th>EX_hxa_m</th>\n      <td>0.0</td>\n      <td>0.0</td>\n      <td>55.104114</td>\n    </tr>\n    <tr>\n      <th>EX_h2s_m</th>\n      <td>0.0</td>\n      <td>0.0</td>\n      <td>93.270390</td>\n    </tr>\n    <tr>\n      <th>EX_12ppd__S_m</th>\n      <td>0.0</td>\n      <td>0.0</td>\n      <td>100.000000</td>\n    </tr>\n    <tr>\n      <th>EX_succ_m</th>\n      <td>0.0</td>\n      <td>0.0</td>\n      <td>134.645156</td>\n    </tr>\n    <tr>\n      <th>EX_h_m</th>\n      <td>0.0</td>\n      <td>0.0</td>\n      <td>765.743940</td>\n    </tr>\n    <tr>\n      <th>EX_ac_m</th>\n      <td>0.0</td>\n      <td>0.0</td>\n      <td>1916.949586</td>\n    </tr>\n    <tr>\n      <th>EX_h2_m</th>\n      <td>0.0</td>\n      <td>0.0</td>\n      <td>2346.983086</td>\n    </tr>\n    <tr>\n      <th>EX_co2_m</th>\n      <td>0.0</td>\n      <td>0.0</td>\n      <td>2410.734729</td>\n    </tr>\n  </tbody>\n</table>"
     },
     "execution_count": 21,
     "metadata": {},
     "output_type": "execute_result"
    }
   ],
   "source": [
    "x.fillna(0,inplace=True)\n",
    "HTML(x[(x.medium != 0) | (x.medium != 0)].sort_values('medium').to_html())"
   ]
  },
  {
   "cell_type": "code",
   "execution_count": 22,
   "id": "9a49d389",
   "metadata": {
    "pycharm": {
     "name": "#%%\n"
    }
   },
   "outputs": [
    {
     "data": {
      "text/plain": "<IPython.core.display.HTML object>",
      "text/html": "<table border=\"1\" class=\"dataframe\">\n  <thead>\n    <tr style=\"text-align: right;\">\n      <th>compartment</th>\n      <th>Azotobacter</th>\n      <th>Rhodosporidium</th>\n      <th>medium</th>\n    </tr>\n    <tr>\n      <th>reaction</th>\n      <th></th>\n      <th></th>\n      <th></th>\n    </tr>\n  </thead>\n  <tbody>\n    <tr>\n      <th>EX_rmn_e</th>\n      <td>-100.000000</td>\n      <td>0.000000</td>\n      <td>0.0</td>\n    </tr>\n    <tr>\n      <th>EX_galctn__D_e</th>\n      <td>-100.000000</td>\n      <td>0.000000</td>\n      <td>0.0</td>\n    </tr>\n    <tr>\n      <th>EX_so3_e</th>\n      <td>-100.000000</td>\n      <td>100.000000</td>\n      <td>0.0</td>\n    </tr>\n    <tr>\n      <th>EX_thrp_e</th>\n      <td>-100.000000</td>\n      <td>0.000000</td>\n      <td>0.0</td>\n    </tr>\n    <tr>\n      <th>EX_glc__D_e</th>\n      <td>-100.000000</td>\n      <td>95.000000</td>\n      <td>0.0</td>\n    </tr>\n    <tr>\n      <th>EX_glcur_e</th>\n      <td>-100.000000</td>\n      <td>0.000000</td>\n      <td>0.0</td>\n    </tr>\n    <tr>\n      <th>EX_tre_e</th>\n      <td>-100.000000</td>\n      <td>-100.000000</td>\n      <td>0.0</td>\n    </tr>\n    <tr>\n      <th>EX_sbt__D_e</th>\n      <td>-100.000000</td>\n      <td>100.000000</td>\n      <td>0.0</td>\n    </tr>\n    <tr>\n      <th>EX_galct__D_e</th>\n      <td>-100.000000</td>\n      <td>0.000000</td>\n      <td>0.0</td>\n    </tr>\n    <tr>\n      <th>EX_glyc__R_e</th>\n      <td>-100.000000</td>\n      <td>100.000000</td>\n      <td>0.0</td>\n    </tr>\n    <tr>\n      <th>EX_h2o_e</th>\n      <td>-100.000000</td>\n      <td>-100.000000</td>\n      <td>0.0</td>\n    </tr>\n    <tr>\n      <th>EX_acnam_e</th>\n      <td>-100.000000</td>\n      <td>0.000000</td>\n      <td>0.0</td>\n    </tr>\n    <tr>\n      <th>EX_o2_e</th>\n      <td>-100.000000</td>\n      <td>-100.000000</td>\n      <td>0.0</td>\n    </tr>\n    <tr>\n      <th>EX_mal__D_e</th>\n      <td>-100.000000</td>\n      <td>0.000000</td>\n      <td>0.0</td>\n    </tr>\n    <tr>\n      <th>EX_mal__L_e</th>\n      <td>-100.000000</td>\n      <td>0.000000</td>\n      <td>0.0</td>\n    </tr>\n    <tr>\n      <th>EX_mnl_e</th>\n      <td>-100.000000</td>\n      <td>0.000000</td>\n      <td>0.0</td>\n    </tr>\n    <tr>\n      <th>EX_tartr__L_e</th>\n      <td>-100.000000</td>\n      <td>0.000000</td>\n      <td>0.0</td>\n    </tr>\n    <tr>\n      <th>EX_glcn_e</th>\n      <td>-99.965974</td>\n      <td>99.965974</td>\n      <td>0.0</td>\n    </tr>\n    <tr>\n      <th>EX_nh4_e</th>\n      <td>-56.801812</td>\n      <td>63.706767</td>\n      <td>0.0</td>\n    </tr>\n    <tr>\n      <th>EX_gln__L_e</th>\n      <td>-34.327060</td>\n      <td>34.327060</td>\n      <td>0.0</td>\n    </tr>\n    <tr>\n      <th>EX_acac_e</th>\n      <td>-23.214281</td>\n      <td>23.214281</td>\n      <td>0.0</td>\n    </tr>\n    <tr>\n      <th>EX_glyc_e</th>\n      <td>-17.548946</td>\n      <td>17.548946</td>\n      <td>0.0</td>\n    </tr>\n    <tr>\n      <th>EX_urea_e</th>\n      <td>-17.135634</td>\n      <td>17.135634</td>\n      <td>0.0</td>\n    </tr>\n    <tr>\n      <th>EX_orn_e</th>\n      <td>-17.135634</td>\n      <td>17.135634</td>\n      <td>0.0</td>\n    </tr>\n    <tr>\n      <th>EX_gua_e</th>\n      <td>-10.393852</td>\n      <td>10.393852</td>\n      <td>0.0</td>\n    </tr>\n    <tr>\n      <th>EX_k_e</th>\n      <td>-8.341174</td>\n      <td>-0.782381</td>\n      <td>0.0</td>\n    </tr>\n    <tr>\n      <th>EX_gal_e</th>\n      <td>-6.273286</td>\n      <td>6.273286</td>\n      <td>0.0</td>\n    </tr>\n    <tr>\n      <th>EX_asn__L_e</th>\n      <td>-5.408708</td>\n      <td>5.408708</td>\n      <td>0.0</td>\n    </tr>\n    <tr>\n      <th>EX_tyrp_e</th>\n      <td>-5.229775</td>\n      <td>0.000000</td>\n      <td>0.0</td>\n    </tr>\n    <tr>\n      <th>EX_his__L_e</th>\n      <td>-4.989086</td>\n      <td>4.989086</td>\n      <td>0.0</td>\n    </tr>\n    <tr>\n      <th>EX_fru_e</th>\n      <td>-4.937559</td>\n      <td>4.937559</td>\n      <td>0.0</td>\n    </tr>\n    <tr>\n      <th>EX_mg2_e</th>\n      <td>-0.370708</td>\n      <td>-0.082440</td>\n      <td>0.0</td>\n    </tr>\n    <tr>\n      <th>EX_fe2_e</th>\n      <td>-0.352675</td>\n      <td>0.005723</td>\n      <td>0.0</td>\n    </tr>\n    <tr>\n      <th>EX_fe3_e</th>\n      <td>-0.333659</td>\n      <td>-0.008241</td>\n      <td>0.0</td>\n    </tr>\n    <tr>\n      <th>EX_ca2_e</th>\n      <td>-0.222425</td>\n      <td>-0.001111</td>\n      <td>0.0</td>\n    </tr>\n    <tr>\n      <th>EX_cl_e</th>\n      <td>-0.222425</td>\n      <td>0.000000</td>\n      <td>0.0</td>\n    </tr>\n    <tr>\n      <th>EX_so4_e</th>\n      <td>-0.185376</td>\n      <td>-100.000000</td>\n      <td>0.0</td>\n    </tr>\n    <tr>\n      <th>EX_2obut_e</th>\n      <td>-0.079415</td>\n      <td>0.079415</td>\n      <td>0.0</td>\n    </tr>\n    <tr>\n      <th>EX_cu2_e</th>\n      <td>-0.030298</td>\n      <td>-0.000701</td>\n      <td>0.0</td>\n    </tr>\n    <tr>\n      <th>EX_mn2_e</th>\n      <td>-0.029528</td>\n      <td>-0.000811</td>\n      <td>0.0</td>\n    </tr>\n    <tr>\n      <th>EX_pnto__R_e</th>\n      <td>-0.028802</td>\n      <td>0.028802</td>\n      <td>0.0</td>\n    </tr>\n    <tr>\n      <th>EX_zn2_e</th>\n      <td>-0.014572</td>\n      <td>-0.000681</td>\n      <td>0.0</td>\n    </tr>\n    <tr>\n      <th>EX_ni2_e</th>\n      <td>-0.013803</td>\n      <td>0.000000</td>\n      <td>0.0</td>\n    </tr>\n    <tr>\n      <th>EX_glyclt_e</th>\n      <td>-0.005212</td>\n      <td>0.005212</td>\n      <td>0.0</td>\n    </tr>\n    <tr>\n      <th>EX_glx_e</th>\n      <td>-0.001861</td>\n      <td>0.001861</td>\n      <td>0.0</td>\n    </tr>\n    <tr>\n      <th>EX_cobalt2_e</th>\n      <td>-0.001068</td>\n      <td>0.000000</td>\n      <td>0.0</td>\n    </tr>\n    <tr>\n      <th>EX_mobd_e</th>\n      <td>-0.000299</td>\n      <td>0.000000</td>\n      <td>0.0</td>\n    </tr>\n    <tr>\n      <th>EX_val__L_e</th>\n      <td>0.000000</td>\n      <td>-0.397399</td>\n      <td>0.0</td>\n    </tr>\n    <tr>\n      <th>EX_phe__L_e</th>\n      <td>0.000000</td>\n      <td>-0.127120</td>\n      <td>0.0</td>\n    </tr>\n    <tr>\n      <th>EX_ppi_e</th>\n      <td>0.000000</td>\n      <td>49.822195</td>\n      <td>0.0</td>\n    </tr>\n    <tr>\n      <th>EX_pro__L_e</th>\n      <td>0.000000</td>\n      <td>6.306907</td>\n      <td>0.0</td>\n    </tr>\n    <tr>\n      <th>EX_trp__L_e</th>\n      <td>0.000000</td>\n      <td>-0.033398</td>\n      <td>0.0</td>\n    </tr>\n    <tr>\n      <th>EX_tyr__L_e</th>\n      <td>0.000000</td>\n      <td>-0.084293</td>\n      <td>0.0</td>\n    </tr>\n    <tr>\n      <th>EX_ptrc_e</th>\n      <td>0.000000</td>\n      <td>-0.014014</td>\n      <td>0.0</td>\n    </tr>\n    <tr>\n      <th>EX_zymst_e</th>\n      <td>0.000000</td>\n      <td>0.180259</td>\n      <td>0.0</td>\n    </tr>\n    <tr>\n      <th>EX_met__L_e</th>\n      <td>0.000000</td>\n      <td>-0.158852</td>\n      <td>0.0</td>\n    </tr>\n    <tr>\n      <th>EX_arg__L_e</th>\n      <td>0.000000</td>\n      <td>-17.331562</td>\n      <td>0.0</td>\n    </tr>\n    <tr>\n      <th>EX_cys__L_e</th>\n      <td>0.000000</td>\n      <td>0.024954</td>\n      <td>0.0</td>\n    </tr>\n    <tr>\n      <th>EX_na1_e</th>\n      <td>0.000000</td>\n      <td>-0.034863</td>\n      <td>0.0</td>\n    </tr>\n    <tr>\n      <th>EX_glu__L_e</th>\n      <td>0.000000</td>\n      <td>-90.857285</td>\n      <td>0.0</td>\n    </tr>\n    <tr>\n      <th>EX_gly_e</th>\n      <td>0.000000</td>\n      <td>14.568276</td>\n      <td>0.0</td>\n    </tr>\n    <tr>\n      <th>EX_gam_e</th>\n      <td>0.000000</td>\n      <td>-0.041416</td>\n      <td>0.0</td>\n    </tr>\n    <tr>\n      <th>EX_hom__L_e</th>\n      <td>0.000000</td>\n      <td>-100.000000</td>\n      <td>0.0</td>\n    </tr>\n    <tr>\n      <th>EX_ile__L_e</th>\n      <td>0.000000</td>\n      <td>-0.217517</td>\n      <td>0.0</td>\n    </tr>\n    <tr>\n      <th>EX_leu__L_e</th>\n      <td>0.000000</td>\n      <td>-15.977147</td>\n      <td>0.0</td>\n    </tr>\n    <tr>\n      <th>EX_fald_e</th>\n      <td>0.000085</td>\n      <td>0.000000</td>\n      <td>0.0</td>\n    </tr>\n    <tr>\n      <th>EX_ade_e</th>\n      <td>0.009615</td>\n      <td>-0.009615</td>\n      <td>0.0</td>\n    </tr>\n    <tr>\n      <th>EX_thr__L_e</th>\n      <td>0.291378</td>\n      <td>-0.291378</td>\n      <td>0.0</td>\n    </tr>\n    <tr>\n      <th>EX_ala__D_e</th>\n      <td>0.593732</td>\n      <td>-0.593732</td>\n      <td>0.0</td>\n    </tr>\n    <tr>\n      <th>EX_asp__L_e</th>\n      <td>2.675392</td>\n      <td>-2.675392</td>\n      <td>0.0</td>\n    </tr>\n    <tr>\n      <th>EX_ser__L_e</th>\n      <td>26.566188</td>\n      <td>-26.566188</td>\n      <td>0.0</td>\n    </tr>\n    <tr>\n      <th>EX_hxa_e</th>\n      <td>55.104114</td>\n      <td>0.000000</td>\n      <td>0.0</td>\n    </tr>\n    <tr>\n      <th>EX_pi_e</th>\n      <td>64.009308</td>\n      <td>-100.000000</td>\n      <td>0.0</td>\n    </tr>\n    <tr>\n      <th>EX_h2s_e</th>\n      <td>93.270390</td>\n      <td>0.000000</td>\n      <td>0.0</td>\n    </tr>\n    <tr>\n      <th>EX_5dglcn_e</th>\n      <td>99.965974</td>\n      <td>-99.965974</td>\n      <td>0.0</td>\n    </tr>\n    <tr>\n      <th>EX_12ppd__S_e</th>\n      <td>100.000000</td>\n      <td>0.000000</td>\n      <td>0.0</td>\n    </tr>\n    <tr>\n      <th>EX_succ_e</th>\n      <td>134.645156</td>\n      <td>0.000000</td>\n      <td>0.0</td>\n    </tr>\n    <tr>\n      <th>EX_h_e</th>\n      <td>860.964174</td>\n      <td>-95.220234</td>\n      <td>0.0</td>\n    </tr>\n    <tr>\n      <th>EX_ac_e</th>\n      <td>1923.176850</td>\n      <td>-6.227264</td>\n      <td>0.0</td>\n    </tr>\n    <tr>\n      <th>EX_co2_e</th>\n      <td>2224.039358</td>\n      <td>186.695371</td>\n      <td>0.0</td>\n    </tr>\n    <tr>\n      <th>EX_h2_e</th>\n      <td>2346.983086</td>\n      <td>0.000000</td>\n      <td>0.0</td>\n    </tr>\n  </tbody>\n</table>"
     },
     "execution_count": 22,
     "metadata": {},
     "output_type": "execute_result"
    }
   ],
   "source": [
    "x.fillna(0,inplace=True)\n",
    "HTML(x[(x.Azotobacter != 0) | (x.Rhodosporidium != 0)].sort_values('Azotobacter').to_html())"
   ]
  },
  {
   "cell_type": "code",
   "execution_count": 23,
   "id": "feb2fb69",
   "metadata": {
    "pycharm": {
     "name": "#%%\n"
    }
   },
   "outputs": [],
   "source": [
    "from IPython.display import HTML"
   ]
  },
  {
   "cell_type": "markdown",
   "id": "b5425bf5",
   "metadata": {
    "pycharm": {
     "name": "#%% md\n"
    }
   },
   "source": [
    "### Testing Abundances\n",
    "\n",
    "The following code is an inline way to change the abundances"
   ]
  },
  {
   "cell_type": "code",
   "execution_count": 24,
   "id": "62add015",
   "metadata": {
    "pycharm": {
     "name": "#%%\n"
    }
   },
   "outputs": [],
   "source": [
    "community.set_abundance([1,1],normalize=False)"
   ]
  },
  {
   "cell_type": "markdown",
   "id": "523bed56",
   "metadata": {
    "pycharm": {
     "name": "#%% md\n"
    }
   },
   "source": [
    "## Running the Models with MICOM Grow\n",
    "\n",
    "An alternative to running standard community optimization with `optimize()`, we can also use a `micom.workflows` method called `grow()`. This simulates growth of the organism while also simulating potential tradeoffs (between prioritizing community vs. individual growth). This method does not require our previously constructed `community` object, but rather the `manifest` we added earlier.\n",
    "\n",
    "A key difference here though, is that we need to create a `DataFrame` detailing the reaction, flux, and metabolite as the medium provided to the method."
   ]
  },
  {
   "cell_type": "markdown",
   "id": "459ee30c",
   "metadata": {
    "pycharm": {
     "name": "#%% md\n"
    }
   },
   "source": [
    "### Building the Medium"
   ]
  },
  {
   "cell_type": "code",
   "execution_count": 25,
   "id": "35f6426e",
   "metadata": {
    "pycharm": {
     "name": "#%%\n"
    }
   },
   "outputs": [],
   "source": [
    "# Restore medium to original\n",
    "community.medium = medium_bkp\n",
    "\n",
    "# Set variable to become new medium\n",
    "grow_medium_to_change = community.medium\n",
    "\n",
    "#Add or subtract reactions\n",
    "#grow_medium_to_change[\"EX_glc__D_m\"] = 0\n",
    "#grow_medium_to_change[\"EX_sucr_m\"] = 1\n",
    "grow_medium_to_change[\"EX_nh4_m\"] = 0\n",
    "grow_medium_to_change[\"EX_n2_m\"] = 5"
   ]
  },
  {
   "cell_type": "code",
   "execution_count": 26,
   "id": "9d60fb2f",
   "metadata": {
    "pycharm": {
     "name": "#%%\n"
    }
   },
   "outputs": [
    {
     "data": {
      "text/plain": "       reaction      flux\n0       EX_pi_m  999999.0\n1        EX_h_m  999999.0\n2      EX_fe3_m  999999.0\n3      EX_mn2_m  999999.0\n4      EX_fe2_m  999999.0\n..          ...       ...\n65  EX_tyr__L_m  999999.0\n66     EX_agm_m  999999.0\n67   EX_acgal_m  999999.0\n68     EX_gam_m  999999.0\n69      EX_n2_m       5.0\n\n[70 rows x 2 columns]",
      "text/html": "<div>\n<style scoped>\n    .dataframe tbody tr th:only-of-type {\n        vertical-align: middle;\n    }\n\n    .dataframe tbody tr th {\n        vertical-align: top;\n    }\n\n    .dataframe thead th {\n        text-align: right;\n    }\n</style>\n<table border=\"1\" class=\"dataframe\">\n  <thead>\n    <tr style=\"text-align: right;\">\n      <th></th>\n      <th>reaction</th>\n      <th>flux</th>\n    </tr>\n  </thead>\n  <tbody>\n    <tr>\n      <th>0</th>\n      <td>EX_pi_m</td>\n      <td>999999.0</td>\n    </tr>\n    <tr>\n      <th>1</th>\n      <td>EX_h_m</td>\n      <td>999999.0</td>\n    </tr>\n    <tr>\n      <th>2</th>\n      <td>EX_fe3_m</td>\n      <td>999999.0</td>\n    </tr>\n    <tr>\n      <th>3</th>\n      <td>EX_mn2_m</td>\n      <td>999999.0</td>\n    </tr>\n    <tr>\n      <th>4</th>\n      <td>EX_fe2_m</td>\n      <td>999999.0</td>\n    </tr>\n    <tr>\n      <th>...</th>\n      <td>...</td>\n      <td>...</td>\n    </tr>\n    <tr>\n      <th>65</th>\n      <td>EX_tyr__L_m</td>\n      <td>999999.0</td>\n    </tr>\n    <tr>\n      <th>66</th>\n      <td>EX_agm_m</td>\n      <td>999999.0</td>\n    </tr>\n    <tr>\n      <th>67</th>\n      <td>EX_acgal_m</td>\n      <td>999999.0</td>\n    </tr>\n    <tr>\n      <th>68</th>\n      <td>EX_gam_m</td>\n      <td>999999.0</td>\n    </tr>\n    <tr>\n      <th>69</th>\n      <td>EX_n2_m</td>\n      <td>5.0</td>\n    </tr>\n  </tbody>\n</table>\n<p>70 rows × 2 columns</p>\n</div>"
     },
     "execution_count": 26,
     "metadata": {},
     "output_type": "execute_result"
    }
   ],
   "source": [
    "grow_medium = pd.Series(grow_medium_to_change).to_frame('flux').reset_index()\n",
    "grow_medium = grow_medium.rename(columns={'index':'reaction'})\n",
    "grow_medium"
   ]
  },
  {
   "cell_type": "code",
   "execution_count": null,
   "id": "47bc92a1",
   "metadata": {
    "pycharm": {
     "name": "#%%\n",
     "is_executing": true
    }
   },
   "outputs": [
    {
     "data": {
      "text/plain": "Output()",
      "application/vnd.jupyter.widget-view+json": {
       "version_major": 2,
       "version_minor": 0,
       "model_id": "f54f250451f048e7b90e074fba8c0b35"
      }
     },
     "metadata": {},
     "output_type": "display_data"
    }
   ],
   "source": [
    "result_grow = grow(\n",
    "    manifest, \n",
    "    model_folder=model_folder,\n",
    "    medium=grow_medium, \n",
    "    tradeoff=0.01, \n",
    "    threads=2,\n",
    "    presolve=True\n",
    ")"
   ]
  },
  {
   "cell_type": "code",
   "execution_count": null,
   "id": "49bb7ad9",
   "metadata": {
    "pycharm": {
     "name": "#%%\n",
     "is_executing": true
    }
   },
   "outputs": [],
   "source": [
    "result_grow.exchanges"
   ]
  },
  {
   "cell_type": "code",
   "execution_count": null,
   "id": "3deaab9d",
   "metadata": {
    "pycharm": {
     "name": "#%%\n",
     "is_executing": true
    }
   },
   "outputs": [],
   "source": [
    "result_grow.exchanges.to_csv('av_se_out.csv')"
   ]
  }
 ],
 "metadata": {
  "kernelspec": {
   "display_name": "Python 3 (ipykernel)",
   "language": "python",
   "name": "python3"
  },
  "language_info": {
   "codemirror_mode": {
    "name": "ipython",
    "version": 3
   },
   "file_extension": ".py",
   "mimetype": "text/x-python",
   "name": "python",
   "nbconvert_exporter": "python",
   "pygments_lexer": "ipython3",
   "version": "3.10.6"
  }
 },
 "nbformat": 4,
 "nbformat_minor": 5
}