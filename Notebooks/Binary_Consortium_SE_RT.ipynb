{
 "cells": [
  {
   "cell_type": "markdown",
   "id": "be4f58d2",
   "metadata": {
    "pycharm": {
     "name": "#%% md\n"
    }
   },
   "source": [
    "# Running the Micom Workflow for the Binary Rhodosporidium - Synechococcus Model"
   ]
  },
  {
   "cell_type": "markdown",
   "id": "92d48b3a",
   "metadata": {
    "pycharm": {
     "name": "#%% md\n"
    }
   },
   "source": [
    "In this notebook we utilize the package `micom` to generate a binary community model for 2 organisms of interest:\n",
    "- `Rhodosporidium toruloides`\n",
    "- `Synechococcus elongatus`\n",
    "\n",
    "This binary consortium allows us to gain insights into the exchanges between the 2 organisms and run FBA experiments.\n",
    "\n",
    "First off we can import all necessary packages for this notebook."
   ]
  },
  {
   "cell_type": "code",
   "execution_count": null,
   "id": "ac4dbf9d",
   "metadata": {
    "pycharm": {
     "name": "#%%\n"
    }
   },
   "outputs": [],
   "source": [
    "import pandas as pd\n",
    "import cobra\n",
    "\n",
    "from micom import Community\n",
    "from micom.workflows import build, grow, tradeoff, fix_medium,build_database\n",
    "from micom import load_pickle\n",
    "from micom.viz import plot_tradeoff, plot_exchanges_per_sample, plot_growth\n",
    "\n",
    "import os\n",
    "os.environ[\"GRB_LICENSE_FILE\"]"
   ]
  },
  {
   "cell_type": "markdown",
   "id": "02d7f417",
   "metadata": {
    "pycharm": {
     "name": "#%% md\n"
    }
   },
   "source": [
    "### Helper Functions"
   ]
  },
  {
   "cell_type": "code",
   "execution_count": null,
   "id": "38deeb1d",
   "metadata": {
    "pycharm": {
     "name": "#%%\n"
    }
   },
   "outputs": [],
   "source": [
    "import requests\n",
    "import tempfile"
   ]
  },
  {
   "cell_type": "code",
   "execution_count": null,
   "id": "107207d9",
   "metadata": {
    "pycharm": {
     "name": "#%%\n"
    }
   },
   "outputs": [],
   "source": [
    "def load_model_from_git(model_name: str):\n",
    "    \"\"\"Helper function for loading a SBML compliant model into CobraPy directly from Git\n",
    "\n",
    "    Args:\n",
    "        model_name (str): The name of the model you wish to load\n",
    "\n",
    "    Returns:\n",
    "        model (cobra.core.model.Model): A Cobra Model object\n",
    "\n",
    "    \"\"\"\n",
    "    \n",
    "    model_url_dict = dict([('Rhodosporidium','https://raw.githubusercontent.com/PNNL-CompBio/RToruGEM/main/rtoru/Rhodo_Toru.xml'),\n",
    "                           ('Azotobacter','https://raw.githubusercontent.com/PNNL-CompBio/iAzotobacterVinelandiiGEM/main/a_vine/azo_vine.xml'),\n",
    "                           ('Synechococcus','https://raw.githubusercontent.com/PNNL-CompBio/S-elongatus7942/main/syn_elong/syn_elong.xml')])\n",
    "\n",
    "    xml = requests.get(model_url_dict[model_name])\n",
    "\n",
    "    with open('tmp.xml', 'wb') as f:\n",
    "        f.write(xml.content)\n",
    "        model = cobra.io.read_sbml_model('tmp.xml')\n",
    "        \n",
    "    return model"
   ]
  },
  {
   "cell_type": "code",
   "execution_count": null,
   "id": "ad0d3975",
   "metadata": {
    "pycharm": {
     "name": "#%%\n"
    }
   },
   "outputs": [],
   "source": [
    "models = ['Rhodosporidium', 'Synechococcus']\n",
    "m_names = ['Rhodo_Toru.xml', 'syn_elong.xml']\n",
    "\n",
    "for i,j in zip(models, m_names):\n",
    "    cobra.io.write_sbml_model(load_model_from_git(i), j)\n",
    "    \n"
   ]
  },
  {
   "cell_type": "markdown",
   "id": "cc9a70c8",
   "metadata": {
    "pycharm": {
     "name": "#%% md\n"
    }
   },
   "source": [
    "## Setting Up the Model in MICOM"
   ]
  },
  {
   "cell_type": "markdown",
   "id": "3e82d2db",
   "metadata": {
    "pycharm": {
     "name": "#%% md\n"
    }
   },
   "source": [
    "To begin, we need to import our genome-scale models into `micom`. We have these models saved as `.sbml` files as this form is accepted easily into programs such as `cobrapy` and `micom`."
   ]
  },
  {
   "cell_type": "markdown",
   "id": "bdfa18bd",
   "metadata": {
    "pycharm": {
     "name": "#%% md\n"
    }
   },
   "source": [
    "### Building a Taxonomy\n",
    "\n",
    "Step #1: Establish a Taxonomy that lists the out the taxonomy for our organisms of interest"
   ]
  },
  {
   "cell_type": "code",
   "execution_count": null,
   "id": "a03ac129",
   "metadata": {
    "pycharm": {
     "name": "#%%\n"
    }
   },
   "outputs": [],
   "source": [
    "Tax= pd.DataFrame(columns=['id','genus','species','reactions','metabolites','sample_id','abundance'])\n",
    "Tax.loc[len(Tax.index)] = ['Rhodosporidium', 'Rhodosporidium', 'R. toruloides',2398,2051,'One',500]\n",
    "Tax.loc[len(Tax.index)] = ['Synechococcus', 'Synechococcus','S. elongatus',851,769,'One',500]\n",
    "Tax"
   ]
  },
  {
   "cell_type": "markdown",
   "id": "c42d1613",
   "metadata": {
    "pycharm": {
     "name": "#%% md\n"
    }
   },
   "source": [
    "This taxonomy file lists important information for `micom` down the road, such as the number of `reactions` and `metabolites` in the provided models."
   ]
  },
  {
   "cell_type": "markdown",
   "id": "88bbd3bf",
   "metadata": {
    "pycharm": {
     "name": "#%% md\n"
    }
   },
   "source": [
    "### Building a Database\n",
    "\n",
    "Step #2: Now we must construct a database for the `.sbml` models to be preprocessed and stored. This is done by supplying `micom` with a file which contains model path locations."
   ]
  },
  {
   "cell_type": "code",
   "execution_count": null,
   "id": "2eb8cfd8",
   "metadata": {
    "pycharm": {
     "name": "#%%\n"
    }
   },
   "outputs": [],
   "source": [
    "db = pd.read_csv('../Manifest_Files/man_se_rt.csv')\n",
    "db['file'] = m_names"
   ]
  },
  {
   "cell_type": "code",
   "execution_count": null,
   "id": "35dd9ad7",
   "metadata": {
    "pycharm": {
     "name": "#%%\n"
    }
   },
   "outputs": [],
   "source": [
    "db"
   ]
  },
  {
   "cell_type": "code",
   "execution_count": null,
   "id": "d2a92b9c",
   "metadata": {
    "pycharm": {
     "name": "#%%\n"
    }
   },
   "outputs": [],
   "source": [
    "build_database(db,'./db_se_rt')"
   ]
  },
  {
   "cell_type": "code",
   "execution_count": null,
   "id": "c1677a39",
   "metadata": {
    "pycharm": {
     "name": "#%%\n"
    }
   },
   "outputs": [],
   "source": [
    "db_path = './db_se_rt' "
   ]
  },
  {
   "cell_type": "markdown",
   "id": "4e9a934b",
   "metadata": {
    "pycharm": {
     "name": "#%% md\n"
    }
   },
   "source": [
    "### Construct Manifest Object\n",
    "\n",
    "Step #3: Now that we have the Taxonomy and Database constructed we can build our community model. This is done by using the `build()` method in `micom`.\n",
    "\n",
    "__Note__:\n",
    "\n",
    "Build Manifest object from Taxonomy DataFrame and the corresponding database directory\n",
    "\n",
    "Skip this step if manifest has already been built and saved to \"models\" directory\n",
    "\n",
    "\n",
    "__IMPORTANT__: Declare the Solver you would like to use for this Community model here:\n",
    "- osqp (good for smaller models)\n",
    "- gurobi\n",
    "- glpk\n",
    "- cplex\n",
    "- scipy\n"
   ]
  },
  {
   "cell_type": "code",
   "execution_count": null,
   "id": "1fdec13a",
   "metadata": {
    "pycharm": {
     "name": "#%%\n"
    }
   },
   "outputs": [],
   "source": [
    "manifest = build(\n",
    "    Tax, \n",
    "    out_folder=\"models_se_rt\", \n",
    "    model_db=db_path,\n",
    "    cutoff=0.0001, \n",
    "    threads=10,\n",
    "    solver='gurobi'\n",
    ")\n",
    "manifest"
   ]
  },
  {
   "cell_type": "markdown",
   "id": "fecef599",
   "metadata": {
    "pycharm": {
     "name": "#%% md\n"
    }
   },
   "source": [
    "## Running the Models with FBA\n",
    "\n",
    "Now that we have the `manifest`, we can load the model as a `Community` object through `micom`. This will give us some functionality similar to that of `cobrapy`. This can be done with the `load_pickle()` method we imported above through `micom`."
   ]
  },
  {
   "cell_type": "code",
   "execution_count": null,
   "id": "b4415fd4",
   "metadata": {
    "pycharm": {
     "name": "#%%\n"
    }
   },
   "outputs": [],
   "source": [
    "community = load_pickle(\"models_se_rt/One.pickle\")\n",
    "print(len(community.reactions))"
   ]
  },
  {
   "cell_type": "markdown",
   "id": "9309771b",
   "metadata": {
    "pycharm": {
     "name": "#%% md\n"
    }
   },
   "source": [
    "### Exploring the Model Attributes"
   ]
  },
  {
   "cell_type": "markdown",
   "id": "5ef1411e",
   "metadata": {
    "pycharm": {
     "name": "#%% md\n"
    }
   },
   "source": [
    "Our new variable `community` behaves very similarly to a standard `cobrapy` model. We can explore it's attributes in a similar way as well.\n",
    "\n",
    "Things such as `reactions` and `metabolites`:"
   ]
  },
  {
   "cell_type": "code",
   "execution_count": null,
   "id": "d9060aff",
   "metadata": {
    "pycharm": {
     "name": "#%%\n"
    }
   },
   "outputs": [],
   "source": [
    "community.reactions"
   ]
  },
  {
   "cell_type": "code",
   "execution_count": null,
   "id": "825f2e9f",
   "metadata": {
    "pycharm": {
     "name": "#%%\n"
    }
   },
   "outputs": [],
   "source": [
    "community.metabolites"
   ]
  },
  {
   "cell_type": "markdown",
   "id": "a9866785",
   "metadata": {
    "pycharm": {
     "name": "#%% md\n"
    }
   },
   "source": [
    "and importantly the `medium`"
   ]
  },
  {
   "cell_type": "code",
   "execution_count": null,
   "id": "2e3cfd25",
   "metadata": {
    "pycharm": {
     "name": "#%%\n"
    }
   },
   "outputs": [],
   "source": [
    "community.medium"
   ]
  },
  {
   "cell_type": "markdown",
   "id": "77dc0e7b",
   "metadata": {
    "pycharm": {
     "name": "#%% md\n"
    }
   },
   "source": [
    "This behavior mimics the medium in `cobrapy`, but combines both models mediums into 1"
   ]
  },
  {
   "cell_type": "markdown",
   "id": "11ee5119",
   "metadata": {
    "pycharm": {
     "name": "#%% md\n"
    }
   },
   "source": [
    "### Running Optimization\n",
    "\n",
    "Now that we have the model loaded, we can run standard `FBA` methods using `optimize()`. Default optimize does not return any fluxes from the model, so we can set the `fluxes=True` when calling the method to return them."
   ]
  },
  {
   "cell_type": "code",
   "execution_count": null,
   "id": "dea71b38",
   "metadata": {
    "pycharm": {
     "name": "#%%\n"
    }
   },
   "outputs": [],
   "source": [
    "result = community.optimize(fluxes=True)\n",
    "result"
   ]
  },
  {
   "cell_type": "markdown",
   "id": "1b5f5102",
   "metadata": {
    "pycharm": {
     "name": "#%% md\n"
    }
   },
   "source": [
    "We can see that both organisms have a non-zero growth rate and that the community growth is also non-zero. Let's check the fluxes."
   ]
  },
  {
   "cell_type": "code",
   "execution_count": null,
   "id": "8d749d43",
   "metadata": {
    "pycharm": {
     "name": "#%%\n"
    }
   },
   "outputs": [],
   "source": [
    "result.fluxes.EX_sucr_e"
   ]
  },
  {
   "cell_type": "markdown",
   "id": "6b5317d4",
   "metadata": {
    "pycharm": {
     "name": "#%% md\n"
    }
   },
   "source": [
    "#### Changing parts of the medium to test it's effect on growth\n",
    "\n",
    "Now that we can successfully optimize the community model, we can begin altering the models medium and seeing how it changes the (community) growth rate."
   ]
  },
  {
   "cell_type": "markdown",
   "id": "cfb08e44",
   "metadata": {
    "pycharm": {
     "name": "#%% md\n"
    }
   },
   "source": [
    "First, let's make a copy of the original medium so that we can restore it after making changes."
   ]
  },
  {
   "cell_type": "code",
   "execution_count": null,
   "id": "4f91c0c4",
   "metadata": {
    "pycharm": {
     "name": "#%%\n"
    }
   },
   "outputs": [],
   "source": [
    "medium_bkp = community.medium"
   ]
  },
  {
   "cell_type": "markdown",
   "id": "697ff7b3",
   "metadata": {
    "pycharm": {
     "name": "#%% md\n"
    }
   },
   "source": [
    "Now we can make changes to the medium. The following cell is meant to be re-run with making changes. It will first restore the medium to the original and them set "
   ]
  },
  {
   "cell_type": "code",
   "execution_count": null,
   "id": "5bcbffc8",
   "metadata": {
    "pycharm": {
     "name": "#%%\n"
    },
    "scrolled": true
   },
   "outputs": [],
   "source": [
    "# Restore medium to original\n",
    "community.medium = medium_bkp\n",
    "\n",
    "# Set variable to become new medium\n",
    "medium_to_change = community.medium\n",
    "\n",
    "#Add or subtract reactions\n",
    "medium_to_change[\"EX_glc__D_m\"] = 0\n",
    "medium_to_change[\"EX_sucr_m\"] = 0\n",
    "medium_to_change[\"EX_leu__L_m\"] = 1\n",
    "\n",
    "# Set the new medium as the model's medium\n",
    "community.medium = medium_to_change\n",
    "community.medium"
   ]
  },
  {
   "cell_type": "markdown",
   "id": "059da22e",
   "metadata": {
    "pycharm": {
     "name": "#%% md\n"
    }
   },
   "source": [
    "Now that the medium is changed, we can rerun the model optimization."
   ]
  },
  {
   "cell_type": "code",
   "execution_count": null,
   "id": "4d9b3972",
   "metadata": {
    "pycharm": {
     "name": "#%%\n"
    }
   },
   "outputs": [],
   "source": [
    "result_altered_medium = community.optimize(fluxes=True)"
   ]
  },
  {
   "cell_type": "code",
   "execution_count": null,
   "id": "42251be8",
   "metadata": {
    "pycharm": {
     "name": "#%%\n"
    }
   },
   "outputs": [],
   "source": [
    "result_altered_medium.fluxes.T.loc['EX_sucr_e']"
   ]
  },
  {
   "cell_type": "markdown",
   "id": "6519aab8",
   "metadata": {
    "pycharm": {
     "name": "#%% md\n"
    }
   },
   "source": [
    "## Running the Models with MICOM Grow\n",
    "\n",
    "An alternative to running standard community optimization with `optimize()`, we can also use a `micom.workflows` method called `grow()`. This simulates growth of the organism while also simulating potential tradeoffs (between prioritizing community vs. individual growth). This method does not require our previously constructed `community` object, but rather the `manifest` we added earlier.\n",
    "\n",
    "A key difference here though, is that we need to create a `DataFrame` detailing the reaction, flux, and metabolite as the medium provided to the method."
   ]
  },
  {
   "cell_type": "markdown",
   "id": "70a9a2f6",
   "metadata": {
    "pycharm": {
     "name": "#%% md\n"
    }
   },
   "source": [
    "### Building the Medium"
   ]
  },
  {
   "cell_type": "code",
   "execution_count": null,
   "id": "32db2090",
   "metadata": {
    "pycharm": {
     "name": "#%%\n"
    }
   },
   "outputs": [],
   "source": [
    "# Restore medium to original\n",
    "community.medium = medium_bkp\n",
    "\n",
    "# Set variable to become new medium\n",
    "grow_medium_to_change = community.medium\n",
    "\n",
    "#Add or subtract reactions\n",
    "#grow_medium_to_change[\"EX_glc__D_m\"] = 0\n",
    "grow_medium_to_change[\"EX_sucr_m\"] = 1\n",
    "#grow_medium_to_change[\"EX_leu__L_m\"] = 1\n"
   ]
  },
  {
   "cell_type": "code",
   "execution_count": null,
   "id": "8925ffee",
   "metadata": {
    "pycharm": {
     "name": "#%%\n"
    }
   },
   "outputs": [],
   "source": [
    "grow_medium = pd.Series(grow_medium_to_change).to_frame('flux').reset_index()\n",
    "grow_medium = grow_medium.rename(columns={'index':'reaction'})\n",
    "grow_medium"
   ]
  },
  {
   "cell_type": "code",
   "execution_count": null,
   "id": "140b91c2",
   "metadata": {
    "pycharm": {
     "name": "#%%\n"
    }
   },
   "outputs": [],
   "source": [
    "result_grow = grow(\n",
    "    manifest,\n",
    "    model_folder=\"models_se_rt/\", \n",
    "    medium=grow_medium,\n",
    "    tradeoff=0.01,\n",
    "    threads=2,\n",
    "    presolve=True\n",
    ")"
   ]
  },
  {
   "cell_type": "code",
   "execution_count": null,
   "id": "ade82a08",
   "metadata": {
    "pycharm": {
     "name": "#%%\n"
    }
   },
   "outputs": [],
   "source": [
    "result_grow.growth_rates"
   ]
  },
  {
   "cell_type": "code",
   "execution_count": null,
   "id": "34db86fd",
   "metadata": {
    "pycharm": {
     "name": "#%%\n"
    }
   },
   "outputs": [],
   "source": [
    "result_grow.exchanges"
   ]
  },
  {
   "cell_type": "code",
   "execution_count": null,
   "id": "184706fc",
   "metadata": {
    "pycharm": {
     "name": "#%%\n"
    }
   },
   "outputs": [],
   "source": [
    "syn_git = load_model_from_git('Synechococcus')"
   ]
  },
  {
   "cell_type": "code",
   "execution_count": null,
   "id": "2028c849",
   "metadata": {
    "pycharm": {
     "name": "#%%\n"
    }
   },
   "outputs": [],
   "source": []
  }
 ],
 "metadata": {
  "kernelspec": {
   "display_name": "Python 3 (ipykernel)",
   "language": "python",
   "name": "python3"
  },
  "language_info": {
   "codemirror_mode": {
    "name": "ipython",
    "version": 3
   },
   "file_extension": ".py",
   "mimetype": "text/x-python",
   "name": "python",
   "nbconvert_exporter": "python",
   "pygments_lexer": "ipython3",
   "version": "3.10.6"
  }
 },
 "nbformat": 4,
 "nbformat_minor": 5
}
