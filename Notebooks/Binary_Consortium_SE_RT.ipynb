{
 "cells": [
  {
   "cell_type": "markdown",
   "id": "be4f58d2",
   "metadata": {
    "pycharm": {
     "name": "#%% md\n"
    }
   },
   "source": [
    "# Running the Micom Workflow for the Binary Rhodosporidium - Synechococcus Model"
   ]
  },
  {
   "cell_type": "markdown",
   "id": "92d48b3a",
   "metadata": {
    "pycharm": {
     "name": "#%% md\n"
    }
   },
   "source": [
    "In this notebook we utilize the package `micom` to generate a binary community model for 2 organisms of interest:\n",
    "- `Rhodosporidium toruloides`\n",
    "- `Synechococcus elongatus`\n",
    "\n",
    "This binary consortium allows us to gain insights into the exchanges between the 2 organisms and run FBA experiments.\n",
    "\n",
    "First off we can import all necessary packages for this notebook."
   ]
  },
  {
   "cell_type": "code",
   "execution_count": 1,
   "id": "ac4dbf9d",
   "metadata": {
    "pycharm": {
     "name": "#%%\n"
    }
   },
   "outputs": [
    {
     "data": {
      "text/plain": "'C:\\\\\\\\Users\\\\\\\\pino216\\\\\\\\gurobi-3.lic'"
     },
     "execution_count": 1,
     "metadata": {},
     "output_type": "execute_result"
    }
   ],
   "source": [
    "import pandas as pd\n",
    "from micom.workflows import  grow\n",
    "\n",
    "import os\n",
    "os.environ[\"GRB_LICENSE_FILE\"]"
   ]
  },
  {
   "cell_type": "markdown",
   "id": "02d7f417",
   "metadata": {
    "pycharm": {
     "name": "#%% md\n"
    }
   },
   "source": [
    "### Helper Functions"
   ]
  },
  {
   "cell_type": "markdown",
   "source": [
    "## Setting Up the Model in MICOM"
   ],
   "metadata": {
    "collapsed": false,
    "pycharm": {
     "name": "#%% md\n"
    }
   }
  },
  {
   "cell_type": "markdown",
   "source": [
    "To begin, we need to import our genome-scale models into `micom`. We have these models saved as `.sbml` files as this form is accepted easily into programs such as `cobrapy` and `micom`."
   ],
   "metadata": {
    "collapsed": false,
    "pycharm": {
     "name": "#%% md\n"
    }
   }
  },
  {
   "cell_type": "markdown",
   "source": [
    "### Building a Taxonomy\n",
    "\n",
    "Step #1: Establish a Taxonomy that lists the out the taxonomy for our organisms of interest"
   ],
   "metadata": {
    "collapsed": false,
    "pycharm": {
     "name": "#%% md\n"
    }
   }
  },
  {
   "cell_type": "markdown",
   "id": "c42d1613",
   "metadata": {
    "pycharm": {
     "name": "#%% md\n"
    }
   },
   "source": [
    "This taxonomy file lists important information for `micom` down the road, such as the number of `reactions` and `metabolites` in the provided models."
   ]
  },
  {
   "cell_type": "markdown",
   "id": "88bbd3bf",
   "metadata": {
    "pycharm": {
     "name": "#%% md\n"
    }
   },
   "source": [
    "### Building a Database\n",
    "\n",
    "Step #2: Now we must construct a database for the `.sbml` models to be preprocessed and stored. This is done by supplying `micom` with a file which contains model path locations."
   ]
  },
  {
   "cell_type": "markdown",
   "id": "4e9a934b",
   "metadata": {
    "pycharm": {
     "name": "#%% md\n"
    }
   },
   "source": [
    "### Construct Manifest Object\n",
    "\n",
    "Step #3: Now that we have the Taxonomy and Database constructed we can build our community model. This is done by using the `build()` method in `micom`.\n",
    "\n",
    "__Note__:\n",
    "\n",
    "Build Manifest object from Taxonomy DataFrame and the corresponding database directory\n",
    "\n",
    "Skip this step if manifest has already been built and saved to \"models\" directory\n",
    "\n",
    "\n",
    "__IMPORTANT__: Declare the Solver you would like to use for this Community model here:\n",
    "- osqp (good for smaller models)\n",
    "- gurobi\n",
    "- glpk\n",
    "- cplex\n",
    "- scipy\n"
   ]
  },
  {
   "cell_type": "markdown",
   "id": "fecef599",
   "metadata": {
    "pycharm": {
     "name": "#%% md\n"
    }
   },
   "source": [
    "## Running the Models with FBA\n",
    "\n",
    "Now that we have the `manifest`, we can load the model as a `Community` object through `micom`. This will give us some functionality similar to that of `cobrapy`. This can be done with the `load_pickle()` method we imported above through `micom`."
   ]
  },
  {
   "cell_type": "code",
   "execution_count": 102,
   "outputs": [
    {
     "name": "stdout",
     "output_type": "stream",
     "text": [
      "C:\\Users\\pino216\\PycharmProjects\\ConsortiumModels\\binary_models\\models_se_rt\n",
      "Read LP format model from file C:\\Users\\pino216\\AppData\\Local\\Temp\\tmph9b6dpye.lp\n",
      "Reading time = 0.05 seconds\n",
      ": 3273 rows, 7401 columns, 29225 nonzeros\n"
     ]
    }
   ],
   "source": [
    "from binary_models.load_se_rt import load_community_model, model_folder\n",
    "community, manifest = load_community_model()"
   ],
   "metadata": {
    "collapsed": false,
    "pycharm": {
     "name": "#%%\n"
    }
   }
  },
  {
   "cell_type": "markdown",
   "id": "9309771b",
   "metadata": {
    "pycharm": {
     "name": "#%% md\n"
    }
   },
   "source": [
    "### Exploring the Model Attributes"
   ]
  },
  {
   "cell_type": "markdown",
   "id": "5ef1411e",
   "metadata": {
    "pycharm": {
     "name": "#%% md\n"
    }
   },
   "source": [
    "Our new variable `community` behaves very similarly to a standard `cobrapy` model. We can explore it's attributes in a similar way as well.\n",
    "\n",
    "Things such as `reactions` and `metabolites`:"
   ]
  },
  {
   "cell_type": "code",
   "execution_count": 103,
   "id": "d9060aff",
   "metadata": {
    "pycharm": {
     "name": "#%%\n"
    }
   },
   "outputs": [
    {
     "data": {
      "text/plain": "[<Reaction ALCD25yi__RT at 0x1d3af1e3160>,\n <Reaction MTHFCm__RT at 0x1d3af1e3280>,\n <Reaction AMPN__RT at 0x1d3af1e3370>,\n <Reaction DAGCPTer_RT__RT at 0x1d3af1e3460>,\n <Reaction PYRt2__RT at 0x1d3af1e3580>,\n <Reaction NNDPRm__RT at 0x1d3af1e3640>,\n <Reaction HMGCOASm__RT at 0x1d3af1e3760>,\n <Reaction PDE4__RT at 0x1d3af1e3850>,\n <Reaction PAPSR__RT at 0x1d3af1e38e0>,\n <Reaction FACOAL80p__RT at 0x1d3af1e3a00>,\n <Reaction URIH__RT at 0x1d3af1e3b50>,\n <Reaction ACOAO4p__RT at 0x1d3af1e3c10>,\n <Reaction 3IPM3MT__RT at 0x1d3af1e3d00>,\n <Reaction UDPGD__RT at 0x1d3af1e3df0>,\n <Reaction CYTDK2__RT at 0x1d3af1e3ee0>,\n <Reaction ACACT4m__RT at 0x1d3af1e3fd0>,\n <Reaction CHTNDA__RT at 0x1d3af40c0a0>,\n <Reaction FACOAL141__RT at 0x1d3af40c160>,\n <Reaction ACACT7p__RT at 0x1d3af40c280>,\n <Reaction POLYAO__RT at 0x1d3af40c340>,\n <Reaction MEVK1__RT at 0x1d3af40c460>,\n <Reaction DATUP__RT at 0x1d3af40c520>,\n <Reaction TAUDO__RT at 0x1d3af40c5e0>,\n <Reaction CSp__RT at 0x1d3af40c700>,\n <Reaction PSERT__RT at 0x1d3af40c7f0>,\n <Reaction GK2__RT at 0x1d3af40c8b0>,\n <Reaction CYSt2r__RT at 0x1d3af40c8e0>,\n <Reaction ATPS2v__RT at 0x1d3af40c970>,\n <Reaction SPHPLer__RT at 0x1d3af40ca00>,\n <Reaction PLBPCe_RT__RT at 0x1d3af40cac0>,\n <Reaction ALDD19xr__RT at 0x1d3af40cd00>,\n <Reaction GTHRDH_syn__RT at 0x1d3af40cd60>,\n <Reaction NDPK7__RT at 0x1d3af40cdf0>,\n <Reaction PPDOy__RT at 0x1d3af40ce80>,\n <Reaction GLYCLTDy__RT at 0x1d3af40cf10>,\n <Reaction DGK1__RT at 0x1d3af40cfa0>,\n <Reaction SLCBK2er__RT at 0x1d3af40d030>,\n <Reaction CERS126er__RT at 0x1d3af40d120>,\n <Reaction CSm__RT at 0x1d3af40d210>,\n <Reaction MI145P6Kn__RT at 0x1d3af40d2a0>,\n <Reaction ADK3m__RT at 0x1d3af40d3c0>,\n <Reaction DMATT__RT at 0x1d3af40d4b0>,\n <Reaction PMPK__RT at 0x1d3af40d570>,\n <Reaction LGTHL__RT at 0x1d3af40d600>,\n <Reaction PUNP3m__RT at 0x1d3af40d690>,\n <Reaction PPNDH__RT at 0x1d3af40d780>,\n <Reaction GLYTRS__RT at 0x1d3af40d810>,\n <Reaction HACD4p__RT at 0x1d3af40d8d0>,\n <Reaction GAT2er_RT__RT at 0x1d3af40d9c0>,\n <Reaction DASYNer_RT__RT at 0x1d3af40dbd0>,\n <Reaction ACOAD8m__RT at 0x1d3af40dcc0>,\n <Reaction ECOAH1p__RT at 0x1d3af40ddb0>,\n <Reaction KYN__RT at 0x1d3af40de40>,\n <Reaction HSTPT__RT at 0x1d3af40df00>,\n <Reaction FACOAL141p__RT at 0x1d3af40df90>,\n <Reaction FE2t__RT at 0x1d3af40e020>,\n <Reaction 3MOPDC__RT at 0x1d3af40e0b0>,\n <Reaction PTE11x__RT at 0x1d3af40e140>,\n <Reaction GLUTRS__RT at 0x1d3af40e1d0>,\n <Reaction AICART__RT at 0x1d3af40e260>,\n <Reaction CYTD__RT at 0x1d3af40e350>,\n <Reaction 42A12BOOX__RT at 0x1d3af40e3b0>,\n <Reaction DPGM__RT at 0x1d3af40e440>,\n <Reaction TPI__RT at 0x1d3af40e4d0>,\n <Reaction COAtim__RT at 0x1d3af40e560>,\n <Reaction NADS2__RT at 0x1d3af40e590>,\n <Reaction ACACT4p__RT at 0x1d3af40e620>,\n <Reaction HISTRS__RT at 0x1d3af40e650>,\n <Reaction PHETRSm__RT at 0x1d3af40e710>,\n <Reaction OMCDC__RT at 0x1d3af40e800>,\n <Reaction LEUTA__RT at 0x1d3af40e890>,\n <Reaction DTMPK__RT at 0x1d3af40e8f0>,\n <Reaction ALCD23yi__RT at 0x1d3af40e980>,\n <Reaction FA140COAabcp__RT at 0x1d3af40ea10>,\n <Reaction FACOAL160p__RT at 0x1d3af40eaa0>,\n <Reaction PGL__RT at 0x1d3af40eb30>,\n <Reaction THRD_Lm__RT at 0x1d3af40ebc0>,\n <Reaction BGLA__RT at 0x1d3af40ec80>,\n <Reaction TRPTRS__RT at 0x1d3af40ed10>,\n <Reaction AMETt2__RT at 0x1d3af40edd0>,\n <Reaction SHSL1__RT at 0x1d3af40ee30>,\n <Reaction AHSERL__RT at 0x1d3af40eec0>,\n <Reaction ACtr__RT at 0x1d3af40ef80>,\n <Reaction LNS14DMrx__RT at 0x1d3af40efe0>,\n <Reaction ACOAD10m__RT at 0x1d3af40f160>,\n <Reaction TMDPP__RT at 0x1d3af40f1f0>,\n <Reaction INSTt2__RT at 0x1d3af40f2b0>,\n <Reaction IPC224PLCg_RT__RT at 0x1d3af40f340>,\n <Reaction DCTCP__RT at 0x1d3af40f460>,\n <Reaction TRPTRSm__RT at 0x1d3af40f490>,\n <Reaction HEX7__RT at 0x1d3af40f550>,\n <Reaction HICITDm__RT at 0x1d3af40f5e0>,\n <Reaction MALtm__RT at 0x1d3af40f6d0>,\n <Reaction AMID__RT at 0x1d3af40f760>,\n <Reaction MCITSm__RT at 0x1d3af40f7f0>,\n <Reaction GNNUC__RT at 0x1d3af40f880>,\n <Reaction PNTK__RT at 0x1d3af40f910>,\n <Reaction FAO80p__RT at 0x1d3af40f9a0>,\n <Reaction ADA__RT at 0x1d3af40f9d0>,\n <Reaction GLUDxi__RT at 0x1d3af40fa60>,\n <Reaction URAt2__RT at 0x1d3af40fa90>,\n <Reaction FA180COAabcp__RT at 0x1d3af40faf0>,\n <Reaction AMID2__RT at 0x1d3af40fb80>,\n <Reaction ERGSTt__RT at 0x1d3af40fbe0>,\n <Reaction CSNATp__RT at 0x1d3af40fc70>,\n <Reaction UDPG4E__RT at 0x1d3af40fd00>,\n <Reaction CYOR_u9m__RT at 0x1d3af40fd60>,\n <Reaction SHK3Dr__RT at 0x1d3af40fe50>,\n <Reaction SSALy__RT at 0x1d3af40fee0>,\n <Reaction CYSDS__RT at 0x1d3af40ff40>,\n <Reaction RBK__RT at 0x1d3af40ffa0>,\n <Reaction MOHMT__RT at 0x1d3af40ffd0>,\n <Reaction IPC324PLCg_RT__RT at 0x1d3af4240d0>,\n <Reaction GARFT__RT at 0x1d3af424160>,\n <Reaction PYDAMK__RT at 0x1d3af4241f0>,\n <Reaction HKYNH__RT at 0x1d3af424280>,\n <Reaction DATCY__RT at 0x1d3af424310>,\n <Reaction NNATn__RT at 0x1d3af424340>,\n <Reaction METTRSm__RT at 0x1d3af424400>,\n <Reaction SFGTHi__RT at 0x1d3af4244c0>,\n <Reaction IPCS226g_RT__RT at 0x1d3af424550>,\n <Reaction ACP1e__RT at 0x1d3af424640>,\n <Reaction FAO141p_even__RT at 0x1d3af424700>,\n <Reaction FTHFLi__RT at 0x1d3af424790>,\n <Reaction ASAD__RT at 0x1d3af4247c0>,\n <Reaction ECOAH7p__RT at 0x1d3af424850>,\n <Reaction FACOAL140p__RT at 0x1d3af4248e0>,\n <Reaction ECOAH9m__RT at 0x1d3af424910>,\n <Reaction HXPRT__RT at 0x1d3af424970>,\n <Reaction H2Otm__RT at 0x1d3af424a30>,\n <Reaction C22STDSrx__RT at 0x1d3af424a60>,\n <Reaction NTRLASE2__RT at 0x1d3af424af0>,\n <Reaction DHAD2m__RT at 0x1d3af424b50>,\n <Reaction ERGSTGLCT__RT at 0x1d3af424be0>,\n <Reaction FACOAL182__RT at 0x1d3af424c70>,\n <Reaction P5CR__RT at 0x1d3af424d00>,\n <Reaction PSPHPLer__RT at 0x1d3af424d90>,\n <Reaction MI1PP__RT at 0x1d3af424df0>,\n <Reaction NAt3_1__RT at 0x1d3af424e50>,\n <Reaction NDPK10__RT at 0x1d3af424ee0>,\n <Reaction BPNT2__RT at 0x1d3af424f70>,\n <Reaction RNDR3n__RT at 0x1d3af424fd0>,\n <Reaction CPPPGO__RT at 0x1d3af4250f0>,\n <Reaction PTRCt3i__RT at 0x1d3af425180>,\n <Reaction NAPRT__RT at 0x1d3af4251e0>,\n <Reaction MIP2C324PLCg_RT__RT at 0x1d3af425270>,\n <Reaction ALCD2x__RT at 0x1d3af425300>,\n <Reaction PTE7x__RT at 0x1d3af425390>,\n <Reaction NDPK3__RT at 0x1d3af4253c0>,\n <Reaction FAO161p_odd__RT at 0x1d3af425450>,\n <Reaction LANOSTt__RT at 0x1d3af4254b0>,\n <Reaction FACOAL120__RT at 0x1d3af425540>,\n <Reaction ECOAH5m__RT at 0x1d3af4255d0>,\n <Reaction SACCD4m__RT at 0x1d3af425660>,\n <Reaction C4STMO2er__RT at 0x1d3af425780>,\n <Reaction URIDK2r__RT at 0x1d3af425870>,\n <Reaction NTPP9__RT at 0x1d3af425900>,\n <Reaction CERS2p24er__RT at 0x1d3af425960>,\n <Reaction ALPHNH__RT at 0x1d3af4259f0>,\n <Reaction DURIPP__RT at 0x1d3af425a50>,\n <Reaction GLUDy__RT at 0x1d3af425ab0>,\n <Reaction HSERTA__RT at 0x1d3af425ae0>,\n <Reaction CITtam__RT at 0x1d3af425b70>,\n <Reaction PHETRS__RT at 0x1d3af425bd0>,\n <Reaction FMNAT__RT at 0x1d3af425c90>,\n <Reaction TYRTRS__RT at 0x1d3af425d20>,\n <Reaction TYRTRSm__RT at 0x1d3af425de0>,\n <Reaction NTRLASE3__RT at 0x1d3af425ea0>,\n <Reaction ILETRSm__RT at 0x1d3af425f00>,\n <Reaction ASPK__RT at 0x1d3af425fc0>,\n <Reaction DIPS__RT at 0x1d3af426020>,\n <Reaction UDPGALt2g__RT at 0x1d3af4260b0>,\n <Reaction LALDO3__RT at 0x1d3af426110>,\n <Reaction HSK__RT at 0x1d3af426170>,\n <Reaction GTPt2m__RT at 0x1d3af4261d0>,\n <Reaction PPCDC__RT at 0x1d3af426200>,\n <Reaction ATPATF1__RT at 0x1d3af426290>,\n <Reaction PRATPP__RT at 0x1d3af4262f0>,\n <Reaction ASPTRS__RT at 0x1d3af426380>,\n <Reaction TYRt6__RT at 0x1d3af426410>,\n <Reaction FAO161p_even__RT at 0x1d3af426470>,\n <Reaction PSERDv_RT__RT at 0x1d3af4264a0>,\n <Reaction IMPC__RT at 0x1d3af426560>,\n <Reaction DGTUP__RT at 0x1d3af426590>,\n <Reaction PDE5__RT at 0x1d3af4265f0>,\n <Reaction NDPK9__RT at 0x1d3af426650>,\n <Reaction RNDR4n__RT at 0x1d3af4266b0>,\n <Reaction SUCRe__RT at 0x1d3af426740>,\n <Reaction TYRt7__RT at 0x1d3af426800>,\n <Reaction RPE__RT at 0x1d3af426830>,\n <Reaction HEX4__RT at 0x1d3af4268c0>,\n <Reaction ILEt7__RT at 0x1d3af426950>,\n <Reaction ADNUC__RT at 0x1d3af4269e0>,\n <Reaction DHQTi__RT at 0x1d3af426a10>,\n <Reaction ORNt3m__RT at 0x1d3af426a70>,\n <Reaction LEUTAm__RT at 0x1d3af426b00>,\n <Reaction ECOAH6m__RT at 0x1d3af426bc0>,\n <Reaction NADH2_u9cm__RT at 0x1d3af426c50>,\n <Reaction OMCDCm__RT at 0x1d3af426c80>,\n <Reaction FA182COAabcp__RT at 0x1d3af426ce0>,\n <Reaction CHLPCTD__RT at 0x1d3af426d40>,\n <Reaction NDPK2__RT at 0x1d3af426dd0>,\n <Reaction ACOAH__RT at 0x1d3af426e30>,\n <Reaction CERS2p26er__RT at 0x1d3af426e60>,\n <Reaction PYK__RT at 0x1d3af426ec0>,\n <Reaction TRDRm__RT at 0x1d3af426f20>,\n <Reaction FAS180COA__RT at 0x1d3af426fb0>,\n <Reaction PPCOAOm__RT at 0x1d3af427040>,\n <Reaction GHMT2r__RT at 0x1d3af4270a0>,\n <Reaction ACACT5p__RT at 0x1d3af427100>,\n <Reaction ALLTAHr__RT at 0x1d3af427160>,\n <Reaction CERS324er__RT at 0x1d3af427220>,\n <Reaction PGAMT__RT at 0x1d3af4272b0>,\n <Reaction PMEVK__RT at 0x1d3af427340>,\n <Reaction FAS80COA_L__RT at 0x1d3af4273a0>,\n <Reaction DHFS__RT at 0x1d3af427400>,\n <Reaction ACGKm__RT at 0x1d3af427490>,\n <Reaction PGCD__RT at 0x1d3af427520>,\n <Reaction PPBNGS__RT at 0x1d3af427580>,\n <Reaction PRMICI__RT at 0x1d3af427610>,\n <Reaction PPNCL3__RT at 0x1d3af4276a0>,\n <Reaction NNAMrm__RT at 0x1d3af4276d0>,\n <Reaction PGM__RT at 0x1d3af427760>,\n <Reaction CYTK2__RT at 0x1d3af4277c0>,\n <Reaction MIP2C224PLCg_RT__RT at 0x1d3af427820>,\n <Reaction GTMLT__RT at 0x1d3af427880>,\n <Reaction ASP1DC__RT at 0x1d3af4278e0>,\n <Reaction ETHAPTer_RT__RT at 0x1d3af427940>,\n <Reaction PGMT__RT at 0x1d3af4279d0>,\n <Reaction GTHRDabcv__RT at 0x1d3af427a60>,\n <Reaction DOLPMMer__RT at 0x1d3af427b80>,\n <Reaction DADK__RT at 0x1d3af427c40>,\n <Reaction DTTGY__RT at 0x1d3af427ca0>,\n <Reaction ZYMSTt__RT at 0x1d3af427d00>,\n <Reaction ADNCYC__RT at 0x1d3af427d90>,\n <Reaction URIt2__RT at 0x1d3af427df0>,\n <Reaction ASPCT__RT at 0x1d3af427e50>,\n <Reaction CYSTRS__RT at 0x1d3af427ee0>,\n <Reaction ARGt2r__RT at 0x1d3af427f70>,\n <Reaction ACITL__RT at 0x1d3af380040>,\n <Reaction G12MT2g__RT at 0x1d3af3800a0>,\n <Reaction PFK_2__RT at 0x1d3af380190>,\n <Reaction ABUTD__RT at 0x1d3af380220>,\n <Reaction PEAMNO__RT at 0x1d3af3802b0>,\n <Reaction ALDD2x__RT at 0x1d3af380310>,\n <Reaction PDE1__RT at 0x1d3af380340>,\n <Reaction IPCS224g_RT__RT at 0x1d3af380370>,\n <Reaction ALKP__RT at 0x1d3af3803a0>,\n <Reaction 3HPCOAHYDm__RT at 0x1d3af380400>,\n <Reaction ASNt6__RT at 0x1d3af380490>,\n <Reaction DGTCY__RT at 0x1d3af380520>,\n <Reaction ATPS__RT at 0x1d3af380550>,\n <Reaction ACGAMPM__RT at 0x1d3af380580>,\n <Reaction PHETA1__RT at 0x1d3af380610>,\n <Reaction HEX10__RT at 0x1d3af380640>,\n <Reaction 16GS__RT at 0x1d3af3806a0>,\n <Reaction MCOATAm__RT at 0x1d3af380700>,\n <Reaction NADS1n__RT at 0x1d3af3807c0>,\n <Reaction AMPTASECG__RT at 0x1d3af380880>,\n <Reaction THFGLUS__RT at 0x1d3af3808b0>,\n <Reaction ADK1__RT at 0x1d3af380910>,\n <Reaction BTDD_RR__RT at 0x1d3af380940>,\n <Reaction HMGCOAS__RT at 0x1d3af3809d0>,\n <Reaction GTPCI__RT at 0x1d3af380a60>,\n <Reaction GMAND__RT at 0x1d3af380ac0>,\n <Reaction MTHFDm__RT at 0x1d3af380b50>,\n <Reaction LEUTRS__RT at 0x1d3af380bb0>,\n <Reaction PMETMer_RT__RT at 0x1d3af380c40>,\n <Reaction G3PD1ir__RT at 0x1d3af380d00>,\n <Reaction NNAM__RT at 0x1d3af380d60>,\n <Reaction GLPT__RT at 0x1d3af380dc0>,\n <Reaction DRBK__RT at 0x1d3af380e50>,\n <Reaction ADNt2__RT at 0x1d3af380ee0>,\n <Reaction UREA2t2__RT at 0x1d3af380f40>,\n <Reaction ASPTA__RT at 0x1d3af380fa0>,\n <Reaction MIPCS326g_RT__RT at 0x1d3af380fd0>,\n <Reaction PRAMPC__RT at 0x1d3af381060>,\n <Reaction ADSL1r__RT at 0x1d3af381090>,\n <Reaction ARGN__RT at 0x1d3af381120>,\n <Reaction ICDHyp__RT at 0x1d3af381150>,\n <Reaction TKT2__RT at 0x1d3af381210>,\n <Reaction SAM24MTer__RT at 0x1d3af381270>,\n <Reaction BACCL__RT at 0x1d3af381300>,\n <Reaction DUTUP__RT at 0x1d3af381390>,\n <Reaction GTHOr__RT at 0x1d3af3813f0>,\n <Reaction MTHFD__RT at 0x1d3af381450>,\n <Reaction ATP2tp_H__RT at 0x1d3af3814b0>,\n <Reaction GLUDC__RT at 0x1d3af3814e0>,\n <Reaction METt2r__RT at 0x1d3af381510>,\n <Reaction HBCO_nadp__RT at 0x1d3af381570>,\n <Reaction VALTAm__RT at 0x1d3af3815d0>,\n <Reaction GTHRDt2__RT at 0x1d3af381660>,\n <Reaction METSOXR1__RT at 0x1d3af3816c0>,\n <Reaction PLDn_RT__RT at 0x1d3af381720>,\n <Reaction NAPRTm__RT at 0x1d3af3817e0>,\n <Reaction FACOAL260p__RT at 0x1d3af381810>,\n <Reaction PYDXNK__RT at 0x1d3af3818a0>,\n <Reaction ALCD2y__RT at 0x1d3af381930>,\n <Reaction IG3PS__RT at 0x1d3af381960>,\n <Reaction AGATer_RT__RT at 0x1d3af3819c0>,\n <Reaction DCTPD__RT at 0x1d3af381a20>,\n <Reaction CYTDt2__RT at 0x1d3af381a50>,\n <Reaction UPPRT__RT at 0x1d3af381ab0>,\n <Reaction ECOAH12m__RT at 0x1d3af381ae0>,\n <Reaction LCYSTCBOXL__RT at 0x1d3af381b70>,\n <Reaction DHAK__RT at 0x1d3af381bd0>,\n <Reaction GRTT__RT at 0x1d3af381c00>,\n <Reaction ILETRS__RT at 0x1d3af381c60>,\n <Reaction IPCS124g_RT__RT at 0x1d3af381cf0>,\n <Reaction ILETA__RT at 0x1d3af381d80>,\n <Reaction UREASE__RT at 0x1d3af381db0>,\n <Reaction PTE9m__RT at 0x1d3af381e10>,\n <Reaction TYRTA__RT at 0x1d3af381e70>,\n <Reaction GLCP__RT at 0x1d3af381ed0>,\n <Reaction PYRDC__RT at 0x1d3af381f30>,\n <Reaction PINOSer_RT__RT at 0x1d3af381f60>,\n <Reaction NNDPR__RT at 0x1d3af381ff0>,\n <Reaction MIPC124PLCg_RT__RT at 0x1d3af382050>,\n <Reaction PIt2m__RT at 0x1d3af3820e0>,\n <Reaction PYDXO_1__RT at 0x1d3af382110>,\n <Reaction RBFSa__RT at 0x1d3af382170>,\n <Reaction PMANM__RT at 0x1d3af382230>,\n <Reaction METTRS__RT at 0x1d3af382290>,\n <Reaction NADS1__RT at 0x1d3af382320>,\n <Reaction PSERDg_RT__RT at 0x1d3af382350>,\n <Reaction GLYOX__RT at 0x1d3af382410>,\n <Reaction D_LACDcm__RT at 0x1d3af382470>,\n <Reaction ACOAO5p__RT at 0x1d3af3824a0>,\n <Reaction DRTPPD__RT at 0x1d3af382500>,\n <Reaction ALASm__RT at 0x1d3af382590>,\n <Reaction ALCD24xi__RT at 0x1d3af382650>,\n <Reaction NDP3g__RT at 0x1d3af3826e0>,\n <Reaction DAGPYPer_RT__RT at 0x1d3af382770>,\n <Reaction SPMDt3i__RT at 0x1d3af3827d0>,\n <Reaction FACOAL100p__RT at 0x1d3af382860>,\n <Reaction ACACT6m__RT at 0x1d3af3828c0>,\n <Reaction 3MOBDC__RT at 0x1d3af382950>,\n <Reaction DAGKer_RT__RT at 0x1d3af382980>,\n <Reaction MDHm__RT at 0x1d3af3829e0>,\n <Reaction SERTRS__RT at 0x1d3af382a10>,\n <Reaction TALA__RT at 0x1d3af382aa0>,\n <Reaction ALCD25xi__RT at 0x1d3af382b00>,\n <Reaction GAPD__RT at 0x1d3af382b30>,\n <Reaction OIVD3m__RT at 0x1d3af382b60>,\n <Reaction APCPT__RT at 0x1d3af382b90>,\n <Reaction OCBTm__RT at 0x1d3af382bf0>,\n <Reaction C5STDSer__RT at 0x1d3af382c80>,\n <Reaction CITtcm__RT at 0x1d3af382ce0>,\n <Reaction 13GS__RT at 0x1d3af382d70>,\n <Reaction SHCHD2__RT at 0x1d3af382dd0>,\n <Reaction GALKr__RT at 0x1d3af382e60>,\n <Reaction PTE9x__RT at 0x1d3af382ef0>,\n <Reaction TMDPK__RT at 0x1d3af382f20>,\n <Reaction CERH126er__RT at 0x1d3af382fb0>,\n <Reaction ACONTam__RT at 0x1d3af383010>,\n <Reaction DCTUP__RT at 0x1d3af383070>,\n <Reaction MIPC324PLCg_RT__RT at 0x1d3af3830a0>,\n <Reaction GLYCTO1p__RT at 0x1d3af383100>,\n <Reaction FECOSTESTH_RT__RT at 0x1d3af383190>,\n <Reaction HACD7p__RT at 0x1d3af383340>,\n <Reaction THRt2r__RT at 0x1d3af383370>,\n <Reaction ETF__RT at 0x1d3af383400>,\n <Reaction NP1__RT at 0x1d3af383490>,\n <Reaction PTPATi__RT at 0x1d3af383520>,\n <Reaction IGPS__RT at 0x1d3af383580>,\n <Reaction ALDD20x__RT at 0x1d3af383610>,\n <Reaction LYSt6__RT at 0x1d3af3836a0>,\n <Reaction METS__RT at 0x1d3af383730>,\n <Reaction CYSTL__RT at 0x1d3af3837c0>,\n <Reaction PI35BP5Per_RT__RT at 0x1d3af3837f0>,\n <Reaction NADK__RT at 0x1d3af383880>,\n <Reaction NTD2__RT at 0x1d3af3838b0>,\n <Reaction TRDR__RT at 0x1d3af3838e0>,\n <Reaction MIPCS226g_RT__RT at 0x1d3af383910>,\n <Reaction CDPDGPm_RT__RT at 0x1d3af383970>,\n <Reaction FA141COAabcp__RT at 0x1d3af383a60>,\n <Reaction HISTP__RT at 0x1d3af383a90>,\n <Reaction FACOAL161p__RT at 0x1d3af383af0>,\n <Reaction GK1__RT at 0x1d3af383b50>,\n <Reaction EPISTATer_RT__RT at 0x1d3af383b80>,\n <Reaction ACHLE2__RT at 0x1d3af383c10>,\n <Reaction ACACT6p__RT at 0x1d3af383c70>,\n <Reaction GMPS2__RT at 0x1d3af383cd0>,\n <Reaction ADCS__RT at 0x1d3af383d30>,\n <Reaction IMPD__RT at 0x1d3af383dc0>,\n <Reaction TRPTA__RT at 0x1d3af383df0>,\n <Reaction COAHLp__RT at 0x1d3af383e50>,\n <Reaction LANOSTESTH_RT__RT at 0x1d3af383ee0>,\n <Reaction ORNTACim__RT at 0x1d3af383f40>,\n <Reaction VALt2r__RT at 0x1d3af383fa0>,\n <Reaction C24STRer__RT at 0x1d3af3ec070>,\n <Reaction ASNt7__RT at 0x1d3af3ec0d0>,\n <Reaction YUMPS__RT at 0x1d3af3ec100>,\n <Reaction PCDAGATer_RT__RT at 0x1d3af3ec160>,\n <Reaction FA161COAabcp__RT at 0x1d3af3ec1f0>,\n <Reaction IPC226PLCg_RT__RT at 0x1d3af3ec250>,\n <Reaction FAS140COA__RT at 0x1d3af3ec280>,\n <Reaction ACLSm__RT at 0x1d3af3ec2b0>,\n <Reaction FAO141p_odd__RT at 0x1d3af3ec340>,\n <Reaction G6PDH2r__RT at 0x1d3af3ec370>,\n <Reaction PIN3Kn_RT__RT at 0x1d3af3ec3a0>,\n <Reaction PSPHSer__RT at 0x1d3af3ec430>,\n <Reaction PDHm__RT at 0x1d3af3ec460>,\n <Reaction NH4t__RT at 0x1d3af3ec490>,\n <Reaction GLUCYS__RT at 0x1d3af3ec4f0>,\n <Reaction ALATRS__RT at 0x1d3af3ec550>,\n <Reaction PPPGOm__RT at 0x1d3af3ec5e0>,\n <Reaction DCMPDA__RT at 0x1d3af3ec6a0>,\n <Reaction GLNTRS__RT at 0x1d3af3ec6d0>,\n <Reaction AMPDA__RT at 0x1d3af3ec760>,\n <Reaction OCBT__RT at 0x1d3af3ec790>,\n <Reaction ACACT1r__RT at 0x1d3af3ec7f0>,\n <Reaction ADEt2__RT at 0x1d3af3ec820>,\n <Reaction TREH__RT at 0x1d3af3ec880>,\n <Reaction GLUt2r__RT at 0x1d3af3ec8e0>,\n <Reaction FECOSTt__RT at 0x1d3af3ec940>,\n <Reaction BFFS__RT at 0x1d3af3ec9a0>,\n <Reaction TRIGSer_RT__RT at 0x1d3af3eca00>,\n <Reaction DDPAm__RT at 0x1d3af3eca30>,\n <Reaction GBEZ__RT at 0x1d3af3ecaf0>,\n <Reaction HPROb__RT at 0x1d3af3ecb50>,\n <Reaction TMPPP__RT at 0x1d3af3ecbe0>,\n <Reaction TKT1__RT at 0x1d3af3ecc70>,\n <Reaction FBA__RT at 0x1d3af3ecca0>,\n <Reaction DB4PS__RT at 0x1d3af3ecd00>,\n <Reaction ARGSS__RT at 0x1d3af3ecd30>,\n <Reaction DHQS__RT at 0x1d3af3ecd90>,\n <Reaction LEUt2r__RT at 0x1d3af3ecdf0>,\n <Reaction PSCVT__RT at 0x1d3af3ece50>,\n <Reaction ABUTt2r__RT at 0x1d3af3ecee0>,\n <Reaction ECOAH6p__RT at 0x1d3af3ecf40>,\n <Reaction CTPS1__RT at 0x1d3af3ecfd0>,\n <Reaction LANOSTATer_RT__RT at 0x1d3af3ed000>,\n <Reaction MIP2C226PLCg_RT__RT at 0x1d3af3ed060>,\n <Reaction HACD5p__RT at 0x1d3af3ed0c0>,\n <Reaction ACGAM6PS__RT at 0x1d3af3ed120>,\n <Reaction GTHS__RT at 0x1d3af3ed150>,\n <Reaction GUACYC__RT at 0x1d3af3ed180>,\n <Reaction GLUt7m__RT at 0x1d3af3ed1b0>,\n <Reaction PRASCSi__RT at 0x1d3af3ed1e0>,\n <Reaction UTUP__RT at 0x1d3af3ed270>,\n <Reaction PPND2__RT at 0x1d3af3ed2a0>,\n <Reaction PRAGSr__RT at 0x1d3af3ed2d0>,\n <Reaction FAS120COA__RT at 0x1d3af3ed330>,\n <Reaction SERPTer__RT at 0x1d3af3ed390>,\n <Reaction G5SD__RT at 0x1d3af3ed450>,\n <Reaction MTRI__RT at 0x1d3af3ed4e0>,\n <Reaction CYSS__RT at 0x1d3af3ed570>,\n <Reaction GLCS2__RT at 0x1d3af3ed5d0>,\n <Reaction HISt2r__RT at 0x1d3af3ed600>,\n <Reaction ATHRDHr__RT at 0x1d3af3ed660>,\n <Reaction DOLPMTcer__RT at 0x1d3af3ed6f0>,\n <Reaction PEPAT__RT at 0x1d3af3ed750>,\n <Reaction CYSTA__RT at 0x1d3af3ed7e0>,\n <Reaction PROt2r__RT at 0x1d3af3ed840>,\n <Reaction ACOAD9m__RT at 0x1d3af3ed8a0>,\n <Reaction DROPPRx__RT at 0x1d3af3ed900>,\n <Reaction PDXPP__RT at 0x1d3af3ed960>,\n <Reaction G12MT1g__RT at 0x1d3af3ed990>,\n <Reaction PPAm__RT at 0x1d3af3ed9f0>,\n <Reaction AIRCr__RT at 0x1d3af3eda20>,\n <Reaction LEUTRSm__RT at 0x1d3af3eda80>,\n <Reaction GLYK__RT at 0x1d3af3edb10>,\n <Reaction GTHOm__RT at 0x1d3af3edb70>,\n <Reaction CSNATm__RT at 0x1d3af3edc00>,\n <Reaction NTPP10__RT at 0x1d3af3edc90>,\n <Reaction PUNP2__RT at 0x1d3af3edcf0>,\n <Reaction HEMEOSm__RT at 0x1d3af3edd50>,\n <Reaction PIN4Kn_RT__RT at 0x1d3af3ede10>,\n <Reaction ADSL2r__RT at 0x1d3af3ede70>,\n <Reaction NDPK5__RT at 0x1d3af3edea0>,\n <Reaction ALAt2r__RT at 0x1d3af3eded0>,\n <Reaction FAO181p_even__RT at 0x1d3af3edf30>,\n <Reaction CSNt2__RT at 0x1d3af3edf90>,\n <Reaction GLYCDy__RT at 0x1d3af3ee020>,\n <Reaction ATPS3m__RT at 0x1d3af3ee050>,\n <Reaction GLNt6__RT at 0x1d3af3ee080>,\n <Reaction DHAD1m__RT at 0x1d3af3ee0e0>,\n <Reaction HCYSMT__RT at 0x1d3af3ee140>,\n <Reaction HCO3E__RT at 0x1d3af3ee170>,\n <Reaction FKYNH__RT at 0x1d3af3ee1a0>,\n <Reaction UMPKn__RT at 0x1d3af3ee200>,\n <Reaction FACOAL120p__RT at 0x1d3af3ee260>,\n <Reaction MI1345PKn__RT at 0x1d3af3ee290>,\n <Reaction PUNP5__RT at 0x1d3af3ee320>,\n <Reaction ARGTRS__RT at 0x1d3af3ee350>,\n <Reaction HSDxi__RT at 0x1d3af3ee3e0>,\n <Reaction TYRTAip__RT at 0x1d3af3ee410>,\n <Reaction GLYGS__RT at 0x1d3af3ee4d0>,\n <Reaction FBA2__RT at 0x1d3af3ee500>,\n <Reaction ASNTRSm__RT at 0x1d3af3ee590>,\n <Reaction H2Ot__RT at 0x1d3af3ee650>,\n <Reaction ASPt7__RT at 0x1d3af3ee680>,\n <Reaction ADPRDP__RT at 0x1d3af3ee6e0>,\n <Reaction PRFGS__RT at 0x1d3af3ee740>,\n <Reaction AMAOTrm__RT at 0x1d3af3ee7a0>,\n <Reaction ILETAm__RT at 0x1d3af3ee890>,\n <Reaction PSERSer_RT__RT at 0x1d3af3ee8c0>,\n <Reaction NTRLASE__RT at 0x1d3af3ee920>,\n <Reaction PHEt2r__RT at 0x1d3af3ee980>,\n <Reaction UAGDP__RT at 0x1d3af3ee9e0>,\n <Reaction ACACT9p__RT at 0x1d3af3eea40>,\n <Reaction MIPCS324g_RT__RT at 0x1d3af3eead0>,\n <Reaction AHSERL2__RT at 0x1d3af3eeb00>,\n <Reaction ASNS1__RT at 0x1d3af3eeb30>,\n <Reaction EPISTESTH_RT__RT at 0x1d3af3eeb60>,\n <Reaction MTHFR2__RT at 0x1d3af3eebf0>,\n <Reaction AGTi__RT at 0x1d3af3eec20>,\n <Reaction 3DSPHRer__RT at 0x1d3af3eec50>,\n <Reaction PIN4Ker_RT__RT at 0x1d3af3eec80>,\n <Reaction PYDXNO__RT at 0x1d3af3eece0>,\n <Reaction FRTT__RT at 0x1d3af3eed10>,\n <Reaction PNTOt2__RT at 0x1d3af3eed70>,\n <Reaction DPR__RT at 0x1d3af3eedd0>,\n <Reaction SBTD_D2__RT at 0x1d3af3eee30>,\n <Reaction SERD_L__RT at 0x1d3af3eee90>,\n <Reaction FALDH2__RT at 0x1d3af3eeec0>,\n <Reaction LYSt2r__RT at 0x1d3af3eef20>,\n <Reaction TRE6PP__RT at 0x1d3af3eef80>,\n <Reaction GLYCt2__RT at 0x1d3af3eefe0>,\n <Reaction ADMDC__RT at 0x1d3af3ef040>,\n <Reaction NDPK8__RT at 0x1d3af3ef0a0>,\n <Reaction TYRt2r__RT at 0x1d3af3ef0d0>,\n <Reaction ALCD19y__RT at 0x1d3af3ef130>,\n <Reaction MIPC226PLCg_RT__RT at 0x1d3af3ef160>,\n <Reaction FRUt2__RT at 0x1d3af3ef190>,\n <Reaction ALCD22xi__RT at 0x1d3af3ef1c0>,\n <Reaction ADSS__RT at 0x1d3af3ef220>,\n <Reaction HPRO_u9m__RT at 0x1d3af3ef250>,\n <Reaction ARAB14LO__RT at 0x1d3af3ef2e0>,\n <Reaction PETOHMer_RT__RT at 0x1d3af3ef370>,\n <Reaction GTHPi__RT at 0x1d3af3ef3d0>,\n <Reaction THMt2__RT at 0x1d3af3ef400>,\n <Reaction UPP3MT__RT at 0x1d3af3ef460>,\n <Reaction RPI__RT at 0x1d3af3ef4c0>,\n <Reaction MIP2C126PLCg_RT__RT at 0x1d3af3ef4f0>,\n <Reaction LSERDHr__RT at 0x1d3af3ef580>,\n <Reaction HETZK__RT at 0x1d3af3ef5e0>,\n <Reaction UPP3S__RT at 0x1d3af3ef640>,\n <Reaction THIORDXm__RT at 0x1d3af3ef6a0>,\n <Reaction GLCGSD__RT at 0x1d3af3ef700>,\n <Reaction TMDS__RT at 0x1d3af3ef730>,\n <Reaction XYLTD_D__RT at 0x1d3af3ef760>,\n <Reaction VALTRS__RT at 0x1d3af3ef7f0>,\n <Reaction URIK1__RT at 0x1d3af3ef880>,\n <Reaction ERGSTATer_RT__RT at 0x1d3af3ef8b0>,\n <Reaction PYAM5PO__RT at 0x1d3af3ef910>,\n <Reaction NADH2_u9m1__RT at 0x1d3af3ef970>,\n <Reaction IPMD__RT at 0x1d3af3ef9a0>,\n <Reaction IPC326PLCg_RT__RT at 0x1d3af3ef9d0>,\n <Reaction CHTNS__RT at 0x1d3af3efa30>,\n <Reaction PTE2x__RT at 0x1d3af3efa90>,\n <Reaction MIPCS224g_RT__RT at 0x1d3af3efac0>,\n <Reaction MANt2__RT at 0x1d3af3efb20>,\n <Reaction RNDR1__RT at 0x1d3af3efb80>,\n <Reaction ACACT10m__RT at 0x1d3af3efbb0>,\n <Reaction SADT__RT at 0x1d3af3efc10>,\n <Reaction NTD4__RT at 0x1d3af3efc70>,\n <Reaction LPPer_RT__RT at 0x1d3af3efca0>,\n <Reaction MDRPD__RT at 0x1d3af3efd00>,\n <Reaction CLPNSm_RT__RT at 0x1d3af3efd60>,\n <Reaction 2DOXG6PP__RT at 0x1d3af3efdf0>,\n <Reaction THRA__RT at 0x1d3af3efe80>,\n <Reaction FAS160COA__RT at 0x1d3af3efeb0>,\n <Reaction AASAD1__RT at 0x1d3af3efee0>,\n <Reaction HACONTbm__RT at 0x1d3af3eff70>,\n <Reaction UTCY__RT at 0x1d3af3effd0>,\n <Reaction ADCL__RT at 0x1d3af498040>,\n <Reaction MMSAD3m__RT at 0x1d3af4980a0>,\n <Reaction GNK__RT at 0x1d3af498100>,\n <Reaction THRA2__RT at 0x1d3af498160>,\n <Reaction SQLErx__RT at 0x1d3af498190>,\n <Reaction NDPK4__RT at 0x1d3af498220>,\n <Reaction PRAIS__RT at 0x1d3af498250>,\n <Reaction ACSm__RT at 0x1d3af498280>,\n <Reaction GND__RT at 0x1d3af4982e0>,\n <Reaction SULR__RT at 0x1d3af498310>,\n <Reaction CHLt2__RT at 0x1d3af498340>,\n <Reaction FAO182p_odd__RT at 0x1d3af4983d0>,\n <Reaction CERS326er__RT at 0x1d3af498430>,\n <Reaction PUNP1m__RT at 0x1d3af498490>,\n <Reaction FACOAL181__RT at 0x1d3af498520>,\n <Reaction AMID3__RT at 0x1d3af498580>,\n <Reaction FMETTRSm__RT at 0x1d3af4985e0>,\n <Reaction CATp__RT at 0x1d3af498670>,\n <Reaction LEUt6__RT at 0x1d3af4986a0>,\n <Reaction MI4PP__RT at 0x1d3af498700>,\n <Reaction FADFMNtm__RT at 0x1d3af498760>,\n <Reaction SBPP1er__RT at 0x1d3af4987c0>,\n <Reaction ACHLE3__RT at 0x1d3af4987f0>,\n <Reaction PDE2__RT at 0x1d3af498850>,\n <Reaction GUAt2r__RT at 0x1d3af4988b0>,\n <Reaction GLUt7__RT at 0x1d3af498910>,\n <Reaction PUNP1__RT at 0x1d3af498970>,\n <Reaction EPISTt__RT at 0x1d3af4989a0>,\n <Reaction ME2__RT at 0x1d3af498a00>,\n <Reaction SACCD1__RT at 0x1d3af498a30>,\n <Reaction IPPMIb__RT at 0x1d3af498a90>,\n <Reaction C8STIer__RT at 0x1d3af498b20>,\n <Reaction IPC126PLCg_RT__RT at 0x1d3af498b50>,\n <Reaction PLBP1Ie_RT__RT at 0x1d3af498bb0>,\n <Reaction APNPT__RT at 0x1d3af498c40>,\n <Reaction PGK__RT at 0x1d3af498ca0>,\n <Reaction CTPtm__RT at 0x1d3af498cd0>,\n <Reaction ORNTArm__RT at 0x1d3af498d30>,\n <Reaction PUNP7__RT at 0x1d3af498d90>,\n <Reaction ARGTRSm__RT at 0x1d3af498e20>,\n <Reaction ADNK1__RT at 0x1d3af498ee0>,\n <Reaction CYTK1__RT at 0x1d3af498f10>,\n <Reaction FACOAL160__RT at 0x1d3af498f40>,\n <Reaction RNDR4__RT at 0x1d3af498f70>,\n <Reaction MALT__RT at 0x1d3af498fa0>,\n <Reaction ACS2__RT at 0x1d3af499000>,\n <Reaction CTPS2__RT at 0x1d3af499090>,\n <Reaction ORNt2r__RT at 0x1d3af4990c0>,\n <Reaction ACONTbm__RT at 0x1d3af499120>,\n <Reaction FAO182p_even__RT at 0x1d3af499150>,\n <Reaction CYSTGL__RT at 0x1d3af499180>,\n <Reaction ECOAH4m__RT at 0x1d3af4991e0>,\n <Reaction OPAH__RT at 0x1d3af499270>,\n <Reaction THRD_L__RT at 0x1d3af4992d0>,\n <Reaction HISTRSm__RT at 0x1d3af499300>,\n <Reaction PTE7m__RT at 0x1d3af4993c0>,\n <Reaction PLBPC_RT__RT at 0x1d3af499450>,\n <Reaction LEUt7__RT at 0x1d3af499510>,\n <Reaction ADHAPRer_RT__RT at 0x1d3af499540>,\n <Reaction C22STDSer__RT at 0x1d3af499570>,\n <Reaction SACCD2__RT at 0x1d3af4995a0>,\n <Reaction ASPTAp__RT at 0x1d3af4995d0>,\n <Reaction PFK_3__RT at 0x1d3af499630>,\n <Reaction ILEt6__RT at 0x1d3af499690>,\n <Reaction PROTRS__RT at 0x1d3af4996c0>,\n <Reaction ACOAO8p__RT at 0x1d3af499750>,\n <Reaction FBP__RT at 0x1d3af4997e0>,\n <Reaction NMNAT__RT at 0x1d3af499810>,\n <Reaction TRPO2__RT at 0x1d3af499870>,\n <Reaction BPNT__RT at 0x1d3af4998a0>,\n <Reaction IPCS126g_RT__RT at 0x1d3af4998d0>,\n <Reaction ALCD26xi__RT at 0x1d3af499900>,\n <Reaction SHCHF__RT at 0x1d3af499960>,\n <Reaction PUNP4__RT at 0x1d3af4999c0>,\n <Reaction ATPATF2__RT at 0x1d3af499a20>,\n <Reaction MTHFC__RT at 0x1d3af499a80>,\n <Reaction PI4P5Kn_RT__RT at 0x1d3af499ab0>,\n <Reaction URIDK2rn__RT at 0x1d3af499b10>,\n <Reaction GALt2__RT at 0x1d3af499b70>,\n <Reaction UNK3__RT at 0x1d3af499bd0>,\n <Reaction ORNDC__RT at 0x1d3af499c30>,\n <Reaction CHOLK__RT at 0x1d3af499c60>,\n <Reaction MIPC126PLCg_RT__RT at 0x1d3af499c90>,\n <Reaction IPPSm__RT at 0x1d3af499cf0>,\n <Reaction VALTRSm__RT at 0x1d3af499d50>,\n <Reaction ALLTN__RT at 0x1d3af499de0>,\n <Reaction THIORDXni__RT at 0x1d3af499e40>,\n <Reaction NTPP11__RT at 0x1d3af499ea0>,\n <Reaction ABTA__RT at 0x1d3af499f00>,\n <Reaction PYDXPP__RT at 0x1d3af499f30>,\n <Reaction SUCFUMtm__RT at 0x1d3af499f60>,\n <Reaction LCYSTintv__RT at 0x1d3af499ff0>,\n <Reaction MTHFD2i__RT at 0x1d3af49a080>,\n <Reaction PTE10x__RT at 0x1d3af49a0b0>,\n <Reaction G3PIt__RT at 0x1d3af49a0e0>,\n <Reaction PPYRDC__RT at 0x1d3af49a140>,\n <Reaction ALR2__RT at 0x1d3af49a170>,\n <Reaction PC__RT at 0x1d3af49a1d0>,\n <Reaction D_LACt2__RT at 0x1d3af49a200>,\n <Reaction GLYCt__RT at 0x1d3af49a260>,\n <Reaction GLYt2r__RT at 0x1d3af49a290>,\n <Reaction ADSK__RT at 0x1d3af49a2f0>,\n <Reaction PPCK__RT at 0x1d3af49a320>,\n <Reaction TCHOLAabcv__RT at 0x1d3af49a350>,\n <Reaction SHKK__RT at 0x1d3af49a3e0>,\n <Reaction LYSTRS__RT at 0x1d3af49a410>,\n <Reaction MGCHrm__RT at 0x1d3af49a4a0>,\n <Reaction TAGL_RT__RT at 0x1d3af49a500>,\n <Reaction FRDcm__RT at 0x1d3af49a590>,\n <Reaction HACD6p__RT at 0x1d3af49a5c0>,\n <Reaction 4HGLSDm__RT at 0x1d3af49a5f0>,\n <Reaction FA240tp__RT at 0x1d3af49a680>,\n <Reaction MFAPSer_RT__RT at 0x1d3af49a6e0>,\n <Reaction ALDD20y__RT at 0x1d3af49a710>,\n <Reaction PDX5POi__RT at 0x1d3af49a740>,\n <Reaction GUAPRT__RT at 0x1d3af49a770>,\n <Reaction GLU5K__RT at 0x1d3af49a7a0>,\n <Reaction MIPC224PLCg_RT__RT at 0x1d3af49a7d0>,\n <Reaction CHORM__RT at 0x1d3af49a800>,\n <Reaction FACOAL80__RT at 0x1d3af49a830>,\n <Reaction FACOAL161__RT at 0x1d3af49a890>,\n <Reaction CYSTAm__RT at 0x1d3af49a8c0>,\n <Reaction ILEt2r__RT at 0x1d3af49a950>,\n <Reaction UGLT__RT at 0x1d3af49a9b0>,\n <Reaction ITCY__RT at 0x1d3af49a9e0>,\n <Reaction GLNt2r__RT at 0x1d3af49aa10>,\n <Reaction ADD__RT at 0x1d3af49aa70>,\n <Reaction DASYNm_RT__RT at 0x1d3af49aaa0>,\n <Reaction GF6PTA__RT at 0x1d3af49ab00>,\n <Reaction DADA__RT at 0x1d3af49ab30>,\n <Reaction NDPK1__RT at 0x1d3af49ab90>,\n <Reaction MIPC326PLCg_RT__RT at 0x1d3af49abc0>,\n <Reaction FAO181p_odd__RT at 0x1d3af49abf0>,\n <Reaction CERS224er__RT at 0x1d3af49ac20>,\n <Reaction G3PT__RT at 0x1d3af49ac50>,\n <Reaction FA260tp__RT at 0x1d3af49ac80>,\n <Reaction MIP2C124PLCg_RT__RT at 0x1d3af49ace0>,\n <Reaction ENO__RT at 0x1d3af49ad40>,\n <Reaction ACON3MT__RT at 0x1d3af49ad70>,\n <Reaction HACD8p__RT at 0x1d3af49ae00>,\n <Reaction HEX1__RT at 0x1d3af49ae90>,\n <Reaction MCPST__RT at 0x1d3af49aec0>,\n <Reaction ASNt2r__RT at 0x1d3af49af50>,\n <Reaction AHCi__RT at 0x1d3af49afb0>,\n <Reaction ADPT2__RT at 0x1d3af49afe0>,\n <Reaction ACOTAim__RT at 0x1d3af49b040>,\n <Reaction IPCS324g_RT__RT at 0x1d3af49b0a0>,\n <Reaction ASNN__RT at 0x1d3af49b0d0>,\n <Reaction NNMT__RT at 0x1d3af49b100>,\n <Reaction ACACT1m__RT at 0x1d3af49b160>,\n <Reaction HACD10p__RT at 0x1d3af49b190>,\n <Reaction DHORTS__RT at 0x1d3af49b1f0>,\n <Reaction ACACT8p__RT at 0x1d3af49b250>,\n <Reaction PFK__RT at 0x1d3af49b280>,\n <Reaction MAN1PT__RT at 0x1d3af49b2b0>,\n <Reaction IPC124PLCg_RT__RT at 0x1d3af49b2e0>,\n <Reaction PRDX__RT at 0x1d3af49b310>,\n <Reaction ACOAO6p__RT at 0x1d3af49b3a0>,\n <Reaction RNDR1n__RT at 0x1d3af49b3d0>,\n <Reaction KARA1im__RT at 0x1d3af49b430>,\n <Reaction SBTD_L__RT at 0x1d3af49b460>,\n <Reaction ALCD22yi__RT at 0x1d3af49b4f0>,\n <Reaction DNADDP__RT at 0x1d3af49b520>,\n <Reaction SUCOASm__RT at 0x1d3af49b550>,\n <Reaction THRS__RT at 0x1d3af49b580>,\n <Reaction SBPP2er__RT at 0x1d3af49b5b0>,\n <Reaction UMPK__RT at 0x1d3af49b5e0>,\n <Reaction PYDXK__RT at 0x1d3af49b610>,\n <Reaction ADPT__RT at 0x1d3af49b640>,\n <Reaction DNMPPA__RT at 0x1d3af49b670>,\n <Reaction MIP2C326PLCg_RT__RT at 0x1d3af49b700>,\n <Reaction ACOAO7p__RT at 0x1d3af49b760>,\n <Reaction FECOSTATer_RT__RT at 0x1d3af49b790>,\n <Reaction ACALDCD__RT at 0x1d3af49b7f0>,\n <Reaction AMETtm__RT at 0x1d3af49b820>,\n <Reaction CERH124er__RT at 0x1d3af49b850>,\n <Reaction PPA__RT at 0x1d3af49b880>,\n <Reaction OMPDC__RT at 0x1d3af49b8b0>,\n <Reaction LPCATer_RT__RT at 0x1d3af49b910>,\n <Reaction MI1456PKn__RT at 0x1d3af49b940>,\n <Reaction IPCS326g_RT__RT at 0x1d3af49b970>,\n <Reaction IPPS__RT at 0x1d3af49b9a0>,\n <Reaction XPPT__RT at 0x1d3af49b9d0>,\n <Reaction ECOAH4p__RT at 0x1d3af49ba00>,\n <Reaction RBFKm__RT at 0x1d3af49ba30>,\n <Reaction NDPK6__RT at 0x1d3af49ba90>,\n <Reaction ICLp__RT at 0x1d3af49bac0>,\n <Reaction NACt__RT at 0x1d3af49bb20>,\n <Reaction FMNATm__RT at 0x1d3af49bb80>,\n <Reaction IMACTD__RT at 0x1d3af49bbb0>,\n <Reaction ECOAH1m__RT at 0x1d3af49bc40>,\n <Reaction FBA3__RT at 0x1d3af49bcd0>,\n <Reaction IPPMIa__RT at 0x1d3af49bd00>,\n <Reaction RNMK__RT at 0x1d3af49bd30>,\n <Reaction SLFAT__RT at 0x1d3af49bd90>,\n <Reaction GAT1er_RT__RT at 0x1d3af49bdc0>,\n <Reaction THRTRS__RT at 0x1d3af49be20>,\n <Reaction HPYRRy__RT at 0x1d3af49beb0>,\n <Reaction DHORDfum__RT at 0x1d3af49bf40>,\n <Reaction 3HAO__RT at 0x1d3af49bfa0>,\n <Reaction MIPCS124g_RT__RT at 0x1d3af514040>,\n <Reaction NNAT__RT at 0x1d3af514070>,\n <Reaction TRPS1__RT at 0x1d3af5140a0>,\n <Reaction PTE2m__RT at 0x1d3af5140d0>,\n <Reaction PI45BPPn_RT__RT at 0x1d3af514160>,\n <Reaction FA160COAabcp__RT at 0x1d3af5141c0>,\n <Reaction CSND__RT at 0x1d3af5141f0>,\n <Reaction SERt2r__RT at 0x1d3af514220>,\n <Reaction MALTt2__RT at 0x1d3af514280>,\n <Reaction DPCOAK__RT at 0x1d3af5142e0>,\n <Reaction IPDDI__RT at 0x1d3af514310>,\n <Reaction HACD9m__RT at 0x1d3af514340>,\n <Reaction PI3P5Kn_RT__RT at 0x1d3af514370>,\n <Reaction AMETt2m__RT at 0x1d3af5143d0>,\n <Reaction GALT__RT at 0x1d3af514430>,\n <Reaction POLYAO3__RT at 0x1d3af514460>,\n <Reaction DUTCP__RT at 0x1d3af5144f0>,\n <Reaction ALATA_Lm__RT at 0x1d3af514520>,\n <Reaction C3STDH2er__RT at 0x1d3af514580>,\n <Reaction PSERDm_RT__RT at 0x1d3af5145e0>,\n <Reaction ACOAHim__RT at 0x1d3af514670>,\n <Reaction GDPMANNtg__RT at 0x1d3af5146a0>,\n <Reaction RNDR3__RT at 0x1d3af5146d0>,\n <Reaction SPRMt2i__RT at 0x1d3af514700>,\n <Reaction EPGALURSe__RT at 0x1d3af514760>,\n <Reaction HYPOE__RT at 0x1d3af5147f0>,\n <Reaction PUNP3__RT at 0x1d3af514820>,\n <Reaction CYTDK1__RT at 0x1d3af514850>,\n <Reaction IGPDH__RT at 0x1d3af514880>,\n <Reaction SPMDtex2__RT at 0x1d3af5148b0>,\n <Reaction HMPK1__RT at 0x1d3af5148e0>,\n <Reaction FACOAL240p__RT at 0x1d3af514940>,\n <Reaction ACOAO9p__RT at 0x1d3af514970>,\n <Reaction GLUTRSm__RT at 0x1d3af5149d0>,\n <Reaction VALTA__RT at 0x1d3af514a60>,\n <Reaction SO3ti__RT at 0x1d3af514a90>,\n <Reaction TRE6PS__RT at 0x1d3af514af0>,\n <Reaction GALUi__RT at 0x1d3af514b20>,\n <Reaction DPMVD__RT at 0x1d3af514b50>,\n <Reaction CBPS__RT at 0x1d3af514b80>,\n <Reaction DTTUP__RT at 0x1d3af514bb0>,\n <Reaction FACOAL100__RT at 0x1d3af514be0>,\n <Reaction GLUTCOADHm__RT at 0x1d3af514c40>,\n <Reaction ZYMSTESTH_RT__RT at 0x1d3af514ca0>,\n <Reaction KYN3OX__RT at 0x1d3af514d00>,\n <Reaction URIK3__RT at 0x1d3af514d30>,\n <Reaction CYSTS__RT at 0x1d3af514d60>,\n <Reaction MAOX__RT at 0x1d3af514d90>,\n <Reaction NMNATm__RT at 0x1d3af514df0>,\n <Reaction ALCD24yi__RT at 0x1d3af514e50>,\n <Reaction FDH__RT at 0x1d3af514e80>,\n <Reaction NICRNS__RT at 0x1d3af514eb0>,\n <Reaction MTAP__RT at 0x1d3af514ee0>,\n <Reaction ASPTAm__RT at 0x1d3af514f40>,\n <Reaction CAT__RT at 0x1d3af514fa0>,\n <Reaction SUCCtm__RT at 0x1d3af514fd0>,\n <Reaction ORPT__RT at 0x1d3af515000>,\n <Reaction ATPATF3__RT at 0x1d3af515030>,\n <Reaction CERS226er__RT at 0x1d3af515090>,\n <Reaction URIK2__RT at 0x1d3af5150c0>,\n <Reaction ICDHxm__RT at 0x1d3af5150f0>,\n <Reaction HPROa__RT at 0x1d3af515120>,\n <Reaction ALLTNti__RT at 0x1d3af515150>,\n <Reaction SLCBK1er__RT at 0x1d3af5151b0>,\n <Reaction ACACT7m__RT at 0x1d3af5151e0>,\n <Reaction PFK26__RT at 0x1d3af515240>,\n <Reaction DUTPDP__RT at 0x1d3af5152a0>,\n <Reaction FAS100COA__RT at 0x1d3af5152d0>,\n <Reaction ECOAH8p__RT at 0x1d3af515300>,\n <Reaction DCYTD__RT at 0x1d3af515330>,\n <Reaction OCOAT1m__RT at 0x1d3af515390>,\n <Reaction G3PCt__RT at 0x1d3af5153f0>,\n <Reaction GLNt7__RT at 0x1d3af515420>,\n <Reaction ASPt2r__RT at 0x1d3af515450>,\n <Reaction PGI__RT at 0x1d3af5154b0>,\n <Reaction GLYCLm__RT at 0x1d3af5154e0>,\n <Reaction PIt2r__RT at 0x1d3af515510>,\n <Reaction CHORS__RT at 0x1d3af515540>,\n <Reaction ANPRT__RT at 0x1d3af515570>,\n <Reaction GPDDA1__RT at 0x1d3af5155d0>,\n <Reaction PTRCtex2__RT at 0x1d3af515600>,\n <Reaction ACGSm__RT at 0x1d3af515630>,\n <Reaction ACS__RT at 0x1d3af515660>,\n <Reaction GLUSx__RT at 0x1d3af515690>,\n <Reaction DDPA__RT at 0x1d3af5156c0>,\n <Reaction MAN6PI__RT at 0x1d3af5156f0>,\n <Reaction HACD1p__RT at 0x1d3af515720>,\n <Reaction ACHLE1__RT at 0x1d3af515780>,\n <Reaction PAL__RT at 0x1d3af5157e0>,\n <Reaction HEMEASm__RT at 0x1d3af515840>,\n <Reaction PTE8x__RT at 0x1d3af5158a0>,\n <Reaction RNDR2n__RT at 0x1d3af5158d0>,\n <Reaction PTE12x__RT at 0x1d3af515960>,\n <Reaction ACONT3m__RT at 0x1d3af515990>,\n <Reaction ANS__RT at 0x1d3af5159f0>,\n <Reaction ALLTTti__RT at 0x1d3af515a20>,\n <Reaction PDE3__RT at 0x1d3af515a80>,\n <Reaction POLYAO2__RT at 0x1d3af515ae0>,\n <Reaction ARMT__RT at 0x1d3af515b40>,\n <Reaction GTPCII__RT at 0x1d3af515ba0>,\n <Reaction PRPNCOAHYDm__RT at 0x1d3af515bd0>,\n <Reaction SUCD2_u9m__RT at 0x1d3af515c00>,\n <Reaction GLUPRT__RT at 0x1d3af515c30>,\n <Reaction THIORDXi__RT at 0x1d3af515c60>,\n <Reaction MALSp__RT at 0x1d3af515c90>,\n <Reaction ALDD2y__RT at 0x1d3af515cf0>,\n <Reaction HISTD__RT at 0x1d3af515d20>,\n <Reaction ASNNe__RT at 0x1d3af515d50>,\n <Reaction PYDXS__RT at 0x1d3af515d80>,\n <Reaction RBFSb__RT at 0x1d3af515db0>,\n <Reaction KARA2im__RT at 0x1d3af515e10>,\n <Reaction HMGCOAR__RT at 0x1d3af515e70>,\n <Reaction PTE11m__RT at 0x1d3af515ea0>,\n <Reaction MI145PKn__RT at 0x1d3af515f00>,\n <Reaction FACOAL1831__RT at 0x1d3af515f30>,\n <Reaction AP4AH__RT at 0x1d3af515f90>,\n <Reaction RNDR2__RT at 0x1d3af515fc0>,\n <Reaction L_LACt2r__RT at 0x1d3af515ff0>,\n <Reaction GUAD__RT at 0x1d3af516080>,\n <Reaction INDPYRD__RT at 0x1d3af5160b0>,\n <Reaction 4MOPDC__RT at 0x1d3af5160e0>,\n <Reaction UDPACGLP__RT at 0x1d3af516110>,\n <Reaction LNSTLSr__RT at 0x1d3af516140>,\n <Reaction PI45BP5Per_RT__RT at 0x1d3af516170>,\n <Reaction LCYSTATm__RT at 0x1d3af5161d0>,\n <Reaction RBFK__RT at 0x1d3af516260>,\n <Reaction ARGSL__RT at 0x1d3af516290>,\n <Reaction FACOAL140__RT at 0x1d3af5162c0>,\n <Reaction ZYMSTATer_RT__RT at 0x1d3af516320>,\n <Reaction ALDD2ym__RT at 0x1d3af516380>,\n <Reaction FUMm__RT at 0x1d3af5163e0>,\n <Reaction MIPCS126g_RT__RT at 0x1d3af516410>,\n <Reaction CERS124er__RT at 0x1d3af516440>,\n <Reaction UTPtm__RT at 0x1d3af516470>,\n <Reaction PNP__RT at 0x1d3af516500>,\n <Reaction ECOAH5p__RT at 0x1d3af516530>,\n <Reaction HGNTOR__RT at 0x1d3af516560>,\n <Reaction ALCD23xi__RT at 0x1d3af5165f0>,\n <Reaction G5SADm__RT at 0x1d3af516620>,\n <Reaction ME1m__RT at 0x1d3af516650>,\n <Reaction FBP26__RT at 0x1d3af516680>,\n <Reaction MI3PP__RT at 0x1d3af5166b0>,\n <Reaction PRPPS__RT at 0x1d3af516710>,\n <Reaction HSDy__RT at 0x1d3af516740>,\n <Reaction NNATm__RT at 0x1d3af516770>,\n <Reaction ECOAH11p__RT at 0x1d3af5167d0>,\n <Reaction GLCt1__RT at 0x1d3af516800>,\n <Reaction ECOAH7m__RT at 0x1d3af516830>,\n <Reaction ASNTRS__RT at 0x1d3af5168c0>,\n <Reaction ADK4m__RT at 0x1d3af516950>,\n <Reaction TRPt2r__RT at 0x1d3af5169e0>,\n <Reaction PPM__RT at 0x1d3af516a40>,\n <Reaction ERGSTESTH_RT__RT at 0x1d3af516a70>,\n <Reaction THIORDXp__RT at 0x1d3af516ad0>,\n <Reaction MTHFR3__RT at 0x1d3af516b60>,\n <Reaction PEPDt3__RT at 0x1d3af516b90>,\n <Reaction PTE10m__RT at 0x1d3af516bf0>,\n <Reaction ORNTA__RT at 0x1d3af516c80>,\n <Reaction PUNP6__RT at 0x1d3af516cb0>,\n <Reaction SO4ti__RT at 0x1d3af516ce0>,\n <Reaction AGPRim__RT at 0x1d3af516d40>,\n <Reaction ALDD2xm__RT at 0x1d3af516d70>,\n <Reaction HMR_6515__RT at 0x1d3af516da0>,\n <Reaction GLNS__RT at 0x1d3af516e00>,\n <Reaction FA181COAabcp__RT at 0x1d3af516e30>,\n <Reaction PSERSm_RT__RT at 0x1d3af516e90>,\n <Reaction UPPDC1__RT at 0x1d3af516ef0>,\n <Reaction FTHFLmi__RT at 0x1d3af516f20>,\n <Reaction MCITL2m__RT at 0x1d3af516f80>,\n <Reaction PANTS__RT at 0x1d3af516fb0>,\n <Reaction FACOAL180__RT at 0x1d3af516fe0>,\n <Reaction HMBS__RT at 0x1d3af517010>,\n <Reaction ACCOAC__RT at 0x1d3af517040>,\n <Reaction SQLEr__RT at 0x1d3af517070>,\n <Reaction HISt6__RT at 0x1d3af5170a0>,\n <Reaction FUMAC__RT at 0x1d3af517100>,\n <Reaction ACHBSm__RT at 0x1d3af517190>,\n <Reaction ATPPRT__RT at 0x1d3af5171c0>,\n <Reaction METAT__RT at 0x1d3af5171f0>,\n <Reaction MM3__RT at 0x1d3af517220>,\n <Reaction FACOAE1829Z12Z__RT at 0x1d3af5172b0>,\n <Reaction METSOXR2__RT at 0x1d3af5172e0>,\n <Reaction FACOAE100__RT at 0x1d3af517340>,\n <Reaction PYNP2r__RT at 0x1d3af517370>,\n <Reaction CHOLSH__RT at 0x1d3af5173a0>,\n <Reaction I4FE4STm__RT at 0x1d3af517400>,\n <Reaction NO3t__RT at 0x1d3af5174c0>,\n <Reaction UACMAMO__RT at 0x1d3af517550>,\n <Reaction FACOAE140__RT at 0x1d3af5175e0>,\n <Reaction SDPTA__RT at 0x1d3af517610>,\n <Reaction F6PP__RT at 0x1d3af5176a0>,\n <Reaction ORNCD__RT at 0x1d3af5176d0>,\n <Reaction UDPDOLPT__RT at 0x1d3af517700>,\n <Reaction GDPTPDP__RT at 0x1d3af517760>,\n <Reaction ACOAR5m__RT at 0x1d3af5177c0>,\n <Reaction XYLK__RT at 0x1d3af5177f0>,\n <Reaction VNDH__RT at 0x1d3af517820>,\n <Reaction AAMYLASE__RT at 0x1d3af5178b0>,\n <Reaction APNn__RT at 0x1d3af517910>,\n <Reaction UDPGDC__RT at 0x1d3af517970>,\n <Reaction LIPOCTm__RT at 0x1d3af5179d0>,\n <Reaction TGUAt__RT at 0x1d3af517a60>,\n <Reaction ADSHm__RT at 0x1d3af517af0>,\n <Reaction HACD3m__RT at 0x1d3af517b50>,\n <Reaction G12MT3__RT at 0x1d3af517be0>,\n <Reaction G6PP__RT at 0x1d3af517ca0>,\n <Reaction NADHXD2__RT at 0x1d3af517cd0>,\n <Reaction NA1tm__RT at 0x1d3af517d30>,\n <Reaction MANPGH__RT at 0x1d3af517d90>,\n <Reaction ULA4NFT__RT at 0x1d3af517df0>,\n <Reaction GLCNACT__RT at 0x1d3af517e80>,\n <Reaction LYSTRSm__RT at 0x1d3af517f10>,\n <Reaction ACPT1819Z1819Z__RT at 0x1d3af517fd0>,\n <Reaction BTS__RT at 0x1d3af5980a0>,\n <Reaction NARK__RT at 0x1d3af598130>,\n <Reaction CYOO6m__RT at 0x1d3af5981c0>,\n <Reaction 2HESR__RT at 0x1d3af5981f0>,\n <Reaction NTD6__RT at 0x1d3af598280>,\n <Reaction 3AMACHYD__RT at 0x1d3af5982b0>,\n <Reaction ADNtm__RT at 0x1d3af598340>,\n <Reaction MSAR__RT at 0x1d3af598370>,\n <Reaction MALCOAMT__RT at 0x1d3af5983d0>,\n <Reaction ACANTHAT__RT at 0x1d3af598430>,\n <Reaction ALDD3y__RT at 0x1d3af598490>,\n <Reaction GNP__RT at 0x1d3af5984f0>,\n <Reaction MLTP2__RT at 0x1d3af598520>,\n <Reaction SPMDtmr__RT at 0x1d3af598580>,\n <Reaction CYANST__RT at 0x1d3af5985e0>,\n <Reaction NTPP1__RT at 0x1d3af598610>,\n <Reaction HPYRP__RT at 0x1d3af598640>,\n <Reaction ACKrm__RT at 0x1d3af598670>,\n <Reaction GGPTRCS__RT at 0x1d3af5986d0>,\n <Reaction FACOAE180__RT at 0x1d3af598730>,\n ...]"
     },
     "execution_count": 103,
     "metadata": {},
     "output_type": "execute_result"
    }
   ],
   "source": [
    "community.reactions"
   ]
  },
  {
   "cell_type": "code",
   "execution_count": 104,
   "id": "825f2e9f",
   "metadata": {
    "pycharm": {
     "name": "#%%\n"
    }
   },
   "outputs": [
    {
     "data": {
      "text/plain": "[<Metabolite 2phetoh_c__RT at 0x1d3af1e3190>,\n <Metabolite h_c__RT at 0x1d3af1e31c0>,\n <Metabolite nadp_c__RT at 0x1d3af1e31f0>,\n <Metabolite nadph_c__RT at 0x1d3af1e3220>,\n <Metabolite pacald_c__RT at 0x1d3af1e3250>,\n <Metabolite 10fthf_m__RT at 0x1d3af1e32b0>,\n <Metabolite h2o_m__RT at 0x1d3af1e32e0>,\n <Metabolite h_m__RT at 0x1d3af1e3310>,\n <Metabolite methf_m__RT at 0x1d3af1e3340>,\n <Metabolite ade_c__RT at 0x1d3af1e33a0>,\n <Metabolite amp_c__RT at 0x1d3af1e33d0>,\n <Metabolite h2o_c__RT at 0x1d3af1e3400>,\n <Metabolite r5p_c__RT at 0x1d3af1e3430>,\n <Metabolite 12dgr_RT_r__RT at 0x1d3af1e3490>,\n <Metabolite cdpchol_r__RT at 0x1d3af1e34c0>,\n <Metabolite cmp_r__RT at 0x1d3af1e34f0>,\n <Metabolite h_r__RT at 0x1d3af1e3520>,\n <Metabolite pc_RT_r__RT at 0x1d3af1e3550>,\n <Metabolite h_e__RT at 0x1d3af1e35b0>,\n <Metabolite pyr_c__RT at 0x1d3af1e35e0>,\n <Metabolite pyr_e__RT at 0x1d3af1e3610>,\n <Metabolite co2_m__RT at 0x1d3af1e3670>,\n <Metabolite nicrnt_m__RT at 0x1d3af1e36a0>,\n <Metabolite ppi_m__RT at 0x1d3af1e36d0>,\n <Metabolite prpp_m__RT at 0x1d3af1e3700>,\n <Metabolite quln_m__RT at 0x1d3af1e3730>,\n <Metabolite aacoa_m__RT at 0x1d3af1e3790>,\n <Metabolite accoa_m__RT at 0x1d3af1e37c0>,\n <Metabolite coa_m__RT at 0x1d3af1e37f0>,\n <Metabolite hmgcoa_m__RT at 0x1d3af1e3820>,\n <Metabolite 35cgmp_c__RT at 0x1d3af1e3880>,\n <Metabolite gmp_c__RT at 0x1d3af1e38b0>,\n <Metabolite pap_c__RT at 0x1d3af1e3910>,\n <Metabolite paps_c__RT at 0x1d3af1e3940>,\n <Metabolite so3_c__RT at 0x1d3af1e3970>,\n <Metabolite trdox_c__RT at 0x1d3af1e39a0>,\n <Metabolite trdrd_c__RT at 0x1d3af1e39d0>,\n <Metabolite amp_x__RT at 0x1d3af1e3a30>,\n <Metabolite atp_x__RT at 0x1d3af1e3a60>,\n <Metabolite coa_x__RT at 0x1d3af1e3a90>,\n <Metabolite occoa_x__RT at 0x1d3af1e3ac0>,\n <Metabolite octa_x__RT at 0x1d3af1e3af0>,\n <Metabolite ppi_x__RT at 0x1d3af1e3b20>,\n <Metabolite rib__D_c__RT at 0x1d3af1e3b80>,\n <Metabolite ura_c__RT at 0x1d3af1e3bb0>,\n <Metabolite uri_c__RT at 0x1d3af1e3be0>,\n <Metabolite dc2coa_x__RT at 0x1d3af1e3c40>,\n <Metabolite dcacoa_x__RT at 0x1d3af1e3c70>,\n <Metabolite h2o2_x__RT at 0x1d3af1e3ca0>,\n <Metabolite o2_x__RT at 0x1d3af1e3cd0>,\n <Metabolite 3c2hmp_c__RT at 0x1d3af1e3d30>,\n <Metabolite 3ipmmest_c__RT at 0x1d3af1e3d60>,\n <Metabolite ahcys_c__RT at 0x1d3af1e3d90>,\n <Metabolite amet_c__RT at 0x1d3af1e3dc0>,\n <Metabolite nad_c__RT at 0x1d3af1e3e20>,\n <Metabolite nadh_c__RT at 0x1d3af1e3e50>,\n <Metabolite udpg_c__RT at 0x1d3af1e3e80>,\n <Metabolite udpglcur_c__RT at 0x1d3af1e3eb0>,\n <Metabolite cmp_c__RT at 0x1d3af1e3f10>,\n <Metabolite cytd_c__RT at 0x1d3af1e3f40>,\n <Metabolite gdp_c__RT at 0x1d3af1e3f70>,\n <Metabolite gtp_c__RT at 0x1d3af1e3fa0>,\n <Metabolite 3odcoa_m__RT at 0x1d3af40c040>,\n <Metabolite occoa_m__RT at 0x1d3af40c070>,\n <Metabolite ac_c__RT at 0x1d3af40c0d0>,\n <Metabolite chitin_c__RT at 0x1d3af40c100>,\n <Metabolite chitos_c__RT at 0x1d3af40c130>,\n <Metabolite atp_c__RT at 0x1d3af40c190>,\n <Metabolite coa_c__RT at 0x1d3af40c1c0>,\n <Metabolite ppi_c__RT at 0x1d3af40c1f0>,\n <Metabolite tdecoa_c__RT at 0x1d3af40c220>,\n <Metabolite ttdcea_c__RT at 0x1d3af40c250>,\n <Metabolite 3ohdcoa_x__RT at 0x1d3af40c2b0>,\n <Metabolite accoa_x__RT at 0x1d3af40c2e0>,\n <Metabolite tdcoa_x__RT at 0x1d3af40c310>,\n <Metabolite 3aap_c__RT at 0x1d3af40c370>,\n <Metabolite N1aspmd_c__RT at 0x1d3af40c3a0>,\n <Metabolite h2o2_c__RT at 0x1d3af40c3d0>,\n <Metabolite o2_c__RT at 0x1d3af40c400>,\n <Metabolite ptrc_c__RT at 0x1d3af40c430>,\n <Metabolite 5pmev_c__RT at 0x1d3af40c490>,\n <Metabolite adp_c__RT at 0x1d3af40c4c0>,\n <Metabolite mev__R_c__RT at 0x1d3af40c4f0>,\n <Metabolite dadp_c__RT at 0x1d3af40c550>,\n <Metabolite datp_c__RT at 0x1d3af40c580>,\n <Metabolite ump_c__RT at 0x1d3af40c5b0>,\n <Metabolite aacald_c__RT at 0x1d3af40c610>,\n <Metabolite akg_c__RT at 0x1d3af40c640>,\n <Metabolite co2_c__RT at 0x1d3af40c670>,\n <Metabolite succ_c__RT at 0x1d3af40c6a0>,\n <Metabolite taur_c__RT at 0x1d3af40c6d0>,\n <Metabolite cit_x__RT at 0x1d3af40c730>,\n <Metabolite h2o_x__RT at 0x1d3af40c760>,\n <Metabolite h_x__RT at 0x1d3af40c790>,\n <Metabolite oaa_x__RT at 0x1d3af40c7c0>,\n <Metabolite 3php_c__RT at 0x1d3af40c820>,\n <Metabolite glu__L_c__RT at 0x1d3af40c850>,\n <Metabolite pser__L_c__RT at 0x1d3af40c880>,\n <Metabolite cys__L_c__RT at 0x1d3af40c910>,\n <Metabolite cys__L_e__RT at 0x1d3af40c940>,\n <Metabolite h_v__RT at 0x1d3af40c9a0>,\n <Metabolite pi_c__RT at 0x1d3af40c9d0>,\n <Metabolite ethamp_r__RT at 0x1d3af40ca30>,\n <Metabolite hxdcal_r__RT at 0x1d3af40ca60>,\n <Metabolite sph1p_r__RT at 0x1d3af40ca90>,\n <Metabolite arach_e__RT at 0x1d3af40caf0>,\n <Metabolite g3pc_e__RT at 0x1d3af40cb20>,\n <Metabolite h2o_e__RT at 0x1d3af40cb50>,\n <Metabolite hdca_e__RT at 0x1d3af40cb80>,\n <Metabolite hpdca_e__RT at 0x1d3af40cbb0>,\n <Metabolite lnlncg_e__RT at 0x1d3af40cbe0>,\n <Metabolite ocdca_e__RT at 0x1d3af40cc10>,\n <Metabolite ocdcea_e__RT at 0x1d3af40cc40>,\n <Metabolite ocdcya_e__RT at 0x1d3af40cc70>,\n <Metabolite pc_RT_e__RT at 0x1d3af40cca0>,\n <Metabolite ttc_e__RT at 0x1d3af40ccd0>,\n <Metabolite pac_c__RT at 0x1d3af40cd30>,\n <Metabolite cgly_c__RT at 0x1d3af40cd90>,\n <Metabolite gthrd_c__RT at 0x1d3af40cdc0>,\n <Metabolite dcdp_c__RT at 0x1d3af40ce20>,\n <Metabolite dctp_c__RT at 0x1d3af40ce50>,\n <Metabolite 12ppd__R_c__RT at 0x1d3af40ceb0>,\n <Metabolite lald__D_c__RT at 0x1d3af40cee0>,\n <Metabolite glx_c__RT at 0x1d3af40cf40>,\n <Metabolite glyclt_c__RT at 0x1d3af40cf70>,\n <Metabolite dgdp_c__RT at 0x1d3af40cfd0>,\n <Metabolite dgmp_c__RT at 0x1d3af40d000>,\n <Metabolite adp_r__RT at 0x1d3af40d060>,\n <Metabolite atp_r__RT at 0x1d3af40d090>,\n <Metabolite psph1p_r__RT at 0x1d3af40d0c0>,\n <Metabolite psphings_r__RT at 0x1d3af40d0f0>,\n <Metabolite cer1_26_r__RT at 0x1d3af40d150>,\n <Metabolite coa_r__RT at 0x1d3af40d180>,\n <Metabolite hexccoa_r__RT at 0x1d3af40d1b0>,\n <Metabolite sphgn_r__RT at 0x1d3af40d1e0>,\n <Metabolite cit_m__RT at 0x1d3af40d240>,\n <Metabolite oaa_m__RT at 0x1d3af40d270>,\n <Metabolite adp_n__RT at 0x1d3af40d2d0>,\n <Metabolite atp_n__RT at 0x1d3af40d300>,\n <Metabolite h_n__RT at 0x1d3af40d330>,\n <Metabolite mi1456p_n__RT at 0x1d3af40d360>,\n <Metabolite mi145p_n__RT at 0x1d3af40d390>,\n <Metabolite adp_m__RT at 0x1d3af40d3f0>,\n <Metabolite amp_m__RT at 0x1d3af40d420>,\n <Metabolite gdp_m__RT at 0x1d3af40d450>,\n <Metabolite gtp_m__RT at 0x1d3af40d480>,\n <Metabolite dmpp_c__RT at 0x1d3af40d4e0>,\n <Metabolite grdp_c__RT at 0x1d3af40d510>,\n <Metabolite ipdp_c__RT at 0x1d3af40d540>,\n <Metabolite 2mahmp_c__RT at 0x1d3af40d5a0>,\n <Metabolite 4ampm_c__RT at 0x1d3af40d5d0>,\n <Metabolite lgt__S_c__RT at 0x1d3af40d630>,\n <Metabolite mthgxl_c__RT at 0x1d3af40d660>,\n <Metabolite gsn_m__RT at 0x1d3af40d6c0>,\n <Metabolite gua_m__RT at 0x1d3af40d6f0>,\n <Metabolite pi_m__RT at 0x1d3af40d720>,\n <Metabolite r1p_m__RT at 0x1d3af40d750>,\n <Metabolite phpyr_c__RT at 0x1d3af40d7b0>,\n <Metabolite pphn_c__RT at 0x1d3af40d7e0>,\n <Metabolite gly_c__RT at 0x1d3af40d840>,\n <Metabolite glytrna_c__RT at 0x1d3af40d870>,\n <Metabolite trnagly_c__RT at 0x1d3af40d8a0>,\n <Metabolite 3hdcoa_x__RT at 0x1d3af40d900>,\n <Metabolite 3odcoa_x__RT at 0x1d3af40d930>,\n <Metabolite nad_x__RT at 0x1d3af40d960>,\n <Metabolite nadh_x__RT at 0x1d3af40d990>,\n <Metabolite 1agly3p_RT_r__RT at 0x1d3af40d9f0>,\n <Metabolite arachcoa_r__RT at 0x1d3af40da20>,\n <Metabolite dhap_r__RT at 0x1d3af40da50>,\n <Metabolite hpdcacoa_r__RT at 0x1d3af40da80>,\n <Metabolite lnlncgcoa_r__RT at 0x1d3af40dab0>,\n <Metabolite ocdycacoa_r__RT at 0x1d3af40dae0>,\n <Metabolite odecoa_r__RT at 0x1d3af40db10>,\n <Metabolite pmtcoa_r__RT at 0x1d3af40db40>,\n <Metabolite stcoa_r__RT at 0x1d3af40db70>,\n <Metabolite ttccoa_r__RT at 0x1d3af40dba0>,\n <Metabolite cdpdag_RT_r__RT at 0x1d3af40dc00>,\n <Metabolite ctp_r__RT at 0x1d3af40dc30>,\n <Metabolite pa_RT_r__RT at 0x1d3af40dc60>,\n <Metabolite ppi_r__RT at 0x1d3af40dc90>,\n <Metabolite 3mb2coa_m__RT at 0x1d3af40dcf0>,\n <Metabolite fad_m__RT at 0x1d3af40dd20>,\n <Metabolite fadh2_m__RT at 0x1d3af40dd50>,\n <Metabolite ivcoa_m__RT at 0x1d3af40dd80>,\n <Metabolite 3hbcoa_x__RT at 0x1d3af40dde0>,\n <Metabolite b2coa_x__RT at 0x1d3af40de10>,\n <Metabolite Lkynr_c__RT at 0x1d3af40de70>,\n <Metabolite ala__L_c__RT at 0x1d3af40dea0>,\n <Metabolite anth_c__RT at 0x1d3af40ded0>,\n <Metabolite hisp_c__RT at 0x1d3af40df30>,\n <Metabolite imacp_c__RT at 0x1d3af40df60>,\n <Metabolite tdecoa_x__RT at 0x1d3af40dfc0>,\n <Metabolite ttdcea_x__RT at 0x1d3af40dff0>,\n <Metabolite fe2_c__RT at 0x1d3af40e050>,\n <Metabolite fe2_e__RT at 0x1d3af40e080>,\n <Metabolite 2mbald_c__RT at 0x1d3af40e0e0>,\n <Metabolite 3mop_c__RT at 0x1d3af40e110>,\n <Metabolite ddca_x__RT at 0x1d3af40e170>,\n <Metabolite ddcacoa_x__RT at 0x1d3af40e1a0>,\n <Metabolite glutrna_c__RT at 0x1d3af40e200>,\n <Metabolite trnaglu_c__RT at 0x1d3af40e230>,\n <Metabolite 10fthf_c__RT at 0x1d3af40e290>,\n <Metabolite aicar_c__RT at 0x1d3af40e2c0>,\n <Metabolite fprica_c__RT at 0x1d3af40e2f0>,\n <Metabolite thf_c__RT at 0x1d3af40e320>,\n <Metabolite nh4_c__RT at 0x1d3af40e380>,\n <Metabolite 34dhpac_c__RT at 0x1d3af40e3e0>,\n <Metabolite dopa_c__RT at 0x1d3af40e410>,\n <Metabolite 13dpg_c__RT at 0x1d3af40e470>,\n <Metabolite 23dpg_c__RT at 0x1d3af40e4a0>,\n <Metabolite dhap_c__RT at 0x1d3af40e500>,\n <Metabolite g3p_c__RT at 0x1d3af40e530>,\n <Metabolite dnad_c__RT at 0x1d3af40e5c0>,\n <Metabolite gln__L_c__RT at 0x1d3af40e5f0>,\n <Metabolite his__L_c__RT at 0x1d3af40e680>,\n <Metabolite histrna_c__RT at 0x1d3af40e6b0>,\n <Metabolite trnahis_c__RT at 0x1d3af40e6e0>,\n <Metabolite atp_m__RT at 0x1d3af40e740>,\n <Metabolite phe__L_m__RT at 0x1d3af40e770>,\n <Metabolite phetrna_m__RT at 0x1d3af40e7a0>,\n <Metabolite trnaphe_m__RT at 0x1d3af40e7d0>,\n <Metabolite 3c4mop_c__RT at 0x1d3af40e830>,\n <Metabolite 4mop_c__RT at 0x1d3af40e860>,\n <Metabolite leu__L_c__RT at 0x1d3af40e8c0>,\n <Metabolite dtdp_c__RT at 0x1d3af40e920>,\n <Metabolite dtmp_c__RT at 0x1d3af40e950>,\n <Metabolite 2mppal_c__RT at 0x1d3af40e9b0>,\n <Metabolite ibutoh_c__RT at 0x1d3af40e9e0>,\n <Metabolite tdcoa_c__RT at 0x1d3af40ea40>,\n <Metabolite ttdca_x__RT at 0x1d3af40ea70>,\n <Metabolite hdca_x__RT at 0x1d3af40ead0>,\n <Metabolite pmtcoa_x__RT at 0x1d3af40eb00>,\n <Metabolite 6pgc_c__RT at 0x1d3af40eb60>,\n <Metabolite 6pgl_c__RT at 0x1d3af40eb90>,\n <Metabolite 2obut_m__RT at 0x1d3af40ebf0>,\n <Metabolite nh4_m__RT at 0x1d3af40ec20>,\n <Metabolite thr__L_m__RT at 0x1d3af40ec50>,\n <Metabolite cellb_c__RT at 0x1d3af40ecb0>,\n <Metabolite glc__D_c__RT at 0x1d3af40ece0>,\n <Metabolite trnatrp_c__RT at 0x1d3af40ed40>,\n <Metabolite trp__L_c__RT at 0x1d3af40ed70>,\n <Metabolite trptrna_c__RT at 0x1d3af40eda0>,\n <Metabolite amet_e__RT at 0x1d3af40ee00>,\n <Metabolite cyst__L_c__RT at 0x1d3af40ee60>,\n <Metabolite suchms_c__RT at 0x1d3af40ee90>,\n <Metabolite achms_c__RT at 0x1d3af40eef0>,\n <Metabolite ch4s_c__RT at 0x1d3af40ef20>,\n <Metabolite met__L_c__RT at 0x1d3af40ef50>,\n <Metabolite ac_e__RT at 0x1d3af40efb0>,\n <Metabolite 44mctr_r__RT at 0x1d3af40f010>,\n <Metabolite for_r__RT at 0x1d3af40f040>,\n <Metabolite h2o_r__RT at 0x1d3af40f070>,\n <Metabolite lanost_r__RT at 0x1d3af40f0a0>,\n <Metabolite nad_r__RT at 0x1d3af40f0d0>,\n <Metabolite nadh_r__RT at 0x1d3af40f100>,\n <Metabolite o2_r__RT at 0x1d3af40f130>,\n <Metabolite 2mb2coa_m__RT at 0x1d3af40f190>,\n <Metabolite 2mbcoa_m__RT at 0x1d3af40f1c0>,\n <Metabolite 2dr1p_c__RT at 0x1d3af40f220>,\n <Metabolite thym_c__RT at 0x1d3af40f250>,\n <Metabolite thymd_c__RT at 0x1d3af40f280>,\n <Metabolite inost_c__RT at 0x1d3af40f2e0>,\n <Metabolite inost_e__RT at 0x1d3af40f310>,\n <Metabolite cer2_24_g__RT at 0x1d3af40f370>,\n <Metabolite h2o_g__RT at 0x1d3af40f3a0>,\n <Metabolite h_g__RT at 0x1d3af40f3d0>,\n <Metabolite ipc224_RT_g__RT at 0x1d3af40f400>,\n <Metabolite mi1p__D_g__RT at 0x1d3af40f430>,\n <Metabolite trnatrp_m__RT at 0x1d3af40f4c0>,\n <Metabolite trp__L_m__RT at 0x1d3af40f4f0>,\n <Metabolite trptrna_m__RT at 0x1d3af40f520>,\n <Metabolite f6p_c__RT at 0x1d3af40f580>,\n <Metabolite fru_c__RT at 0x1d3af40f5b0>,\n <Metabolite 2oxoadp_m__RT at 0x1d3af40f610>,\n <Metabolite hicit_m__RT at 0x1d3af40f640>,\n <Metabolite nad_m__RT at 0x1d3af40f670>,\n <Metabolite nadh_m__RT at 0x1d3af40f6a0>,\n <Metabolite mal__L_c__RT at 0x1d3af40f700>,\n <Metabolite mal__L_m__RT at 0x1d3af40f730>,\n <Metabolite 4gudbd_c__RT at 0x1d3af40f790>,\n <Metabolite 4gudbutn_c__RT at 0x1d3af40f7c0>,\n <Metabolite 2mcit_m__RT at 0x1d3af40f820>,\n <Metabolite ppcoa_m__RT at 0x1d3af40f850>,\n <Metabolite gsn_c__RT at 0x1d3af40f8b0>,\n <Metabolite gua_c__RT at 0x1d3af40f8e0>,\n <Metabolite 4ppan_c__RT at 0x1d3af40f940>,\n <Metabolite pnto__R_c__RT at 0x1d3af40f970>,\n <Metabolite adn_c__RT at 0x1d3af40fa00>,\n <Metabolite ins_c__RT at 0x1d3af40fa30>,\n <Metabolite ura_e__RT at 0x1d3af40fac0>,\n <Metabolite ocdca_x__RT at 0x1d3af40fb20>,\n <Metabolite stcoa_c__RT at 0x1d3af40fb50>,\n <Metabolite pad_c__RT at 0x1d3af40fbb0>,\n <Metabolite ergst_c__RT at 0x1d3af40fc10>,\n <Metabolite ergst_e__RT at 0x1d3af40fc40>,\n <Metabolite acrn_x__RT at 0x1d3af40fca0>,\n <Metabolite crn_x__RT at 0x1d3af40fcd0>,\n <Metabolite udpgal_c__RT at 0x1d3af40fd30>,\n <Metabolite ficytc_m__RT at 0x1d3af40fd90>,\n <Metabolite focytc_m__RT at 0x1d3af40fdc0>,\n <Metabolite q9_m__RT at 0x1d3af40fdf0>,\n <Metabolite q9h2_m__RT at 0x1d3af40fe20>,\n <Metabolite 3dhsk_c__RT at 0x1d3af40fe80>,\n <Metabolite skm_c__RT at 0x1d3af40feb0>,\n <Metabolite sucsal_c__RT at 0x1d3af40ff10>,\n <Metabolite h2s_c__RT at 0x1d3af40ff70>,\n <Metabolite 2dhp_c__RT at 0x1d3af424040>,\n <Metabolite 3mob_c__RT at 0x1d3af424070>,\n <Metabolite mlthf_c__RT at 0x1d3af4240a0>,\n <Metabolite cer3_24_g__RT at 0x1d3af424100>,\n <Metabolite ipc324_RT_g__RT at 0x1d3af424130>,\n <Metabolite fgam_c__RT at 0x1d3af424190>,\n <Metabolite gar_c__RT at 0x1d3af4241c0>,\n <Metabolite pyam5p_c__RT at 0x1d3af424220>,\n <Metabolite pydam_c__RT at 0x1d3af424250>,\n <Metabolite 3hanthrn_c__RT at 0x1d3af4242b0>,\n <Metabolite hLkynr_c__RT at 0x1d3af4242e0>,\n <Metabolite dnad_n__RT at 0x1d3af424370>,\n <Metabolite nicrnt_n__RT at 0x1d3af4243a0>,\n <Metabolite ppi_n__RT at 0x1d3af4243d0>,\n <Metabolite met__L_m__RT at 0x1d3af424430>,\n <Metabolite mettrna_m__RT at 0x1d3af424460>,\n <Metabolite trnamet_m__RT at 0x1d3af424490>,\n <Metabolite Sfglutth_c__RT at 0x1d3af4244f0>,\n <Metabolite for_c__RT at 0x1d3af424520>,\n <Metabolite 12dgr_RT_g__RT at 0x1d3af424580>,\n <Metabolite cer2_26_g__RT at 0x1d3af4245b0>,\n <Metabolite ipc226_RT_g__RT at 0x1d3af4245e0>,\n <Metabolite ptd1ino_RT_g__RT at 0x1d3af424610>,\n <Metabolite fmn_e__RT at 0x1d3af424670>,\n <Metabolite pi_e__RT at 0x1d3af4246a0>,\n <Metabolite ribflv_e__RT at 0x1d3af4246d0>,\n <Metabolite nadp_x__RT at 0x1d3af424730>,\n <Metabolite nadph_x__RT at 0x1d3af424760>,\n <Metabolite 4pasp_c__RT at 0x1d3af4247f0>,\n <Metabolite aspsa_c__RT at 0x1d3af424820>,\n <Metabolite 3hhdcoa_x__RT at 0x1d3af424880>,\n <Metabolite hdd2coa_x__RT at 0x1d3af4248b0>,\n <Metabolite 3hmbcoa_m__RT at 0x1d3af424940>,\n <Metabolite hxan_c__RT at 0x1d3af4249a0>,\n <Metabolite imp_c__RT at 0x1d3af4249d0>,\n <Metabolite prpp_c__RT at 0x1d3af424a00>,\n <Metabolite ergtetrol_r__RT at 0x1d3af424a90>,\n <Metabolite ergtrol_r__RT at 0x1d3af424ac0>,\n <Metabolite aprop_c__RT at 0x1d3af424b20>,\n <Metabolite 23dhmp_m__RT at 0x1d3af424b80>,\n <Metabolite 3mop_m__RT at 0x1d3af424bb0>,\n <Metabolite ergst3glc_c__RT at 0x1d3af424c10>,\n <Metabolite udp_c__RT at 0x1d3af424c40>,\n <Metabolite ocdcya_c__RT at 0x1d3af424ca0>,\n <Metabolite ocdycacoa_c__RT at 0x1d3af424cd0>,\n <Metabolite 1pyr5c_c__RT at 0x1d3af424d30>,\n <Metabolite pro__L_c__RT at 0x1d3af424d60>,\n <Metabolite 2hhxdal_r__RT at 0x1d3af424dc0>,\n <Metabolite mi1p__D_c__RT at 0x1d3af424e20>,\n <Metabolite na1_c__RT at 0x1d3af424e80>,\n <Metabolite na1_e__RT at 0x1d3af424eb0>,\n <Metabolite didp_c__RT at 0x1d3af424f10>,\n <Metabolite ditp_c__RT at 0x1d3af424f40>,\n <Metabolite aps_c__RT at 0x1d3af424fa0>,\n <Metabolite cdp_n__RT at 0x1d3af425000>,\n <Metabolite dcdp_n__RT at 0x1d3af425030>,\n <Metabolite h2o_n__RT at 0x1d3af425060>,\n <Metabolite trdox_n__RT at 0x1d3af425090>,\n <Metabolite trdrd_n__RT at 0x1d3af4250c0>,\n <Metabolite cpppg3_c__RT at 0x1d3af425120>,\n <Metabolite pppg9_c__RT at 0x1d3af425150>,\n <Metabolite ptrc_e__RT at 0x1d3af4251b0>,\n <Metabolite nac_c__RT at 0x1d3af425210>,\n <Metabolite nicrnt_c__RT at 0x1d3af425240>,\n <Metabolite man2mi1p__D_g__RT at 0x1d3af4252a0>,\n <Metabolite mip2c324_RT_g__RT at 0x1d3af4252d0>,\n <Metabolite acald_c__RT at 0x1d3af425330>,\n <Metabolite etoh_c__RT at 0x1d3af425360>,\n <Metabolite cdp_c__RT at 0x1d3af4253f0>,\n <Metabolite ctp_c__RT at 0x1d3af425420>,\n <Metabolite hdcoa_x__RT at 0x1d3af425480>,\n <Metabolite lanost_c__RT at 0x1d3af4254e0>,\n <Metabolite lanost_e__RT at 0x1d3af425510>,\n <Metabolite ddca_c__RT at 0x1d3af425570>,\n <Metabolite ddcacoa_c__RT at 0x1d3af4255a0>,\n <Metabolite 3hddcoa_m__RT at 0x1d3af425600>,\n <Metabolite dd2coa_m__RT at 0x1d3af425630>,\n <Metabolite L2aadp6sa_m__RT at 0x1d3af425690>,\n <Metabolite glu__L_m__RT at 0x1d3af4256c0>,\n <Metabolite nadp_m__RT at 0x1d3af4256f0>,\n <Metabolite nadph_m__RT at 0x1d3af425720>,\n <Metabolite saccrp__L_m__RT at 0x1d3af425750>,\n <Metabolite 4mzym_r__RT at 0x1d3af4257b0>,\n <Metabolite nadp_r__RT at 0x1d3af4257e0>,\n <Metabolite nadph_r__RT at 0x1d3af425810>,\n <Metabolite zym_int1_r__RT at 0x1d3af425840>,\n <Metabolite dudp_c__RT at 0x1d3af4258a0>,\n <Metabolite dump_c__RT at 0x1d3af4258d0>,\n <Metabolite itp_c__RT at 0x1d3af425930>,\n <Metabolite cer1_24_r__RT at 0x1d3af425990>,\n <Metabolite cer2p_24_r__RT at 0x1d3af4259c0>,\n <Metabolite allphn_c__RT at 0x1d3af425a20>,\n <Metabolite duri_c__RT at 0x1d3af425a80>,\n <Metabolite accoa_c__RT at 0x1d3af425b10>,\n <Metabolite hom__L_c__RT at 0x1d3af425b40>,\n <Metabolite cit_c__RT at 0x1d3af425ba0>,\n <Metabolite phe__L_c__RT at 0x1d3af425c00>,\n <Metabolite phetrna_c__RT at 0x1d3af425c30>,\n <Metabolite trnaphe_c__RT at 0x1d3af425c60>,\n <Metabolite fad_c__RT at 0x1d3af425cc0>,\n <Metabolite fmn_c__RT at 0x1d3af425cf0>,\n <Metabolite trnatyr_c__RT at 0x1d3af425d50>,\n <Metabolite tyr__L_c__RT at 0x1d3af425d80>,\n <Metabolite tyrtrna_c__RT at 0x1d3af425db0>,\n <Metabolite trnatyr_m__RT at 0x1d3af425e10>,\n <Metabolite tyr__L_m__RT at 0x1d3af425e40>,\n <Metabolite tyrtrna_m__RT at 0x1d3af425e70>,\n <Metabolite acybut_c__RT at 0x1d3af425ed0>,\n <Metabolite ile__L_m__RT at 0x1d3af425f30>,\n <Metabolite iletrna_m__RT at 0x1d3af425f60>,\n <Metabolite trnaile_m__RT at 0x1d3af425f90>,\n <Metabolite asp__L_c__RT at 0x1d3af425ff0>,\n <Metabolite caphis_c__RT at 0x1d3af426050>,\n <Metabolite cmaphis_c__RT at 0x1d3af426080>,\n <Metabolite udpgal_g__RT at 0x1d3af4260e0>,\n <Metabolite lald__L_c__RT at 0x1d3af426140>,\n <Metabolite phom_c__RT at 0x1d3af4261a0>,\n <Metabolite 4ppcys_c__RT at 0x1d3af426230>,\n <Metabolite pan4p_c__RT at 0x1d3af426260>,\n <Metabolite ap4a_c__RT at 0x1d3af4262c0>,\n <Metabolite prbamp_c__RT at 0x1d3af426320>,\n <Metabolite prbatp_c__RT at 0x1d3af426350>,\n <Metabolite asptrna_c__RT at 0x1d3af4263b0>,\n <Metabolite trnaasp_c__RT at 0x1d3af4263e0>,\n <Metabolite tyr__L_v__RT at 0x1d3af426440>,\n <Metabolite co2_v__RT at 0x1d3af4264d0>,\n <Metabolite pe_RT_v__RT at 0x1d3af426500>,\n <Metabolite ps_RT_v__RT at 0x1d3af426530>,\n <Metabolite dgtp_c__RT at 0x1d3af4265c0>,\n <Metabolite 35ccmp_c__RT at 0x1d3af426620>,\n <Metabolite idp_c__RT at 0x1d3af426680>,\n <Metabolite dudp_n__RT at 0x1d3af4266e0>,\n <Metabolite udp_n__RT at 0x1d3af426710>,\n <Metabolite fru_e__RT at 0x1d3af426770>,\n <Metabolite glc__D_e__RT at 0x1d3af4267a0>,\n <Metabolite sucr_e__RT at 0x1d3af4267d0>,\n <Metabolite ru5p__D_c__RT at 0x1d3af426860>,\n <Metabolite xu5p__D_c__RT at 0x1d3af426890>,\n <Metabolite man6p_c__RT at 0x1d3af4268f0>,\n <Metabolite man_c__RT at 0x1d3af426920>,\n <Metabolite ile__L_c__RT at 0x1d3af426980>,\n <Metabolite ile__L_v__RT at 0x1d3af4269b0>,\n <Metabolite 3dhq_c__RT at 0x1d3af426a40>,\n <Metabolite orn_c__RT at 0x1d3af426aa0>,\n <Metabolite orn_m__RT at 0x1d3af426ad0>,\n <Metabolite 4mop_m__RT at 0x1d3af426b30>,\n <Metabolite akg_m__RT at 0x1d3af426b60>,\n <Metabolite leu__L_m__RT at 0x1d3af426b90>,\n <Metabolite 3htdcoa_m__RT at 0x1d3af426bf0>,\n <Metabolite td2coa_m__RT at 0x1d3af426c20>,\n <Metabolite 3c4mop_m__RT at 0x1d3af426cb0>,\n <Metabolite ocdcya_x__RT at 0x1d3af426d10>,\n <Metabolite cdpchol_c__RT at 0x1d3af426d70>,\n <Metabolite cholp_c__RT at 0x1d3af426da0>,\n <Metabolite utp_c__RT at 0x1d3af426e00>,\n <Metabolite cer2p_26_r__RT at 0x1d3af426e90>,\n <Metabolite pep_c__RT at 0x1d3af426ef0>,\n <Metabolite trdox_m__RT at 0x1d3af426f50>,\n <Metabolite trdrd_m__RT at 0x1d3af426f80>,\n <Metabolite malcoa_c__RT at 0x1d3af426fe0>,\n <Metabolite pmtcoa_c__RT at 0x1d3af427010>,\n <Metabolite prpncoa_m__RT at 0x1d3af427070>,\n <Metabolite ser__L_c__RT at 0x1d3af4270d0>,\n <Metabolite 3oddcoa_x__RT at 0x1d3af427130>,\n <Metabolite alltt_c__RT at 0x1d3af427190>,\n <Metabolite urdglyc_c__RT at 0x1d3af4271c0>,\n <Metabolite urea_c__RT at 0x1d3af4271f0>,\n <Metabolite cer2_24_r__RT at 0x1d3af427250>,\n <Metabolite cer3_24_r__RT at 0x1d3af427280>,\n <Metabolite gam1p_c__RT at 0x1d3af4272e0>,\n <Metabolite gam6p_c__RT at 0x1d3af427310>,\n <Metabolite 5dpmev_c__RT at 0x1d3af427370>,\n <Metabolite occoa_c__RT at 0x1d3af4273d0>,\n <Metabolite dhf_c__RT at 0x1d3af427430>,\n <Metabolite dhpt_c__RT at 0x1d3af427460>,\n <Metabolite acg5p_m__RT at 0x1d3af4274c0>,\n <Metabolite acglu_m__RT at 0x1d3af4274f0>,\n <Metabolite 3pg_c__RT at 0x1d3af427550>,\n <Metabolite 5aop_c__RT at 0x1d3af4275b0>,\n <Metabolite ppbng_c__RT at 0x1d3af4275e0>,\n <Metabolite prfp_c__RT at 0x1d3af427640>,\n <Metabolite prlp_c__RT at 0x1d3af427670>,\n <Metabolite nac_m__RT at 0x1d3af427700>,\n <Metabolite ncam_m__RT at 0x1d3af427730>,\n <Metabolite 2pg_c__RT at 0x1d3af427790>,\n <Metabolite dcmp_c__RT at 0x1d3af4277f0>,\n <Metabolite mip2c224_RT_g__RT at 0x1d3af427850>,\n <Metabolite gluala_c__RT at 0x1d3af4278b0>,\n <Metabolite ala_B_c__RT at 0x1d3af427910>,\n <Metabolite cdpea_r__RT at 0x1d3af427970>,\n <Metabolite pe_RT_r__RT at 0x1d3af4279a0>,\n <Metabolite g1p_c__RT at 0x1d3af427a00>,\n <Metabolite g6p_c__RT at 0x1d3af427a30>,\n <Metabolite adp_v__RT at 0x1d3af427a90>,\n <Metabolite atp_v__RT at 0x1d3af427ac0>,\n <Metabolite gthrd_v__RT at 0x1d3af427af0>,\n <Metabolite h2o_v__RT at 0x1d3af427b20>,\n <Metabolite pi_v__RT at 0x1d3af427b50>,\n <Metabolite dolmanp_r__RT at 0x1d3af427bb0>,\n <Metabolite dolp_r__RT at 0x1d3af427be0>,\n <Metabolite mannan_r__RT at 0x1d3af427c10>,\n <Metabolite damp_c__RT at 0x1d3af427c70>,\n <Metabolite dttp_c__RT at 0x1d3af427cd0>,\n <Metabolite zymst_c__RT at 0x1d3af427d30>,\n <Metabolite zymst_e__RT at 0x1d3af427d60>,\n <Metabolite camp_c__RT at 0x1d3af427dc0>,\n <Metabolite uri_e__RT at 0x1d3af427e20>,\n <Metabolite cbasp_c__RT at 0x1d3af427e80>,\n <Metabolite cbp_c__RT at 0x1d3af427eb0>,\n <Metabolite cystrna_c__RT at 0x1d3af427f10>,\n <Metabolite trnacys_c__RT at 0x1d3af427f40>,\n <Metabolite arg__L_c__RT at 0x1d3af427fa0>,\n <Metabolite arg__L_e__RT at 0x1d3af427fd0>,\n <Metabolite oaa_c__RT at 0x1d3af380070>,\n <Metabolite gdp_g__RT at 0x1d3af3800d0>,\n <Metabolite gdpmann_g__RT at 0x1d3af380100>,\n <Metabolite m3macchitppdol_g__RT at 0x1d3af380130>,\n <Metabolite m4macchitppdol_g__RT at 0x1d3af380160>,\n <Metabolite tag6p__D_c__RT at 0x1d3af3801c0>,\n <Metabolite tagdp__D_c__RT at 0x1d3af3801f0>,\n <Metabolite 4abut_c__RT at 0x1d3af380250>,\n <Metabolite 4abutn_c__RT at 0x1d3af380280>,\n <Metabolite peamn_c__RT at 0x1d3af3802e0>,\n <Metabolite dha_c__RT at 0x1d3af3803d0>,\n <Metabolite 3hpcoa_m__RT at 0x1d3af380430>,\n <Metabolite 3hpp_m__RT at 0x1d3af380460>,\n <Metabolite asn__L_c__RT at 0x1d3af3804c0>,\n <Metabolite asn__L_v__RT at 0x1d3af3804f0>,\n <Metabolite acgam1p_c__RT at 0x1d3af3805b0>,\n <Metabolite acgam6p_c__RT at 0x1d3af3805e0>,\n <Metabolite gam_c__RT at 0x1d3af380670>,\n <Metabolite 16BDglcn_c__RT at 0x1d3af3806d0>,\n <Metabolite ACP_m__RT at 0x1d3af380730>,\n <Metabolite malACP_m__RT at 0x1d3af380760>,\n <Metabolite malcoa_m__RT at 0x1d3af380790>,\n <Metabolite amp_n__RT at 0x1d3af3807f0>,\n <Metabolite nad_n__RT at 0x1d3af380820>,\n <Metabolite nh4_n__RT at 0x1d3af380850>,\n <Metabolite thfglu_c__RT at 0x1d3af3808e0>,\n <Metabolite actn__R_c__RT at 0x1d3af380970>,\n <Metabolite btd_RR_c__RT at 0x1d3af3809a0>,\n <Metabolite aacoa_c__RT at 0x1d3af380a00>,\n <Metabolite hmgcoa_c__RT at 0x1d3af380a30>,\n <Metabolite ahdt_c__RT at 0x1d3af380a90>,\n <Metabolite gdpddman_c__RT at 0x1d3af380af0>,\n <Metabolite gdpmann_c__RT at 0x1d3af380b20>,\n <Metabolite mlthf_m__RT at 0x1d3af380b80>,\n <Metabolite leutrna_c__RT at 0x1d3af380be0>,\n <Metabolite trnaleu_c__RT at 0x1d3af380c10>,\n <Metabolite ahcys_r__RT at 0x1d3af380c70>,\n <Metabolite amet_r__RT at 0x1d3af380ca0>,\n <Metabolite ptd2meeta_RT_r__RT at 0x1d3af380cd0>,\n <Metabolite glyc3p_c__RT at 0x1d3af380d30>,\n <Metabolite ncam_c__RT at 0x1d3af380d90>,\n <Metabolite glp_c__RT at 0x1d3af380df0>,\n <Metabolite tglp_c__RT at 0x1d3af380e20>,\n <Metabolite 2dr5p_c__RT at 0x1d3af380e80>,\n <Metabolite drib_c__RT at 0x1d3af380eb0>,\n <Metabolite adn_e__RT at 0x1d3af380f10>,\n <Metabolite urea_e__RT at 0x1d3af380f70>,\n <Metabolite ipc326_RT_g__RT at 0x1d3af381000>,\n <Metabolite mipc326_RT_g__RT at 0x1d3af381030>,\n <Metabolite dcamp_c__RT at 0x1d3af3810c0>,\n <Metabolite fum_c__RT at 0x1d3af3810f0>,\n <Metabolite akg_x__RT at 0x1d3af381180>,\n <Metabolite co2_x__RT at 0x1d3af3811b0>,\n <Metabolite icit_x__RT at 0x1d3af3811e0>,\n <Metabolite e4p_c__RT at 0x1d3af381240>,\n <Metabolite fecost_r__RT at 0x1d3af3812a0>,\n <Metabolite zymst_r__RT at 0x1d3af3812d0>,\n <Metabolite btamp_c__RT at 0x1d3af381330>,\n <Metabolite btn_c__RT at 0x1d3af381360>,\n <Metabolite dutp_c__RT at 0x1d3af3813c0>,\n <Metabolite gthox_c__RT at 0x1d3af381420>,\n <Metabolite methf_c__RT at 0x1d3af381480>,\n <Metabolite met__L_e__RT at 0x1d3af381540>,\n <Metabolite 3hbcoa_c__RT at 0x1d3af3815a0>,\n <Metabolite 3mob_m__RT at 0x1d3af381600>,\n <Metabolite val__L_m__RT at 0x1d3af381630>,\n <Metabolite gthrd_e__RT at 0x1d3af381690>,\n <Metabolite metsox_S__L_c__RT at 0x1d3af3816f0>,\n <Metabolite chol_n__RT at 0x1d3af381750>,\n <Metabolite pa_RT_n__RT at 0x1d3af381780>,\n <Metabolite pc_RT_n__RT at 0x1d3af3817b0>,\n <Metabolite hexc_x__RT at 0x1d3af381840>,\n <Metabolite hexccoa_x__RT at 0x1d3af381870>,\n <Metabolite pdx5p_c__RT at 0x1d3af3818d0>,\n <Metabolite pydxn_c__RT at 0x1d3af381900>,\n <Metabolite eig3p_c__RT at 0x1d3af381990>,\n <Metabolite 1ag3p_RT_r__RT at 0x1d3af3819f0>,\n <Metabolite cytd_e__RT at 0x1d3af381a80>,\n <Metabolite 2mp2coa_m__RT at 0x1d3af381b10>,\n <Metabolite 3hibutcoa_m__RT at 0x1d3af381b40>,\n <Metabolite Lcyst_c__RT at 0x1d3af381ba0>,\n <Metabolite frdp_c__RT at 0x1d3af381c30>,\n <Metabolite iletrna_c__RT at 0x1d3af381c90>,\n <Metabolite trnaile_c__RT at 0x1d3af381cc0>,\n <Metabolite cer1_24_g__RT at 0x1d3af381d20>,\n <Metabolite ipc124_RT_g__RT at 0x1d3af381d50>,\n <Metabolite hco3_c__RT at 0x1d3af381de0>,\n <Metabolite octa_m__RT at 0x1d3af381e40>,\n <Metabolite 34hpp_c__RT at 0x1d3af381ea0>,\n <Metabolite glycogen_c__RT at 0x1d3af381f00>,\n <Metabolite inost_r__RT at 0x1d3af381f90>,\n <Metabolite ptd1ino_RT_r__RT at 0x1d3af381fc0>,\n <Metabolite quln_c__RT at 0x1d3af382020>,\n <Metabolite manmi1p__D_g__RT at 0x1d3af382080>,\n <Metabolite mipc124_RT_g__RT at 0x1d3af3820b0>,\n <Metabolite pydx_c__RT at 0x1d3af382140>,\n <Metabolite 4r5au_c__RT at 0x1d3af3821a0>,\n <Metabolite db4p_c__RT at 0x1d3af3821d0>,\n <Metabolite dmlz_c__RT at 0x1d3af382200>,\n <Metabolite man1p_c__RT at 0x1d3af382260>,\n <Metabolite mettrna_c__RT at 0x1d3af3822c0>,\n <Metabolite trnamet_c__RT at 0x1d3af3822f0>,\n <Metabolite co2_g__RT at 0x1d3af382380>,\n <Metabolite pe_RT_g__RT at 0x1d3af3823b0>,\n <Metabolite ps_RT_g__RT at 0x1d3af3823e0>,\n <Metabolite lac__D_c__RT at 0x1d3af382440>,\n <Metabolite dd2coa_x__RT at 0x1d3af3824d0>,\n <Metabolite 25dthpp_c__RT at 0x1d3af382530>,\n <Metabolite 5aprbu_c__RT at 0x1d3af382560>,\n <Metabolite 5aop_m__RT at 0x1d3af3825c0>,\n <Metabolite gly_m__RT at 0x1d3af3825f0>,\n <Metabolite succoa_m__RT at 0x1d3af382620>,\n <Metabolite 3mbald_c__RT at 0x1d3af382680>,\n <Metabolite iamoh_c__RT at 0x1d3af3826b0>,\n <Metabolite gmp_g__RT at 0x1d3af382710>,\n <Metabolite pi_g__RT at 0x1d3af382740>,\n <Metabolite pi_r__RT at 0x1d3af3827a0>,\n <Metabolite spmd_c__RT at 0x1d3af382800>,\n <Metabolite spmd_e__RT at 0x1d3af382830>,\n <Metabolite dca_x__RT at 0x1d3af382890>,\n <Metabolite 3otdcoa_m__RT at 0x1d3af3828f0>,\n <Metabolite ddcacoa_m__RT at 0x1d3af382920>,\n <Metabolite cdp_r__RT at 0x1d3af3829b0>,\n <Metabolite sertrna_c__RT at 0x1d3af382a40>,\n <Metabolite trnaser_c__RT at 0x1d3af382a70>,\n <Metabolite s7p_c__RT at 0x1d3af382ad0>,\n <Metabolite ptcys_c__RT at 0x1d3af382bc0>,\n <Metabolite cbp_m__RT at 0x1d3af382c20>,\n <Metabolite citr__L_m__RT at 0x1d3af382c50>,\n <Metabolite epist_r__RT at 0x1d3af382cb0>,\n <Metabolite icit_c__RT at 0x1d3af382d10>,\n <Metabolite icit_m__RT at 0x1d3af382d40>,\n <Metabolite 13BDglcn_c__RT at 0x1d3af382da0>,\n <Metabolite dscl_c__RT at 0x1d3af382e00>,\n <Metabolite scl_c__RT at 0x1d3af382e30>,\n <Metabolite gal1p_c__RT at 0x1d3af382e90>,\n <Metabolite gal_c__RT at 0x1d3af382ec0>,\n <Metabolite thm_c__RT at 0x1d3af382f50>,\n <Metabolite thmpp_c__RT at 0x1d3af382f80>,\n <Metabolite cer2_26_r__RT at 0x1d3af382fe0>,\n <Metabolite acon_C_m__RT at 0x1d3af383040>,\n <Metabolite mipc324_RT_g__RT at 0x1d3af3830d0>,\n <Metabolite glx_x__RT at 0x1d3af383130>,\n <Metabolite glyclt_x__RT at 0x1d3af383160>,\n <Metabolite fecost_c__RT at 0x1d3af3831c0>,\n <Metabolite fecostest_RT_d__RT at 0x1d3af3831f0>,\n <Metabolite hdca_c__RT at 0x1d3af383220>,\n <Metabolite hdcea_c__RT at 0x1d3af383250>,\n <Metabolite lnlncg_c__RT at 0x1d3af383280>,\n <Metabolite ocdca_c__RT at 0x1d3af3832b0>,\n <Metabolite ocdcea_c__RT at 0x1d3af3832e0>,\n <Metabolite ttc_c__RT at 0x1d3af383310>,\n <Metabolite thr__L_c__RT at 0x1d3af3833a0>,\n <Metabolite thr__L_e__RT at 0x1d3af3833d0>,\n <Metabolite etfox_m__RT at 0x1d3af383430>,\n <Metabolite etfrd_m__RT at 0x1d3af383460>,\n <Metabolite nicrns_c__RT at 0x1d3af3834c0>,\n <Metabolite r1p_c__RT at 0x1d3af3834f0>,\n <Metabolite dpcoa_c__RT at 0x1d3af383550>,\n <Metabolite 2cpr5p_c__RT at 0x1d3af3835b0>,\n <Metabolite 3ig3p_c__RT at 0x1d3af3835e0>,\n <Metabolite id3acald_c__RT at 0x1d3af383640>,\n <Metabolite ind3ac_c__RT at 0x1d3af383670>,\n <Metabolite lys__L_c__RT at 0x1d3af3836d0>,\n <Metabolite lys__L_v__RT at 0x1d3af383700>,\n <Metabolite 5mthf_c__RT at 0x1d3af383760>,\n <Metabolite hcys__L_c__RT at 0x1d3af383790>,\n <Metabolite ptd135bp_RT_r__RT at 0x1d3af383820>,\n <Metabolite ptd3ino_RT_r__RT at 0x1d3af383850>,\n <Metabolite mipc226_RT_g__RT at 0x1d3af383940>,\n <Metabolite cdpdag_RT_m__RT at 0x1d3af3839a0>,\n <Metabolite cmp_m__RT at 0x1d3af3839d0>,\n <Metabolite glyc3p_m__RT at 0x1d3af383a00>,\n <Metabolite pgp_RT_m__RT at 0x1d3af383a30>,\n <Metabolite histd_c__RT at 0x1d3af383ac0>,\n <Metabolite hdcea_x__RT at 0x1d3af383b20>,\n <Metabolite epistest_RT_r__RT at 0x1d3af383bb0>,\n <Metabolite hdcoa_r__RT at 0x1d3af383be0>,\n <Metabolite ibutac_c__RT at 0x1d3af383c40>,\n <Metabolite 3otdcoa_x__RT at 0x1d3af383ca0>,\n <Metabolite xmp_c__RT at 0x1d3af383d00>,\n <Metabolite 4adcho_c__RT at 0x1d3af383d60>,\n <Metabolite chor_c__RT at 0x1d3af383d90>,\n <Metabolite indpyr_c__RT at 0x1d3af383e20>,\n <Metabolite pan4p_x__RT at 0x1d3af383e80>,\n <Metabolite pap_x__RT at 0x1d3af383eb0>,\n <Metabolite lanostest_RT_d__RT at 0x1d3af383f10>,\n <Metabolite acorn_m__RT at 0x1d3af383f70>,\n <Metabolite val__L_c__RT at 0x1d3af383fd0>,\n <Metabolite val__L_e__RT at 0x1d3af3ec040>,\n <Metabolite ergst_r__RT at 0x1d3af3ec0a0>,\n <Metabolite psd5p_c__RT at 0x1d3af3ec130>,\n <Metabolite 1agpc_RT_r__RT at 0x1d3af3ec190>,\n <Metabolite triglyc_RT_r__RT at 0x1d3af3ec1c0>,\n <Metabolite hdcoa_c__RT at 0x1d3af3ec220>,\n <Metabolite alac__S_m__RT at 0x1d3af3ec2e0>,\n <Metabolite pyr_m__RT at 0x1d3af3ec310>,\n <Metabolite ptd1ino_RT_n__RT at 0x1d3af3ec3d0>,\n <Metabolite ptd3ino_RT_n__RT at 0x1d3af3ec400>,\n <Metabolite nh4_e__RT at 0x1d3af3ec4c0>,\n <Metabolite glucys_c__RT at 0x1d3af3ec520>,\n <Metabolite alatrna_c__RT at 0x1d3af3ec580>,\n <Metabolite trnaala_c__RT at 0x1d3af3ec5b0>,\n <Metabolite o2_m__RT at 0x1d3af3ec610>,\n <Metabolite ppp9_m__RT at 0x1d3af3ec640>,\n <Metabolite pppg9_m__RT at 0x1d3af3ec670>,\n <Metabolite glntrna_c__RT at 0x1d3af3ec700>,\n <Metabolite trnagln_c__RT at 0x1d3af3ec730>,\n <Metabolite citr__L_c__RT at 0x1d3af3ec7c0>,\n <Metabolite ade_e__RT at 0x1d3af3ec850>,\n <Metabolite tre_c__RT at 0x1d3af3ec8b0>,\n <Metabolite glu__L_e__RT at 0x1d3af3ec910>,\n <Metabolite fecost_e__RT at 0x1d3af3ec970>,\n <Metabolite suc6p_c__RT at 0x1d3af3ec9d0>,\n <Metabolite 2dda7p_m__RT at 0x1d3af3eca60>,\n <Metabolite e4p_m__RT at 0x1d3af3eca90>,\n <Metabolite pep_m__RT at 0x1d3af3ecac0>,\n <Metabolite 14glun_c__RT at 0x1d3af3ecb20>,\n <Metabolite 1p3h5c_c__RT at 0x1d3af3ecb80>,\n <Metabolite 4hpro_LT_c__RT at 0x1d3af3ecbb0>,\n <Metabolite 4mpetz_c__RT at 0x1d3af3ecc10>,\n <Metabolite thmmp_c__RT at 0x1d3af3ecc40>,\n <Metabolite fdp_c__RT at 0x1d3af3eccd0>,\n <Metabolite argsuc_c__RT at 0x1d3af3ecd60>,\n <Metabolite 2dda7p_c__RT at 0x1d3af3ecdc0>,\n <Metabolite leu__L_e__RT at 0x1d3af3ece20>,\n <Metabolite 3psme_c__RT at 0x1d3af3ece80>,\n <Metabolite skm3p_c__RT at 0x1d3af3eceb0>,\n <Metabolite 4abut_e__RT at 0x1d3af3ecf10>,\n <Metabolite 3htdcoa_x__RT at 0x1d3af3ecf70>,\n <Metabolite td2coa_x__RT at 0x1d3af3ecfa0>,\n <Metabolite lanostest_RT_r__RT at 0x1d3af3ed030>,\n <Metabolite mip2c226_RT_g__RT at 0x1d3af3ed090>,\n <Metabolite 3hddcoa_x__RT at 0x1d3af3ed0f0>,\n <Metabolite 25aics_c__RT at 0x1d3af3ed210>,\n <Metabolite 5aizc_c__RT at 0x1d3af3ed240>,\n <Metabolite pram_c__RT at 0x1d3af3ed300>,\n <Metabolite dcacoa_c__RT at 0x1d3af3ed360>,\n <Metabolite 3dsphgn_r__RT at 0x1d3af3ed3c0>,\n <Metabolite co2_r__RT at 0x1d3af3ed3f0>,\n <Metabolite ser__L_r__RT at 0x1d3af3ed420>,\n <Metabolite glu5p_c__RT at 0x1d3af3ed480>,\n <Metabolite glu5sa_c__RT at 0x1d3af3ed4b0>,\n <Metabolite 5mdr1p_c__RT at 0x1d3af3ed510>,\n <Metabolite 5mdru1p_c__RT at 0x1d3af3ed540>,\n <Metabolite acser_c__RT at 0x1d3af3ed5a0>,\n <Metabolite his__L_e__RT at 0x1d3af3ed630>,\n <Metabolite 2aobut_c__RT at 0x1d3af3ed690>,\n <Metabolite athr__L_c__RT at 0x1d3af3ed6c0>,\n <Metabolite dolp_c__RT at 0x1d3af3ed720>,\n <Metabolite apep_c__RT at 0x1d3af3ed780>,\n <Metabolite pepd_c__RT at 0x1d3af3ed7b0>,\n <Metabolite mercppyr_c__RT at 0x1d3af3ed810>,\n <Metabolite pro__L_e__RT at 0x1d3af3ed870>,\n <Metabolite ibcoa_m__RT at 0x1d3af3ed8d0>,\n <Metabolite 25dhpp_c__RT at 0x1d3af3ed930>,\n <Metabolite m2macchitppdol_g__RT at 0x1d3af3ed9c0>,\n <Metabolite air_c__RT at 0x1d3af3eda50>,\n <Metabolite leutrna_m__RT at 0x1d3af3edab0>,\n <Metabolite trnaleu_m__RT at 0x1d3af3edae0>,\n <Metabolite glyc_c__RT at 0x1d3af3edb40>,\n <Metabolite gthox_m__RT at 0x1d3af3edba0>,\n <Metabolite gthrd_m__RT at 0x1d3af3edbd0>,\n <Metabolite acrn_m__RT at 0x1d3af3edc30>,\n <Metabolite crn_m__RT at 0x1d3af3edc60>,\n <Metabolite dimp_c__RT at 0x1d3af3edcc0>,\n <Metabolite dad_2_c__RT at 0x1d3af3edd20>,\n <Metabolite frdp_m__RT at 0x1d3af3edd80>,\n <Metabolite hemeO_m__RT at 0x1d3af3eddb0>,\n <Metabolite pheme_m__RT at 0x1d3af3edde0>,\n <Metabolite ptd4ino_RT_n__RT at 0x1d3af3ede40>,\n <Metabolite ala__L_e__RT at 0x1d3af3edf00>,\n <Metabolite odecoa_x__RT at 0x1d3af3edf60>,\n <Metabolite csn_c__RT at 0x1d3af3edfc0>,\n <Metabolite csn_e__RT at 0x1d3af3edff0>,\n <Metabolite gln__L_v__RT at 0x1d3af3ee0b0>,\n <Metabolite 23dhmb_m__RT at 0x1d3af3ee110>,\n <Metabolite Lfmkynr_c__RT at 0x1d3af3ee1d0>,\n <Metabolite ump_n__RT at 0x1d3af3ee230>,\n <Metabolite mi13456p_n__RT at 0x1d3af3ee2c0>,\n <Metabolite mi1345p_n__RT at 0x1d3af3ee2f0>,\n <Metabolite argtrna_c__RT at 0x1d3af3ee380>,\n <Metabolite trnaarg_c__RT at 0x1d3af3ee3b0>,\n <Metabolite 34hpp_x__RT at 0x1d3af3ee440>,\n <Metabolite glu__L_x__RT at 0x1d3af3ee470>,\n <Metabolite tyr__L_x__RT at 0x1d3af3ee4a0>,\n <Metabolite f1p_c__RT at 0x1d3af3ee530>,\n <Metabolite glyald_c__RT at 0x1d3af3ee560>,\n <Metabolite asn__L_m__RT at 0x1d3af3ee5c0>,\n <Metabolite asntrna_m__RT at 0x1d3af3ee5f0>,\n <Metabolite trnaasn_m__RT at 0x1d3af3ee620>,\n <Metabolite asp__L_v__RT at 0x1d3af3ee6b0>,\n <Metabolite adprib_c__RT at 0x1d3af3ee710>,\n <Metabolite fpram_c__RT at 0x1d3af3ee770>,\n <Metabolite 8aonn_m__RT at 0x1d3af3ee7d0>,\n <Metabolite amet_m__RT at 0x1d3af3ee800>,\n <Metabolite amob_m__RT at 0x1d3af3ee830>,\n <Metabolite dann_m__RT at 0x1d3af3ee860>,\n <Metabolite ps_RT_r__RT at 0x1d3af3ee8f0>,\n <Metabolite ind3acnl_c__RT at 0x1d3af3ee950>,\n <Metabolite phe__L_e__RT at 0x1d3af3ee9b0>,\n <Metabolite uacgam_c__RT at 0x1d3af3eea10>,\n <Metabolite 3ohxccoa_x__RT at 0x1d3af3eea70>,\n <Metabolite ttccoa_x__RT at 0x1d3af3eeaa0>,\n <Metabolite epist_c__RT at 0x1d3af3eeb90>,\n <Metabolite epistest_RT_d__RT at 0x1d3af3eebc0>,\n <Metabolite ptd4ino_RT_r__RT at 0x1d3af3eecb0>,\n <Metabolite ggdp_c__RT at 0x1d3af3eed40>,\n <Metabolite pnto__R_e__RT at 0x1d3af3eeda0>,\n <Metabolite pant__R_c__RT at 0x1d3af3eee00>,\n <Metabolite sbt__D_c__RT at 0x1d3af3eee60>,\n <Metabolite hmgth_c__RT at 0x1d3af3eeef0>,\n <Metabolite lys__L_e__RT at 0x1d3af3eef50>,\n <Metabolite tre6p_c__RT at 0x1d3af3eefb0>,\n <Metabolite glyc_e__RT at 0x1d3af3ef010>,\n <Metabolite ametam_c__RT at 0x1d3af3ef070>,\n <Metabolite tyr__L_e__RT at 0x1d3af3ef100>,\n <Metabolite 2mbtoh_c__RT at 0x1d3af3ef1f0>,\n <Metabolite 1p3h5c_m__RT at 0x1d3af3ef280>,\n <Metabolite 4hpro_LT_m__RT at 0x1d3af3ef2b0>,\n <Metabolite Dara14lac_c__RT at 0x1d3af3ef310>,\n <Metabolite ertascb__D_c__RT at 0x1d3af3ef340>,\n <Metabolite ptdmeeta_RT_r__RT at 0x1d3af3ef3a0>,\n <Metabolite thm_e__RT at 0x1d3af3ef430>,\n <Metabolite uppg3_c__RT at 0x1d3af3ef490>,\n <Metabolite cer1_26_g__RT at 0x1d3af3ef520>,\n <Metabolite mip2c126_RT_g__RT at 0x1d3af3ef550>,\n <Metabolite 2amsa_c__RT at 0x1d3af3ef5b0>,\n <Metabolite 4mhetz_c__RT at 0x1d3af3ef610>,\n <Metabolite hmbil_c__RT at 0x1d3af3ef670>,\n <Metabolite h2o2_m__RT at 0x1d3af3ef6d0>,\n <Metabolite xylt_c__RT at 0x1d3af3ef790>,\n <Metabolite xylu__D_c__RT at 0x1d3af3ef7c0>,\n <Metabolite trnaval_c__RT at 0x1d3af3ef820>,\n <Metabolite valtrna_c__RT at 0x1d3af3ef850>,\n <Metabolite ergstest_RT_r__RT at 0x1d3af3ef8e0>,\n <Metabolite pydx5p_c__RT at 0x1d3af3ef940>,\n <Metabolite cer3_26_g__RT at 0x1d3af3efa00>,\n <Metabolite udpacgal_c__RT at 0x1d3af3efa60>,\n <Metabolite mipc224_RT_g__RT at 0x1d3af3efaf0>,\n <Metabolite man_e__RT at 0x1d3af3efb50>,\n <Metabolite 2maacoa_m__RT at 0x1d3af3efbe0>,\n <Metabolite so4_c__RT at 0x1d3af3efc40>,\n <Metabolite dagpy_RT_r__RT at 0x1d3af3efcd0>,\n <Metabolite dkmpp_c__RT at 0x1d3af3efd30>,\n <Metabolite clpn_RT_m__RT at 0x1d3af3efd90>,\n <Metabolite pg_RT_m__RT at 0x1d3af3efdc0>,\n <Metabolite 2dglc_c__RT at 0x1d3af3efe20>,\n <Metabolite 2doxg6p_c__RT at 0x1d3af3efe50>,\n <Metabolite L2aadp6sa_c__RT at 0x1d3af3eff10>,\n <Metabolite L2aadp_c__RT at 0x1d3af3eff40>,\n <Metabolite hacon_C_m__RT at 0x1d3af3effa0>,\n <Metabolite 4abz_c__RT at 0x1d3af498070>,\n <Metabolite msa_m__RT at 0x1d3af4980d0>,\n <Metabolite glcn_c__RT at 0x1d3af498130>,\n <Metabolite Ssq23epx_r__RT at 0x1d3af4981c0>,\n <Metabolite sql_r__RT at 0x1d3af4981f0>,\n <Metabolite ac_m__RT at 0x1d3af4982b0>,\n <Metabolite chol_c__RT at 0x1d3af498370>,\n <Metabolite chol_e__RT at 0x1d3af4983a0>,\n <Metabolite ocdycacoa_x__RT at 0x1d3af498400>,\n <Metabolite cer3_26_r__RT at 0x1d3af498460>,\n <Metabolite ade_m__RT at 0x1d3af4984c0>,\n <Metabolite adn_m__RT at 0x1d3af4984f0>,\n <Metabolite odecoa_c__RT at 0x1d3af498550>,\n <Metabolite iad_c__RT at 0x1d3af4985b0>,\n <Metabolite fmettrna_m__RT at 0x1d3af498610>,\n <Metabolite thf_m__RT at 0x1d3af498640>,\n <Metabolite leu__L_v__RT at 0x1d3af4986d0>,\n <Metabolite mi4p__D_c__RT at 0x1d3af498730>,\n <Metabolite fmn_m__RT at 0x1d3af498790>,\n <Metabolite aces_c__RT at 0x1d3af498820>,\n <Metabolite 35cdamp_c__RT at 0x1d3af498880>,\n <Metabolite gua_e__RT at 0x1d3af4988e0>,\n <Metabolite glu__L_v__RT at 0x1d3af498940>,\n <Metabolite epist_e__RT at 0x1d3af4989d0>,\n <Metabolite saccrp__L_c__RT at 0x1d3af498a60>,\n <Metabolite 2ippm_c__RT at 0x1d3af498ac0>,\n <Metabolite 3c3hmp_c__RT at 0x1d3af498af0>,\n <Metabolite ipc126_RT_g__RT at 0x1d3af498b80>,\n <Metabolite g3pi_e__RT at 0x1d3af498be0>,\n <Metabolite ptd1ino_RT_e__RT at 0x1d3af498c10>,\n <Metabolite ptth_c__RT at 0x1d3af498c70>,\n <Metabolite ctp_m__RT at 0x1d3af498d00>,\n <Metabolite glu5sa_m__RT at 0x1d3af498d60>,\n <Metabolite xan_c__RT at 0x1d3af498dc0>,\n <Metabolite xtsn_c__RT at 0x1d3af498df0>,\n <Metabolite arg__L_m__RT at 0x1d3af498e50>,\n <Metabolite argtrna_m__RT at 0x1d3af498e80>,\n <Metabolite trnaarg_m__RT at 0x1d3af498eb0>,\n <Metabolite malt_c__RT at 0x1d3af498fd0>,\n <Metabolite ppa_c__RT at 0x1d3af499030>,\n <Metabolite ppcoa_c__RT at 0x1d3af499060>,\n <Metabolite orn_e__RT at 0x1d3af4990f0>,\n <Metabolite 2obut_c__RT at 0x1d3af4991b0>,\n <Metabolite 3hdcoa_m__RT at 0x1d3af499210>,\n <Metabolite dc2coa_m__RT at 0x1d3af499240>,\n <Metabolite 5oxpro_c__RT at 0x1d3af4992a0>,\n <Metabolite his__L_m__RT at 0x1d3af499330>,\n <Metabolite histrna_m__RT at 0x1d3af499360>,\n <Metabolite trnahis_m__RT at 0x1d3af499390>,\n <Metabolite tdcoa_m__RT at 0x1d3af4993f0>,\n <Metabolite ttdca_m__RT at 0x1d3af499420>,\n <Metabolite arach_c__RT at 0x1d3af499480>,\n <Metabolite g3pc_c__RT at 0x1d3af4994b0>,\n <Metabolite hpdca_c__RT at 0x1d3af4994e0>,\n <Metabolite asp__L_x__RT at 0x1d3af499600>,\n <Metabolite s17bp_c__RT at 0x1d3af499660>,\n <Metabolite protrna_c__RT at 0x1d3af4996f0>,\n <Metabolite trnapro_c__RT at 0x1d3af499720>,\n <Metabolite od2coa_x__RT at 0x1d3af499780>,\n <Metabolite stcoa_x__RT at 0x1d3af4997b0>,\n <Metabolite nmn_c__RT at 0x1d3af499840>,\n <Metabolite ind3eth_c__RT at 0x1d3af499930>,\n <Metabolite sheme_c__RT at 0x1d3af499990>,\n <Metabolite dgsn_c__RT at 0x1d3af4999f0>,\n <Metabolite ap4g_c__RT at 0x1d3af499a50>,\n <Metabolite ptd145bp_RT_n__RT at 0x1d3af499ae0>,\n <Metabolite dump_n__RT at 0x1d3af499b40>,\n <Metabolite gal_e__RT at 0x1d3af499ba0>,\n <Metabolite 2kmb_c__RT at 0x1d3af499c00>,\n <Metabolite mipc126_RT_g__RT at 0x1d3af499cc0>,\n <Metabolite 3c3hmp_m__RT at 0x1d3af499d20>,\n <Metabolite trnaval_m__RT at 0x1d3af499d80>,\n <Metabolite valtrna_m__RT at 0x1d3af499db0>,\n <Metabolite alltn_c__RT at 0x1d3af499e10>,\n <Metabolite h2o2_n__RT at 0x1d3af499e70>,\n <Metabolite xtp_c__RT at 0x1d3af499ed0>,\n <Metabolite fum_m__RT at 0x1d3af499f90>,\n <Metabolite succ_m__RT at 0x1d3af499fc0>,\n <Metabolite cysi__L_c__RT at 0x1d3af49a020>,\n <Metabolite cysi__L_v__RT at 0x1d3af49a050>,\n <Metabolite g3pi_c__RT at 0x1d3af49a110>,\n <Metabolite acetol_c__RT at 0x1d3af49a1a0>,\n <Metabolite lac__D_e__RT at 0x1d3af49a230>,\n <Metabolite gly_e__RT at 0x1d3af49a2c0>,\n <Metabolite tchola_c__RT at 0x1d3af49a380>,\n <Metabolite tchola_v__RT at 0x1d3af49a3b0>,\n <Metabolite lystrna_c__RT at 0x1d3af49a440>,\n <Metabolite trnalys_c__RT at 0x1d3af49a470>,\n <Metabolite 3mgcoa_m__RT at 0x1d3af49a4d0>,\n <Metabolite 12dgr_RT_d__RT at 0x1d3af49a530>,\n <Metabolite triglyc_RT_d__RT at 0x1d3af49a560>,\n <Metabolite 4hglusa_m__RT at 0x1d3af49a620>,\n <Metabolite e4hglu_m__RT at 0x1d3af49a650>,\n <Metabolite ttc_x__RT at 0x1d3af49a6b0>,\n <Metabolite octa_c__RT at 0x1d3af49a860>,\n <Metabolite cys__L_m__RT at 0x1d3af49a8f0>,\n <Metabolite mercppyr_m__RT at 0x1d3af49a920>,\n <Metabolite ile__L_e__RT at 0x1d3af49a980>,\n <Metabolite gln__L_e__RT at 0x1d3af49aa40>,\n <Metabolite pa_RT_m__RT at 0x1d3af49aad0>,\n <Metabolite din_c__RT at 0x1d3af49ab60>,\n <Metabolite hexc_c__RT at 0x1d3af49acb0>,\n <Metabolite mip2c124_RT_g__RT at 0x1d3af49ad10>,\n <Metabolite acon5m_c__RT at 0x1d3af49ada0>,\n <Metabolite acon_T_c__RT at 0x1d3af49add0>,\n <Metabolite 3hodcoa_x__RT at 0x1d3af49ae30>,\n <Metabolite 3ohodcoa_x__RT at 0x1d3af49ae60>,\n <Metabolite cyan_c__RT at 0x1d3af49aef0>,\n <Metabolite tcynt_c__RT at 0x1d3af49af20>,\n <Metabolite asn__L_e__RT at 0x1d3af49af80>,\n <Metabolite C04051_c__RT at 0x1d3af49b010>,\n <Metabolite acg5sa_m__RT at 0x1d3af49b070>,\n <Metabolite 1mncam_c__RT at 0x1d3af49b130>,\n <Metabolite 3hxccoa_x__RT at 0x1d3af49b1c0>,\n <Metabolite dhor__S_c__RT at 0x1d3af49b220>,\n <Metabolite fald_c__RT at 0x1d3af49b340>,\n <Metabolite meoh_c__RT at 0x1d3af49b370>,\n <Metabolite dadp_n__RT at 0x1d3af49b400>,\n <Metabolite sbt__L_c__RT at 0x1d3af49b490>,\n <Metabolite srb__L_c__RT at 0x1d3af49b4c0>,\n <Metabolite dhnpt_c__RT at 0x1d3af49b6a0>,\n <Metabolite dhpmp_c__RT at 0x1d3af49b6d0>,\n <Metabolite mip2c326_RT_g__RT at 0x1d3af49b730>,\n <Metabolite fecostest_RT_r__RT at 0x1d3af49b7c0>,\n <Metabolite orot5p_c__RT at 0x1d3af49b8e0>,\n <Metabolite ribflv_m__RT at 0x1d3af49ba60>,\n <Metabolite succ_x__RT at 0x1d3af49baf0>,\n <Metabolite nac_e__RT at 0x1d3af49bb50>,\n <Metabolite im4ac_c__RT at 0x1d3af49bbe0>,\n ...]"
     },
     "execution_count": 104,
     "metadata": {},
     "output_type": "execute_result"
    }
   ],
   "source": [
    "community.metabolites"
   ]
  },
  {
   "cell_type": "markdown",
   "id": "a9866785",
   "metadata": {
    "pycharm": {
     "name": "#%% md\n"
    }
   },
   "source": [
    "and importantly the `medium`"
   ]
  },
  {
   "cell_type": "code",
   "execution_count": 105,
   "id": "2e3cfd25",
   "metadata": {
    "pycharm": {
     "name": "#%%\n"
    }
   },
   "outputs": [
    {
     "data": {
      "text/plain": "{'EX_co2_m': 1.99,\n 'EX_h_m': 999999.0,\n 'EX_h2o_m': 999999.0,\n 'EX_nh4_m': 999999.0,\n 'EX_o2_m': 999999.0,\n 'EX_pi_m': 999999.0,\n 'EX_so4_m': 999999.0,\n 'EX_glc__D_m': 1000.0,\n 'EX_4abut_m': 1000.0,\n 'EX_ac_m': 1000.0,\n 'EX_acgam_m': 1000.0,\n 'EX_ade_m': 1000.0,\n 'EX_adn_m': 1000.0,\n 'EX_ala__D_m': 1000.0,\n 'EX_ala__L_m': 1000.0,\n 'EX_alltn_m': 1000.0,\n 'EX_asn__L_m': 1000.0,\n 'EX_asp__L_m': 1000.0,\n 'EX_ca2_m': 999999.0,\n 'EX_csn_m': 1000.0,\n 'EX_cys__L_m': 1000.0,\n 'EX_cytd_m': 1000.0,\n 'EX_dad_2_m': 1000.0,\n 'EX_dca_m': 1000.0,\n 'EX_fe2_m': 999999.0,\n 'EX_fe3_m': 999999.0,\n 'EX_for_m': 1000.0,\n 'EX_fru_m': 1000.0,\n 'EX_gal_m': 1000.0,\n 'EX_galur_m': 1000.0,\n 'EX_gam_m': 1000.0,\n 'EX_glu__L_m': 1000.0,\n 'EX_gly_m': 1000.0,\n 'EX_glyc_m': 1000.0,\n 'EX_gua_m': 1000.0,\n 'EX_hco3_m': 1.99,\n 'EX_his__L_m': 1000.0,\n 'EX_ile__L_m': 1000.0,\n 'EX_inost_m': 1000.0,\n 'EX_ins_m': 1000.0,\n 'EX_k_m': 999999.0,\n 'EX_lac__L_m': 1000.0,\n 'EX_leu__L_m': 1000.0,\n 'EX_lys__L_m': 1000.0,\n 'EX_malt_m': 1000.0,\n 'EX_man_m': 1000.0,\n 'EX_met__L_m': 1000.0,\n 'EX_na1_m': 999999.0,\n 'EX_no2_m': 1000.0,\n 'EX_no3_m': 1.76,\n 'EX_orn_m': 1000.0,\n 'EX_phe__L_m': 1000.0,\n 'EX_pro__L_m': 1000.0,\n 'EX_pyr_m': 1000.0,\n 'EX_ser__L_m': 1000.0,\n 'EX_sucr_m': 1000.0,\n 'EX_thr__L_m': 1000.0,\n 'EX_trp__L_m': 1000.0,\n 'EX_tyr__L_m': 1000.0,\n 'EX_ura_m': 1000.0,\n 'EX_urea_m': 1000.0,\n 'EX_uri_m': 1000.0,\n 'EX_val__L_m': 1000.0,\n 'EX_xyl__D_m': 1000.0,\n 'EX_glyclt_m': 1000.0,\n 'EX_mg2_m': 999999.0,\n 'EX_mn2_m': 999999.0,\n 'EX_cu2_m': 999999.0,\n 'EX_zn2_m': 999999.0,\n 'EX_arab__L_m': 1000.0,\n 'EX_lyx__L_m': 1000.0,\n 'EX_succ_m': 1000.0,\n 'EX_tre_m': 1000.0,\n 'EX_galt_m': 1000.0,\n 'EX_ser__D_m': 1000.0,\n 'EX_sbt__D_m': 1000.0,\n 'EX_glcn_m': 1000.0,\n 'EX_glyc3p_m': 1000.0,\n 'EX_g6p_m': 1000.0,\n 'EX_rib__D_m': 1000.0,\n 'EX_thymd_m': 1000.0,\n 'EX_12ppd__S_m': 1000.0,\n 'EX_akg_m': 1000.0,\n 'EX_g1p_m': 1000.0,\n 'EX_f6p_m': 1000.0,\n 'EX_malttr_m': 1000.0,\n 'EX_melib_m': 1000.0,\n 'EX_cit_m': 1000.0,\n 'EX_fum_m': 1000.0,\n 'EX_ppa_m': 1000.0,\n 'EX_acac_m': 1000.0,\n 'EX_mal__L_m': 1000.0,\n 'EX_tym_m': 1000.0,\n 'EX_peamn_m': 1000.0,\n 'EX_etha_m': 1000.0,\n 'EX_but_m': 1000.0,\n 'EX_hxa_m': 1000.0,\n 'EX_5dglcn_m': 1000.0,\n 'EX_hom__L_m': 1000.0,\n 'EX_dha_m': 1000.0,\n 'EX_agm_m': 1000.0,\n 'EX_gsn_m': 1000.0,\n 'EX_thym_m': 1000.0,\n 'EX_xan_m': 1000.0,\n 'EX_xtsn_m': 1000.0,\n 'EX_cmp_m': 1000.0,\n 'EX_gmp_m': 1000.0,\n 'EX_ump_m': 1000.0,\n 'EX_gam6p_m': 1000.0,\n 'EX_man6p_m': 1000.0,\n 'EX_pser__L_m': 1000.0,\n 'EX_minohp_m': 1000.0,\n 'EX_glcr_m': 999999.0,\n 'EX_mnl_m': 999999.0,\n 'EX_fuc__L_m': 999999.0,\n 'EX_glcur_m': 999999.0,\n 'EX_galctn__D_m': 999999.0,\n 'EX_rmn_m': 999999.0,\n 'EX_lcts_m': 999999.0,\n 'EX_galct__D_m': 999999.0,\n 'EX_mal__D_m': 999999.0,\n 'EX_acmana_m': 999999.0,\n 'EX_galctn__L_m': 999999.0,\n 'EX_acnam_m': 999999.0,\n 'EX_all__D_m': 999999.0,\n 'EX_tartr__L_m': 999999.0,\n 'EX_acgal_m': 999999.0,\n 'EX_23camp_m': 999999.0,\n 'EX_3amp_m': 999999.0,\n 'EX_23cgmp_m': 999999.0,\n 'EX_3gmp_m': 999999.0,\n 'EX_23ccmp_m': 999999.0,\n 'EX_3cmp_m': 999999.0,\n 'EX_23cump_m': 999999.0,\n 'EX_thrp_m': 999999.0,\n 'EX_3ump_m': 999999.0,\n 'EX_tyrp_m': 999999.0,\n 'EX_cobalt2_m': 1.7e-05,\n 'EX_mobd_m': 0.00016,\n 'EX_photon410_m': 1000.0,\n 'EX_photon430_m': 1000.0,\n 'EX_photon450_m': 1000.0,\n 'EX_photon470_m': 1000.0,\n 'EX_photon490_m': 1000.0,\n 'EX_photon510_m': 1000.0,\n 'EX_photon530_m': 1000.0,\n 'EX_photon550_m': 1000.0,\n 'EX_photon570_m': 1000.0,\n 'EX_photon590_m': 1000.0,\n 'EX_photon610_m': 1000.0,\n 'EX_photon630_m': 1000.0,\n 'EX_photon650_m': 1000.0,\n 'EX_photon670_m': 1000.0,\n 'EX_photon690_m': 1000.0}"
     },
     "execution_count": 105,
     "metadata": {},
     "output_type": "execute_result"
    }
   ],
   "source": [
    "community.medium"
   ]
  },
  {
   "cell_type": "markdown",
   "id": "77dc0e7b",
   "metadata": {
    "pycharm": {
     "name": "#%% md\n"
    }
   },
   "source": [
    "This behavior mimics the medium in `cobrapy`, but combines both models mediums into 1"
   ]
  },
  {
   "cell_type": "markdown",
   "id": "11ee5119",
   "metadata": {
    "pycharm": {
     "name": "#%% md\n"
    }
   },
   "source": [
    "### Running Optimization\n",
    "\n",
    "Now that we have the model loaded, we can run standard `FBA` methods using `optimize()`. Default optimize does not return any fluxes from the model, so we can set the `fluxes=True` when calling the method to return them."
   ]
  },
  {
   "cell_type": "code",
   "execution_count": 107,
   "id": "dea71b38",
   "metadata": {
    "pycharm": {
     "name": "#%%\n"
    }
   },
   "outputs": [
    {
     "data": {
      "text/plain": "<CommunitySolution 20.129 at 0x1d3ab2b20e0>",
      "text/html": "<strong>community growth:</strong> 20.129<br><strong>status:</strong> optimal<br><strong>taxa:</strong><div>\n<style scoped>\n    .dataframe tbody tr th:only-of-type {\n        vertical-align: middle;\n    }\n\n    .dataframe tbody tr th {\n        vertical-align: top;\n    }\n\n    .dataframe thead th {\n        text-align: right;\n    }\n</style>\n<table border=\"1\" class=\"dataframe\">\n  <thead>\n    <tr style=\"text-align: right;\">\n      <th></th>\n      <th>abundance</th>\n      <th>growth_rate</th>\n      <th>reactions</th>\n      <th>metabolites</th>\n    </tr>\n    <tr>\n      <th>compartments</th>\n      <th></th>\n      <th></th>\n      <th></th>\n      <th></th>\n    </tr>\n  </thead>\n  <tbody>\n    <tr>\n      <th>RT</th>\n      <td>0.5</td>\n      <td>38.257687</td>\n      <td>2423</td>\n      <td>2076</td>\n    </tr>\n    <tr>\n      <th>medium</th>\n      <td>NaN</td>\n      <td>NaN</td>\n      <td>310</td>\n      <td>310</td>\n    </tr>\n    <tr>\n      <th>syn_elong</th>\n      <td>0.5</td>\n      <td>2.000000</td>\n      <td>967</td>\n      <td>884</td>\n    </tr>\n  </tbody>\n</table>\n</div>"
     },
     "execution_count": 107,
     "metadata": {},
     "output_type": "execute_result"
    }
   ],
   "source": [
    "result = community.optimize(fluxes=True)\n",
    "result"
   ]
  },
  {
   "cell_type": "markdown",
   "id": "1b5f5102",
   "metadata": {
    "pycharm": {
     "name": "#%% md\n"
    }
   },
   "source": [
    "We can see that both organisms have a non-zero growth rate and that the community growth is also non-zero. Let's check the fluxes."
   ]
  },
  {
   "cell_type": "code",
   "execution_count": 108,
   "id": "8d749d43",
   "metadata": {
    "pycharm": {
     "name": "#%%\n"
    }
   },
   "outputs": [
    {
     "data": {
      "text/plain": "compartment\nRT          -100.0\nmedium         NaN\nsyn_elong      0.0\nName: EX_sucr_e, dtype: float64"
     },
     "execution_count": 108,
     "metadata": {},
     "output_type": "execute_result"
    }
   ],
   "source": [
    "result.fluxes.EX_sucr_e"
   ]
  },
  {
   "cell_type": "markdown",
   "id": "6b5317d4",
   "metadata": {
    "pycharm": {
     "name": "#%% md\n"
    }
   },
   "source": [
    "#### Changing parts of the medium to test it's effect on growth\n",
    "\n",
    "Now that we can successfully optimize the community model, we can begin altering the models medium and seeing how it changes the (community) growth rate."
   ]
  },
  {
   "cell_type": "markdown",
   "id": "cfb08e44",
   "metadata": {
    "pycharm": {
     "name": "#%% md\n"
    }
   },
   "source": [
    "First, let's make a copy of the original medium so that we can restore it after making changes."
   ]
  },
  {
   "cell_type": "code",
   "execution_count": 109,
   "id": "4f91c0c4",
   "metadata": {
    "pycharm": {
     "name": "#%%\n"
    }
   },
   "outputs": [],
   "source": [
    "medium_bkp = community.medium"
   ]
  },
  {
   "cell_type": "markdown",
   "id": "697ff7b3",
   "metadata": {
    "pycharm": {
     "name": "#%% md\n"
    }
   },
   "source": [
    "Now we can make changes to the medium. The following cell is meant to be re-run with making changes. It will first restore the medium to the original and them set "
   ]
  },
  {
   "cell_type": "code",
   "execution_count": 110,
   "id": "5bcbffc8",
   "metadata": {
    "pycharm": {
     "name": "#%%\n"
    },
    "scrolled": true
   },
   "outputs": [
    {
     "data": {
      "text/plain": "{'EX_co2_m': 1.99,\n 'EX_h_m': 999999.0,\n 'EX_h2o_m': 999999.0,\n 'EX_nh4_m': 999999.0,\n 'EX_o2_m': 999999.0,\n 'EX_pi_m': 999999.0,\n 'EX_so4_m': 999999.0,\n 'EX_4abut_m': 1000.0,\n 'EX_ac_m': 1000.0,\n 'EX_acgam_m': 1000.0,\n 'EX_ade_m': 1000.0,\n 'EX_adn_m': 1000.0,\n 'EX_ala__D_m': 1000.0,\n 'EX_ala__L_m': 1000.0,\n 'EX_alltn_m': 1000.0,\n 'EX_asn__L_m': 1000.0,\n 'EX_asp__L_m': 1000.0,\n 'EX_ca2_m': 999999.0,\n 'EX_csn_m': 1000.0,\n 'EX_cys__L_m': 1000.0,\n 'EX_cytd_m': 1000.0,\n 'EX_dad_2_m': 1000.0,\n 'EX_dca_m': 1000.0,\n 'EX_fe2_m': 999999.0,\n 'EX_fe3_m': 999999.0,\n 'EX_for_m': 1000.0,\n 'EX_fru_m': 1000.0,\n 'EX_gal_m': 1000.0,\n 'EX_galur_m': 1000.0,\n 'EX_gam_m': 1000.0,\n 'EX_glu__L_m': 1000.0,\n 'EX_gly_m': 1000.0,\n 'EX_glyc_m': 1000.0,\n 'EX_gua_m': 1000.0,\n 'EX_hco3_m': 1.99,\n 'EX_his__L_m': 1000.0,\n 'EX_ile__L_m': 1000.0,\n 'EX_inost_m': 1000.0,\n 'EX_ins_m': 1000.0,\n 'EX_k_m': 999999.0,\n 'EX_lac__L_m': 1000.0,\n 'EX_leu__L_m': 1,\n 'EX_lys__L_m': 1000.0,\n 'EX_malt_m': 1000.0,\n 'EX_man_m': 1000.0,\n 'EX_met__L_m': 1000.0,\n 'EX_na1_m': 999999.0,\n 'EX_no2_m': 1000.0,\n 'EX_no3_m': 1.76,\n 'EX_orn_m': 1000.0,\n 'EX_phe__L_m': 1000.0,\n 'EX_pro__L_m': 1000.0,\n 'EX_pyr_m': 1000.0,\n 'EX_ser__L_m': 1000.0,\n 'EX_thr__L_m': 1000.0,\n 'EX_trp__L_m': 1000.0,\n 'EX_tyr__L_m': 1000.0,\n 'EX_ura_m': 1000.0,\n 'EX_urea_m': 1000.0,\n 'EX_uri_m': 1000.0,\n 'EX_val__L_m': 1000.0,\n 'EX_xyl__D_m': 1000.0,\n 'EX_glyclt_m': 1000.0,\n 'EX_mg2_m': 999999.0,\n 'EX_mn2_m': 999999.0,\n 'EX_cu2_m': 999999.0,\n 'EX_zn2_m': 999999.0,\n 'EX_arab__L_m': 1000.0,\n 'EX_lyx__L_m': 1000.0,\n 'EX_succ_m': 1000.0,\n 'EX_tre_m': 1000.0,\n 'EX_galt_m': 1000.0,\n 'EX_ser__D_m': 1000.0,\n 'EX_sbt__D_m': 1000.0,\n 'EX_glcn_m': 1000.0,\n 'EX_glyc3p_m': 1000.0,\n 'EX_g6p_m': 1000.0,\n 'EX_rib__D_m': 1000.0,\n 'EX_thymd_m': 1000.0,\n 'EX_12ppd__S_m': 1000.0,\n 'EX_akg_m': 1000.0,\n 'EX_g1p_m': 1000.0,\n 'EX_f6p_m': 1000.0,\n 'EX_malttr_m': 1000.0,\n 'EX_melib_m': 1000.0,\n 'EX_cit_m': 1000.0,\n 'EX_fum_m': 1000.0,\n 'EX_ppa_m': 1000.0,\n 'EX_acac_m': 1000.0,\n 'EX_mal__L_m': 1000.0,\n 'EX_tym_m': 1000.0,\n 'EX_peamn_m': 1000.0,\n 'EX_etha_m': 1000.0,\n 'EX_but_m': 1000.0,\n 'EX_hxa_m': 1000.0,\n 'EX_5dglcn_m': 1000.0,\n 'EX_hom__L_m': 1000.0,\n 'EX_dha_m': 1000.0,\n 'EX_agm_m': 1000.0,\n 'EX_gsn_m': 1000.0,\n 'EX_thym_m': 1000.0,\n 'EX_xan_m': 1000.0,\n 'EX_xtsn_m': 1000.0,\n 'EX_cmp_m': 1000.0,\n 'EX_gmp_m': 1000.0,\n 'EX_ump_m': 1000.0,\n 'EX_gam6p_m': 1000.0,\n 'EX_man6p_m': 1000.0,\n 'EX_pser__L_m': 1000.0,\n 'EX_minohp_m': 1000.0,\n 'EX_glcr_m': 999999.0,\n 'EX_mnl_m': 999999.0,\n 'EX_fuc__L_m': 999999.0,\n 'EX_glcur_m': 999999.0,\n 'EX_galctn__D_m': 999999.0,\n 'EX_rmn_m': 999999.0,\n 'EX_lcts_m': 999999.0,\n 'EX_galct__D_m': 999999.0,\n 'EX_mal__D_m': 999999.0,\n 'EX_acmana_m': 999999.0,\n 'EX_galctn__L_m': 999999.0,\n 'EX_acnam_m': 999999.0,\n 'EX_all__D_m': 999999.0,\n 'EX_tartr__L_m': 999999.0,\n 'EX_acgal_m': 999999.0,\n 'EX_23camp_m': 999999.0,\n 'EX_3amp_m': 999999.0,\n 'EX_23cgmp_m': 999999.0,\n 'EX_3gmp_m': 999999.0,\n 'EX_23ccmp_m': 999999.0,\n 'EX_3cmp_m': 999999.0,\n 'EX_23cump_m': 999999.0,\n 'EX_thrp_m': 999999.0,\n 'EX_3ump_m': 999999.0,\n 'EX_tyrp_m': 999999.0,\n 'EX_cobalt2_m': 1.7e-05,\n 'EX_mobd_m': 0.00016,\n 'EX_photon410_m': 1000.0,\n 'EX_photon430_m': 1000.0,\n 'EX_photon450_m': 1000.0,\n 'EX_photon470_m': 1000.0,\n 'EX_photon490_m': 1000.0,\n 'EX_photon510_m': 1000.0,\n 'EX_photon530_m': 1000.0,\n 'EX_photon550_m': 1000.0,\n 'EX_photon570_m': 1000.0,\n 'EX_photon590_m': 1000.0,\n 'EX_photon610_m': 1000.0,\n 'EX_photon630_m': 1000.0,\n 'EX_photon650_m': 1000.0,\n 'EX_photon670_m': 1000.0,\n 'EX_photon690_m': 1000.0}"
     },
     "execution_count": 110,
     "metadata": {},
     "output_type": "execute_result"
    }
   ],
   "source": [
    "# Restore medium to original\n",
    "community.medium = medium_bkp\n",
    "\n",
    "# Set variable to become new medium\n",
    "medium_to_change = community.medium\n",
    "\n",
    "#Add or subtract reactions\n",
    "medium_to_change[\"EX_glc__D_m\"] = 0\n",
    "medium_to_change[\"EX_sucr_m\"] = 0\n",
    "medium_to_change[\"EX_leu__L_m\"] = 1\n",
    "\n",
    "# Set the new medium as the model's medium\n",
    "community.medium = medium_to_change\n",
    "community.medium"
   ]
  },
  {
   "cell_type": "markdown",
   "id": "059da22e",
   "metadata": {
    "pycharm": {
     "name": "#%% md\n"
    }
   },
   "source": [
    "Now that the medium is changed, we can rerun the model optimization."
   ]
  },
  {
   "cell_type": "code",
   "execution_count": 111,
   "id": "4d9b3972",
   "metadata": {
    "pycharm": {
     "name": "#%%\n"
    }
   },
   "outputs": [],
   "source": [
    "result_altered_medium = community.optimize(fluxes=True)"
   ]
  },
  {
   "cell_type": "code",
   "execution_count": 112,
   "id": "42251be8",
   "metadata": {
    "pycharm": {
     "name": "#%%\n"
    }
   },
   "outputs": [
    {
     "data": {
      "text/plain": "compartment\nRT           0.0\nmedium       NaN\nsyn_elong    0.0\nName: EX_sucr_e, dtype: float64"
     },
     "execution_count": 112,
     "metadata": {},
     "output_type": "execute_result"
    }
   ],
   "source": [
    "result_altered_medium.fluxes.T.loc['EX_sucr_e']"
   ]
  },
  {
   "cell_type": "markdown",
   "id": "6519aab8",
   "metadata": {
    "pycharm": {
     "name": "#%% md\n"
    }
   },
   "source": [
    "## Running the Models with MICOM Grow\n",
    "\n",
    "An alternative to running standard community optimization with `optimize()`, we can also use a `micom.workflows` method called `grow()`. This simulates growth of the organism while also simulating potential tradeoffs (between prioritizing community vs. individual growth). This method does not require our previously constructed `community` object, but rather the `manifest` we added earlier.\n",
    "\n",
    "A key difference here though, is that we need to create a `DataFrame` detailing the reaction, flux, and metabolite as the medium provided to the method."
   ]
  },
  {
   "cell_type": "markdown",
   "id": "70a9a2f6",
   "metadata": {
    "pycharm": {
     "name": "#%% md\n"
    }
   },
   "source": [
    "### Building the Medium"
   ]
  },
  {
   "cell_type": "code",
   "execution_count": 113,
   "id": "32db2090",
   "metadata": {
    "pycharm": {
     "name": "#%%\n"
    }
   },
   "outputs": [],
   "source": [
    "# Restore medium to original\n",
    "community.medium = medium_bkp\n",
    "\n",
    "# Set variable to become new medium\n",
    "grow_medium_to_change = community.medium\n",
    "\n",
    "#Add or subtract reactions\n",
    "#grow_medium_to_change[\"EX_glc__D_m\"] = 0\n",
    "grow_medium_to_change[\"EX_sucr_m\"] = 1\n",
    "#grow_medium_to_change[\"EX_leu__L_m\"] = 1\n"
   ]
  },
  {
   "cell_type": "code",
   "execution_count": 114,
   "id": "8925ffee",
   "metadata": {
    "pycharm": {
     "name": "#%%\n"
    }
   },
   "outputs": [
    {
     "data": {
      "text/plain": "           reaction       flux\n0          EX_co2_m       1.99\n1            EX_h_m  999999.00\n2          EX_h2o_m  999999.00\n3          EX_nh4_m  999999.00\n4           EX_o2_m  999999.00\n..              ...        ...\n149  EX_photon610_m    1000.00\n150  EX_photon630_m    1000.00\n151  EX_photon650_m    1000.00\n152  EX_photon670_m    1000.00\n153  EX_photon690_m    1000.00\n\n[154 rows x 2 columns]",
      "text/html": "<div>\n<style scoped>\n    .dataframe tbody tr th:only-of-type {\n        vertical-align: middle;\n    }\n\n    .dataframe tbody tr th {\n        vertical-align: top;\n    }\n\n    .dataframe thead th {\n        text-align: right;\n    }\n</style>\n<table border=\"1\" class=\"dataframe\">\n  <thead>\n    <tr style=\"text-align: right;\">\n      <th></th>\n      <th>reaction</th>\n      <th>flux</th>\n    </tr>\n  </thead>\n  <tbody>\n    <tr>\n      <th>0</th>\n      <td>EX_co2_m</td>\n      <td>1.99</td>\n    </tr>\n    <tr>\n      <th>1</th>\n      <td>EX_h_m</td>\n      <td>999999.00</td>\n    </tr>\n    <tr>\n      <th>2</th>\n      <td>EX_h2o_m</td>\n      <td>999999.00</td>\n    </tr>\n    <tr>\n      <th>3</th>\n      <td>EX_nh4_m</td>\n      <td>999999.00</td>\n    </tr>\n    <tr>\n      <th>4</th>\n      <td>EX_o2_m</td>\n      <td>999999.00</td>\n    </tr>\n    <tr>\n      <th>...</th>\n      <td>...</td>\n      <td>...</td>\n    </tr>\n    <tr>\n      <th>149</th>\n      <td>EX_photon610_m</td>\n      <td>1000.00</td>\n    </tr>\n    <tr>\n      <th>150</th>\n      <td>EX_photon630_m</td>\n      <td>1000.00</td>\n    </tr>\n    <tr>\n      <th>151</th>\n      <td>EX_photon650_m</td>\n      <td>1000.00</td>\n    </tr>\n    <tr>\n      <th>152</th>\n      <td>EX_photon670_m</td>\n      <td>1000.00</td>\n    </tr>\n    <tr>\n      <th>153</th>\n      <td>EX_photon690_m</td>\n      <td>1000.00</td>\n    </tr>\n  </tbody>\n</table>\n<p>154 rows × 2 columns</p>\n</div>"
     },
     "execution_count": 114,
     "metadata": {},
     "output_type": "execute_result"
    }
   ],
   "source": [
    "grow_medium = pd.Series(grow_medium_to_change).to_frame('flux').reset_index()\n",
    "grow_medium = grow_medium.rename(columns={'index':'reaction'})\n",
    "grow_medium"
   ]
  },
  {
   "cell_type": "code",
   "execution_count": 115,
   "id": "140b91c2",
   "metadata": {
    "pycharm": {
     "name": "#%%\n"
    }
   },
   "outputs": [
    {
     "data": {
      "text/plain": "Output()",
      "application/vnd.jupyter.widget-view+json": {
       "version_major": 2,
       "version_minor": 0,
       "model_id": "04e2e445de704ac69fe742e4161bb294"
      }
     },
     "metadata": {},
     "output_type": "display_data"
    },
    {
     "data": {
      "text/plain": "",
      "text/html": "<pre style=\"white-space:pre;overflow-x:auto;line-height:normal;font-family:Menlo,'DejaVu Sans Mono',consolas,'Courier New',monospace\"></pre>\n"
     },
     "metadata": {},
     "output_type": "display_data"
    },
    {
     "data": {
      "text/plain": "\n",
      "text/html": "<pre style=\"white-space:pre;overflow-x:auto;line-height:normal;font-family:Menlo,'DejaVu Sans Mono',consolas,'Courier New',monospace\">\n</pre>\n"
     },
     "metadata": {},
     "output_type": "display_data"
    }
   ],
   "source": [
    "result_grow = grow(\n",
    "    manifest,\n",
    "    model_folder=model_folder,\n",
    "    medium=grow_medium,\n",
    "    tradeoff=0.01,\n",
    "    threads=2,\n",
    "    presolve=True\n",
    ")"
   ]
  },
  {
   "cell_type": "code",
   "execution_count": 116,
   "id": "ade82a08",
   "metadata": {
    "pycharm": {
     "name": "#%%\n"
    }
   },
   "outputs": [
    {
     "data": {
      "text/plain": "             abundance  growth_rate  reactions  metabolites      taxon  \\\ncompartments                                                             \nRT                 0.5     2.630456       2423         2076         RT   \nsyn_elong          0.5     0.009599        967          884  syn_elong   \n\n              tradeoff sample_id  \ncompartments                      \nRT                0.01       One  \nsyn_elong         0.01       One  ",
      "text/html": "<div>\n<style scoped>\n    .dataframe tbody tr th:only-of-type {\n        vertical-align: middle;\n    }\n\n    .dataframe tbody tr th {\n        vertical-align: top;\n    }\n\n    .dataframe thead th {\n        text-align: right;\n    }\n</style>\n<table border=\"1\" class=\"dataframe\">\n  <thead>\n    <tr style=\"text-align: right;\">\n      <th></th>\n      <th>abundance</th>\n      <th>growth_rate</th>\n      <th>reactions</th>\n      <th>metabolites</th>\n      <th>taxon</th>\n      <th>tradeoff</th>\n      <th>sample_id</th>\n    </tr>\n    <tr>\n      <th>compartments</th>\n      <th></th>\n      <th></th>\n      <th></th>\n      <th></th>\n      <th></th>\n      <th></th>\n      <th></th>\n    </tr>\n  </thead>\n  <tbody>\n    <tr>\n      <th>RT</th>\n      <td>0.5</td>\n      <td>2.630456</td>\n      <td>2423</td>\n      <td>2076</td>\n      <td>RT</td>\n      <td>0.01</td>\n      <td>One</td>\n    </tr>\n    <tr>\n      <th>syn_elong</th>\n      <td>0.5</td>\n      <td>0.009599</td>\n      <td>967</td>\n      <td>884</td>\n      <td>syn_elong</td>\n      <td>0.01</td>\n      <td>One</td>\n    </tr>\n  </tbody>\n</table>\n</div>"
     },
     "execution_count": 116,
     "metadata": {},
     "output_type": "execute_result"
    }
   ],
   "source": [
    "result_grow.growth_rates"
   ]
  },
  {
   "cell_type": "code",
   "execution_count": 117,
   "id": "34db86fd",
   "metadata": {
    "pycharm": {
     "name": "#%%\n"
    }
   },
   "outputs": [
    {
     "data": {
      "text/plain": "      taxon sample_id  tolerance     reaction       flux abundance metabolite  \\\n5        RT       One   0.000001  EX_arg__L_e   0.002231       0.5   arg__L_e   \n25       RT       One   0.000001     EX_zn2_e  -0.001342       0.5      zn2_e   \n27       RT       One   0.000001  EX_his__L_e  -0.164561       0.5   his__L_e   \n29       RT       One   0.000001     EX_na1_e  -0.068652       0.5      na1_e   \n32       RT       One   0.000001      EX_ac_e  38.739488       0.5       ac_e   \n..      ...       ...        ...          ...        ...       ...        ...   \n731  medium       One   0.000001       EX_h_m  53.795601       NaN        h_m   \n738  medium       One   0.000001     EX_cmp_m  -0.135229       NaN      cmp_m   \n743  medium       One   0.000001   EX_alltn_m  -1.128712       NaN    alltn_m   \n747  medium       One   0.000001     EX_cu2_m  -0.000690       NaN      cu2_m   \n753  medium       One   0.000001  EX_glyclt_m   0.005132       NaN   glyclt_m   \n\n    direction  \n5      export  \n25     import  \n27     import  \n29     import  \n32     export  \n..        ...  \n731    export  \n738    import  \n743    import  \n747    import  \n753    export  \n\n[90 rows x 8 columns]",
      "text/html": "<div>\n<style scoped>\n    .dataframe tbody tr th:only-of-type {\n        vertical-align: middle;\n    }\n\n    .dataframe tbody tr th {\n        vertical-align: top;\n    }\n\n    .dataframe thead th {\n        text-align: right;\n    }\n</style>\n<table border=\"1\" class=\"dataframe\">\n  <thead>\n    <tr style=\"text-align: right;\">\n      <th></th>\n      <th>taxon</th>\n      <th>sample_id</th>\n      <th>tolerance</th>\n      <th>reaction</th>\n      <th>flux</th>\n      <th>abundance</th>\n      <th>metabolite</th>\n      <th>direction</th>\n    </tr>\n  </thead>\n  <tbody>\n    <tr>\n      <th>5</th>\n      <td>RT</td>\n      <td>One</td>\n      <td>0.000001</td>\n      <td>EX_arg__L_e</td>\n      <td>0.002231</td>\n      <td>0.5</td>\n      <td>arg__L_e</td>\n      <td>export</td>\n    </tr>\n    <tr>\n      <th>25</th>\n      <td>RT</td>\n      <td>One</td>\n      <td>0.000001</td>\n      <td>EX_zn2_e</td>\n      <td>-0.001342</td>\n      <td>0.5</td>\n      <td>zn2_e</td>\n      <td>import</td>\n    </tr>\n    <tr>\n      <th>27</th>\n      <td>RT</td>\n      <td>One</td>\n      <td>0.000001</td>\n      <td>EX_his__L_e</td>\n      <td>-0.164561</td>\n      <td>0.5</td>\n      <td>his__L_e</td>\n      <td>import</td>\n    </tr>\n    <tr>\n      <th>29</th>\n      <td>RT</td>\n      <td>One</td>\n      <td>0.000001</td>\n      <td>EX_na1_e</td>\n      <td>-0.068652</td>\n      <td>0.5</td>\n      <td>na1_e</td>\n      <td>import</td>\n    </tr>\n    <tr>\n      <th>32</th>\n      <td>RT</td>\n      <td>One</td>\n      <td>0.000001</td>\n      <td>EX_ac_e</td>\n      <td>38.739488</td>\n      <td>0.5</td>\n      <td>ac_e</td>\n      <td>export</td>\n    </tr>\n    <tr>\n      <th>...</th>\n      <td>...</td>\n      <td>...</td>\n      <td>...</td>\n      <td>...</td>\n      <td>...</td>\n      <td>...</td>\n      <td>...</td>\n      <td>...</td>\n    </tr>\n    <tr>\n      <th>731</th>\n      <td>medium</td>\n      <td>One</td>\n      <td>0.000001</td>\n      <td>EX_h_m</td>\n      <td>53.795601</td>\n      <td>NaN</td>\n      <td>h_m</td>\n      <td>export</td>\n    </tr>\n    <tr>\n      <th>738</th>\n      <td>medium</td>\n      <td>One</td>\n      <td>0.000001</td>\n      <td>EX_cmp_m</td>\n      <td>-0.135229</td>\n      <td>NaN</td>\n      <td>cmp_m</td>\n      <td>import</td>\n    </tr>\n    <tr>\n      <th>743</th>\n      <td>medium</td>\n      <td>One</td>\n      <td>0.000001</td>\n      <td>EX_alltn_m</td>\n      <td>-1.128712</td>\n      <td>NaN</td>\n      <td>alltn_m</td>\n      <td>import</td>\n    </tr>\n    <tr>\n      <th>747</th>\n      <td>medium</td>\n      <td>One</td>\n      <td>0.000001</td>\n      <td>EX_cu2_m</td>\n      <td>-0.000690</td>\n      <td>NaN</td>\n      <td>cu2_m</td>\n      <td>import</td>\n    </tr>\n    <tr>\n      <th>753</th>\n      <td>medium</td>\n      <td>One</td>\n      <td>0.000001</td>\n      <td>EX_glyclt_m</td>\n      <td>0.005132</td>\n      <td>NaN</td>\n      <td>glyclt_m</td>\n      <td>export</td>\n    </tr>\n  </tbody>\n</table>\n<p>90 rows × 8 columns</p>\n</div>"
     },
     "execution_count": 117,
     "metadata": {},
     "output_type": "execute_result"
    }
   ],
   "source": [
    "result_grow.exchanges"
   ]
  },
  {
   "cell_type": "code",
   "execution_count": 118,
   "outputs": [],
   "source": [
    "exchanges = result_grow.exchanges.copy()"
   ],
   "metadata": {
    "collapsed": false,
    "pycharm": {
     "name": "#%%\n"
    }
   }
  },
  {
   "cell_type": "code",
   "execution_count": 71,
   "outputs": [
    {
     "data": {
      "text/plain": "             taxon sample_id  tolerance     reaction        flux  abundance  \\\n1   Rhodosporidium       One   0.000001       EX_h_e  107.509304        0.5   \n13  Rhodosporidium       One   0.000001      EX_pi_e    0.004095        0.5   \n18  Rhodosporidium       One   0.000001     EX_fe2_e    0.011269        0.5   \n29  Rhodosporidium       One   0.000001  EX_btd_RR_e    0.344030        0.5   \n44  Rhodosporidium       One   0.000001       EX_k_e   -1.540666        0.5   \n\n   metabolite direction  \n1         h_e    export  \n13       pi_e    export  \n18      fe2_e    export  \n29   btd_RR_e    export  \n44        k_e    import  ",
      "text/html": "<div>\n<style scoped>\n    .dataframe tbody tr th:only-of-type {\n        vertical-align: middle;\n    }\n\n    .dataframe tbody tr th {\n        vertical-align: top;\n    }\n\n    .dataframe thead th {\n        text-align: right;\n    }\n</style>\n<table border=\"1\" class=\"dataframe\">\n  <thead>\n    <tr style=\"text-align: right;\">\n      <th></th>\n      <th>taxon</th>\n      <th>sample_id</th>\n      <th>tolerance</th>\n      <th>reaction</th>\n      <th>flux</th>\n      <th>abundance</th>\n      <th>metabolite</th>\n      <th>direction</th>\n    </tr>\n  </thead>\n  <tbody>\n    <tr>\n      <th>1</th>\n      <td>Rhodosporidium</td>\n      <td>One</td>\n      <td>0.000001</td>\n      <td>EX_h_e</td>\n      <td>107.509304</td>\n      <td>0.5</td>\n      <td>h_e</td>\n      <td>export</td>\n    </tr>\n    <tr>\n      <th>13</th>\n      <td>Rhodosporidium</td>\n      <td>One</td>\n      <td>0.000001</td>\n      <td>EX_pi_e</td>\n      <td>0.004095</td>\n      <td>0.5</td>\n      <td>pi_e</td>\n      <td>export</td>\n    </tr>\n    <tr>\n      <th>18</th>\n      <td>Rhodosporidium</td>\n      <td>One</td>\n      <td>0.000001</td>\n      <td>EX_fe2_e</td>\n      <td>0.011269</td>\n      <td>0.5</td>\n      <td>fe2_e</td>\n      <td>export</td>\n    </tr>\n    <tr>\n      <th>29</th>\n      <td>Rhodosporidium</td>\n      <td>One</td>\n      <td>0.000001</td>\n      <td>EX_btd_RR_e</td>\n      <td>0.344030</td>\n      <td>0.5</td>\n      <td>btd_RR_e</td>\n      <td>export</td>\n    </tr>\n    <tr>\n      <th>44</th>\n      <td>Rhodosporidium</td>\n      <td>One</td>\n      <td>0.000001</td>\n      <td>EX_k_e</td>\n      <td>-1.540666</td>\n      <td>0.5</td>\n      <td>k_e</td>\n      <td>import</td>\n    </tr>\n  </tbody>\n</table>\n</div>"
     },
     "execution_count": 71,
     "metadata": {},
     "output_type": "execute_result"
    }
   ],
   "source": [
    "exchanges.head()"
   ],
   "metadata": {
    "collapsed": false,
    "pycharm": {
     "name": "#%%\n"
    }
   }
  },
  {
   "cell_type": "code",
   "execution_count": 72,
   "outputs": [],
   "source": [
    "exchanges = exchanges[['taxon', 'reaction', 'flux', 'metabolite', 'direction']]"
   ],
   "metadata": {
    "collapsed": false,
    "pycharm": {
     "name": "#%%\n"
    }
   }
  },
  {
   "cell_type": "code",
   "execution_count": 101,
   "outputs": [],
   "source": [
    "exchanges.to_csv(\"se_rt_exchanges.csv\", index=False)"
   ],
   "metadata": {
    "collapsed": false,
    "pycharm": {
     "name": "#%%\n"
    }
   }
  },
  {
   "cell_type": "code",
   "execution_count": null,
   "outputs": [],
   "source": [],
   "metadata": {
    "collapsed": false,
    "pycharm": {
     "name": "#%%\n"
    }
   }
  }
 ],
 "metadata": {
  "kernelspec": {
   "display_name": "Python 3 (ipykernel)",
   "language": "python",
   "name": "python3"
  },
  "language_info": {
   "codemirror_mode": {
    "name": "ipython",
    "version": 3
   },
   "file_extension": ".py",
   "mimetype": "text/x-python",
   "name": "python",
   "nbconvert_exporter": "python",
   "pygments_lexer": "ipython3",
   "version": "3.10.6"
  }
 },
 "nbformat": 4,
 "nbformat_minor": 5
}