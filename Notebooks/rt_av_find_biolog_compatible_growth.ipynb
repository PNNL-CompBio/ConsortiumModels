{
 "cells": [
  {
   "cell_type": "code",
   "execution_count": 1,
   "metadata": {
    "pycharm": {
     "name": "#%%\n"
    }
   },
   "outputs": [],
   "source": [
    "import numpy as np\n",
    "import seaborn as sns\n",
    "import matplotlib.pyplot as plt"
   ]
  },
  {
   "cell_type": "code",
   "execution_count": 2,
   "metadata": {
    "pycharm": {
     "name": "#%%\n"
    }
   },
   "outputs": [],
   "source": [
    "import matplotlib as mpl\n",
    "\n",
    "mpl.rcParams['pdf.fonttype'] = 42\n",
    "sns.set_style('white')\n",
    "sns.set_context(\"poster\", font_scale=1.5)"
   ]
  },
  {
   "cell_type": "code",
   "execution_count": 3,
   "outputs": [
    {
     "name": "stdout",
     "output_type": "stream",
     "text": [
      "Set parameter Username\n",
      "Set parameter GURO_PAR_SPECIAL\n",
      "Set parameter TokenServer to value \"leghorn\"\n"
     ]
    }
   ],
   "source": [
    "from concerto.helpers.load_model_from_git import load_model_from_git\n",
    "rt_git = load_model_from_git('Rhodosporidium')"
   ],
   "metadata": {
    "collapsed": false,
    "pycharm": {
     "name": "#%%\n"
    }
   }
  },
  {
   "cell_type": "code",
   "execution_count": 4,
   "metadata": {
    "pycharm": {
     "name": "#%%\n"
    }
   },
   "outputs": [],
   "source": [
    "from rtoru import exp_file_path as rt_path, model as rt, mar_model as mar_rt\n",
    "from a_vine import model as av, exp_file_path as av_path"
   ]
  },
  {
   "cell_type": "code",
   "execution_count": 5,
   "outputs": [],
   "source": [
    "from memote.experimental.config import ExperimentConfiguration"
   ],
   "metadata": {
    "collapsed": false,
    "pycharm": {
     "name": "#%%\n"
    }
   }
  },
  {
   "cell_type": "code",
   "execution_count": 6,
   "outputs": [
    {
     "data": {
      "text/plain": "0.07336590453116676"
     },
     "execution_count": 6,
     "metadata": {},
     "output_type": "execute_result"
    }
   ],
   "source": [
    "rt.slim_optimize()"
   ],
   "metadata": {
    "collapsed": false,
    "pycharm": {
     "name": "#%%\n"
    }
   }
  },
  {
   "cell_type": "code",
   "execution_count": 7,
   "outputs": [
    {
     "data": {
      "text/plain": "0.07336590453116676"
     },
     "execution_count": 7,
     "metadata": {},
     "output_type": "execute_result"
    }
   ],
   "source": [
    "rt_git.slim_optimize()"
   ],
   "metadata": {
    "collapsed": false,
    "pycharm": {
     "name": "#%%\n"
    }
   }
  },
  {
   "cell_type": "code",
   "execution_count": 8,
   "outputs": [
    {
     "data": {
      "text/plain": "6.468367839572824"
     },
     "execution_count": 8,
     "metadata": {},
     "output_type": "execute_result"
    }
   ],
   "source": [
    "mar_rt.slim_optimize()"
   ],
   "metadata": {
    "collapsed": false,
    "pycharm": {
     "name": "#%%\n"
    }
   }
  },
  {
   "cell_type": "code",
   "execution_count": 9,
   "outputs": [
    {
     "data": {
      "text/plain": "0.47812105018350276"
     },
     "execution_count": 9,
     "metadata": {},
     "output_type": "execute_result"
    }
   ],
   "source": [
    "av.slim_optimize()"
   ],
   "metadata": {
    "collapsed": false,
    "pycharm": {
     "name": "#%%\n"
    }
   }
  },
  {
   "cell_type": "code",
   "execution_count": 10,
   "outputs": [],
   "source": [
    "rt_experiment_data = ExperimentConfiguration(rt_path).load(rt)\n",
    "av_experiment_data = ExperimentConfiguration(av_path).load(av)"
   ],
   "metadata": {
    "collapsed": false,
    "pycharm": {
     "name": "#%%\n"
    }
   }
  },
  {
   "cell_type": "code",
   "execution_count": 11,
   "outputs": [],
   "source": [
    "m9_carbon_av = av_experiment_data.media['no_carbon'].data[['exchange', 'uptake']].set_index('exchange').to_dict()['uptake']\n",
    "m9_carbon_rt = rt_experiment_data.media['no_carbon'].data[['exchange', 'uptake']].set_index('exchange').to_dict()['uptake']"
   ],
   "metadata": {
    "collapsed": false,
    "pycharm": {
     "name": "#%%\n"
    }
   }
  },
  {
   "cell_type": "code",
   "execution_count": 12,
   "outputs": [
    {
     "data": {
      "text/plain": "{'EX_nh4_e': 1000,\n 'EX_o2_e': 1000,\n 'EX_pi_e': 1000,\n 'EX_so4_e': 1000,\n 'EX_ca2_e': 1000,\n 'EX_fe3_e': 1000,\n 'EX_k_e': 1000,\n 'EX_na1_e': 1000,\n 'EX_mg2_e': 1000,\n 'EX_mn2_e': 1000,\n 'EX_cu2_e': 1000,\n 'EX_zn2_e': 1000}"
     },
     "execution_count": 12,
     "metadata": {},
     "output_type": "execute_result"
    }
   ],
   "source": [
    "m9_carbon_rt"
   ],
   "metadata": {
    "collapsed": false,
    "pycharm": {
     "name": "#%%\n"
    }
   }
  },
  {
   "cell_type": "code",
   "execution_count": 13,
   "outputs": [
    {
     "data": {
      "text/plain": "{'EX_nh4_e': 1000.0,\n 'EX_o2_e': 1000.0,\n 'EX_pi_e': 1000.0,\n 'EX_so4_e': 1000.0,\n 'EX_ca2_e': 1000.0,\n 'EX_fe3_e': 1000.0,\n 'EX_k_e': 1000.0,\n 'EX_na1_e': 1000,\n 'EX_mg2_e': 1000.0,\n 'EX_mn2_e': 1000.0,\n 'EX_cu2_e': 1000.0,\n 'EX_zn2_e': 1000.0,\n 'EX_fe2_e': 1000.0,\n 'EX_ni2_e': 1000.0,\n 'EX_cobalt2_e': 1000.0,\n 'EX_mobd_e': 1000.0,\n 'EX_cl_e': 1000.0}"
     },
     "execution_count": 13,
     "metadata": {},
     "output_type": "execute_result"
    }
   ],
   "source": [
    "m9_no_carbon = {**m9_carbon_rt, **m9_carbon_av}\n",
    "m9_no_carbon"
   ],
   "metadata": {
    "collapsed": false,
    "pycharm": {
     "name": "#%%\n"
    }
   }
  },
  {
   "cell_type": "code",
   "execution_count": 14,
   "outputs": [],
   "source": [
    "rt_carbon = rt_experiment_data.growth['biolog_carbon'].data\n",
    "av_carbon = av_experiment_data.growth['biolog_pm1'].data"
   ],
   "metadata": {
    "collapsed": false,
    "pycharm": {
     "name": "#%%\n"
    }
   }
  },
  {
   "cell_type": "code",
   "execution_count": 15,
   "outputs": [
    {
     "data": {
      "text/plain": "        exchange  growth  uptake\n0   EX_arab__L_e    True      10\n1     EX_acgam_e   False      10\n2      EX_glcr_e   False      10\n3      EX_succ_e    True      10\n4       EX_gal_e    True      10\n..           ...     ...     ...\n82      EX_orn_e    True      10\n83   EX_phe__L_e   False      10\n84   EX_val__L_e    True      10\n85     EX_ptrc_e   False      10\n86      EX_dha_e    True      10\n\n[87 rows x 3 columns]",
      "text/html": "<div>\n<style scoped>\n    .dataframe tbody tr th:only-of-type {\n        vertical-align: middle;\n    }\n\n    .dataframe tbody tr th {\n        vertical-align: top;\n    }\n\n    .dataframe thead th {\n        text-align: right;\n    }\n</style>\n<table border=\"1\" class=\"dataframe\">\n  <thead>\n    <tr style=\"text-align: right;\">\n      <th></th>\n      <th>exchange</th>\n      <th>growth</th>\n      <th>uptake</th>\n    </tr>\n  </thead>\n  <tbody>\n    <tr>\n      <th>0</th>\n      <td>EX_arab__L_e</td>\n      <td>True</td>\n      <td>10</td>\n    </tr>\n    <tr>\n      <th>1</th>\n      <td>EX_acgam_e</td>\n      <td>False</td>\n      <td>10</td>\n    </tr>\n    <tr>\n      <th>2</th>\n      <td>EX_glcr_e</td>\n      <td>False</td>\n      <td>10</td>\n    </tr>\n    <tr>\n      <th>3</th>\n      <td>EX_succ_e</td>\n      <td>True</td>\n      <td>10</td>\n    </tr>\n    <tr>\n      <th>4</th>\n      <td>EX_gal_e</td>\n      <td>True</td>\n      <td>10</td>\n    </tr>\n    <tr>\n      <th>...</th>\n      <td>...</td>\n      <td>...</td>\n      <td>...</td>\n    </tr>\n    <tr>\n      <th>82</th>\n      <td>EX_orn_e</td>\n      <td>True</td>\n      <td>10</td>\n    </tr>\n    <tr>\n      <th>83</th>\n      <td>EX_phe__L_e</td>\n      <td>False</td>\n      <td>10</td>\n    </tr>\n    <tr>\n      <th>84</th>\n      <td>EX_val__L_e</td>\n      <td>True</td>\n      <td>10</td>\n    </tr>\n    <tr>\n      <th>85</th>\n      <td>EX_ptrc_e</td>\n      <td>False</td>\n      <td>10</td>\n    </tr>\n    <tr>\n      <th>86</th>\n      <td>EX_dha_e</td>\n      <td>True</td>\n      <td>10</td>\n    </tr>\n  </tbody>\n</table>\n<p>87 rows × 3 columns</p>\n</div>"
     },
     "execution_count": 15,
     "metadata": {},
     "output_type": "execute_result"
    }
   ],
   "source": [
    "rt_carbon"
   ],
   "metadata": {
    "collapsed": false,
    "pycharm": {
     "name": "#%%\n"
    }
   }
  },
  {
   "cell_type": "code",
   "execution_count": 16,
   "outputs": [],
   "source": [
    "rt_can_grow = set(rt_carbon.loc[rt_carbon.growth].exchange.values)\n",
    "av_can_grow = set(av_carbon.loc[av_carbon.growth].exchange.values)"
   ],
   "metadata": {
    "collapsed": false,
    "pycharm": {
     "name": "#%%\n"
    }
   }
  },
  {
   "cell_type": "code",
   "execution_count": 17,
   "outputs": [
    {
     "data": {
      "text/plain": "{'EX_12ppd__S_e',\n 'EX_5dglcn_e',\n 'EX_ac_e',\n 'EX_acac_e',\n 'EX_acgam_e',\n 'EX_acnam_e',\n 'EX_akg_e',\n 'EX_ala__D_e',\n 'EX_ala__L_e',\n 'EX_asp__L_e',\n 'EX_but_e',\n 'EX_cit_e',\n 'EX_dad_2_e',\n 'EX_dca_e',\n 'EX_f6p_e',\n 'EX_for_e',\n 'EX_fru_e',\n 'EX_fum_e',\n 'EX_g1p_e',\n 'EX_g6p_e',\n 'EX_gal_e',\n 'EX_galct__D_e',\n 'EX_galctn__D_e',\n 'EX_glc__D_e',\n 'EX_glcn_e',\n 'EX_glcur_e',\n 'EX_gln__L_e',\n 'EX_glyc3p_e',\n 'EX_glyc_e',\n 'EX_glyclt_e',\n 'EX_hxa_e',\n 'EX_inost_e',\n 'EX_ins_e',\n 'EX_lac__L_e',\n 'EX_lcts_e',\n 'EX_malt_e',\n 'EX_malttr_e',\n 'EX_melib_e',\n 'EX_mnl_e',\n 'EX_ppa_e',\n 'EX_pyr_e',\n 'EX_rib__D_e',\n 'EX_rmn_e',\n 'EX_sbt__D_e',\n 'EX_ser__D_e',\n 'EX_ser__L_e',\n 'EX_succ_e',\n 'EX_sucr_e',\n 'EX_tartr__L_e',\n 'EX_thr__L_e',\n 'EX_xyl__D_e'}"
     },
     "execution_count": 17,
     "metadata": {},
     "output_type": "execute_result"
    }
   ],
   "source": [
    "av_can_grow"
   ],
   "metadata": {
    "collapsed": false,
    "pycharm": {
     "name": "#%%\n"
    }
   }
  },
  {
   "cell_type": "code",
   "execution_count": 18,
   "outputs": [],
   "source": [
    "from magine.plotting.venn_diagram_maker import create_venn2"
   ],
   "metadata": {
    "collapsed": false,
    "pycharm": {
     "name": "#%%\n"
    }
   }
  },
  {
   "cell_type": "code",
   "execution_count": 19,
   "outputs": [
    {
     "data": {
      "text/plain": "<Figure size 640x480 with 1 Axes>",
      "image/png": "[encoded data removed]"
     },
     "metadata": {},
     "output_type": "display_data"
    }
   ],
   "source": [
    "create_venn2(rt_can_grow, av_can_grow, 'RT', 'AV')\n",
    "plt.savefig(\"overlap_biolog_hits.png\")"
   ],
   "metadata": {
    "collapsed": false,
    "pycharm": {
     "name": "#%%\n"
    }
   }
  },
  {
   "cell_type": "code",
   "execution_count": 20,
   "outputs": [
    {
     "name": "stdout",
     "output_type": "stream",
     "text": [
      "EX_val__L_e\n",
      "EX_tre_e\n",
      "EX_4abut_e\n",
      "EX_dha_e\n",
      "EX_pro__L_e\n",
      "EX_glu__L_e\n",
      "EX_leu__L_e\n",
      "EX_man_e\n",
      "EX_galt_e\n",
      "EX_lyx__L_e\n",
      "EX_mal__D_e\n",
      "EX_arab__L_e\n",
      "EX_orn_e\n",
      "EX_arg__L_e\n",
      "EX_asn__L_e\n",
      "EX_galur_e\n",
      "EX_hom__L_e\n",
      "EX_ile__L_e\n",
      "EX_galctn__L_e\n",
      "EX_gly_e\n"
     ]
    }
   ],
   "source": [
    "for i in rt_can_grow.difference(av_can_grow):\n",
    "    print(i)"
   ],
   "metadata": {
    "collapsed": false,
    "pycharm": {
     "name": "#%%\n"
    }
   }
  },
  {
   "cell_type": "code",
   "execution_count": 21,
   "outputs": [
    {
     "name": "stdout",
     "output_type": "stream",
     "text": [
      "EX_tartr__L_e\n",
      "EX_ins_e\n",
      "EX_glyc3p_e\n",
      "EX_malt_e\n",
      "EX_f6p_e\n",
      "EX_12ppd__S_e\n",
      "EX_inost_e\n",
      "EX_glcur_e\n",
      "EX_glyclt_e\n",
      "EX_cit_e\n",
      "EX_melib_e\n",
      "EX_g1p_e\n",
      "EX_acnam_e\n",
      "EX_lcts_e\n",
      "EX_rmn_e\n",
      "EX_galct__D_e\n",
      "EX_galctn__D_e\n",
      "EX_fum_e\n",
      "EX_dca_e\n",
      "EX_dad_2_e\n",
      "EX_acgam_e\n",
      "EX_g6p_e\n"
     ]
    }
   ],
   "source": [
    "for i in av_can_grow.difference(rt_can_grow):\n",
    "    print(i)"
   ],
   "metadata": {
    "collapsed": false,
    "pycharm": {
     "name": "#%%\n"
    }
   }
  },
  {
   "cell_type": "code",
   "execution_count": 22,
   "outputs": [],
   "source": [
    "av_only_grow = av_can_grow.difference(rt_can_grow)"
   ],
   "metadata": {
    "collapsed": false,
    "pycharm": {
     "name": "#%%\n"
    }
   }
  },
  {
   "cell_type": "code",
   "execution_count": 23,
   "outputs": [],
   "source": [
    "rt_only_grow = rt_can_grow.difference(av_can_grow)"
   ],
   "metadata": {
    "collapsed": false,
    "pycharm": {
     "name": "#%%\n"
    }
   }
  },
  {
   "cell_type": "code",
   "execution_count": 24,
   "outputs": [
    {
     "data": {
      "text/plain": "{'EX_nh4_e': 1000.0,\n 'EX_o2_e': 1000.0,\n 'EX_pi_e': 1000.0,\n 'EX_so4_e': 1000.0,\n 'EX_ca2_e': 1000.0,\n 'EX_fe3_e': 1000.0,\n 'EX_k_e': 1000.0,\n 'EX_na1_e': 1000,\n 'EX_mg2_e': 1000.0,\n 'EX_mn2_e': 1000.0,\n 'EX_cu2_e': 1000.0,\n 'EX_zn2_e': 1000.0,\n 'EX_fe2_e': 1000.0,\n 'EX_ni2_e': 1000.0,\n 'EX_cobalt2_e': 1000.0,\n 'EX_mobd_e': 1000.0,\n 'EX_cl_e': 1000.0}"
     },
     "execution_count": 24,
     "metadata": {},
     "output_type": "execute_result"
    }
   ],
   "source": [
    "medium = m9_no_carbon\n",
    "medium"
   ],
   "metadata": {
    "collapsed": false,
    "pycharm": {
     "name": "#%%\n"
    }
   }
  },
  {
   "cell_type": "code",
   "execution_count": 25,
   "outputs": [
    {
     "data": {
      "text/plain": "{'EX_4abut_e',\n 'EX_5dglcn_e',\n 'EX_ac_e',\n 'EX_acac_e',\n 'EX_akg_e',\n 'EX_ala__D_e',\n 'EX_ala__L_e',\n 'EX_arab__L_e',\n 'EX_arg__L_e',\n 'EX_asn__L_e',\n 'EX_asp__L_e',\n 'EX_but_e',\n 'EX_dha_e',\n 'EX_for_e',\n 'EX_fru_e',\n 'EX_gal_e',\n 'EX_galctn__L_e',\n 'EX_galt_e',\n 'EX_galur_e',\n 'EX_glc__D_e',\n 'EX_glcn_e',\n 'EX_gln__L_e',\n 'EX_glu__L_e',\n 'EX_gly_e',\n 'EX_glyc_e',\n 'EX_hom__L_e',\n 'EX_hxa_e',\n 'EX_ile__L_e',\n 'EX_lac__L_e',\n 'EX_leu__L_e',\n 'EX_lyx__L_e',\n 'EX_mal__D_e',\n 'EX_malttr_e',\n 'EX_man_e',\n 'EX_mnl_e',\n 'EX_orn_e',\n 'EX_ppa_e',\n 'EX_pro__L_e',\n 'EX_pyr_e',\n 'EX_rib__D_e',\n 'EX_sbt__D_e',\n 'EX_ser__D_e',\n 'EX_ser__L_e',\n 'EX_succ_e',\n 'EX_sucr_e',\n 'EX_thr__L_e',\n 'EX_tre_e',\n 'EX_val__L_e',\n 'EX_xyl__D_e'}"
     },
     "execution_count": 25,
     "metadata": {},
     "output_type": "execute_result"
    }
   ],
   "source": [
    "rt_can_grow"
   ],
   "metadata": {
    "collapsed": false,
    "pycharm": {
     "name": "#%%\n"
    }
   }
  },
  {
   "cell_type": "code",
   "execution_count": 26,
   "outputs": [
    {
     "data": {
      "text/plain": "{'EX_12ppd__S_e',\n 'EX_5dglcn_e',\n 'EX_ac_e',\n 'EX_acac_e',\n 'EX_acgam_e',\n 'EX_acnam_e',\n 'EX_akg_e',\n 'EX_ala__D_e',\n 'EX_ala__L_e',\n 'EX_asp__L_e',\n 'EX_but_e',\n 'EX_cit_e',\n 'EX_dad_2_e',\n 'EX_dca_e',\n 'EX_f6p_e',\n 'EX_for_e',\n 'EX_fru_e',\n 'EX_fum_e',\n 'EX_g1p_e',\n 'EX_g6p_e',\n 'EX_gal_e',\n 'EX_galct__D_e',\n 'EX_galctn__D_e',\n 'EX_glc__D_e',\n 'EX_glcn_e',\n 'EX_glcur_e',\n 'EX_gln__L_e',\n 'EX_glyc3p_e',\n 'EX_glyc_e',\n 'EX_glyclt_e',\n 'EX_hxa_e',\n 'EX_inost_e',\n 'EX_ins_e',\n 'EX_lac__L_e',\n 'EX_lcts_e',\n 'EX_malt_e',\n 'EX_malttr_e',\n 'EX_melib_e',\n 'EX_mnl_e',\n 'EX_ppa_e',\n 'EX_pyr_e',\n 'EX_rib__D_e',\n 'EX_rmn_e',\n 'EX_sbt__D_e',\n 'EX_ser__D_e',\n 'EX_ser__L_e',\n 'EX_succ_e',\n 'EX_sucr_e',\n 'EX_tartr__L_e',\n 'EX_thr__L_e',\n 'EX_xyl__D_e'}"
     },
     "execution_count": 26,
     "metadata": {},
     "output_type": "execute_result"
    }
   ],
   "source": [
    "av_can_grow"
   ],
   "metadata": {
    "collapsed": false,
    "pycharm": {
     "name": "#%%\n"
    }
   }
  },
  {
   "cell_type": "code",
   "execution_count": 27,
   "outputs": [],
   "source": [
    "from copy import deepcopy\n",
    "import cobra"
   ],
   "metadata": {
    "collapsed": false,
    "pycharm": {
     "name": "#%%\n"
    }
   }
  },
  {
   "cell_type": "code",
   "execution_count": 28,
   "outputs": [
    {
     "name": "stderr",
     "output_type": "stream",
     "text": [
      "C:\\Users\\pino216\\Miniconda3\\envs\\whole-cell-gemm\\lib\\site-packages\\cobra\\util\\solver.py:554: UserWarning: Solver status is 'infeasible'.\n",
      "  warn(f\"Solver status is '{status}'.\", UserWarning)\n"
     ]
    },
    {
     "data": {
      "text/plain": "<Solution infeasible at 0x10b90314250>",
      "text/html": "<strong><em>infeasible</em> solution</strong>"
     },
     "execution_count": 28,
     "metadata": {},
     "output_type": "execute_result"
    }
   ],
   "source": [
    "rt.medium = m9_carbon_rt\n",
    "rt.optimize()"
   ],
   "metadata": {
    "collapsed": false,
    "pycharm": {
     "name": "#%%\n"
    }
   }
  },
  {
   "cell_type": "code",
   "execution_count": 29,
   "outputs": [
    {
     "data": {
      "text/plain": "EX_o2_e         -2.287342\nEX_glc__D_e     -1.000000\nEX_nh4_e        -0.484237\nEX_k_e          -0.042971\nEX_pi_e         -0.019531\nEX_so4_e        -0.007354\nEX_mg2_e        -0.004528\nEX_na1_e        -0.001915\nEX_fe3_e        -0.000453\nEX_ca2_e        -0.000061\nEX_mn2_e        -0.000045\nEX_cu2_e        -0.000039\nEX_zn2_e        -0.000037\nDM_4oglu_c       0.000102\nDM_dad_5_m       0.000177\nDM_amob_m        0.000177\nSRC_8aonn_m      0.000177\nSRC_lipoate_m    0.000228\nEX_fe2_e         0.000314\nSRC_trnatrp_c    0.001711\nSRC_trnacys_c    0.002514\nSRC_trnamet_c    0.004186\nSRC_trnahis_c    0.004488\nSRC_trnatyr_c    0.004575\nSRC_trnaphe_c    0.006982\nSRC_trnaasn_c    0.007921\nSRC_trnagln_c    0.008650\nEX_zymst_e       0.009900\nSRC_trnaarg_c    0.010761\nSRC_trnaile_c    0.011634\nSRC_trnalys_c    0.012643\nSRC_trnaasp_c    0.014475\nSRC_trnaglu_c    0.015309\nSRC_trnathr_c    0.016003\nSRC_trnapro_c    0.017307\nSRC_trnaval_c    0.020188\nSRC_trnaleu_c    0.023492\nSRC_trnaser_c    0.024715\nSRC_trnagly_c    0.037653\nSRC_trnaala_c    0.042374\nDM_3aap_c        0.051962\nEX_h_e           0.166009\nEX_co2_e         2.562348\nEX_h2o_e         4.223303\nName: fluxes, dtype: float64"
     },
     "execution_count": 29,
     "metadata": {},
     "output_type": "execute_result"
    }
   ],
   "source": [
    "sol = rt_git.optimize()\n",
    "x = sol.fluxes[[i.id for i in rt_git.boundary]]\n",
    "x = x[np.abs(x)>0]\n",
    "x.sort_values()"
   ],
   "metadata": {
    "collapsed": false,
    "pycharm": {
     "name": "#%%\n"
    }
   }
  },
  {
   "cell_type": "code",
   "execution_count": 30,
   "outputs": [
    {
     "name": "stdout",
     "output_type": "stream",
     "text": [
      "EX_hom__L_e {'EX_glyclt_e'}\n",
      "EX_arab__L_e {'EX_glyclt_e'}\n",
      "EX_lyx__L_e {'EX_glyclt_e'}\n",
      "EX_galt_e {'EX_glyclt_e'}\n",
      "EX_man_e {'EX_glyclt_e'}\n",
      "EX_leu__L_e {'EX_glyclt_e'}\n",
      "EX_glu__L_e {'EX_glyclt_e'}\n",
      "EX_dha_e {'EX_glyclt_e'}\n",
      "EX_4abut_e {'EX_glyclt_e'}\n",
      "EX_tre_e {'EX_glyclt_e'}\n"
     ]
    }
   ],
   "source": [
    "def check_growth(carbon_source):\n",
    "    med_copy = deepcopy(m9_carbon_rt)\n",
    "    med_copy[carbon_source] = 1000\n",
    "    with rt_git as m:\n",
    "        m.medium = med_copy\n",
    "        # there a reason to use optimize over pfba?\n",
    "        # sol = m.optimize()\n",
    "        try:\n",
    "            pfba_solution = cobra.flux_analysis.pfba(m, reactions=list(av_can_grow))\n",
    "        except Exception as e:\n",
    "            return None, None\n",
    "\n",
    "        ex = pfba_solution.fluxes\n",
    "        hits = ex[np.abs(ex)>0]\n",
    "        if len(set(hits.index.values).intersection(av_can_grow)) > 0:\n",
    "            print(carbon_source, set(hits.index.values).intersection(av_only_grow))\n",
    "            return carbon_source, set(hits.index.values).intersection(av_only_grow)\n",
    "        return None, None\n",
    "good_hits = []\n",
    "for i in reversed(list(rt_only_grow)):\n",
    "    good_hits.append(check_growth(i))"
   ],
   "metadata": {
    "collapsed": false,
    "pycharm": {
     "name": "#%%\n"
    }
   }
  },
  {
   "cell_type": "code",
   "execution_count": 31,
   "outputs": [],
   "source": [
    "import cobra"
   ],
   "metadata": {
    "collapsed": false,
    "pycharm": {
     "name": "#%%\n"
    }
   }
  },
  {
   "cell_type": "code",
   "execution_count": 32,
   "outputs": [],
   "source": [
    "\n",
    "# ex += [i.id for i in rt.demands]\n",
    "# ex += [i.id for i in rt.sinks]"
   ],
   "metadata": {
    "collapsed": false,
    "pycharm": {
     "name": "#%%\n"
    }
   }
  },
  {
   "cell_type": "code",
   "execution_count": 33,
   "outputs": [
    {
     "data": {
      "text/plain": "EX_o2_e         -2.287342\nEX_glc__D_e     -1.000000\nEX_nh4_e        -0.484237\nEX_k_e          -0.042971\nEX_pi_e         -0.019531\nEX_so4_e        -0.007354\nEX_mg2_e        -0.004528\nEX_na1_e        -0.001915\nEX_fe3_e        -0.000453\nEX_ca2_e        -0.000061\nEX_mn2_e        -0.000045\nEX_cu2_e        -0.000039\nEX_zn2_e        -0.000037\nDM_4oglu_c       0.000102\nSRC_8aonn_m      0.000177\nDM_amob_m        0.000177\nDM_dad_5_m       0.000177\nSRC_lipoate_m    0.000228\nEX_fe2_e         0.000314\nSRC_trnatrp_c    0.001711\nEX_hco3_e        0.001839\nSRC_trnacys_c    0.002514\nSRC_trnamet_c    0.004186\nSRC_trnahis_c    0.004488\nSRC_trnatyr_c    0.004575\nSRC_trnaphe_c    0.006982\nSRC_trnaasn_c    0.007921\nSRC_trnagln_c    0.008650\nEX_zymst_e       0.009900\nSRC_trnaarg_c    0.010761\nSRC_trnaile_c    0.011634\nSRC_trnalys_c    0.012643\nSRC_trnaasp_c    0.014475\nSRC_trnaglu_c    0.015309\nSRC_trnathr_c    0.016003\nSRC_trnapro_c    0.017307\nSRC_trnaval_c    0.020188\nSRC_trnaleu_c    0.023492\nSRC_trnaser_c    0.024715\nSRC_trnagly_c    0.037653\nSRC_trnaala_c    0.042374\nDM_3aap_c        0.051962\nEX_h_e           0.167848\nEX_co2_e         2.560510\nEX_h2o_e         4.221464\nName: fluxes, dtype: float64"
     },
     "execution_count": 33,
     "metadata": {},
     "output_type": "execute_result"
    }
   ],
   "source": [
    "ex = [i.id for i in rt_git.boundary]\n",
    "pfba_solution = cobra.flux_analysis.pfba(rt_git, reactions=ex)\n",
    "f= pfba_solution.fluxes\n",
    "f[np.abs(f)>0].sort_values()"
   ],
   "metadata": {
    "collapsed": false,
    "pycharm": {
     "name": "#%%\n"
    }
   }
  },
  {
   "cell_type": "code",
   "execution_count": 34,
   "outputs": [
    {
     "data": {
      "text/plain": "EX_glcn_e      -460.904142\nEX_o2_e        -458.125112\nEX_h_e         -198.934272\nEX_nh4_e        -30.449130\nEX_glc__D_e      -5.000000\nEX_k_e           -3.904630\nEX_pi_e          -2.366097\nEX_so4_e         -0.435968\nEX_mg2_e         -0.411433\nEX_zn2_e         -0.010194\nEX_ca2_e         -0.008318\nEX_fe2_e         -0.004942\nEX_cu2_e         -0.000737\nEX_agm_e         -0.000647\nEX_btn_c         -0.000647\nEX_mn2_e         -0.000608\nEX_urea_e         0.000647\nDM_gcald_c        0.001294\nEX_glyc_e         0.055367\nEX_pyr_e        250.906969\nEX_etoh_e       356.713096\nEX_h2o_e        999.999353\nEX_co2_e       1000.000000\nName: fluxes, dtype: float64"
     },
     "execution_count": 34,
     "metadata": {},
     "output_type": "execute_result"
    }
   ],
   "source": [
    "ex = [i.id for i in mar_rt.boundary]\n",
    "pfba_solution = cobra.flux_analysis.pfba(mar_rt, reactions=ex)\n",
    "f= pfba_solution.fluxes\n",
    "f[np.abs(f)>0].sort_values()"
   ],
   "metadata": {
    "collapsed": false,
    "pycharm": {
     "name": "#%%\n"
    }
   }
  },
  {
   "cell_type": "code",
   "execution_count": 35,
   "outputs": [
    {
     "data": {
      "text/plain": "<cobra.summary.model_summary.ModelSummary at 0x10b90439de0>",
      "text/html": "<h3>Objective</h3><p>1.0 BIOMASS_RT_NLIM = 6.468367839572824</p><h4>Uptake</h4><table border=\"1\" class=\"dataframe\">\n  <thead>\n    <tr style=\"text-align: right;\">\n      <th>Metabolite</th>\n      <th>Reaction</th>\n      <th>Flux</th>\n      <th>C-Number</th>\n      <th>C-Flux</th>\n    </tr>\n  </thead>\n  <tbody>\n    <tr>\n      <td>agm_e</td>\n      <td>EX_agm_e</td>\n      <td>0.0006468</td>\n      <td>5</td>\n      <td>0.00%</td>\n    </tr>\n    <tr>\n      <td>btn_c</td>\n      <td>EX_btn_c</td>\n      <td>0.0006468</td>\n      <td>10</td>\n      <td>0.00%</td>\n    </tr>\n    <tr>\n      <td>ca2_e</td>\n      <td>EX_ca2_e</td>\n      <td>0.008318</td>\n      <td>0</td>\n      <td>0.00%</td>\n    </tr>\n    <tr>\n      <td>cu2_e</td>\n      <td>EX_cu2_e</td>\n      <td>0.0007374</td>\n      <td>0</td>\n      <td>0.00%</td>\n    </tr>\n    <tr>\n      <td>fe2_e</td>\n      <td>EX_fe2_e</td>\n      <td>0.004942</td>\n      <td>0</td>\n      <td>0.00%</td>\n    </tr>\n    <tr>\n      <td>glc__D_e</td>\n      <td>EX_glc__D_e</td>\n      <td>5</td>\n      <td>6</td>\n      <td>1.07%</td>\n    </tr>\n    <tr>\n      <td>glcn_e</td>\n      <td>EX_glcn_e</td>\n      <td>460.9</td>\n      <td>6</td>\n      <td>98.93%</td>\n    </tr>\n    <tr>\n      <td>h_e</td>\n      <td>EX_h_e</td>\n      <td>198.9</td>\n      <td>0</td>\n      <td>0.00%</td>\n    </tr>\n    <tr>\n      <td>k_e</td>\n      <td>EX_k_e</td>\n      <td>3.905</td>\n      <td>0</td>\n      <td>0.00%</td>\n    </tr>\n    <tr>\n      <td>mg2_e</td>\n      <td>EX_mg2_e</td>\n      <td>0.4114</td>\n      <td>0</td>\n      <td>0.00%</td>\n    </tr>\n    <tr>\n      <td>mn2_e</td>\n      <td>EX_mn2_e</td>\n      <td>0.000608</td>\n      <td>0</td>\n      <td>0.00%</td>\n    </tr>\n    <tr>\n      <td>nh4_e</td>\n      <td>EX_nh4_e</td>\n      <td>30.45</td>\n      <td>0</td>\n      <td>0.00%</td>\n    </tr>\n    <tr>\n      <td>o2_e</td>\n      <td>EX_o2_e</td>\n      <td>458.1</td>\n      <td>0</td>\n      <td>0.00%</td>\n    </tr>\n    <tr>\n      <td>pi_e</td>\n      <td>EX_pi_e</td>\n      <td>2.366</td>\n      <td>0</td>\n      <td>0.00%</td>\n    </tr>\n    <tr>\n      <td>so4_e</td>\n      <td>EX_so4_e</td>\n      <td>0.436</td>\n      <td>0</td>\n      <td>0.00%</td>\n    </tr>\n    <tr>\n      <td>zn2_e</td>\n      <td>EX_zn2_e</td>\n      <td>0.01019</td>\n      <td>0</td>\n      <td>0.00%</td>\n    </tr>\n  </tbody>\n</table><h4>Secretion</h4><table border=\"1\" class=\"dataframe\">\n  <thead>\n    <tr style=\"text-align: right;\">\n      <th>Metabolite</th>\n      <th>Reaction</th>\n      <th>Flux</th>\n      <th>C-Number</th>\n      <th>C-Flux</th>\n    </tr>\n  </thead>\n  <tbody>\n    <tr>\n      <td>gcald_c</td>\n      <td>DM_gcald_c</td>\n      <td>-0.001294</td>\n      <td>2</td>\n      <td>0.00%</td>\n    </tr>\n    <tr>\n      <td>co2_e</td>\n      <td>EX_co2_e</td>\n      <td>-1000</td>\n      <td>1</td>\n      <td>40.55%</td>\n    </tr>\n    <tr>\n      <td>etoh_e</td>\n      <td>EX_etoh_e</td>\n      <td>-356.7</td>\n      <td>2</td>\n      <td>28.93%</td>\n    </tr>\n    <tr>\n      <td>glyc_e</td>\n      <td>EX_glyc_e</td>\n      <td>-0.05537</td>\n      <td>3</td>\n      <td>0.01%</td>\n    </tr>\n    <tr>\n      <td>h2o_e</td>\n      <td>EX_h2o_e</td>\n      <td>-1000</td>\n      <td>0</td>\n      <td>0.00%</td>\n    </tr>\n    <tr>\n      <td>pyr_e</td>\n      <td>EX_pyr_e</td>\n      <td>-250.9</td>\n      <td>3</td>\n      <td>30.52%</td>\n    </tr>\n    <tr>\n      <td>urea_e</td>\n      <td>EX_urea_e</td>\n      <td>-0.0006468</td>\n      <td>1</td>\n      <td>0.00%</td>\n    </tr>\n  </tbody>\n</table>"
     },
     "execution_count": 35,
     "metadata": {},
     "output_type": "execute_result"
    }
   ],
   "source": [
    "mar_rt.summary()"
   ],
   "metadata": {
    "collapsed": false,
    "pycharm": {
     "name": "#%%\n"
    }
   }
  },
  {
   "cell_type": "code",
   "execution_count": 36,
   "outputs": [],
   "source": [
    "good_hits_source = [i for i,j in good_hits]"
   ],
   "metadata": {
    "collapsed": false,
    "pycharm": {
     "name": "#%%\n"
    }
   }
  },
  {
   "cell_type": "code",
   "execution_count": 37,
   "outputs": [
    {
     "name": "stdout",
     "output_type": "stream",
     "text": [
      "EX_lyx__L_e\n",
      "EX_hom__L_e\n",
      "EX_glu__L_e\n",
      "EX_tre_e\n",
      "EX_arab__L_e\n",
      "EX_leu__L_e\n",
      "EX_man_e\n",
      "EX_4abut_e\n",
      "EX_galt_e\n",
      "EX_dha_e\n"
     ]
    }
   ],
   "source": [
    "good_hits_source = set(good_hits_source)\n",
    "good_hits_source.remove(None)\n",
    "for i in good_hits_source:\n",
    "    print(i)"
   ],
   "metadata": {
    "collapsed": false,
    "pycharm": {
     "name": "#%%\n"
    }
   }
  },
  {
   "cell_type": "code",
   "execution_count": 38,
   "outputs": [
    {
     "name": "stdout",
     "output_type": "stream",
     "text": [
      "EX_dha_e {'EX_glyclt_e'}\n"
     ]
    },
    {
     "data": {
      "text/plain": "('EX_dha_e', {'EX_glyclt_e'})"
     },
     "execution_count": 38,
     "metadata": {},
     "output_type": "execute_result"
    }
   ],
   "source": [
    "check_growth('EX_dha_e')"
   ],
   "metadata": {
    "collapsed": false,
    "pycharm": {
     "name": "#%%\n"
    }
   }
  },
  {
   "cell_type": "code",
   "execution_count": 39,
   "outputs": [
    {
     "name": "stdout",
     "output_type": "stream",
     "text": [
      "EX_gal_e {'EX_glyclt_e'}\n",
      "EX_tre_e {'EX_glyclt_e'}\n",
      "EX_glc__D_e {'EX_glyclt_e'}\n",
      "EX_ala__L_e set()\n",
      "EX_gln__L_e {'EX_glyclt_e'}\n",
      "EX_but_e {'EX_glyclt_e'}\n",
      "EX_ac_e set()\n",
      "EX_hxa_e {'EX_glyclt_e'}\n",
      "EX_ser__L_e {'EX_glyclt_e'}\n",
      "EX_4abut_e {'EX_glyclt_e'}\n",
      "EX_dha_e {'EX_glyclt_e'}\n",
      "EX_acac_e {'EX_glyclt_e'}\n",
      "EX_glu__L_e {'EX_glyclt_e'}\n",
      "EX_lac__L_e {'EX_glyclt_e'}\n",
      "EX_sucr_e {'EX_glyclt_e'}\n",
      "EX_leu__L_e {'EX_glyclt_e'}\n",
      "EX_man_e {'EX_glyclt_e'}\n",
      "EX_xyl__D_e {'EX_glyclt_e'}\n",
      "EX_5dglcn_e {'EX_glyclt_e'}\n",
      "EX_galt_e {'EX_glyclt_e'}\n",
      "EX_glyc_e {'EX_glyclt_e'}\n",
      "EX_lyx__L_e {'EX_glyclt_e'}\n",
      "EX_thr__L_e {'EX_glyclt_e'}\n",
      "EX_arab__L_e {'EX_glyclt_e'}\n",
      "EX_fru_e {'EX_glyclt_e'}\n",
      "EX_ser__D_e {'EX_glyclt_e'}\n",
      "EX_asp__L_e set()\n",
      "EX_pyr_e {'EX_glyclt_e'}\n",
      "EX_sbt__D_e {'EX_glyclt_e'}\n",
      "EX_hom__L_e {'EX_glyclt_e'}\n",
      "EX_glcn_e {'EX_glyclt_e'}\n",
      "EX_ala__D_e set()\n",
      "EX_ppa_e {'EX_glyclt_e'}\n",
      "EX_rib__D_e {'EX_glyclt_e'}\n",
      "EX_malttr_e {'EX_glyclt_e'}\n"
     ]
    }
   ],
   "source": [
    "for i in rt_can_grow:\n",
    "    x,y = check_growth(i)\n",
    "    # print(x,y)"
   ],
   "metadata": {
    "collapsed": false,
    "pycharm": {
     "name": "#%%\n"
    }
   }
  },
  {
   "cell_type": "code",
   "execution_count": 40,
   "outputs": [
    {
     "data": {
      "text/plain": "{'EX_4abut_e',\n 'EX_arab__L_e',\n 'EX_arg__L_e',\n 'EX_asn__L_e',\n 'EX_dha_e',\n 'EX_galctn__L_e',\n 'EX_galt_e',\n 'EX_galur_e',\n 'EX_glu__L_e',\n 'EX_gly_e',\n 'EX_hom__L_e',\n 'EX_ile__L_e',\n 'EX_leu__L_e',\n 'EX_lyx__L_e',\n 'EX_mal__D_e',\n 'EX_man_e',\n 'EX_orn_e',\n 'EX_pro__L_e',\n 'EX_tre_e',\n 'EX_val__L_e'}"
     },
     "execution_count": 40,
     "metadata": {},
     "output_type": "execute_result"
    }
   ],
   "source": [
    "rt_only_grow"
   ],
   "metadata": {
    "collapsed": false,
    "pycharm": {
     "name": "#%%\n"
    }
   }
  },
  {
   "cell_type": "code",
   "execution_count": null,
   "outputs": [],
   "source": [],
   "metadata": {
    "collapsed": false,
    "pycharm": {
     "name": "#%%\n"
    }
   }
  }
 ],
 "metadata": {
  "kernelspec": {
   "display_name": "Python 3 (ipykernel)",
   "language": "python",
   "name": "python3"
  },
  "language_info": {
   "codemirror_mode": {
    "name": "ipython",
    "version": 3
   },
   "file_extension": ".py",
   "mimetype": "text/x-python",
   "name": "python",
   "nbconvert_exporter": "python",
   "pygments_lexer": "ipython3",
   "version": "3.10.6"
  }
 },
 "nbformat": 4,
 "nbformat_minor": 1
}