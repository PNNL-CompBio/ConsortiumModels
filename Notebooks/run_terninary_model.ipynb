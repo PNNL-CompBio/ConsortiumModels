{
 "cells": [
  {
   "cell_type": "code",
   "execution_count": null,
   "id": "92d0b0cd",
   "metadata": {
    "pycharm": {
     "is_executing": true,
     "name": "#%%\n"
    }
   },
   "outputs": [],
   "source": [
    "from binary_models.load_ternary import load_community_model\n",
    "community, model_file = load_community_model()"
   ]
  },
  {
   "cell_type": "markdown",
   "id": "4e032abc",
   "metadata": {
    "pycharm": {
     "name": "#%% md\n"
    }
   },
   "source": [
    "## Optimize Model"
   ]
  },
  {
   "cell_type": "code",
   "execution_count": 4,
   "id": "69f6cf36",
   "metadata": {
    "pycharm": {
     "is_executing": true,
     "name": "#%%\n"
    }
   },
   "outputs": [
    {
     "data": {
      "text/html": [
       "<strong>community growth:</strong> 55.146<br><strong>status:</strong> optimal<br><strong>taxa:</strong><div>\n",
       "<style scoped>\n",
       "    .dataframe tbody tr th:only-of-type {\n",
       "        vertical-align: middle;\n",
       "    }\n",
       "\n",
       "    .dataframe tbody tr th {\n",
       "        vertical-align: top;\n",
       "    }\n",
       "\n",
       "    .dataframe thead th {\n",
       "        text-align: right;\n",
       "    }\n",
       "</style>\n",
       "<table border=\"1\" class=\"dataframe\">\n",
       "  <thead>\n",
       "    <tr style=\"text-align: right;\">\n",
       "      <th></th>\n",
       "      <th>abundance</th>\n",
       "      <th>growth_rate</th>\n",
       "      <th>reactions</th>\n",
       "      <th>metabolites</th>\n",
       "    </tr>\n",
       "    <tr>\n",
       "      <th>compartments</th>\n",
       "      <th></th>\n",
       "      <th></th>\n",
       "      <th></th>\n",
       "      <th></th>\n",
       "    </tr>\n",
       "  </thead>\n",
       "  <tbody>\n",
       "    <tr>\n",
       "      <th>Azotobacter</th>\n",
       "      <td>0.333333</td>\n",
       "      <td>130.294226</td>\n",
       "      <td>2492</td>\n",
       "      <td>2024</td>\n",
       "    </tr>\n",
       "    <tr>\n",
       "      <th>Rhodosporidium</th>\n",
       "      <td>0.333333</td>\n",
       "      <td>33.144143</td>\n",
       "      <td>2423</td>\n",
       "      <td>2076</td>\n",
       "    </tr>\n",
       "    <tr>\n",
       "      <th>Synechococcus</th>\n",
       "      <td>0.333333</td>\n",
       "      <td>1.999997</td>\n",
       "      <td>968</td>\n",
       "      <td>884</td>\n",
       "    </tr>\n",
       "    <tr>\n",
       "      <th>medium</th>\n",
       "      <td>NaN</td>\n",
       "      <td>NaN</td>\n",
       "      <td>466</td>\n",
       "      <td>466</td>\n",
       "    </tr>\n",
       "  </tbody>\n",
       "</table>\n",
       "</div>"
      ],
      "text/plain": [
       "<CommunitySolution 55.146 at 0x18bbf05fd60>"
      ]
     },
     "execution_count": 4,
     "metadata": {},
     "output_type": "execute_result"
    }
   ],
   "source": [
    "result = community.optimize(fluxes=True, pfba=True)\n",
    "result"
   ]
  },
  {
   "cell_type": "markdown",
   "id": "6bfcb6a7",
   "metadata": {
    "pycharm": {
     "name": "#%% md\n"
    }
   },
   "source": [
    "### Update Medium"
   ]
  },
  {
   "cell_type": "code",
   "execution_count": 8,
   "id": "5e8288dd",
   "metadata": {
    "pycharm": {
     "name": "#%%\n"
    },
    "scrolled": true
   },
   "outputs": [
    {
     "data": {
      "text/plain": [
       "{'EX_co2_m': 1.99,\n",
       " 'EX_h_m': 999999.0,\n",
       " 'EX_h2o_m': 999999.0,\n",
       " 'EX_o2_m': 999999.0,\n",
       " 'EX_pi_m': 999999.0,\n",
       " 'EX_so4_m': 999999.0,\n",
       " 'EX_4abut_m': 1000.0,\n",
       " 'EX_ac_m': 1000.0,\n",
       " 'EX_acgam_m': 999999.0,\n",
       " 'EX_ade_m': 1000.0,\n",
       " 'EX_adn_m': 1000.0,\n",
       " 'EX_ala__D_m': 1000.0,\n",
       " 'EX_ala__L_m': 1000.0,\n",
       " 'EX_alltn_m': 1000.0,\n",
       " 'EX_arg__L_m': 999999.0,\n",
       " 'EX_asn__L_m': 1000.0,\n",
       " 'EX_asp__L_m': 1000.0,\n",
       " 'EX_ca2_m': 999999.0,\n",
       " 'EX_cl_m': 999999.0,\n",
       " 'EX_csn_m': 1000.0,\n",
       " 'EX_cys__L_m': 999999.0,\n",
       " 'EX_cytd_m': 1000.0,\n",
       " 'EX_dad_2_m': 1000.0,\n",
       " 'EX_dca_m': 1000.0,\n",
       " 'EX_fe2_m': 999999.0,\n",
       " 'EX_fe3_m': 999999.0,\n",
       " 'EX_for_m': 1000.0,\n",
       " 'EX_fru_m': 1000.0,\n",
       " 'EX_gal_m': 1000.0,\n",
       " 'EX_galur_m': 1000.0,\n",
       " 'EX_gam_m': 999999.0,\n",
       " 'EX_glu__L_m': 999999.0,\n",
       " 'EX_gly_m': 999999.0,\n",
       " 'EX_glyc_m': 1000.0,\n",
       " 'EX_gua_m': 1000.0,\n",
       " 'EX_hco3_m': 1.99,\n",
       " 'EX_his__L_m': 1000.0,\n",
       " 'EX_ile__L_m': 999999.0,\n",
       " 'EX_inost_m': 1000.0,\n",
       " 'EX_ins_m': 1000.0,\n",
       " 'EX_k_m': 999999.0,\n",
       " 'EX_lac__L_m': 1000.0,\n",
       " 'EX_lys__L_m': 1000.0,\n",
       " 'EX_malt_m': 1000.0,\n",
       " 'EX_man_m': 1000.0,\n",
       " 'EX_met__L_m': 999999.0,\n",
       " 'EX_na1_m': 999999.0,\n",
       " 'EX_no2_m': 1000.0,\n",
       " 'EX_orn_m': 1000.0,\n",
       " 'EX_phe__L_m': 999999.0,\n",
       " 'EX_pro__L_m': 999999.0,\n",
       " 'EX_ptrc_m': 999999.0,\n",
       " 'EX_pyr_m': 1000.0,\n",
       " 'EX_ser__L_m': 1000.0,\n",
       " 'EX_thr__L_m': 1000.0,\n",
       " 'EX_trp__L_m': 999999.0,\n",
       " 'EX_tyr__L_m': 999999.0,\n",
       " 'EX_ura_m': 1000.0,\n",
       " 'EX_urea_m': 1000.0,\n",
       " 'EX_uri_m': 1000.0,\n",
       " 'EX_val__L_m': 999999.0,\n",
       " 'EX_xyl__D_m': 1000.0,\n",
       " 'EX_glyclt_m': 1000.0,\n",
       " 'EX_mg2_m': 999999.0,\n",
       " 'EX_mn2_m': 999999.0,\n",
       " 'EX_cu2_m': 999999.0,\n",
       " 'EX_zn2_m': 999999.0,\n",
       " 'EX_arab__L_m': 1000.0,\n",
       " 'EX_lyx__L_m': 1000.0,\n",
       " 'EX_succ_m': 1000.0,\n",
       " 'EX_tre_m': 999999.0,\n",
       " 'EX_galt_m': 1000.0,\n",
       " 'EX_ser__D_m': 1000.0,\n",
       " 'EX_sbt__D_m': 1000.0,\n",
       " 'EX_glcn_m': 1000.0,\n",
       " 'EX_glyc3p_m': 1000.0,\n",
       " 'EX_g6p_m': 1000.0,\n",
       " 'EX_rib__D_m': 1000.0,\n",
       " 'EX_thymd_m': 1000.0,\n",
       " 'EX_12ppd__S_m': 1000.0,\n",
       " 'EX_akg_m': 1000.0,\n",
       " 'EX_g1p_m': 1000.0,\n",
       " 'EX_f6p_m': 1000.0,\n",
       " 'EX_malttr_m': 1000.0,\n",
       " 'EX_melib_m': 1000.0,\n",
       " 'EX_cit_m': 1000.0,\n",
       " 'EX_fum_m': 1000.0,\n",
       " 'EX_ppa_m': 1000.0,\n",
       " 'EX_acac_m': 1000.0,\n",
       " 'EX_mal__L_m': 999999.0,\n",
       " 'EX_tym_m': 999999.0,\n",
       " 'EX_peamn_m': 1000.0,\n",
       " 'EX_etha_m': 999999.0,\n",
       " 'EX_but_m': 1000.0,\n",
       " 'EX_hxa_m': 1000.0,\n",
       " 'EX_5dglcn_m': 1000.0,\n",
       " 'EX_hom__L_m': 999999.0,\n",
       " 'EX_dha_m': 1000.0,\n",
       " 'EX_agm_m': 999999.0,\n",
       " 'EX_gsn_m': 1000.0,\n",
       " 'EX_thym_m': 1000.0,\n",
       " 'EX_xan_m': 1000.0,\n",
       " 'EX_xtsn_m': 1000.0,\n",
       " 'EX_cmp_m': 1000.0,\n",
       " 'EX_gmp_m': 1000.0,\n",
       " 'EX_ump_m': 1000.0,\n",
       " 'EX_gam6p_m': 1000.0,\n",
       " 'EX_man6p_m': 1000.0,\n",
       " 'EX_pser__L_m': 1000.0,\n",
       " 'EX_minohp_m': 1000.0,\n",
       " 'EX_glcr_m': 999999.0,\n",
       " 'EX_mnl_m': 999999.0,\n",
       " 'EX_fuc__L_m': 999999.0,\n",
       " 'EX_glcur_m': 999999.0,\n",
       " 'EX_galctn__D_m': 999999.0,\n",
       " 'EX_rmn_m': 999999.0,\n",
       " 'EX_lcts_m': 999999.0,\n",
       " 'EX_galct__D_m': 999999.0,\n",
       " 'EX_mal__D_m': 999999.0,\n",
       " 'EX_acmana_m': 999999.0,\n",
       " 'EX_galctn__L_m': 999999.0,\n",
       " 'EX_acnam_m': 999999.0,\n",
       " 'EX_all__D_m': 999999.0,\n",
       " 'EX_tartr__L_m': 999999.0,\n",
       " 'EX_acgal_m': 999999.0,\n",
       " 'EX_23camp_m': 999999.0,\n",
       " 'EX_3amp_m': 999999.0,\n",
       " 'EX_23cgmp_m': 999999.0,\n",
       " 'EX_3gmp_m': 999999.0,\n",
       " 'EX_23ccmp_m': 999999.0,\n",
       " 'EX_3cmp_m': 999999.0,\n",
       " 'EX_23cump_m': 999999.0,\n",
       " 'EX_thrp_m': 999999.0,\n",
       " 'EX_3ump_m': 999999.0,\n",
       " 'EX_tyrp_m': 999999.0,\n",
       " 'EX_cobalt2_m': 999999.0,\n",
       " 'EX_mobd_m': 999999.0,\n",
       " 'EX_ni2_m': 999999.0,\n",
       " 'EX_photon410_m': 1000.0,\n",
       " 'EX_photon430_m': 1000.0,\n",
       " 'EX_photon450_m': 1000.0,\n",
       " 'EX_photon470_m': 1000.0,\n",
       " 'EX_photon490_m': 1000.0,\n",
       " 'EX_photon510_m': 1000.0,\n",
       " 'EX_photon530_m': 1000.0,\n",
       " 'EX_photon550_m': 1000.0,\n",
       " 'EX_photon570_m': 1000.0,\n",
       " 'EX_photon590_m': 1000.0,\n",
       " 'EX_photon610_m': 1000.0,\n",
       " 'EX_photon630_m': 1000.0,\n",
       " 'EX_photon650_m': 1000.0,\n",
       " 'EX_photon670_m': 1000.0,\n",
       " 'EX_photon690_m': 1000.0,\n",
       " 'EX_sel_m': 999999.0,\n",
       " 'EX_tungs_m': 999999.0,\n",
       " 'EX_slnt_m': 999999.0,\n",
       " 'EX_n2_m': 5}"
      ]
     },
     "execution_count": 8,
     "metadata": {},
     "output_type": "execute_result"
    }
   ],
   "source": [
    "# Set variable to become new medium\n",
    "medium_to_change = community.medium\n",
    "\n",
    "#Add or subtract reactions\n",
    "medium_to_change[\"EX_sucr_m\"] = 0\n",
    "medium_to_change[\"EX_glc__D_m\"] = 0\n",
    "medium_to_change[\"EX_leu__L_m\"] = 0\n",
    "#medium_to_change[\"EX_glyc__R_m\"] = 0\n",
    "medium_to_change[\"EX_nh4_m\"] = 0\n",
    "medium_to_change[\"EX_no3_m\"] = 0\n",
    "medium_to_change[\"EX_n2_m\"] = 5\n",
    "\n",
    "\n",
    "# Set the new medium as the model's medium\n",
    "community.medium = medium_to_change\n",
    "community.medium"
   ]
  },
  {
   "cell_type": "code",
   "execution_count": 9,
   "id": "bd46d9c8",
   "metadata": {
    "pycharm": {
     "name": "#%%\n"
    }
   },
   "outputs": [],
   "source": [
    "result_altered_medium = community.optimize(fluxes=True, pfba=True)"
   ]
  },
  {
   "cell_type": "code",
   "execution_count": 11,
   "id": "a1abd771",
   "metadata": {
    "pycharm": {
     "name": "#%%\n"
    }
   },
   "outputs": [
    {
     "data": {
      "text/html": [
       "<strong>community growth:</strong> 54.214<br><strong>status:</strong> optimal<br><strong>taxa:</strong><div>\n",
       "<style scoped>\n",
       "    .dataframe tbody tr th:only-of-type {\n",
       "        vertical-align: middle;\n",
       "    }\n",
       "\n",
       "    .dataframe tbody tr th {\n",
       "        vertical-align: top;\n",
       "    }\n",
       "\n",
       "    .dataframe thead th {\n",
       "        text-align: right;\n",
       "    }\n",
       "</style>\n",
       "<table border=\"1\" class=\"dataframe\">\n",
       "  <thead>\n",
       "    <tr style=\"text-align: right;\">\n",
       "      <th></th>\n",
       "      <th>abundance</th>\n",
       "      <th>growth_rate</th>\n",
       "      <th>reactions</th>\n",
       "      <th>metabolites</th>\n",
       "    </tr>\n",
       "    <tr>\n",
       "      <th>compartments</th>\n",
       "      <th></th>\n",
       "      <th></th>\n",
       "      <th></th>\n",
       "      <th></th>\n",
       "    </tr>\n",
       "  </thead>\n",
       "  <tbody>\n",
       "    <tr>\n",
       "      <th>Azotobacter</th>\n",
       "      <td>0.333333</td>\n",
       "      <td>130.118082</td>\n",
       "      <td>2492</td>\n",
       "      <td>2024</td>\n",
       "    </tr>\n",
       "    <tr>\n",
       "      <th>Rhodosporidium</th>\n",
       "      <td>0.333333</td>\n",
       "      <td>30.523491</td>\n",
       "      <td>2423</td>\n",
       "      <td>2076</td>\n",
       "    </tr>\n",
       "    <tr>\n",
       "      <th>Synechococcus</th>\n",
       "      <td>0.333333</td>\n",
       "      <td>1.999997</td>\n",
       "      <td>968</td>\n",
       "      <td>884</td>\n",
       "    </tr>\n",
       "    <tr>\n",
       "      <th>medium</th>\n",
       "      <td>NaN</td>\n",
       "      <td>NaN</td>\n",
       "      <td>466</td>\n",
       "      <td>466</td>\n",
       "    </tr>\n",
       "  </tbody>\n",
       "</table>\n",
       "</div>"
      ],
      "text/plain": [
       "<CommunitySolution 54.214 at 0x18be6debcd0>"
      ]
     },
     "execution_count": 11,
     "metadata": {},
     "output_type": "execute_result"
    }
   ],
   "source": [
    "result_altered_medium"
   ]
  },
  {
   "cell_type": "code",
   "execution_count": null,
   "id": "3e50ab6e",
   "metadata": {},
   "outputs": [],
   "source": []
  }
 ],
 "metadata": {
  "kernelspec": {
   "display_name": "Python 3 (ipykernel)",
   "language": "python",
   "name": "python3"
  },
  "language_info": {
   "codemirror_mode": {
    "name": "ipython",
    "version": 3
   },
   "file_extension": ".py",
   "mimetype": "text/x-python",
   "name": "python",
   "nbconvert_exporter": "python",
   "pygments_lexer": "ipython3",
   "version": "3.10.6"
  }
 },
 "nbformat": 4,
 "nbformat_minor": 5
}
