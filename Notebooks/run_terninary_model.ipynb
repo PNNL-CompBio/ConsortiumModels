{
 "cells": [
  {
   "cell_type": "code",
   "execution_count": null,
   "id": "92d0b0cd",
   "metadata": {
    "pycharm": {
     "name": "#%%\n"
    }
   },
   "outputs": [],
   "source": [
    "import numpy as np\n",
    "import pandas as pd\n",
    "\n",
    "pd.set_option('display.float_format', '{:.3f}'.format)"
   ]
  },
  {
   "cell_type": "code",
   "execution_count": 1,
   "outputs": [
    {
     "name": "stdout",
     "output_type": "stream",
     "text": [
      "Set parameter Username\n",
      "Set parameter GURO_PAR_SPECIAL\n",
      "Set parameter TokenServer to value \"leghorn\"\n",
      "Read LP format model from file C:\\Users\\pino216\\AppData\\Local\\Temp\\tmpgjd44x2v.lp\n",
      "Reading time = 0.05 seconds\n",
      ": 5454 rows, 12699 columns, 49791 nonzeros\n"
     ]
    }
   ],
   "source": [
    "from micom.media import minimal_medium\n",
    "from binary_models.load_ternary import load_community_model\n",
    "community, model_file = load_community_model()"
   ],
   "metadata": {
    "collapsed": false,
    "pycharm": {
     "name": "#%%\n"
    }
   }
  },
  {
   "cell_type": "code",
   "execution_count": 4,
   "outputs": [],
   "source": [
    "med = minimal_medium(community, 0.8)"
   ],
   "metadata": {
    "collapsed": false,
    "pycharm": {
     "name": "#%%\n"
    }
   }
  },
  {
   "cell_type": "code",
   "execution_count": 5,
   "outputs": [
    {
     "data": {
      "text/plain": "EX_adn_m        0.163833\nEX_alltn_m      0.910797\nEX_arg__L_m     0.530292\nEX_ca2_m        0.004164\nEX_cl_m         0.004164\nEX_cobalt2_m    0.000020\nEX_cu2_m        0.000567\nEX_fe2_m        0.006602\nEX_fe3_m        0.006246\nEX_gmp_m        0.194582\nEX_his__L_m     0.093400\nEX_k_m          0.156154\nEX_malttr_m     9.088411\nEX_mg2_m        0.006940\nEX_minohp_m     0.052078\nEX_mn2_m        0.000553\nEX_mobd_m       0.000006\nEX_ni2_m        0.000258\nEX_o2_m         0.000357\nEX_so4_m        0.129455\nEX_ump_m        0.264636\nEX_zn2_m        0.000273\ndtype: float64"
     },
     "execution_count": 5,
     "metadata": {},
     "output_type": "execute_result"
    }
   ],
   "source": [
    "med.sort_index()"
   ],
   "metadata": {
    "collapsed": false,
    "pycharm": {
     "name": "#%%\n"
    }
   }
  },
  {
   "cell_type": "markdown",
   "id": "4e032abc",
   "metadata": {
    "pycharm": {
     "name": "#%% md\n"
    }
   },
   "source": [
    "## Optimize Model"
   ]
  },
  {
   "cell_type": "code",
   "execution_count": 6,
   "outputs": [
    {
     "data": {
      "text/plain": "<CommunitySolution 0.800 at 0x275e23d96c0>",
      "text/html": "<strong>community growth:</strong> 0.800<br><strong>status:</strong> optimal<br><strong>taxa:</strong><div>\n<style scoped>\n    .dataframe tbody tr th:only-of-type {\n        vertical-align: middle;\n    }\n\n    .dataframe tbody tr th {\n        vertical-align: top;\n    }\n\n    .dataframe thead th {\n        text-align: right;\n    }\n</style>\n<table border=\"1\" class=\"dataframe\">\n  <thead>\n    <tr style=\"text-align: right;\">\n      <th></th>\n      <th>abundance</th>\n      <th>growth_rate</th>\n      <th>reactions</th>\n      <th>metabolites</th>\n    </tr>\n    <tr>\n      <th>compartments</th>\n      <th></th>\n      <th></th>\n      <th></th>\n      <th></th>\n    </tr>\n  </thead>\n  <tbody>\n    <tr>\n      <th>Azotobacter</th>\n      <td>0.333333</td>\n      <td>2.399997</td>\n      <td>2492</td>\n      <td>2024</td>\n    </tr>\n    <tr>\n      <th>Rhodosporidium</th>\n      <td>0.333333</td>\n      <td>0.000000</td>\n      <td>2423</td>\n      <td>2076</td>\n    </tr>\n    <tr>\n      <th>Synechococcus</th>\n      <td>0.333333</td>\n      <td>0.000000</td>\n      <td>968</td>\n      <td>884</td>\n    </tr>\n    <tr>\n      <th>medium</th>\n      <td>NaN</td>\n      <td>NaN</td>\n      <td>466</td>\n      <td>466</td>\n    </tr>\n  </tbody>\n</table>\n</div>"
     },
     "execution_count": 6,
     "metadata": {},
     "output_type": "execute_result"
    }
   ],
   "source": [
    "with community as m:\n",
    "    m.medium = med\n",
    "    result = m.optimize(fluxes=True, pfba=True)\n",
    "result"
   ],
   "metadata": {
    "collapsed": false,
    "pycharm": {
     "name": "#%%\n"
    }
   }
  },
  {
   "cell_type": "code",
   "execution_count": null,
   "outputs": [],
   "source": [
    "cols = result.fluxes.columns\n",
    "ex_cols = [i for i in cols if i.startswith('EX_')]\n",
    "result.fluxes[ex_cols].drop(\"medium\").dropna(thresh=2,axis=1)"
   ],
   "metadata": {
    "collapsed": false,
    "pycharm": {
     "name": "#%%\n"
    }
   }
  },
  {
   "cell_type": "markdown",
   "source": [
    "### Update Medium"
   ],
   "metadata": {
    "collapsed": false,
    "pycharm": {
     "name": "#%% md\n"
    }
   }
  },
  {
   "cell_type": "code",
   "execution_count": 7,
   "outputs": [],
   "source": [
    "m9_minimal = {\n",
    "    'EX_nh4_m': 1000,\n",
    "\n",
    "    'EX_pi_m': 1000,\n",
    "    'EX_fe3_m': 1000,\n",
    "    'EX_mn2_m': 1000,\n",
    "    'EX_fe2_m': 1000.0,\n",
    "    'EX_zn2_m': 1000,\n",
    "    'EX_mg2_m': 1000,\n",
    "    'EX_ca2_m': 1000,\n",
    "    'EX_ni2_m': 1000.0,\n",
    "    'EX_cu2_m': 1000,\n",
    "    'EX_cobalt2_m': 1000.0,\n",
    "    'EX_mobd_m': 1000.0,\n",
    "    'EX_so4_m': 1000,\n",
    "    'EX_k_m': 1000,\n",
    "    'EX_o2_m': 1000,\n",
    "    'EX_cl_m': 1000.0,\n",
    "    'EX_na1_m': 1000,\n",
    "\n",
    "    'EX_photon410_m': 1000.0,\n",
    "    'EX_photon430_m': 1000.0,\n",
    "    'EX_photon450_m': 1000.0,\n",
    "    'EX_photon470_m': 1000.0,\n",
    "    'EX_photon490_m': 1000.0,\n",
    "    'EX_photon510_m': 1000.0,\n",
    "    'EX_photon530_m': 1000.0,\n",
    "    'EX_photon550_m': 1000.0,\n",
    "    'EX_photon570_m': 1000.0,\n",
    "    'EX_photon590_m': 1000.0,\n",
    "    'EX_photon610_m': 1000.0,\n",
    "    'EX_photon630_m': 1000.0,\n",
    "    'EX_photon650_m': 1000.0,\n",
    "    'EX_photon670_m': 1000.0,\n",
    "    'EX_photon690_m': 1000.0,\n",
    "}"
   ],
   "metadata": {
    "collapsed": false,
    "pycharm": {
     "name": "#%%\n"
    }
   }
  },
  {
   "cell_type": "code",
   "execution_count": 8,
   "outputs": [
    {
     "data": {
      "text/plain": "<CommunitySolution 0.000 at 0x27591873970>",
      "text/html": "<strong>community growth:</strong> 0.000<br><strong>status:</strong> optimal<br><strong>taxa:</strong><div>\n<style scoped>\n    .dataframe tbody tr th:only-of-type {\n        vertical-align: middle;\n    }\n\n    .dataframe tbody tr th {\n        vertical-align: top;\n    }\n\n    .dataframe thead th {\n        text-align: right;\n    }\n</style>\n<table border=\"1\" class=\"dataframe\">\n  <thead>\n    <tr style=\"text-align: right;\">\n      <th></th>\n      <th>abundance</th>\n      <th>growth_rate</th>\n      <th>reactions</th>\n      <th>metabolites</th>\n    </tr>\n    <tr>\n      <th>compartments</th>\n      <th></th>\n      <th></th>\n      <th></th>\n      <th></th>\n    </tr>\n  </thead>\n  <tbody>\n    <tr>\n      <th>Azotobacter</th>\n      <td>0.333333</td>\n      <td>0.0</td>\n      <td>2492</td>\n      <td>2024</td>\n    </tr>\n    <tr>\n      <th>Rhodosporidium</th>\n      <td>0.333333</td>\n      <td>0.0</td>\n      <td>2423</td>\n      <td>2076</td>\n    </tr>\n    <tr>\n      <th>Synechococcus</th>\n      <td>0.333333</td>\n      <td>0.0</td>\n      <td>968</td>\n      <td>884</td>\n    </tr>\n    <tr>\n      <th>medium</th>\n      <td>NaN</td>\n      <td>NaN</td>\n      <td>466</td>\n      <td>466</td>\n    </tr>\n  </tbody>\n</table>\n</div>"
     },
     "execution_count": 8,
     "metadata": {},
     "output_type": "execute_result"
    }
   ],
   "source": [
    "with community as m:\n",
    "    m.medium = m9_minimal\n",
    "    result = m.optimize(fluxes=True, pfba=True)\n",
    "result"
   ],
   "metadata": {
    "collapsed": false,
    "pycharm": {
     "name": "#%%\n"
    }
   }
  },
  {
   "cell_type": "code",
   "execution_count": 9,
   "outputs": [],
   "source": [
    "from copy import deepcopy\n",
    "# Set variable to become new medium\n",
    "medium_to_change = deepcopy(m9_minimal)\n",
    "\n",
    "\n",
    "medium_to_change[\"EX_nh4_m\"] = 0\n",
    "medium_to_change[\"EX_no3_m\"] = 0\n",
    "\n",
    "medium_to_change[\"EX_n2_m\"] = 5\n",
    "\n",
    "medium_to_change['EX_co2_m'] = 5\n",
    "\n",
    "# Set the new medium as the model's medium\n",
    "community.medium = medium_to_change"
   ],
   "metadata": {
    "collapsed": false,
    "pycharm": {
     "name": "#%%\n"
    }
   }
  },
  {
   "cell_type": "code",
   "execution_count": 10,
   "id": "bd46d9c8",
   "metadata": {
    "pycharm": {
     "name": "#%%\n"
    }
   },
   "outputs": [
    {
     "data": {
      "text/plain": "<CommunitySolution 0.125 at 0x27591858f70>",
      "text/html": "<strong>community growth:</strong> 0.125<br><strong>status:</strong> optimal<br><strong>taxa:</strong><div>\n<style scoped>\n    .dataframe tbody tr th:only-of-type {\n        vertical-align: middle;\n    }\n\n    .dataframe tbody tr th {\n        vertical-align: top;\n    }\n\n    .dataframe thead th {\n        text-align: right;\n    }\n</style>\n<table border=\"1\" class=\"dataframe\">\n  <thead>\n    <tr style=\"text-align: right;\">\n      <th></th>\n      <th>abundance</th>\n      <th>growth_rate</th>\n      <th>reactions</th>\n      <th>metabolites</th>\n    </tr>\n    <tr>\n      <th>compartments</th>\n      <th></th>\n      <th></th>\n      <th></th>\n      <th></th>\n    </tr>\n  </thead>\n  <tbody>\n    <tr>\n      <th>Azotobacter</th>\n      <td>0.333333</td>\n      <td>0.375856</td>\n      <td>2492</td>\n      <td>2024</td>\n    </tr>\n    <tr>\n      <th>Rhodosporidium</th>\n      <td>0.333333</td>\n      <td>0.000000</td>\n      <td>2423</td>\n      <td>2076</td>\n    </tr>\n    <tr>\n      <th>Synechococcus</th>\n      <td>0.333333</td>\n      <td>0.000000</td>\n      <td>968</td>\n      <td>884</td>\n    </tr>\n    <tr>\n      <th>medium</th>\n      <td>NaN</td>\n      <td>NaN</td>\n      <td>466</td>\n      <td>466</td>\n    </tr>\n  </tbody>\n</table>\n</div>"
     },
     "execution_count": 10,
     "metadata": {},
     "output_type": "execute_result"
    }
   ],
   "source": [
    "growth_only_co2 = community.optimize(fluxes=True, pfba=True)\n",
    "growth_only_co2"
   ]
  },
  {
   "cell_type": "code",
   "execution_count": 11,
   "outputs": [],
   "source": [
    "sol = community.cooperative_tradeoff(fraction =.5, fluxes=True,  pfba=True)"
   ],
   "metadata": {
    "collapsed": false,
    "pycharm": {
     "name": "#%%\n"
    }
   }
  },
  {
   "cell_type": "code",
   "execution_count": 12,
   "outputs": [
    {
     "data": {
      "text/plain": "<CommunitySolution 0.063 at 0x27591873dc0>",
      "text/html": "<strong>community growth:</strong> 0.063<br><strong>status:</strong> optimal<br><strong>taxa:</strong><div>\n<style scoped>\n    .dataframe tbody tr th:only-of-type {\n        vertical-align: middle;\n    }\n\n    .dataframe tbody tr th {\n        vertical-align: top;\n    }\n\n    .dataframe thead th {\n        text-align: right;\n    }\n</style>\n<table border=\"1\" class=\"dataframe\">\n  <thead>\n    <tr style=\"text-align: right;\">\n      <th></th>\n      <th>abundance</th>\n      <th>growth_rate</th>\n      <th>reactions</th>\n      <th>metabolites</th>\n    </tr>\n    <tr>\n      <th>compartments</th>\n      <th></th>\n      <th></th>\n      <th></th>\n      <th></th>\n    </tr>\n  </thead>\n  <tbody>\n    <tr>\n      <th>Azotobacter</th>\n      <td>0.333333</td>\n      <td>0.187926</td>\n      <td>2492</td>\n      <td>2024</td>\n    </tr>\n    <tr>\n      <th>Rhodosporidium</th>\n      <td>0.333333</td>\n      <td>0.000000</td>\n      <td>2423</td>\n      <td>2076</td>\n    </tr>\n    <tr>\n      <th>Synechococcus</th>\n      <td>0.333333</td>\n      <td>0.000000</td>\n      <td>968</td>\n      <td>884</td>\n    </tr>\n    <tr>\n      <th>medium</th>\n      <td>NaN</td>\n      <td>NaN</td>\n      <td>466</td>\n      <td>466</td>\n    </tr>\n  </tbody>\n</table>\n</div>"
     },
     "execution_count": 12,
     "metadata": {},
     "output_type": "execute_result"
    }
   ],
   "source": [
    "sol"
   ],
   "metadata": {
    "collapsed": false,
    "pycharm": {
     "name": "#%%\n"
    }
   }
  },
  {
   "cell_type": "code",
   "execution_count": 13,
   "outputs": [],
   "source": [
    "# Set variable to become new medium\n",
    "med_with_gly = deepcopy(m9_minimal)\n",
    "\n",
    "# use n2 as nitrogen source\n",
    "med_with_gly[\"EX_nh4_m\"] = 0\n",
    "med_with_gly[\"EX_n2_m\"] = 5\n",
    "\n",
    "# use gly as carbon source (only RT should be able to use)\n",
    "# co2 for syn?\n",
    "med_with_gly[\"EX_gly_m\"] = 100\n",
    "med_with_gly['EX_co2_m'] = 5\n",
    "\n",
    "# Set the new medium as the model's medium\n",
    "community.medium = med_with_gly"
   ],
   "metadata": {
    "collapsed": false,
    "pycharm": {
     "name": "#%%\n"
    }
   }
  },
  {
   "cell_type": "code",
   "execution_count": 14,
   "outputs": [
    {
     "data": {
      "text/plain": "<CommunitySolution 0.690 at 0x2758e0a72e0>",
      "text/html": "<strong>community growth:</strong> 0.690<br><strong>status:</strong> optimal<br><strong>taxa:</strong><div>\n<style scoped>\n    .dataframe tbody tr th:only-of-type {\n        vertical-align: middle;\n    }\n\n    .dataframe tbody tr th {\n        vertical-align: top;\n    }\n\n    .dataframe thead th {\n        text-align: right;\n    }\n</style>\n<table border=\"1\" class=\"dataframe\">\n  <thead>\n    <tr style=\"text-align: right;\">\n      <th></th>\n      <th>abundance</th>\n      <th>growth_rate</th>\n      <th>reactions</th>\n      <th>metabolites</th>\n    </tr>\n    <tr>\n      <th>compartments</th>\n      <th></th>\n      <th></th>\n      <th></th>\n      <th></th>\n    </tr>\n  </thead>\n  <tbody>\n    <tr>\n      <th>Azotobacter</th>\n      <td>0.333333</td>\n      <td>0.068609</td>\n      <td>2492</td>\n      <td>2024</td>\n    </tr>\n    <tr>\n      <th>Rhodosporidium</th>\n      <td>0.333333</td>\n      <td>0.000000</td>\n      <td>2423</td>\n      <td>2076</td>\n    </tr>\n    <tr>\n      <th>Synechococcus</th>\n      <td>0.333333</td>\n      <td>1.999997</td>\n      <td>968</td>\n      <td>884</td>\n    </tr>\n    <tr>\n      <th>medium</th>\n      <td>NaN</td>\n      <td>NaN</td>\n      <td>466</td>\n      <td>466</td>\n    </tr>\n  </tbody>\n</table>\n</div>"
     },
     "execution_count": 14,
     "metadata": {},
     "output_type": "execute_result"
    }
   ],
   "source": [
    "growth_only_gyl = community.optimize(fluxes=True, pfba=True)\n",
    "growth_only_gyl"
   ],
   "metadata": {
    "collapsed": false,
    "pycharm": {
     "name": "#%%\n"
    }
   }
  },
  {
   "cell_type": "code",
   "execution_count": 15,
   "outputs": [
    {
     "data": {
      "text/plain": "reaction        EX_acac_e  EX_ade_e  EX_ala__D_e  EX_ala__L_e  EX_asn__L_e  \\\ncompartment                                                                  \nAzotobacter      6.977807  0.000015     -0.00286   -52.381141    -0.008684   \nRhodosporidium  -6.977807 -0.000015      0.00286    52.381141     0.008684   \nSynechococcus         NaN       NaN          NaN          NaN          NaN   \n\nreaction        EX_asp__L_e      EX_btn_e  EX_ca2_e  EX_cbp_e   EX_cl_e  ...  \\\ncompartment                                                              ...   \nAzotobacter        -4.63635 -1.372173e-07 -0.000357       NaN -0.000357  ...   \nRhodosporidium      4.63635  1.372173e-07       NaN  4.869102       NaN  ...   \nSynechococcus           NaN           NaN       NaN       NaN       NaN  ...   \n\nreaction        EX_photon690_e   EX_pi_e   EX_pyr_e  EX_ser__L_e  EX_so3_e  \\\ncompartment                                                                  \nAzotobacter                NaN -0.066180  34.618915    -0.000228 -0.010804   \nRhodosporidium             NaN -4.869102 -34.618915     0.000228  0.010804   \nSynechococcus           -100.0 -0.853401        NaN          NaN       NaN   \n\nreaction        EX_so4_e  EX_spmd_e  EX_sucr_e  EX_urea_e  EX_zn2_e  \ncompartment                                                          \nAzotobacter    -0.000298        NaN        NaN        NaN -0.000023  \nRhodosporidium -0.010804   0.000175  -2.945196   6.590661       NaN  \nSynechococcus  -0.311465  -0.000175   2.945196        NaN       NaN  \n\n[3 rows x 59 columns]",
      "text/html": "<div>\n<style scoped>\n    .dataframe tbody tr th:only-of-type {\n        vertical-align: middle;\n    }\n\n    .dataframe tbody tr th {\n        vertical-align: top;\n    }\n\n    .dataframe thead th {\n        text-align: right;\n    }\n</style>\n<table border=\"1\" class=\"dataframe\">\n  <thead>\n    <tr style=\"text-align: right;\">\n      <th>reaction</th>\n      <th>EX_acac_e</th>\n      <th>EX_ade_e</th>\n      <th>EX_ala__D_e</th>\n      <th>EX_ala__L_e</th>\n      <th>EX_asn__L_e</th>\n      <th>EX_asp__L_e</th>\n      <th>EX_btn_e</th>\n      <th>EX_ca2_e</th>\n      <th>EX_cbp_e</th>\n      <th>EX_cl_e</th>\n      <th>...</th>\n      <th>EX_photon690_e</th>\n      <th>EX_pi_e</th>\n      <th>EX_pyr_e</th>\n      <th>EX_ser__L_e</th>\n      <th>EX_so3_e</th>\n      <th>EX_so4_e</th>\n      <th>EX_spmd_e</th>\n      <th>EX_sucr_e</th>\n      <th>EX_urea_e</th>\n      <th>EX_zn2_e</th>\n    </tr>\n    <tr>\n      <th>compartment</th>\n      <th></th>\n      <th></th>\n      <th></th>\n      <th></th>\n      <th></th>\n      <th></th>\n      <th></th>\n      <th></th>\n      <th></th>\n      <th></th>\n      <th></th>\n      <th></th>\n      <th></th>\n      <th></th>\n      <th></th>\n      <th></th>\n      <th></th>\n      <th></th>\n      <th></th>\n      <th></th>\n      <th></th>\n    </tr>\n  </thead>\n  <tbody>\n    <tr>\n      <th>Azotobacter</th>\n      <td>6.977807</td>\n      <td>0.000015</td>\n      <td>-0.00286</td>\n      <td>-52.381141</td>\n      <td>-0.008684</td>\n      <td>-4.63635</td>\n      <td>-1.372173e-07</td>\n      <td>-0.000357</td>\n      <td>NaN</td>\n      <td>-0.000357</td>\n      <td>...</td>\n      <td>NaN</td>\n      <td>-0.066180</td>\n      <td>34.618915</td>\n      <td>-0.000228</td>\n      <td>-0.010804</td>\n      <td>-0.000298</td>\n      <td>NaN</td>\n      <td>NaN</td>\n      <td>NaN</td>\n      <td>-0.000023</td>\n    </tr>\n    <tr>\n      <th>Rhodosporidium</th>\n      <td>-6.977807</td>\n      <td>-0.000015</td>\n      <td>0.00286</td>\n      <td>52.381141</td>\n      <td>0.008684</td>\n      <td>4.63635</td>\n      <td>1.372173e-07</td>\n      <td>NaN</td>\n      <td>4.869102</td>\n      <td>NaN</td>\n      <td>...</td>\n      <td>NaN</td>\n      <td>-4.869102</td>\n      <td>-34.618915</td>\n      <td>0.000228</td>\n      <td>0.010804</td>\n      <td>-0.010804</td>\n      <td>0.000175</td>\n      <td>-2.945196</td>\n      <td>6.590661</td>\n      <td>NaN</td>\n    </tr>\n    <tr>\n      <th>Synechococcus</th>\n      <td>NaN</td>\n      <td>NaN</td>\n      <td>NaN</td>\n      <td>NaN</td>\n      <td>NaN</td>\n      <td>NaN</td>\n      <td>NaN</td>\n      <td>NaN</td>\n      <td>NaN</td>\n      <td>NaN</td>\n      <td>...</td>\n      <td>-100.0</td>\n      <td>-0.853401</td>\n      <td>NaN</td>\n      <td>NaN</td>\n      <td>NaN</td>\n      <td>-0.311465</td>\n      <td>-0.000175</td>\n      <td>2.945196</td>\n      <td>NaN</td>\n      <td>NaN</td>\n    </tr>\n  </tbody>\n</table>\n<p>3 rows × 59 columns</p>\n</div>"
     },
     "execution_count": 15,
     "metadata": {},
     "output_type": "execute_result"
    }
   ],
   "source": [
    "cols = growth_only_gyl.fluxes.columns\n",
    "ex_cols = [i for i in cols if i.startswith('EX_')]\n",
    "growth_only_gyl.fluxes[ex_cols].drop(\"medium\").replace(0, np.nan).dropna(thresh=1,axis=1)"
   ],
   "metadata": {
    "collapsed": false,
    "pycharm": {
     "name": "#%%\n"
    }
   }
  },
  {
   "cell_type": "code",
   "execution_count": 16,
   "outputs": [],
   "source": [
    "sol = community.cooperative_tradeoff(fraction =.5, fluxes=True, pfba=True)"
   ],
   "metadata": {
    "collapsed": false,
    "pycharm": {
     "name": "#%%\n"
    }
   }
  },
  {
   "cell_type": "code",
   "execution_count": 17,
   "outputs": [
    {
     "data": {
      "text/plain": "<CommunitySolution 0.345 at 0x275922413f0>",
      "text/html": "<strong>community growth:</strong> 0.345<br><strong>status:</strong> optimal<br><strong>taxa:</strong><div>\n<style scoped>\n    .dataframe tbody tr th:only-of-type {\n        vertical-align: middle;\n    }\n\n    .dataframe tbody tr th {\n        vertical-align: top;\n    }\n\n    .dataframe thead th {\n        text-align: right;\n    }\n</style>\n<table border=\"1\" class=\"dataframe\">\n  <thead>\n    <tr style=\"text-align: right;\">\n      <th></th>\n      <th>abundance</th>\n      <th>growth_rate</th>\n      <th>reactions</th>\n      <th>metabolites</th>\n    </tr>\n    <tr>\n      <th>compartments</th>\n      <th></th>\n      <th></th>\n      <th></th>\n      <th></th>\n    </tr>\n  </thead>\n  <tbody>\n    <tr>\n      <th>Azotobacter</th>\n      <td>0.333333</td>\n      <td>0.364995</td>\n      <td>2492</td>\n      <td>2024</td>\n    </tr>\n    <tr>\n      <th>Rhodosporidium</th>\n      <td>0.333333</td>\n      <td>0.258045</td>\n      <td>2423</td>\n      <td>2076</td>\n    </tr>\n    <tr>\n      <th>Synechococcus</th>\n      <td>0.333333</td>\n      <td>0.411265</td>\n      <td>968</td>\n      <td>884</td>\n    </tr>\n    <tr>\n      <th>medium</th>\n      <td>NaN</td>\n      <td>NaN</td>\n      <td>466</td>\n      <td>466</td>\n    </tr>\n  </tbody>\n</table>\n</div>"
     },
     "execution_count": 17,
     "metadata": {},
     "output_type": "execute_result"
    }
   ],
   "source": [
    "sol"
   ],
   "metadata": {
    "collapsed": false,
    "pycharm": {
     "name": "#%%\n"
    }
   }
  },
  {
   "cell_type": "code",
   "execution_count": 19,
   "outputs": [
    {
     "data": {
      "text/plain": "compartment      Azotobacter  Rhodosporidium  Synechococcus\nreaction                                                   \nEX_2obut_e      3.039744e-02   -3.039744e-02            NaN\nEX_ac_e         1.202962e+00   -1.202962e+00            NaN\nEX_acac_e       2.366020e+00   -2.366020e+00            NaN\nEX_ade_e        1.587751e-02   -1.587751e-02            NaN\nEX_ala__L_e    -1.618397e+01    1.618397e+01            NaN\nEX_asn__L_e    -4.619745e-02    4.619745e-02            NaN\nEX_asp__L_e    -1.044604e+00    1.044604e+00            NaN\nEX_btn_e       -7.299908e-07    7.299908e-07            NaN\nEX_ca2_e       -1.899801e-03   -2.146934e-04            NaN\nEX_cbp_e                 NaN    7.726161e-01            NaN\nEX_cl_e        -1.899801e-03             NaN            NaN\nEX_co2_e        1.432163e+01             NaN  -2.932163e+01\nEX_cobalt2_e   -9.124885e-06             NaN  -2.104440e-06\nEX_cu2_e       -2.587817e-04   -1.354736e-04            NaN\nEX_fe2_e        1.758928e+00    1.105465e-03            NaN\nEX_fe3_e       -1.764790e+00   -1.591879e-03  -6.588367e-04\nEX_gln__L_e              NaN    1.594478e-01  -1.594478e-01\nEX_gly_e                 NaN   -1.646133e+01            NaN\nEX_glyc__R_e   -1.460734e+00    1.460734e+00            NaN\nEX_glyc_e       4.644809e-04   -4.644809e-04            NaN\nEX_glyclt_e    -1.006891e-03    1.006891e-03            NaN\nEX_h2o_e        1.184460e+01    4.655711e+00  -1.650032e+01\nEX_h_e         -5.729718e+00    4.509030e+01  -3.936059e+01\nEX_hco3_e                NaN    4.216922e+01  -4.216922e+01\nEX_his__L_e     1.614329e-02   -1.614329e-02            NaN\nEX_hxa_e        1.205889e-01   -1.205889e-01            NaN\nEX_k_e         -7.124455e-02   -1.511377e-01  -6.362262e-07\nEX_meoh_e                NaN   -1.076690e-05   1.076690e-05\nEX_mg2_e       -3.166335e-03   -1.592550e-02  -4.610797e-03\nEX_mn2_e       -2.522118e-04   -1.566333e-04            NaN\nEX_mobd_e      -2.554968e-06             NaN            NaN\nEX_na1_e                 NaN   -6.734715e-03  -4.894047e-08\nEX_nh4_e        1.362480e+01   -1.062929e+01  -2.995518e+00\nEX_ni2_e       -1.178935e-04             NaN            NaN\nEX_o2_e        -1.370393e+01   -3.691729e+01   7.320379e+01\nEX_orn_e        4.059191e-02   -4.059191e-02            NaN\nEX_photon430_e           NaN             NaN  -4.610797e-03\nEX_photon550_e           NaN             NaN  -2.919068e+01\nEX_photon570_e           NaN             NaN  -1.000000e+02\nEX_photon590_e           NaN             NaN  -1.000000e+02\nEX_photon610_e           NaN             NaN  -1.000000e+02\nEX_photon630_e           NaN             NaN  -1.000000e+02\nEX_photon650_e           NaN             NaN  -1.000000e+02\nEX_photon670_e           NaN             NaN  -1.000000e+02\nEX_photon690_e           NaN             NaN  -1.000000e+02\nEX_pi_e         1.684259e-01   -1.361814e+00  -1.754871e-01\nEX_pser__L_e   -5.205027e-01    5.205027e-01            NaN\nEX_pyr_e        5.415788e+00   -5.415788e+00            NaN\nEX_ser__L_e     1.348178e-01   -1.348178e-01            NaN\nEX_so3_e       -5.747822e-02    5.747822e-02            NaN\nEX_so4_e       -1.583350e-03   -8.334413e-02  -6.404729e-02\nEX_spmd_e                NaN    3.602019e-05  -3.602019e-05\nEX_sucr_e                NaN   -4.533386e+00   4.533386e+00\nEX_thr__L_e     5.628734e-02   -5.628734e-02            NaN\nEX_urea_e                NaN    3.518609e+00            NaN\nEX_zn2_e       -1.244634e-04   -1.316029e-04            NaN\nEX_zymst_e               NaN    3.482188e-02            NaN",
      "text/html": "<div>\n<style scoped>\n    .dataframe tbody tr th:only-of-type {\n        vertical-align: middle;\n    }\n\n    .dataframe tbody tr th {\n        vertical-align: top;\n    }\n\n    .dataframe thead th {\n        text-align: right;\n    }\n</style>\n<table border=\"1\" class=\"dataframe\">\n  <thead>\n    <tr style=\"text-align: right;\">\n      <th>compartment</th>\n      <th>Azotobacter</th>\n      <th>Rhodosporidium</th>\n      <th>Synechococcus</th>\n    </tr>\n    <tr>\n      <th>reaction</th>\n      <th></th>\n      <th></th>\n      <th></th>\n    </tr>\n  </thead>\n  <tbody>\n    <tr>\n      <th>EX_2obut_e</th>\n      <td>3.039744e-02</td>\n      <td>-3.039744e-02</td>\n      <td>NaN</td>\n    </tr>\n    <tr>\n      <th>EX_ac_e</th>\n      <td>1.202962e+00</td>\n      <td>-1.202962e+00</td>\n      <td>NaN</td>\n    </tr>\n    <tr>\n      <th>EX_acac_e</th>\n      <td>2.366020e+00</td>\n      <td>-2.366020e+00</td>\n      <td>NaN</td>\n    </tr>\n    <tr>\n      <th>EX_ade_e</th>\n      <td>1.587751e-02</td>\n      <td>-1.587751e-02</td>\n      <td>NaN</td>\n    </tr>\n    <tr>\n      <th>EX_ala__L_e</th>\n      <td>-1.618397e+01</td>\n      <td>1.618397e+01</td>\n      <td>NaN</td>\n    </tr>\n    <tr>\n      <th>EX_asn__L_e</th>\n      <td>-4.619745e-02</td>\n      <td>4.619745e-02</td>\n      <td>NaN</td>\n    </tr>\n    <tr>\n      <th>EX_asp__L_e</th>\n      <td>-1.044604e+00</td>\n      <td>1.044604e+00</td>\n      <td>NaN</td>\n    </tr>\n    <tr>\n      <th>EX_btn_e</th>\n      <td>-7.299908e-07</td>\n      <td>7.299908e-07</td>\n      <td>NaN</td>\n    </tr>\n    <tr>\n      <th>EX_ca2_e</th>\n      <td>-1.899801e-03</td>\n      <td>-2.146934e-04</td>\n      <td>NaN</td>\n    </tr>\n    <tr>\n      <th>EX_cbp_e</th>\n      <td>NaN</td>\n      <td>7.726161e-01</td>\n      <td>NaN</td>\n    </tr>\n    <tr>\n      <th>EX_cl_e</th>\n      <td>-1.899801e-03</td>\n      <td>NaN</td>\n      <td>NaN</td>\n    </tr>\n    <tr>\n      <th>EX_co2_e</th>\n      <td>1.432163e+01</td>\n      <td>NaN</td>\n      <td>-2.932163e+01</td>\n    </tr>\n    <tr>\n      <th>EX_cobalt2_e</th>\n      <td>-9.124885e-06</td>\n      <td>NaN</td>\n      <td>-2.104440e-06</td>\n    </tr>\n    <tr>\n      <th>EX_cu2_e</th>\n      <td>-2.587817e-04</td>\n      <td>-1.354736e-04</td>\n      <td>NaN</td>\n    </tr>\n    <tr>\n      <th>EX_fe2_e</th>\n      <td>1.758928e+00</td>\n      <td>1.105465e-03</td>\n      <td>NaN</td>\n    </tr>\n    <tr>\n      <th>EX_fe3_e</th>\n      <td>-1.764790e+00</td>\n      <td>-1.591879e-03</td>\n      <td>-6.588367e-04</td>\n    </tr>\n    <tr>\n      <th>EX_gln__L_e</th>\n      <td>NaN</td>\n      <td>1.594478e-01</td>\n      <td>-1.594478e-01</td>\n    </tr>\n    <tr>\n      <th>EX_gly_e</th>\n      <td>NaN</td>\n      <td>-1.646133e+01</td>\n      <td>NaN</td>\n    </tr>\n    <tr>\n      <th>EX_glyc__R_e</th>\n      <td>-1.460734e+00</td>\n      <td>1.460734e+00</td>\n      <td>NaN</td>\n    </tr>\n    <tr>\n      <th>EX_glyc_e</th>\n      <td>4.644809e-04</td>\n      <td>-4.644809e-04</td>\n      <td>NaN</td>\n    </tr>\n    <tr>\n      <th>EX_glyclt_e</th>\n      <td>-1.006891e-03</td>\n      <td>1.006891e-03</td>\n      <td>NaN</td>\n    </tr>\n    <tr>\n      <th>EX_h2o_e</th>\n      <td>1.184460e+01</td>\n      <td>4.655711e+00</td>\n      <td>-1.650032e+01</td>\n    </tr>\n    <tr>\n      <th>EX_h_e</th>\n      <td>-5.729718e+00</td>\n      <td>4.509030e+01</td>\n      <td>-3.936059e+01</td>\n    </tr>\n    <tr>\n      <th>EX_hco3_e</th>\n      <td>NaN</td>\n      <td>4.216922e+01</td>\n      <td>-4.216922e+01</td>\n    </tr>\n    <tr>\n      <th>EX_his__L_e</th>\n      <td>1.614329e-02</td>\n      <td>-1.614329e-02</td>\n      <td>NaN</td>\n    </tr>\n    <tr>\n      <th>EX_hxa_e</th>\n      <td>1.205889e-01</td>\n      <td>-1.205889e-01</td>\n      <td>NaN</td>\n    </tr>\n    <tr>\n      <th>EX_k_e</th>\n      <td>-7.124455e-02</td>\n      <td>-1.511377e-01</td>\n      <td>-6.362262e-07</td>\n    </tr>\n    <tr>\n      <th>EX_meoh_e</th>\n      <td>NaN</td>\n      <td>-1.076690e-05</td>\n      <td>1.076690e-05</td>\n    </tr>\n    <tr>\n      <th>EX_mg2_e</th>\n      <td>-3.166335e-03</td>\n      <td>-1.592550e-02</td>\n      <td>-4.610797e-03</td>\n    </tr>\n    <tr>\n      <th>EX_mn2_e</th>\n      <td>-2.522118e-04</td>\n      <td>-1.566333e-04</td>\n      <td>NaN</td>\n    </tr>\n    <tr>\n      <th>EX_mobd_e</th>\n      <td>-2.554968e-06</td>\n      <td>NaN</td>\n      <td>NaN</td>\n    </tr>\n    <tr>\n      <th>EX_na1_e</th>\n      <td>NaN</td>\n      <td>-6.734715e-03</td>\n      <td>-4.894047e-08</td>\n    </tr>\n    <tr>\n      <th>EX_nh4_e</th>\n      <td>1.362480e+01</td>\n      <td>-1.062929e+01</td>\n      <td>-2.995518e+00</td>\n    </tr>\n    <tr>\n      <th>EX_ni2_e</th>\n      <td>-1.178935e-04</td>\n      <td>NaN</td>\n      <td>NaN</td>\n    </tr>\n    <tr>\n      <th>EX_o2_e</th>\n      <td>-1.370393e+01</td>\n      <td>-3.691729e+01</td>\n      <td>7.320379e+01</td>\n    </tr>\n    <tr>\n      <th>EX_orn_e</th>\n      <td>4.059191e-02</td>\n      <td>-4.059191e-02</td>\n      <td>NaN</td>\n    </tr>\n    <tr>\n      <th>EX_photon430_e</th>\n      <td>NaN</td>\n      <td>NaN</td>\n      <td>-4.610797e-03</td>\n    </tr>\n    <tr>\n      <th>EX_photon550_e</th>\n      <td>NaN</td>\n      <td>NaN</td>\n      <td>-2.919068e+01</td>\n    </tr>\n    <tr>\n      <th>EX_photon570_e</th>\n      <td>NaN</td>\n      <td>NaN</td>\n      <td>-1.000000e+02</td>\n    </tr>\n    <tr>\n      <th>EX_photon590_e</th>\n      <td>NaN</td>\n      <td>NaN</td>\n      <td>-1.000000e+02</td>\n    </tr>\n    <tr>\n      <th>EX_photon610_e</th>\n      <td>NaN</td>\n      <td>NaN</td>\n      <td>-1.000000e+02</td>\n    </tr>\n    <tr>\n      <th>EX_photon630_e</th>\n      <td>NaN</td>\n      <td>NaN</td>\n      <td>-1.000000e+02</td>\n    </tr>\n    <tr>\n      <th>EX_photon650_e</th>\n      <td>NaN</td>\n      <td>NaN</td>\n      <td>-1.000000e+02</td>\n    </tr>\n    <tr>\n      <th>EX_photon670_e</th>\n      <td>NaN</td>\n      <td>NaN</td>\n      <td>-1.000000e+02</td>\n    </tr>\n    <tr>\n      <th>EX_photon690_e</th>\n      <td>NaN</td>\n      <td>NaN</td>\n      <td>-1.000000e+02</td>\n    </tr>\n    <tr>\n      <th>EX_pi_e</th>\n      <td>1.684259e-01</td>\n      <td>-1.361814e+00</td>\n      <td>-1.754871e-01</td>\n    </tr>\n    <tr>\n      <th>EX_pser__L_e</th>\n      <td>-5.205027e-01</td>\n      <td>5.205027e-01</td>\n      <td>NaN</td>\n    </tr>\n    <tr>\n      <th>EX_pyr_e</th>\n      <td>5.415788e+00</td>\n      <td>-5.415788e+00</td>\n      <td>NaN</td>\n    </tr>\n    <tr>\n      <th>EX_ser__L_e</th>\n      <td>1.348178e-01</td>\n      <td>-1.348178e-01</td>\n      <td>NaN</td>\n    </tr>\n    <tr>\n      <th>EX_so3_e</th>\n      <td>-5.747822e-02</td>\n      <td>5.747822e-02</td>\n      <td>NaN</td>\n    </tr>\n    <tr>\n      <th>EX_so4_e</th>\n      <td>-1.583350e-03</td>\n      <td>-8.334413e-02</td>\n      <td>-6.404729e-02</td>\n    </tr>\n    <tr>\n      <th>EX_spmd_e</th>\n      <td>NaN</td>\n      <td>3.602019e-05</td>\n      <td>-3.602019e-05</td>\n    </tr>\n    <tr>\n      <th>EX_sucr_e</th>\n      <td>NaN</td>\n      <td>-4.533386e+00</td>\n      <td>4.533386e+00</td>\n    </tr>\n    <tr>\n      <th>EX_thr__L_e</th>\n      <td>5.628734e-02</td>\n      <td>-5.628734e-02</td>\n      <td>NaN</td>\n    </tr>\n    <tr>\n      <th>EX_urea_e</th>\n      <td>NaN</td>\n      <td>3.518609e+00</td>\n      <td>NaN</td>\n    </tr>\n    <tr>\n      <th>EX_zn2_e</th>\n      <td>-1.244634e-04</td>\n      <td>-1.316029e-04</td>\n      <td>NaN</td>\n    </tr>\n    <tr>\n      <th>EX_zymst_e</th>\n      <td>NaN</td>\n      <td>3.482188e-02</td>\n      <td>NaN</td>\n    </tr>\n  </tbody>\n</table>\n</div>"
     },
     "execution_count": 19,
     "metadata": {},
     "output_type": "execute_result"
    }
   ],
   "source": [
    "cols = sol.fluxes.columns\n",
    "ex_cols = [i for i in cols if i.startswith('EX_')]\n",
    "sol.fluxes[ex_cols].drop(\"medium\").replace(0, np.nan).dropna(thresh=1,axis=1).T#.to_csv('flux_ex_ternary_model_with_growth.csv')"
   ],
   "metadata": {
    "collapsed": false,
    "pycharm": {
     "name": "#%%\n"
    }
   }
  },
  {
   "cell_type": "code",
   "execution_count": 20,
   "outputs": [
    {
     "data": {
      "text/plain": "<Reaction EX_gly_m at 0x2758c347a00>",
      "text/html": "\n        <table>\n            <tr>\n                <td><strong>Reaction identifier</strong></td><td>EX_gly_m</td>\n            </tr><tr>\n                <td><strong>Name</strong></td><td>gly_m medium exchange</td>\n            </tr><tr>\n                <td><strong>Memory address</strong></td>\n                <td>0x02758c347a00</td>\n            </tr><tr>\n                <td><strong>Stoichiometry</strong></td>\n                <td>\n                    <p style='text-align:right'>gly_m <=></p>\n                    <p style='text-align:right'>Glycine <=></p>\n                </td>\n            </tr><tr>\n                <td><strong>GPR</strong></td><td></td>\n            </tr><tr>\n                <td><strong>Lower bound</strong></td><td>-100</td>\n            </tr><tr>\n                <td><strong>Upper bound</strong></td><td>999999.0</td>\n            </tr>\n        </table>\n        "
     },
     "execution_count": 20,
     "metadata": {},
     "output_type": "execute_result"
    }
   ],
   "source": [
    "community.reactions.EX_gly_m"
   ],
   "metadata": {
    "collapsed": false,
    "pycharm": {
     "name": "#%%\n"
    }
   }
  },
  {
   "cell_type": "code",
   "execution_count": 37,
   "outputs": [
    {
     "data": {
      "text/plain": "frozenset({<Reaction EX_gly_e__Synechococcus at 0x2758be67340>})"
     },
     "execution_count": 37,
     "metadata": {},
     "output_type": "execute_result"
    }
   ],
   "source": [
    "# only in model for biolog. No gly_c to gly_e reaction.\n",
    "community.metabolites.gly_e__Synechococcus.reactions"
   ],
   "metadata": {
    "collapsed": false,
    "pycharm": {
     "name": "#%%\n"
    }
   }
  },
  {
   "cell_type": "code",
   "execution_count": 36,
   "outputs": [
    {
     "data": {
      "text/plain": "<Reaction EX_gly_e__Synechococcus at 0x2758be67340>",
      "text/html": "\n        <table>\n            <tr>\n                <td><strong>Reaction identifier</strong></td><td>EX_gly_e__Synechococcus</td>\n            </tr><tr>\n                <td><strong>Name</strong></td><td>Glycine exchange</td>\n            </tr><tr>\n                <td><strong>Memory address</strong></td>\n                <td>0x02758be67340</td>\n            </tr><tr>\n                <td><strong>Stoichiometry</strong></td>\n                <td>\n                    <p style='text-align:right'>gly_e__Synechococcus <=> 0.3333333333333333 gly_m</p>\n                    <p style='text-align:right'>Glycine <=> 0.3333333333333333 Glycine</p>\n                </td>\n            </tr><tr>\n                <td><strong>GPR</strong></td><td></td>\n            </tr><tr>\n                <td><strong>Lower bound</strong></td><td>-100</td>\n            </tr><tr>\n                <td><strong>Upper bound</strong></td><td>1000.0</td>\n            </tr>\n        </table>\n        "
     },
     "execution_count": 36,
     "metadata": {},
     "output_type": "execute_result"
    }
   ],
   "source": [
    "community.reactions.EX_gly_e__Synechococcus"
   ],
   "metadata": {
    "collapsed": false,
    "pycharm": {
     "name": "#%%\n"
    }
   }
  },
  {
   "cell_type": "code",
   "execution_count": 86,
   "outputs": [
    {
     "name": "stdout",
     "output_type": "stream",
     "text": [
      "Read LP format model from file C:\\Users\\pino216\\AppData\\Local\\Temp\\tmpt5rzo_y8.lp\n",
      "Reading time = 0.05 seconds\n",
      ": 5454 rows, 12699 columns, 49791 nonzeros\n"
     ]
    }
   ],
   "source": [
    "from cobra import Reaction, Metabolite\n",
    "\n",
    "\n",
    "def add_gly_exporter(community_model):\n",
    "    gly_export = Reaction(\n",
    "        'gly_syn_to_med',\n",
    "        name='gly export'\n",
    "    )\n",
    "\n",
    "    inside = community_model.metabolites.gly_c__Synechococcus\n",
    "    outside = community_model.metabolites.gly_e__Synechococcus\n",
    "\n",
    "    gly_export.add_metabolites({\n",
    "        inside: -1.0,\n",
    "        outside: 1\n",
    "    })\n",
    "\n",
    "    community_model.add_reactions([gly_export])\n",
    "\n",
    "    community_model.reactions.gly_syn_to_med.global_id = 'gly_syn_to_med__Synechococcus'\n",
    "    community_model.reactions.gly_syn_to_med.community_id = 'Synechococcus'\n",
    "\n",
    "    # Force EX_co2_source_m to push only and EX_co2_m to pull only\n",
    "    community_model.reactions.gly_syn_to_med.lower_bound = -100\n",
    "    community_model.reactions.gly_syn_to_med.upper_bound = 100\n",
    "    return community_model\n",
    "\n",
    "comm2, _ = load_community_model()\n",
    "comm2 = add_gly_exporter(comm2)"
   ],
   "metadata": {
    "collapsed": false,
    "pycharm": {
     "name": "#%%\n"
    }
   }
  },
  {
   "cell_type": "code",
   "execution_count": 87,
   "outputs": [],
   "source": [
    "comm2.reactions.EX_gly_e__Synechococcus.lower_bound = 10\n",
    "comm2.reactions.EX_gly_e__Synechococcus.upper_bound = 100\n",
    "comm2.reactions.EX_sucr_e__Synechococcus.lower_bound = 0\n",
    "comm2.reactions.EX_sucr_e__Synechococcus.upper_bound = 0\n"
   ],
   "metadata": {
    "collapsed": false,
    "pycharm": {
     "name": "#%%\n"
    }
   }
  },
  {
   "cell_type": "code",
   "execution_count": 88,
   "outputs": [],
   "source": [
    "# Set variable to become new medium\n",
    "med_only_co2 = deepcopy(m9_minimal)\n",
    "\n",
    "# use n2 as nitrogen source\n",
    "med_only_co2[\"EX_nh4_m\"] = 0\n",
    "med_only_co2[\"EX_n2_m\"] = 100\n",
    "\n",
    "# use gly as carbon source (only RT should be able to use)\n",
    "# co2 for syn?\n",
    "\n",
    "med_only_co2['EX_co2_m'] = 100\n",
    "\n",
    "# Set the new medium as the model's medium\n",
    "comm2.medium = med_only_co2"
   ],
   "metadata": {
    "collapsed": false,
    "pycharm": {
     "name": "#%%\n"
    }
   }
  },
  {
   "cell_type": "code",
   "execution_count": 89,
   "outputs": [
    {
     "data": {
      "text/plain": "\u001B[2;36m[15:49:50]\u001B[0m\u001B[2;36m \u001B[0m\u001B[31mWARNING \u001B[0m solver encountered an error infeasible_or_unbounded                             \u001B]8;id=422320;file://C:\\Users\\pino216\\Miniconda3\\envs\\whole-cell-gemm\\lib\\site-packages\\micom\\solution.py\u001B\\\u001B[2msolution.py\u001B[0m\u001B]8;;\u001B\\\u001B[2m:\u001B[0m\u001B]8;id=980676;file://C:\\Users\\pino216\\Miniconda3\\envs\\whole-cell-gemm\\lib\\site-packages\\micom\\solution.py#224\u001B\\\u001B[2m224\u001B[0m\u001B]8;;\u001B\\\n",
      "text/html": "<pre style=\"white-space:pre;overflow-x:auto;line-height:normal;font-family:Menlo,'DejaVu Sans Mono',consolas,'Courier New',monospace\"><span style=\"color: #7fbfbf; text-decoration-color: #7fbfbf\">[15:49:50] </span><span style=\"color: #800000; text-decoration-color: #800000\">WARNING </span> solver encountered an error infeasible_or_unbounded                             <a href=\"file://C:\\Users\\pino216\\Miniconda3\\envs\\whole-cell-gemm\\lib\\site-packages\\micom\\solution.py\" target=\"_blank\"><span style=\"color: #7f7f7f; text-decoration-color: #7f7f7f\">solution.py</span></a><span style=\"color: #7f7f7f; text-decoration-color: #7f7f7f\">:</span><a href=\"file://C:\\Users\\pino216\\Miniconda3\\envs\\whole-cell-gemm\\lib\\site-packages\\micom\\solution.py#224\" target=\"_blank\"><span style=\"color: #7f7f7f; text-decoration-color: #7f7f7f\">224</span></a>\n</pre>\n"
     },
     "metadata": {},
     "output_type": "display_data"
    },
    {
     "data": {
      "text/plain": "\u001B[2;36m[15:50:14]\u001B[0m\u001B[2;36m \u001B[0m\u001B[31mWARNING \u001B[0m solver encountered an error infeasible_or_unbounded                             \u001B]8;id=506018;file://C:\\Users\\pino216\\Miniconda3\\envs\\whole-cell-gemm\\lib\\site-packages\\micom\\solution.py\u001B\\\u001B[2msolution.py\u001B[0m\u001B]8;;\u001B\\\u001B[2m:\u001B[0m\u001B]8;id=316067;file://C:\\Users\\pino216\\Miniconda3\\envs\\whole-cell-gemm\\lib\\site-packages\\micom\\solution.py#224\u001B\\\u001B[2m224\u001B[0m\u001B]8;;\u001B\\\n",
      "text/html": "<pre style=\"white-space:pre;overflow-x:auto;line-height:normal;font-family:Menlo,'DejaVu Sans Mono',consolas,'Courier New',monospace\"><span style=\"color: #7fbfbf; text-decoration-color: #7fbfbf\">[15:50:14] </span><span style=\"color: #800000; text-decoration-color: #800000\">WARNING </span> solver encountered an error infeasible_or_unbounded                             <a href=\"file://C:\\Users\\pino216\\Miniconda3\\envs\\whole-cell-gemm\\lib\\site-packages\\micom\\solution.py\" target=\"_blank\"><span style=\"color: #7f7f7f; text-decoration-color: #7f7f7f\">solution.py</span></a><span style=\"color: #7f7f7f; text-decoration-color: #7f7f7f\">:</span><a href=\"file://C:\\Users\\pino216\\Miniconda3\\envs\\whole-cell-gemm\\lib\\site-packages\\micom\\solution.py#224\" target=\"_blank\"><span style=\"color: #7f7f7f; text-decoration-color: #7f7f7f\">224</span></a>\n</pre>\n"
     },
     "metadata": {},
     "output_type": "display_data"
    },
    {
     "ename": "OptimizationError",
     "evalue": "could not get community growth rate.",
     "output_type": "error",
     "traceback": [
      "\u001B[1;31m---------------------------------------------------------------------------\u001B[0m",
      "\u001B[1;31mOptimizationError\u001B[0m                         Traceback (most recent call last)",
      "Cell \u001B[1;32mIn [89], line 1\u001B[0m\n\u001B[1;32m----> 1\u001B[0m sol \u001B[38;5;241m=\u001B[39m \u001B[43mcomm2\u001B[49m\u001B[38;5;241;43m.\u001B[39;49m\u001B[43mcooperative_tradeoff\u001B[49m\u001B[43m(\u001B[49m\u001B[43mfraction\u001B[49m\u001B[43m \u001B[49m\u001B[38;5;241;43m=\u001B[39;49m\u001B[38;5;241;43m.5\u001B[39;49m\u001B[43m,\u001B[49m\u001B[43m \u001B[49m\u001B[43mfluxes\u001B[49m\u001B[38;5;241;43m=\u001B[39;49m\u001B[38;5;28;43;01mTrue\u001B[39;49;00m\u001B[43m,\u001B[49m\u001B[43m \u001B[49m\u001B[43mpfba\u001B[49m\u001B[38;5;241;43m=\u001B[39;49m\u001B[38;5;28;43;01mTrue\u001B[39;49;00m\u001B[43m)\u001B[49m\n",
      "File \u001B[1;32m~\\Miniconda3\\envs\\whole-cell-gemm\\lib\\site-packages\\micom\\community.py:797\u001B[0m, in \u001B[0;36mCommunity.cooperative_tradeoff\u001B[1;34m(self, min_growth, fraction, fluxes, pfba, atol, rtol)\u001B[0m\n\u001B[0;32m    794\u001B[0m \u001B[38;5;28;01mif\u001B[39;00m rtol \u001B[38;5;129;01mis\u001B[39;00m \u001B[38;5;28;01mNone\u001B[39;00m:\n\u001B[0;32m    795\u001B[0m     rtol \u001B[38;5;241m=\u001B[39m \u001B[38;5;28mself\u001B[39m\u001B[38;5;241m.\u001B[39msolver\u001B[38;5;241m.\u001B[39mconfiguration\u001B[38;5;241m.\u001B[39mtolerances\u001B[38;5;241m.\u001B[39mfeasibility\n\u001B[1;32m--> 797\u001B[0m \u001B[38;5;28;01mreturn\u001B[39;00m \u001B[43mcooperative_tradeoff\u001B[49m\u001B[43m(\u001B[49m\n\u001B[0;32m    798\u001B[0m \u001B[43m    \u001B[49m\u001B[38;5;28;43mself\u001B[39;49m\u001B[43m,\u001B[49m\u001B[43m \u001B[49m\u001B[43mmin_growth\u001B[49m\u001B[43m,\u001B[49m\u001B[43m \u001B[49m\u001B[43mfraction\u001B[49m\u001B[43m,\u001B[49m\u001B[43m \u001B[49m\u001B[43mfluxes\u001B[49m\u001B[43m,\u001B[49m\u001B[43m \u001B[49m\u001B[43mpfba\u001B[49m\u001B[43m,\u001B[49m\u001B[43m \u001B[49m\u001B[43matol\u001B[49m\u001B[43m,\u001B[49m\u001B[43m \u001B[49m\u001B[43mrtol\u001B[49m\n\u001B[0;32m    799\u001B[0m \u001B[43m\u001B[49m\u001B[43m)\u001B[49m\n",
      "File \u001B[1;32m~\\Miniconda3\\envs\\whole-cell-gemm\\lib\\site-packages\\micom\\problems.py:79\u001B[0m, in \u001B[0;36mcooperative_tradeoff\u001B[1;34m(community, min_growth, fraction, fluxes, pfba, atol, rtol)\u001B[0m\n\u001B[0;32m     75\u001B[0m _apply_min_growth(community, min_growth)\n\u001B[0;32m     77\u001B[0m com\u001B[38;5;241m.\u001B[39mobjective \u001B[38;5;241m=\u001B[39m com\u001B[38;5;241m.\u001B[39mscale \u001B[38;5;241m*\u001B[39m com\u001B[38;5;241m.\u001B[39mvariables\u001B[38;5;241m.\u001B[39mcommunity_objective\n\u001B[0;32m     78\u001B[0m min_growth \u001B[38;5;241m=\u001B[39m (\n\u001B[1;32m---> 79\u001B[0m     \u001B[43moptimize_with_retry\u001B[49m\u001B[43m(\u001B[49m\u001B[43mcom\u001B[49m\u001B[43m,\u001B[49m\u001B[43m \u001B[49m\u001B[43mmessage\u001B[49m\u001B[38;5;241;43m=\u001B[39;49m\u001B[38;5;124;43m\"\u001B[39;49m\u001B[38;5;124;43mcould not get community growth rate.\u001B[39;49m\u001B[38;5;124;43m\"\u001B[39;49m\u001B[43m)\u001B[49m\n\u001B[0;32m     80\u001B[0m     \u001B[38;5;241m/\u001B[39m com\u001B[38;5;241m.\u001B[39mscale\n\u001B[0;32m     81\u001B[0m )\n\u001B[0;32m     82\u001B[0m \u001B[38;5;28;01mif\u001B[39;00m \u001B[38;5;129;01mnot\u001B[39;00m \u001B[38;5;28misinstance\u001B[39m(fraction, Sized):\n\u001B[0;32m     83\u001B[0m     fraction \u001B[38;5;241m=\u001B[39m [fraction]\n",
      "File \u001B[1;32m~\\Miniconda3\\envs\\whole-cell-gemm\\lib\\site-packages\\micom\\solution.py:250\u001B[0m, in \u001B[0;36moptimize_with_retry\u001B[1;34m(com, message)\u001B[0m\n\u001B[0;32m    248\u001B[0m     sol \u001B[38;5;241m=\u001B[39m com\u001B[38;5;241m.\u001B[39moptimize()\n\u001B[0;32m    249\u001B[0m \u001B[38;5;28;01mif\u001B[39;00m sol \u001B[38;5;129;01mis\u001B[39;00m \u001B[38;5;28;01mNone\u001B[39;00m:\n\u001B[1;32m--> 250\u001B[0m     \u001B[38;5;28;01mraise\u001B[39;00m OptimizationError(message)\n\u001B[0;32m    251\u001B[0m \u001B[38;5;28;01melse\u001B[39;00m:\n\u001B[0;32m    252\u001B[0m     \u001B[38;5;28;01mreturn\u001B[39;00m sol\u001B[38;5;241m.\u001B[39mobjective_value\n",
      "\u001B[1;31mOptimizationError\u001B[0m: could not get community growth rate."
     ]
    }
   ],
   "source": [
    "sol = comm2.cooperative_tradeoff(fraction =.5, fluxes=True, pfba=True)"
   ],
   "metadata": {
    "collapsed": false,
    "pycharm": {
     "name": "#%%\n"
    }
   }
  },
  {
   "cell_type": "code",
   "execution_count": null,
   "outputs": [],
   "source": [
    "sol"
   ],
   "metadata": {
    "collapsed": false,
    "pycharm": {
     "name": "#%%\n"
    }
   }
  },
  {
   "cell_type": "code",
   "execution_count": null,
   "outputs": [],
   "source": [
    "cols = sol.fluxes.columns\n",
    "ex_cols = [i for i in cols if i.startswith('EX_')]\n",
    "sol.fluxes[ex_cols].drop(\"medium\").replace(0, np.nan).dropna(thresh=1,axis=1).T"
   ],
   "metadata": {
    "collapsed": false,
    "pycharm": {
     "name": "#%%\n"
    }
   }
  },
  {
   "cell_type": "code",
   "execution_count": null,
   "outputs": [],
   "source": [
    "#sol.fluxes.to_csv(\"example_flux_gly_source.csv\")"
   ],
   "metadata": {
    "collapsed": false,
    "pycharm": {
     "name": "#%%\n"
    }
   }
  },
  {
   "cell_type": "code",
   "execution_count": null,
   "outputs": [],
   "source": [],
   "metadata": {
    "collapsed": false,
    "pycharm": {
     "name": "#%%\n"
    }
   }
  }
 ],
 "metadata": {
  "kernelspec": {
   "display_name": "Python 3 (ipykernel)",
   "language": "python",
   "name": "python3"
  },
  "language_info": {
   "codemirror_mode": {
    "name": "ipython",
    "version": 3
   },
   "file_extension": ".py",
   "mimetype": "text/x-python",
   "name": "python",
   "nbconvert_exporter": "python",
   "pygments_lexer": "ipython3",
   "version": "3.10.6"
  }
 },
 "nbformat": 4,
 "nbformat_minor": 5
}